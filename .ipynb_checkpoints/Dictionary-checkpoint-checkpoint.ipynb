{
 "cells": [
  {
   "cell_type": "code",
   "execution_count": 1,
   "id": "ef86db83",
   "metadata": {},
   "outputs": [],
   "source": [
    "list1=['Anu','Akhi','Snehi']\n",
    "list2=[21,20,22]"
   ]
  },
  {
   "cell_type": "code",
   "execution_count": null,
   "id": "c279c904",
   "metadata": {},
   "outputs": [],
   "source": [
    "# i am modify the code"
   ]
  },
  {
   "cell_type": "code",
   "execution_count": 2,
   "id": "04305733",
   "metadata": {},
   "outputs": [
    {
     "data": {
      "text/plain": [
       "'Snehi has age 22'"
      ]
     },
     "execution_count": 2,
     "metadata": {},
     "output_type": "execute_result"
    }
   ],
   "source": [
    "'Anu has age 21'\n",
    "'Akhi has age 20'\n",
    "'Snehi has age 22'"
   ]
  },
  {
   "cell_type": "code",
   "execution_count": 3,
   "id": "4d3cf568",
   "metadata": {},
   "outputs": [
    {
     "name": "stdout",
     "output_type": "stream",
     "text": [
      "Anu 21\n",
      "Akhi 20\n",
      "Snehi 22\n"
     ]
    }
   ],
   "source": [
    "for i,j in zip(list1,list2):\n",
    "    print(i,j)"
   ]
  },
  {
   "cell_type": "code",
   "execution_count": null,
   "id": "caa07a73",
   "metadata": {},
   "outputs": [],
   "source": [
    "#{key:value}"
   ]
  },
  {
   "cell_type": "code",
   "execution_count": 4,
   "id": "9d74a752",
   "metadata": {},
   "outputs": [
    {
     "data": {
      "text/plain": [
       "{'Anu': 21, 'Akhi': 20, 'Snehi': 22}"
      ]
     },
     "execution_count": 4,
     "metadata": {},
     "output_type": "execute_result"
    }
   ],
   "source": [
    "d1={'Anu':21,\n",
    "    'Akhi':20,\n",
    "   'Snehi':22}\n",
    "d1\n",
    "#keys='Anu', 'Akhi', 'Snehi'\n",
    "#values=21,20,22"
   ]
  },
  {
   "cell_type": "code",
   "execution_count": 1,
   "id": "676523a4",
   "metadata": {},
   "outputs": [
    {
     "data": {
      "text/plain": [
       "{25: 'Anu', 30: 'Akhi', 35: 'Snehi'}"
      ]
     },
     "execution_count": 1,
     "metadata": {},
     "output_type": "execute_result"
    }
   ],
   "source": [
    "d2={25:'Anu',30:'Akhi',35:'Snehi'}\n",
    "d2"
   ]
  },
  {
   "cell_type": "code",
   "execution_count": 2,
   "id": "0d477caf",
   "metadata": {},
   "outputs": [
    {
     "data": {
      "text/plain": [
       "{'even': [3, 5, 7], 'odd': [2, 4, 6]}"
      ]
     },
     "execution_count": 2,
     "metadata": {},
     "output_type": "execute_result"
    }
   ],
   "source": [
    "d3={'even':[3,5,7],\n",
    "   'odd':[2,4,6]}\n",
    "d3"
   ]
  },
  {
   "cell_type": "code",
   "execution_count": 3,
   "id": "76c00a6f",
   "metadata": {},
   "outputs": [
    {
     "data": {
      "text/plain": [
       "{(2, 4, 6): 'even', (3, 5, 7): 'odd'}"
      ]
     },
     "execution_count": 3,
     "metadata": {},
     "output_type": "execute_result"
    }
   ],
   "source": [
    "d4={(2,4,6):'even',\n",
    "   (3,5,7):'odd'}\n",
    "d4"
   ]
  },
  {
   "cell_type": "code",
   "execution_count": null,
   "id": "e2c0a5e2",
   "metadata": {},
   "outputs": [],
   "source": [
    "{(2, 4, 6): 'even', (3, 5, 7): 'odd'}"
   ]
  },
  {
   "cell_type": "code",
   "execution_count": 5,
   "id": "222f7176",
   "metadata": {},
   "outputs": [
    {
     "data": {
      "text/plain": [
       "{'items list': {'fruits': 'Apple'}}"
      ]
     },
     "execution_count": 5,
     "metadata": {},
     "output_type": "execute_result"
    }
   ],
   "source": [
    "#{'key':<{}>}\n",
    "d5={'items list':{'fruits':'Apple'}}\n",
    "d5"
   ]
  },
  {
   "cell_type": "code",
   "execution_count": 6,
   "id": "edb0161c",
   "metadata": {},
   "outputs": [
    {
     "ename": "TypeError",
     "evalue": "unhashable type: 'dict'",
     "output_type": "error",
     "traceback": [
      "\u001b[1;31m---------------------------------------------------------------------------\u001b[0m",
      "\u001b[1;31mTypeError\u001b[0m                                 Traceback (most recent call last)",
      "Cell \u001b[1;32mIn[6], line 1\u001b[0m\n\u001b[1;32m----> 1\u001b[0m d6\u001b[38;5;241m=\u001b[39m{{\u001b[38;5;124m'\u001b[39m\u001b[38;5;124mfruits\u001b[39m\u001b[38;5;124m'\u001b[39m:\u001b[38;5;124m'\u001b[39m\u001b[38;5;124mApple\u001b[39m\u001b[38;5;124m'\u001b[39m}:\u001b[38;5;124m'\u001b[39m\u001b[38;5;124mitem_list\u001b[39m\u001b[38;5;124m'\u001b[39m}\n\u001b[0;32m      2\u001b[0m d6\n",
      "\u001b[1;31mTypeError\u001b[0m: unhashable type: 'dict'"
     ]
    }
   ],
   "source": [
    "d6={{'fruits':'Apple'}:'item_list'}\n",
    "d6"
   ]
  },
  {
   "cell_type": "code",
   "execution_count": null,
   "id": "8bfb30a5",
   "metadata": {},
   "outputs": [],
   "source": [
    "a=[1,2]\n",
    "b=(1,2)"
   ]
  },
  {
   "cell_type": "code",
   "execution_count": 15,
   "id": "ea138c2b",
   "metadata": {},
   "outputs": [
    {
     "data": {
      "text/plain": [
       "2"
      ]
     },
     "execution_count": 15,
     "metadata": {},
     "output_type": "execute_result"
    }
   ],
   "source": [
    "a,b=[1,2]\n",
    "c,d=(1,2)\n",
    "d"
   ]
  },
  {
   "cell_type": "code",
   "execution_count": 16,
   "id": "f2c68ae0",
   "metadata": {},
   "outputs": [
    {
     "data": {
      "text/plain": [
       "(1, 2)"
      ]
     },
     "execution_count": 16,
     "metadata": {},
     "output_type": "execute_result"
    }
   ],
   "source": [
    "a=1,2\n",
    "a"
   ]
  },
  {
   "cell_type": "code",
   "execution_count": 17,
   "id": "e1ed34f1",
   "metadata": {},
   "outputs": [
    {
     "data": {
      "text/plain": [
       "{'A': 1, 'B': 2}"
      ]
     },
     "execution_count": 17,
     "metadata": {},
     "output_type": "execute_result"
    }
   ],
   "source": [
    "d1={'A':1,'B':2,'A':1}\n",
    "d1"
   ]
  },
  {
   "cell_type": "code",
   "execution_count": 20,
   "id": "3a884492",
   "metadata": {},
   "outputs": [
    {
     "data": {
      "text/plain": [
       "{'A': 3, 'B': 2}"
      ]
     },
     "execution_count": 20,
     "metadata": {},
     "output_type": "execute_result"
    }
   ],
   "source": [
    "d1={'A':1,'B':2,'A':3}\n",
    "d1"
   ]
  },
  {
   "cell_type": "markdown",
   "id": "43b2ecb5",
   "metadata": {},
   "source": [
    "- Dictionary is a key: value pair\n",
    "- at values position you can take any data type\n",
    "- at keys position list and dictionary  will fail\n",
    "- Duplicates are not allowed\n",
    "- If you will update a key value, latest value it will take"
   ]
  },
  {
   "cell_type": "markdown",
   "id": "018b2e85",
   "metadata": {},
   "source": [
    "*type"
   ]
  },
  {
   "cell_type": "code",
   "execution_count": 21,
   "id": "b109543b",
   "metadata": {},
   "outputs": [
    {
     "data": {
      "text/plain": [
       "dict"
      ]
     },
     "execution_count": 21,
     "metadata": {},
     "output_type": "execute_result"
    }
   ],
   "source": [
    "type(d1)"
   ]
  },
  {
   "cell_type": "markdown",
   "id": "e7699a87",
   "metadata": {},
   "source": [
    "-str\n",
    "-list\n",
    "-dict\n",
    "-int\n",
    "-float\n",
    "-bool\n",
    "-complex\n",
    "-tuple\n",
    "-set"
   ]
  },
  {
   "cell_type": "code",
   "execution_count": 22,
   "id": "2bb4d7a5",
   "metadata": {},
   "outputs": [
    {
     "data": {
      "text/plain": [
       "'Snehi'"
      ]
     },
     "execution_count": 22,
     "metadata": {},
     "output_type": "execute_result"
    }
   ],
   "source": [
    "d1={'Anu':21,\n",
    "    'Akhi':20,\n",
    "   'Snehi':22}\n",
    "\n",
    "max(d1)"
   ]
  },
  {
   "cell_type": "markdown",
   "id": "8616850b",
   "metadata": {},
   "source": [
    "- Maximum value and minimum value based on the key only"
   ]
  },
  {
   "cell_type": "code",
   "execution_count": 24,
   "id": "e79b1a96",
   "metadata": {},
   "outputs": [
    {
     "data": {
      "text/plain": [
       "'Snehi'"
      ]
     },
     "execution_count": 24,
     "metadata": {},
     "output_type": "execute_result"
    }
   ],
   "source": [
    "min(d1)\n",
    "'Anu',\n",
    "'Akhi',\n",
    "'Snehi'"
   ]
  },
  {
   "cell_type": "code",
   "execution_count": 25,
   "id": "e3707c58",
   "metadata": {},
   "outputs": [
    {
     "data": {
      "text/plain": [
       "3"
      ]
     },
     "execution_count": 25,
     "metadata": {},
     "output_type": "execute_result"
    }
   ],
   "source": [
    "len(d1)"
   ]
  },
  {
   "cell_type": "code",
   "execution_count": 26,
   "id": "fb386728",
   "metadata": {},
   "outputs": [
    {
     "data": {
      "text/plain": [
       "{'Anu': 21, 'Akhi': 20, 'Snehi': 22}"
      ]
     },
     "execution_count": 26,
     "metadata": {},
     "output_type": "execute_result"
    }
   ],
   "source": [
    "d1"
   ]
  },
  {
   "cell_type": "code",
   "execution_count": 27,
   "id": "1df865a1",
   "metadata": {},
   "outputs": [
    {
     "ename": "TypeError",
     "evalue": "unsupported operand type(s) for +: 'int' and 'str'",
     "output_type": "error",
     "traceback": [
      "\u001b[1;31m---------------------------------------------------------------------------\u001b[0m",
      "\u001b[1;31mTypeError\u001b[0m                                 Traceback (most recent call last)",
      "Cell \u001b[1;32mIn[27], line 1\u001b[0m\n\u001b[1;32m----> 1\u001b[0m \u001b[38;5;28msum\u001b[39m(d1)\n",
      "\u001b[1;31mTypeError\u001b[0m: unsupported operand type(s) for +: 'int' and 'str'"
     ]
    }
   ],
   "source": [
    "sum(d1)"
   ]
  },
  {
   "cell_type": "code",
   "execution_count": 28,
   "id": "07190178",
   "metadata": {},
   "outputs": [
    {
     "data": {
      "text/plain": [
       "4"
      ]
     },
     "execution_count": 28,
     "metadata": {},
     "output_type": "execute_result"
    }
   ],
   "source": [
    "d2={1:2,3:4}\n",
    "sum(d2)"
   ]
  },
  {
   "cell_type": "code",
   "execution_count": 30,
   "id": "c24a39ea",
   "metadata": {},
   "outputs": [
    {
     "data": {
      "text/plain": [
       "400"
      ]
     },
     "execution_count": 30,
     "metadata": {},
     "output_type": "execute_result"
    }
   ],
   "source": [
    "d2={100:'2',300:'4'}\n",
    "sum(d2)"
   ]
  },
  {
   "cell_type": "markdown",
   "id": "8302528b",
   "metadata": {},
   "source": [
    "- If keys has numeric values then we can do sum"
   ]
  },
  {
   "cell_type": "code",
   "execution_count": 31,
   "id": "8786538a",
   "metadata": {},
   "outputs": [
    {
     "ename": "TypeError",
     "evalue": "unsupported operand type(s) for -: 'str' and 'str'",
     "output_type": "error",
     "traceback": [
      "\u001b[1;31m---------------------------------------------------------------------------\u001b[0m",
      "\u001b[1;31mTypeError\u001b[0m                                 Traceback (most recent call last)",
      "Cell \u001b[1;32mIn[31], line 1\u001b[0m\n\u001b[1;32m----> 1\u001b[0m \u001b[38;5;124m'\u001b[39m\u001b[38;5;124ma\u001b[39m\u001b[38;5;124m'\u001b[39m\u001b[38;5;241m-\u001b[39m\u001b[38;5;124m'\u001b[39m\u001b[38;5;124mb\u001b[39m\u001b[38;5;124m'\u001b[39m\n",
      "\u001b[1;31mTypeError\u001b[0m: unsupported operand type(s) for -: 'str' and 'str'"
     ]
    }
   ],
   "source": [
    "'a'-'b'"
   ]
  },
  {
   "cell_type": "code",
   "execution_count": 32,
   "id": "f35d4c5d",
   "metadata": {},
   "outputs": [
    {
     "ename": "TypeError",
     "evalue": "unsupported operand type(s) for /: 'str' and 'str'",
     "output_type": "error",
     "traceback": [
      "\u001b[1;31m---------------------------------------------------------------------------\u001b[0m",
      "\u001b[1;31mTypeError\u001b[0m                                 Traceback (most recent call last)",
      "Cell \u001b[1;32mIn[32], line 1\u001b[0m\n\u001b[1;32m----> 1\u001b[0m \u001b[38;5;124m'\u001b[39m\u001b[38;5;124ma\u001b[39m\u001b[38;5;124m'\u001b[39m\u001b[38;5;241m/\u001b[39m\u001b[38;5;124m'\u001b[39m\u001b[38;5;124mb\u001b[39m\u001b[38;5;124m'\u001b[39m\n",
      "\u001b[1;31mTypeError\u001b[0m: unsupported operand type(s) for /: 'str' and 'str'"
     ]
    }
   ],
   "source": [
    "'a'/'b'"
   ]
  },
  {
   "cell_type": "code",
   "execution_count": 33,
   "id": "cd8b9a2c",
   "metadata": {},
   "outputs": [
    {
     "ename": "TypeError",
     "evalue": "can't multiply sequence by non-int of type 'str'",
     "output_type": "error",
     "traceback": [
      "\u001b[1;31m---------------------------------------------------------------------------\u001b[0m",
      "\u001b[1;31mTypeError\u001b[0m                                 Traceback (most recent call last)",
      "Cell \u001b[1;32mIn[33], line 1\u001b[0m\n\u001b[1;32m----> 1\u001b[0m \u001b[38;5;124m'\u001b[39m\u001b[38;5;124ma\u001b[39m\u001b[38;5;124m'\u001b[39m\u001b[38;5;241m*\u001b[39m\u001b[38;5;124m'\u001b[39m\u001b[38;5;124mb\u001b[39m\u001b[38;5;124m'\u001b[39m\n",
      "\u001b[1;31mTypeError\u001b[0m: can't multiply sequence by non-int of type 'str'"
     ]
    }
   ],
   "source": [
    "'a'*'b'"
   ]
  },
  {
   "cell_type": "markdown",
   "id": "7e850326",
   "metadata": {},
   "source": [
    "-type\n",
    "-max\n",
    "-min\n",
    "-len\n",
    "-sum"
   ]
  },
  {
   "cell_type": "markdown",
   "id": "ad3d3678",
   "metadata": {},
   "source": [
    "*in"
   ]
  },
  {
   "cell_type": "code",
   "execution_count": 36,
   "id": "da88cb54",
   "metadata": {},
   "outputs": [
    {
     "data": {
      "text/plain": [
       "True"
      ]
     },
     "execution_count": 36,
     "metadata": {},
     "output_type": "execute_result"
    }
   ],
   "source": [
    "d1={'Anu':21,\n",
    "    'Akhi':20,\n",
    "   'Snehi':22}\n",
    "\n",
    "'Anu' in d1"
   ]
  },
  {
   "cell_type": "code",
   "execution_count": 37,
   "id": "47c056c1",
   "metadata": {},
   "outputs": [
    {
     "name": "stdout",
     "output_type": "stream",
     "text": [
      "Anu\n",
      "Akhi\n",
      "Snehi\n"
     ]
    }
   ],
   "source": [
    "for i in d1:\n",
    "    print(i)"
   ]
  },
  {
   "cell_type": "code",
   "execution_count": 38,
   "id": "a54a68fc",
   "metadata": {},
   "outputs": [
    {
     "name": "stdout",
     "output_type": "stream",
     "text": [
      "1\n",
      "2\n",
      "3\n"
     ]
    }
   ],
   "source": [
    "str1='apple'\n",
    "'a' in str1\n",
    "\n",
    "l1=[1,2,3]\n",
    "i in l1\n",
    "\n",
    "for i in l1:\n",
    "    print(i)"
   ]
  },
  {
   "cell_type": "markdown",
   "id": "dc9e5fed",
   "metadata": {},
   "source": [
    "*index"
   ]
  },
  {
   "cell_type": "code",
   "execution_count": 39,
   "id": "7614fc2c",
   "metadata": {},
   "outputs": [
    {
     "data": {
      "text/plain": [
       "'a'"
      ]
     },
     "execution_count": 39,
     "metadata": {},
     "output_type": "execute_result"
    }
   ],
   "source": [
    "l1=[10,20,30,40]\n",
    "l1[0]\n",
    "\n",
    "str1='apple'\n",
    "str1[0]"
   ]
  },
  {
   "cell_type": "code",
   "execution_count": 40,
   "id": "cf6a3e2f",
   "metadata": {},
   "outputs": [
    {
     "ename": "KeyError",
     "evalue": "0",
     "output_type": "error",
     "traceback": [
      "\u001b[1;31m---------------------------------------------------------------------------\u001b[0m",
      "\u001b[1;31mKeyError\u001b[0m                                  Traceback (most recent call last)",
      "Cell \u001b[1;32mIn[40], line 4\u001b[0m\n\u001b[0;32m      1\u001b[0m d1\u001b[38;5;241m=\u001b[39m{\u001b[38;5;124m'\u001b[39m\u001b[38;5;124mAnu\u001b[39m\u001b[38;5;124m'\u001b[39m:\u001b[38;5;241m21\u001b[39m,\n\u001b[0;32m      2\u001b[0m     \u001b[38;5;124m'\u001b[39m\u001b[38;5;124mAkhi\u001b[39m\u001b[38;5;124m'\u001b[39m:\u001b[38;5;241m20\u001b[39m,\n\u001b[0;32m      3\u001b[0m    \u001b[38;5;124m'\u001b[39m\u001b[38;5;124mSnehi\u001b[39m\u001b[38;5;124m'\u001b[39m:\u001b[38;5;241m22\u001b[39m}\n\u001b[1;32m----> 4\u001b[0m d1[\u001b[38;5;241m0\u001b[39m]\n",
      "\u001b[1;31mKeyError\u001b[0m: 0"
     ]
    }
   ],
   "source": [
    "d1={'Anu':21,\n",
    "    'Akhi':20,\n",
    "   'Snehi':22}\n",
    "d1[0]"
   ]
  },
  {
   "cell_type": "code",
   "execution_count": 41,
   "id": "fea2bfb6",
   "metadata": {},
   "outputs": [
    {
     "data": {
      "text/plain": [
       "21"
      ]
     },
     "execution_count": 41,
     "metadata": {},
     "output_type": "execute_result"
    }
   ],
   "source": [
    "d1={'Anu':21,\n",
    "    'Akhi':20,\n",
    "   'Snehi':22}\n",
    "d1['Anu']\n",
    "#can we get values using for loop"
   ]
  },
  {
   "cell_type": "code",
   "execution_count": 42,
   "id": "3ff566e6",
   "metadata": {},
   "outputs": [
    {
     "name": "stdout",
     "output_type": "stream",
     "text": [
      "Anu\n",
      "Akhi\n",
      "Snehi\n"
     ]
    }
   ],
   "source": [
    "for i in d1:\n",
    "    print(i)"
   ]
  },
  {
   "cell_type": "code",
   "execution_count": 43,
   "id": "6d33306f",
   "metadata": {},
   "outputs": [
    {
     "name": "stdout",
     "output_type": "stream",
     "text": [
      "Anu\n",
      "Akhi\n",
      "Snehi\n"
     ]
    }
   ],
   "source": [
    "for key in d1:\n",
    "    print(key)"
   ]
  },
  {
   "cell_type": "code",
   "execution_count": 44,
   "id": "4588dffa",
   "metadata": {},
   "outputs": [
    {
     "name": "stdout",
     "output_type": "stream",
     "text": [
      "Anu 21\n",
      "Akhi 20\n",
      "Snehi 22\n"
     ]
    }
   ],
   "source": [
    "for key in d1:\n",
    "    print(key,d1[key])"
   ]
  },
  {
   "cell_type": "code",
   "execution_count": 46,
   "id": "b65e70cb",
   "metadata": {},
   "outputs": [
    {
     "name": "stdout",
     "output_type": "stream",
     "text": [
      "the age of Anu is 21\n",
      "the age of Akhi is 20\n",
      "the age of Snehi is 22\n"
     ]
    }
   ],
   "source": [
    "for key in d1:\n",
    "    print(\"the age of {} is {}\".format(key,d1[key]))"
   ]
  },
  {
   "cell_type": "code",
   "execution_count": 47,
   "id": "fc48aab9",
   "metadata": {},
   "outputs": [
    {
     "name": "stdout",
     "output_type": "stream",
     "text": [
      "0 10\n",
      "1 20\n",
      "2 30\n",
      "3 40\n"
     ]
    }
   ],
   "source": [
    "for i in range(len(l1)):\n",
    "    print(i,l1[i])"
   ]
  },
  {
   "cell_type": "code",
   "execution_count": 48,
   "id": "c71ed33a",
   "metadata": {},
   "outputs": [
    {
     "name": "stdout",
     "output_type": "stream",
     "text": [
      "0\n",
      "1\n",
      "2\n"
     ]
    }
   ],
   "source": [
    "for key in range(len(d1)):\n",
    "    print(key)\n",
    "    #print(\"the age of {} is {}\".format(key,d1[key]))  #not possible"
   ]
  },
  {
   "cell_type": "markdown",
   "id": "7323e012",
   "metadata": {},
   "source": [
    "Creating an empty dictionary and update"
   ]
  },
  {
   "cell_type": "code",
   "execution_count": 49,
   "id": "e77b6241",
   "metadata": {},
   "outputs": [
    {
     "ename": "TypeError",
     "evalue": "can only concatenate str (not \"int\") to str",
     "output_type": "error",
     "traceback": [
      "\u001b[1;31m---------------------------------------------------------------------------\u001b[0m",
      "\u001b[1;31mTypeError\u001b[0m                                 Traceback (most recent call last)",
      "Cell \u001b[1;32mIn[49], line 4\u001b[0m\n\u001b[0;32m      1\u001b[0m s\u001b[38;5;241m=\u001b[39m\u001b[38;5;124m'\u001b[39m\u001b[38;5;124m'\u001b[39m\n\u001b[0;32m      3\u001b[0m \u001b[38;5;28;01mfor\u001b[39;00m i \u001b[38;5;129;01min\u001b[39;00m \u001b[38;5;124m'\u001b[39m\u001b[38;5;124mapple\u001b[39m\u001b[38;5;124m'\u001b[39m:\n\u001b[1;32m----> 4\u001b[0m     s\u001b[38;5;241m=\u001b[39ms\u001b[38;5;241m+\u001b[39m\u001b[38;5;241m1\u001b[39m\n",
      "\u001b[1;31mTypeError\u001b[0m: can only concatenate str (not \"int\") to str"
     ]
    }
   ],
   "source": [
    "s=''\n",
    "\n",
    "for i in 'apple':\n",
    "    s=s+1"
   ]
  },
  {
   "cell_type": "code",
   "execution_count": 52,
   "id": "53395911",
   "metadata": {},
   "outputs": [
    {
     "data": {
      "text/plain": [
       "[0, 1, 2, 3, 4, 5, 6, 7, 8, 9]"
      ]
     },
     "execution_count": 52,
     "metadata": {},
     "output_type": "execute_result"
    }
   ],
   "source": [
    "l=[]\n",
    "for i in range(10):\n",
    "    l.append(i)\n",
    "    \n",
    "l"
   ]
  },
  {
   "cell_type": "code",
   "execution_count": 50,
   "id": "a0523ede",
   "metadata": {},
   "outputs": [
    {
     "data": {
      "text/plain": [
       "{'fruite': 'Apple'}"
      ]
     },
     "execution_count": 50,
     "metadata": {},
     "output_type": "execute_result"
    }
   ],
   "source": [
    "d1={}\n",
    "d1['fruite']='Apple'\n",
    "d1"
   ]
  },
  {
   "cell_type": "code",
   "execution_count": 58,
   "id": "357444b7",
   "metadata": {},
   "outputs": [
    {
     "data": {
      "text/plain": [
       "{'name': 'Anu',\n",
       " 'sir name': 'Omkar',\n",
       " 'company': 'infosys',\n",
       " 'place': 'hyderabad'}"
      ]
     },
     "execution_count": 58,
     "metadata": {},
     "output_type": "execute_result"
    }
   ],
   "source": [
    "#wap createa dictionary and update('name:','company:','place')\n",
    "d1={}\n",
    "d1[\"name\"]='Anu'\n",
    "d1[\"sir name\"]='Omkar'\n",
    "d1[\"company\"]='infosys'\n",
    "d1[\"place\"]='hyderabad'\n",
    "d1"
   ]
  },
  {
   "cell_type": "code",
   "execution_count": 8,
   "id": "60e9622d",
   "metadata": {},
   "outputs": [
    {
     "data": {
      "text/plain": [
       "{'anu': 21, 'akhi': 20, 'snehi': 22}"
      ]
     },
     "execution_count": 8,
     "metadata": {},
     "output_type": "execute_result"
    }
   ],
   "source": [
    "#wap create a dictionary based on two lists\n",
    "#names=['anu','akhi','snehi']\n",
    "#age=[21,20,22]\n",
    "names=['anu','akhi','snehi']\n",
    "age=[21,20,22]\n",
    "dict1={}\n",
    "for i,j in zip(names,age):\n",
    "    dict1[i]=j\n",
    "dict1"
   ]
  },
  {
   "cell_type": "code",
   "execution_count": 9,
   "id": "2dfbb0d2",
   "metadata": {},
   "outputs": [
    {
     "data": {
      "text/plain": [
       "{'anu': 21, 'akhi': 20, 'snehi': 22}"
      ]
     },
     "execution_count": 9,
     "metadata": {},
     "output_type": "execute_result"
    }
   ],
   "source": [
    "dict1={}\n",
    "for i in range(len(names)):\n",
    "    dict1[names[i]]=age[i]\n",
    "dict1"
   ]
  },
  {
   "cell_type": "code",
   "execution_count": 10,
   "id": "805e9759",
   "metadata": {},
   "outputs": [
    {
     "data": {
      "text/plain": [
       "[0, 1, 2]"
      ]
     },
     "execution_count": 10,
     "metadata": {},
     "output_type": "execute_result"
    }
   ],
   "source": [
    "list1=[]\n",
    "for i in range(len(names)):\n",
    "    list1.append(i)\n",
    "    \n",
    "list1=[i for i in range(len(names))]\n",
    "list1"
   ]
  },
  {
   "cell_type": "code",
   "execution_count": 12,
   "id": "8f406ddc",
   "metadata": {},
   "outputs": [],
   "source": [
    "dict1={}\n",
    "for i in range(len(names)):\n",
    "    dict1[names[i]]=age[i]\n",
    "    \n",
    "dict1={names[i]:age[i] for i in range(len(names))}\n"
   ]
  },
  {
   "cell_type": "code",
   "execution_count": 13,
   "id": "b95a727c",
   "metadata": {},
   "outputs": [
    {
     "data": {
      "text/plain": [
       "'anu'"
      ]
     },
     "execution_count": 13,
     "metadata": {},
     "output_type": "execute_result"
    }
   ],
   "source": [
    "dict1={}\n",
    "for i in range(len(names)):\n",
    "    dict1[names[i]]=age[i]\n",
    "    \n",
    "dict1={names[i]:age[i] for i in range(len(names))}\n",
    "\n",
    "dict1={name:age for name,age in zip(names,age)}\n",
    "\n",
    "names[0]"
   ]
  },
  {
   "cell_type": "code",
   "execution_count": null,
   "id": "4d55038d",
   "metadata": {},
   "outputs": [],
   "source": [
    "dict1={}\n",
    "for i in range(len(names)):\n",
    "    dict1[names[i]]=age[i]\n",
    "    \n",
    "dict1={names[i]:age[i] for i in range(len(names))}\n",
    "\n",
    "dict1={name:age for name,age in zip(names,age)}\n",
    "\n",
    "names[0],age[0]"
   ]
  },
  {
   "cell_type": "code",
   "execution_count": 73,
   "id": "92da0efa",
   "metadata": {},
   "outputs": [
    {
     "data": {
      "text/plain": [
       "{'anu': 21, 'akhi': 20, 'snehi': 22}"
      ]
     },
     "execution_count": 73,
     "metadata": {},
     "output_type": "execute_result"
    }
   ],
   "source": [
    "names=['anu','akhi','snehi']\n",
    "age=[21,20,22]\n",
    "dict1={}\n",
    "for i,j in zip(names,age):\n",
    "    dict1[i]=j\n",
    "dict1\n",
    "################################################\n",
    "dict1={names:age for names,age in zip(names,age)}\n",
    "dict1"
   ]
  },
  {
   "cell_type": "code",
   "execution_count": 67,
   "id": "8906b1f9",
   "metadata": {},
   "outputs": [],
   "source": [
    "#wap take random numbers\n",
    "#and create a dictionary with even and odd\n",
    "#output:{'even':[20,22],'odd':[19,21,33]}\n",
    "\n",
    "#step-1: take empty dictionary\n",
    "#step-2: take two even odd list\n",
    "#step-3: import random\n",
    "#step-4: for i in range(5):\n",
    "#step-5:    num=random.randint(a,b)\n",
    "#step-6:    if<even>:\n",
    "#step-7:      append the values in the list\n",
    "#step-8:    else:\n",
    "#step-9:      append the values in add list\n",
    "#step-10:create dictionary\n",
    "dict1={}\n",
    "even=[]\n",
    "odd=[]\n",
    "import random\n",
    "for i in range(5):\n",
    "    num=random.randint(1,50)\n",
    "    if num%2==0:\n",
    "        even.append(num)\n",
    "    else:\n",
    "        odd.append(num)"
   ]
  },
  {
   "cell_type": "code",
   "execution_count": null,
   "id": "b0818c3b",
   "metadata": {},
   "outputs": [],
   "source": [
    "d3={'even:' i }"
   ]
  },
  {
   "cell_type": "code",
   "execution_count": 2,
   "id": "f2246583",
   "metadata": {},
   "outputs": [],
   "source": [
    "import os"
   ]
  },
  {
   "cell_type": "code",
   "execution_count": 3,
   "id": "ca8a16f7",
   "metadata": {},
   "outputs": [
    {
     "data": {
      "text/plain": [
       "'C:\\\\Users\\\\kanu7'"
      ]
     },
     "execution_count": 3,
     "metadata": {},
     "output_type": "execute_result"
    }
   ],
   "source": [
    "os.getcwd()"
   ]
  },
  {
   "cell_type": "markdown",
   "id": "40e4171d",
   "metadata": {},
   "source": [
    "*Dictionary methods"
   ]
  },
  {
   "cell_type": "code",
   "execution_count": 4,
   "id": "595757cd",
   "metadata": {},
   "outputs": [
    {
     "data": {
      "text/plain": [
       "['__class__',\n",
       " '__class_getitem__',\n",
       " '__contains__',\n",
       " '__delattr__',\n",
       " '__delitem__',\n",
       " '__dir__',\n",
       " '__doc__',\n",
       " '__eq__',\n",
       " '__format__',\n",
       " '__ge__',\n",
       " '__getattribute__',\n",
       " '__getitem__',\n",
       " '__getstate__',\n",
       " '__gt__',\n",
       " '__hash__',\n",
       " '__init__',\n",
       " '__init_subclass__',\n",
       " '__ior__',\n",
       " '__iter__',\n",
       " '__le__',\n",
       " '__len__',\n",
       " '__lt__',\n",
       " '__ne__',\n",
       " '__new__',\n",
       " '__or__',\n",
       " '__reduce__',\n",
       " '__reduce_ex__',\n",
       " '__repr__',\n",
       " '__reversed__',\n",
       " '__ror__',\n",
       " '__setattr__',\n",
       " '__setitem__',\n",
       " '__sizeof__',\n",
       " '__str__',\n",
       " '__subclasshook__',\n",
       " 'clear',\n",
       " 'copy',\n",
       " 'fromkeys',\n",
       " 'get',\n",
       " 'items',\n",
       " 'keys',\n",
       " 'pop',\n",
       " 'popitem',\n",
       " 'setdefault',\n",
       " 'update',\n",
       " 'values']"
      ]
     },
     "execution_count": 4,
     "metadata": {},
     "output_type": "execute_result"
    }
   ],
   "source": [
    "dir({})"
   ]
  },
  {
   "cell_type": "markdown",
   "id": "8e0a62c2",
   "metadata": {},
   "source": [
    "*items-keys-values"
   ]
  },
  {
   "cell_type": "code",
   "execution_count": 5,
   "id": "27b26632",
   "metadata": {},
   "outputs": [],
   "source": [
    "d1={'Anu':21,\n",
    "    'Akhi':20,\n",
    "   'Snehi':22}"
   ]
  },
  {
   "cell_type": "code",
   "execution_count": 6,
   "id": "9d986fcb",
   "metadata": {},
   "outputs": [
    {
     "data": {
      "text/plain": [
       "{'Anu': 21, 'Akhi': 20, 'Snehi': 22}"
      ]
     },
     "execution_count": 6,
     "metadata": {},
     "output_type": "execute_result"
    }
   ],
   "source": [
    "d1"
   ]
  },
  {
   "cell_type": "code",
   "execution_count": 24,
   "id": "764b7f0a",
   "metadata": {},
   "outputs": [
    {
     "data": {
      "text/plain": [
       "dict_items([('Anu', 21), ('Akhi', 20), ('Snehi', 22)])"
      ]
     },
     "execution_count": 24,
     "metadata": {},
     "output_type": "execute_result"
    }
   ],
   "source": [
    "#items\n",
    "items=d1.items()\n",
    "items"
   ]
  },
  {
   "cell_type": "code",
   "execution_count": 25,
   "id": "63b2f319",
   "metadata": {},
   "outputs": [
    {
     "data": {
      "text/plain": [
       "dict_items"
      ]
     },
     "execution_count": 25,
     "metadata": {},
     "output_type": "execute_result"
    }
   ],
   "source": [
    "type(items)  "
   ]
  },
  {
   "cell_type": "code",
   "execution_count": 22,
   "id": "db5f1192",
   "metadata": {},
   "outputs": [
    {
     "data": {
      "text/plain": [
       "dict_keys(['Anu', 'Akhi', 'Snehi'])"
      ]
     },
     "execution_count": 22,
     "metadata": {},
     "output_type": "execute_result"
    }
   ],
   "source": [
    "#keys\n",
    "keys=d1.keys()\n",
    "keys"
   ]
  },
  {
   "cell_type": "code",
   "execution_count": 23,
   "id": "966c33e4",
   "metadata": {},
   "outputs": [
    {
     "data": {
      "text/plain": [
       "dict_keys"
      ]
     },
     "execution_count": 23,
     "metadata": {},
     "output_type": "execute_result"
    }
   ],
   "source": [
    "type(keys)"
   ]
  },
  {
   "cell_type": "code",
   "execution_count": 20,
   "id": "3f1c339a",
   "metadata": {},
   "outputs": [
    {
     "data": {
      "text/plain": [
       "dict_values([21, 20, 22])"
      ]
     },
     "execution_count": 20,
     "metadata": {},
     "output_type": "execute_result"
    }
   ],
   "source": [
    "#values\n",
    "values=d1.values()\n",
    "values"
   ]
  },
  {
   "cell_type": "code",
   "execution_count": 21,
   "id": "5be1d983",
   "metadata": {},
   "outputs": [
    {
     "data": {
      "text/plain": [
       "dict_values"
      ]
     },
     "execution_count": 21,
     "metadata": {},
     "output_type": "execute_result"
    }
   ],
   "source": [
    "type(values)"
   ]
  },
  {
   "cell_type": "code",
   "execution_count": 26,
   "id": "637aa889",
   "metadata": {},
   "outputs": [
    {
     "data": {
      "text/plain": [
       "[25, 30, 35, 400]"
      ]
     },
     "execution_count": 26,
     "metadata": {},
     "output_type": "execute_result"
    }
   ],
   "source": [
    "l1=[25,30,35]\n",
    "l1.append(400)\n",
    "l1"
   ]
  },
  {
   "cell_type": "code",
   "execution_count": 27,
   "id": "2252aaf0",
   "metadata": {},
   "outputs": [
    {
     "data": {
      "text/plain": [
       "[21, 20, 22]"
      ]
     },
     "execution_count": 27,
     "metadata": {},
     "output_type": "execute_result"
    }
   ],
   "source": [
    "values\n",
    "values_list=list(values)\n",
    "values_list"
   ]
  },
  {
   "cell_type": "code",
   "execution_count": 28,
   "id": "c70666a1",
   "metadata": {},
   "outputs": [
    {
     "data": {
      "text/plain": [
       "['Anu', 'Akhi', 'Snehi']"
      ]
     },
     "execution_count": 28,
     "metadata": {},
     "output_type": "execute_result"
    }
   ],
   "source": [
    "keys_list=list(keys)\n",
    "keys_list"
   ]
  },
  {
   "cell_type": "code",
   "execution_count": null,
   "id": "72fc400b",
   "metadata": {},
   "outputs": [],
   "source": [
    "#i will give the dictionary\n",
    "#can you extract keys ans values in a list\n",
    "\n",
    "\n",
    "\n",
    "#i will give two list keys and values\n",
    "#can you create a dictionary"
   ]
  },
  {
   "cell_type": "code",
   "execution_count": 29,
   "id": "b60608b4",
   "metadata": {},
   "outputs": [],
   "source": [
    "d1={'Anu':21,\n",
    "   'Akhi':20,\n",
    "   'Snehi':22}\n",
    "keys=list(d1.keys())\n",
    "values=list(d1.values())"
   ]
  },
  {
   "cell_type": "code",
   "execution_count": 30,
   "id": "13c57650",
   "metadata": {},
   "outputs": [
    {
     "data": {
      "text/plain": [
       "(['Anu', 'Akhi', 'Snehi'], [21, 20, 22])"
      ]
     },
     "execution_count": 30,
     "metadata": {},
     "output_type": "execute_result"
    }
   ],
   "source": [
    "keys,values"
   ]
  },
  {
   "cell_type": "code",
   "execution_count": 32,
   "id": "615b7119",
   "metadata": {},
   "outputs": [
    {
     "data": {
      "text/plain": [
       "{'Anu': 21, 'Akhi': 20, 'Snehi': 22}"
      ]
     },
     "execution_count": 32,
     "metadata": {},
     "output_type": "execute_result"
    }
   ],
   "source": [
    "d1={'Anu':21,\n",
    "   'Akhi':20,\n",
    "   'Snehi':22}\n",
    "{keys:values for keys,values in zip(keys,values)}"
   ]
  },
  {
   "cell_type": "code",
   "execution_count": 33,
   "id": "eeaba6c5",
   "metadata": {},
   "outputs": [
    {
     "data": {
      "text/plain": [
       "{'Anu': 21, 'Akhi': 20, 'Snehi': 22}"
      ]
     },
     "execution_count": 33,
     "metadata": {},
     "output_type": "execute_result"
    }
   ],
   "source": [
    "d1={}\n",
    "for i in range(len(keys)):\n",
    "    d1[keys[i]]=values[i]  #d1[keys[0]=values[0]]  d1['Ram']=25\n",
    "    \n",
    "d1"
   ]
  },
  {
   "cell_type": "code",
   "execution_count": 34,
   "id": "f5c12322",
   "metadata": {},
   "outputs": [
    {
     "data": {
      "text/plain": [
       "{'Anu': 21, 'Akhi': 20, 'Snehi': 22}"
      ]
     },
     "execution_count": 34,
     "metadata": {},
     "output_type": "execute_result"
    }
   ],
   "source": [
    "dict(zip(keys,values))"
   ]
  },
  {
   "cell_type": "code",
   "execution_count": 35,
   "id": "c86ec87d",
   "metadata": {},
   "outputs": [],
   "source": [
    "s1='virat.kohli@blr.com,Rohit.sharma@mumbai.com,kl.rahul@lucknow.com'\n",
    "\n",
    "#{'first_name':['virat','Rohit','KL'],\n",
    "# 'second_name':['kohli','sharma','rahul'],\n",
    "# 'company':['blr','mumbai','lucknow']}\n"
   ]
  },
  {
   "cell_type": "code",
   "execution_count": 36,
   "id": "bd2e7ac5",
   "metadata": {},
   "outputs": [
    {
     "data": {
      "text/plain": [
       "['virat.kohli@blr.com', 'Rohit.sharma@mumbai.com', 'kl.rahul@lucknow.com']"
      ]
     },
     "execution_count": 36,
     "metadata": {},
     "output_type": "execute_result"
    }
   ],
   "source": [
    "s1.split(',')"
   ]
  },
  {
   "cell_type": "code",
   "execution_count": 71,
   "id": "87e47ae5",
   "metadata": {},
   "outputs": [
    {
     "data": {
      "text/plain": [
       "{'first_name': ['virat', 'Rohit', 'kl'],\n",
       " 'second_name': ['kohli', 'sharma', 'rahul'],\n",
       " 'company_name': ['blr', 'mumbai', 'lucknow']}"
      ]
     },
     "execution_count": 71,
     "metadata": {},
     "output_type": "execute_result"
    }
   ],
   "source": [
    "str1='virat.kohli@blr.com'\n",
    "str1.split(',')\n",
    "d1={}\n",
    "f_name=[str1[:str1.find('.')] for str1 in s1.split(',')]\n",
    "s_name=[str1[str1.find('.')+1:str1.find('@')] for str1 in s1.split(',')]\n",
    "c_name=[str1[str1.find('@')+1:str1.find('.',str1.find('.')+1)] for str1 in s1.split(',')]\n",
    "f_name,s_name,c_name\n",
    "\n",
    "d1['first_name']=f_name\n",
    "d1['second_name']=s_name\n",
    "d1['company_name']=c_name\n",
    "\n",
    "d1"
   ]
  },
  {
   "cell_type": "code",
   "execution_count": 48,
   "id": "84c0b99f",
   "metadata": {},
   "outputs": [],
   "source": [
    "str1='can can you canner can you able to can canner'\n",
    "#{'can':4,'you':2,'canner':2,'able':1,'to':1}\n",
    "#step1: split the str1=====> you will get a list\n",
    "#step2: iterate through loop=====> each word will repeat\n",
    "#step3: list1.count(<word>):number\n",
    "#step4:make the dictionary\n"
   ]
  },
  {
   "cell_type": "code",
   "execution_count": 49,
   "id": "0d523e68",
   "metadata": {},
   "outputs": [
    {
     "data": {
      "text/plain": [
       "['can can you canner can you able to can canner']"
      ]
     },
     "execution_count": 49,
     "metadata": {},
     "output_type": "execute_result"
    }
   ],
   "source": [
    "str1.split(',')"
   ]
  },
  {
   "cell_type": "code",
   "execution_count": 57,
   "id": "e4974d25",
   "metadata": {},
   "outputs": [
    {
     "data": {
      "text/plain": [
       "{'can': 4, 'you': 2, 'canner': 2, 'able': 1, 'to': 1}"
      ]
     },
     "execution_count": 57,
     "metadata": {},
     "output_type": "execute_result"
    }
   ],
   "source": [
    "str1='can can you canner can you able to can canner'\n",
    "words=str1.split()\n",
    "dict={}\n",
    "for word in words:\n",
    "    if not word in dict:\n",
    "        dict[word]=1\n",
    "    else:\n",
    "        dict[word]+=1\n",
    "        \n",
    "dict\n",
    "        "
   ]
  },
  {
   "cell_type": "code",
   "execution_count": 59,
   "id": "1b8ad63c",
   "metadata": {},
   "outputs": [],
   "source": [
    "i=max(values)"
   ]
  },
  {
   "cell_type": "code",
   "execution_count": 61,
   "id": "a64b1925",
   "metadata": {},
   "outputs": [
    {
     "data": {
      "text/plain": [
       "2"
      ]
     },
     "execution_count": 61,
     "metadata": {},
     "output_type": "execute_result"
    }
   ],
   "source": [
    "values.index(i)"
   ]
  },
  {
   "cell_type": "code",
   "execution_count": 62,
   "id": "cbc925fb",
   "metadata": {},
   "outputs": [
    {
     "data": {
      "text/plain": [
       "'Snehi'"
      ]
     },
     "execution_count": 62,
     "metadata": {},
     "output_type": "execute_result"
    }
   ],
   "source": [
    "keys[values.index(max(values))]"
   ]
  },
  {
   "cell_type": "code",
   "execution_count": 70,
   "id": "87079cfc",
   "metadata": {},
   "outputs": [
    {
     "data": {
      "text/plain": [
       "{'a': 70, 'b': 130, 'c': 240}"
      ]
     },
     "execution_count": 70,
     "metadata": {},
     "output_type": "execute_result"
    }
   ],
   "source": [
    "d1={'a':20,'b':30,'c':40}\n",
    "d2={'a':50,'b':100,'c':200}         #o/p={'a':70,'b':130,'c':240}\n",
    "for i in d2:\n",
    "    d1[i]+=d2[i]\n",
    "d1"
   ]
  },
  {
   "cell_type": "code",
   "execution_count": 69,
   "id": "7a8dc359",
   "metadata": {},
   "outputs": [
    {
     "data": {
      "text/plain": [
       "{'a': 70, 'b': 130, 'c': 240, 'd': 500}"
      ]
     },
     "execution_count": 69,
     "metadata": {},
     "output_type": "execute_result"
    }
   ],
   "source": [
    "d1={'a':20,'b':30,'c':40,'d':500}\n",
    "d2={'a':50,'b':100,'c':200}         #o/p={'a':70,'b':130,'c':240,'d':500}\n",
    "for i in d2:\n",
    "    d1[i]+=d2[i]\n",
    "d1"
   ]
  },
  {
   "cell_type": "code",
   "execution_count": 68,
   "id": "d266e34d",
   "metadata": {},
   "outputs": [
    {
     "data": {
      "text/plain": [
       "{'a': 70, 'b': 130, 'c': 240}"
      ]
     },
     "execution_count": 68,
     "metadata": {},
     "output_type": "execute_result"
    }
   ],
   "source": [
    "d1={'a':20,'b':30,'c':40}\n",
    "d2={'a':50,'b':100,'c':200} \n",
    "\n",
    "d3={}\n",
    "#o/p={'a':70,'b':130,'c':240}\n",
    "if len(d1)==len(d2):\n",
    "    for i in d1:\n",
    "        d3[i]=d1[i]+d2[i]\n",
    "        \n",
    "d3"
   ]
  },
  {
   "cell_type": "code",
   "execution_count": null,
   "id": "35b6a577",
   "metadata": {},
   "outputs": [],
   "source": [
    "#strings/list/dictionary very important for python developer"
   ]
  },
  {
   "cell_type": "code",
   "execution_count": 32,
   "id": "6aedf534",
   "metadata": {},
   "outputs": [
    {
     "data": {
      "text/plain": [
       "['__class__',\n",
       " '__class_getitem__',\n",
       " '__contains__',\n",
       " '__delattr__',\n",
       " '__delitem__',\n",
       " '__dir__',\n",
       " '__doc__',\n",
       " '__eq__',\n",
       " '__format__',\n",
       " '__ge__',\n",
       " '__getattribute__',\n",
       " '__getitem__',\n",
       " '__getstate__',\n",
       " '__gt__',\n",
       " '__hash__',\n",
       " '__init__',\n",
       " '__init_subclass__',\n",
       " '__ior__',\n",
       " '__iter__',\n",
       " '__le__',\n",
       " '__len__',\n",
       " '__lt__',\n",
       " '__ne__',\n",
       " '__new__',\n",
       " '__or__',\n",
       " '__reduce__',\n",
       " '__reduce_ex__',\n",
       " '__repr__',\n",
       " '__reversed__',\n",
       " '__ror__',\n",
       " '__setattr__',\n",
       " '__setitem__',\n",
       " '__sizeof__',\n",
       " '__str__',\n",
       " '__subclasshook__',\n",
       " 'clear',\n",
       " 'copy',\n",
       " 'fromkeys',\n",
       " 'get',\n",
       " 'items',\n",
       " 'keys',\n",
       " 'pop',\n",
       " 'popitem',\n",
       " 'setdefault',\n",
       " 'update',\n",
       " 'values']"
      ]
     },
     "execution_count": 32,
     "metadata": {},
     "output_type": "execute_result"
    }
   ],
   "source": [
    "dir({})"
   ]
  },
  {
   "cell_type": "markdown",
   "id": "e8dcff02",
   "metadata": {},
   "source": [
    "*clear-copy"
   ]
  },
  {
   "cell_type": "code",
   "execution_count": 5,
   "id": "11ef5e91",
   "metadata": {},
   "outputs": [
    {
     "name": "stdout",
     "output_type": "stream",
     "text": [
      "{}\n",
      "{'a': 20, 'b': 30, 'c': 40}\n"
     ]
    }
   ],
   "source": [
    "#take one dictionary\n",
    "#take second dictionary\n",
    "#copy first dict into second\n",
    "#clear first dict\n",
    "#and print both\n",
    "d1={'a':20,'b':30,'c':40}\n",
    "d2=d1.copy()\n",
    "d1.clear()\n",
    "print(d1)  #{}\n",
    "print(d2)  #d1={'a':20,'b':30,'c':40}"
   ]
  },
  {
   "cell_type": "markdown",
   "id": "603f199a",
   "metadata": {},
   "source": [
    "*pop-popitem-del"
   ]
  },
  {
   "cell_type": "markdown",
   "id": "325b63e2",
   "metadata": {},
   "source": [
    ". What is pop\n",
    "      - pop will remove specify key\n",
    "      - return item\n",
    ". What is popitem\n",
    "      - remove the last value default\n",
    "      - return the pair\n",
    ". What is del\n",
    "      - del is a keyword\n",
    "      - it can delete an item  by  providing specific key"
   ]
  },
  {
   "cell_type": "code",
   "execution_count": 6,
   "id": "6a4dcb26",
   "metadata": {},
   "outputs": [
    {
     "data": {
      "text/plain": [
       "20"
      ]
     },
     "execution_count": 6,
     "metadata": {},
     "output_type": "execute_result"
    }
   ],
   "source": [
    "d2.pop('a')"
   ]
  },
  {
   "cell_type": "code",
   "execution_count": 8,
   "id": "032c23dc",
   "metadata": {},
   "outputs": [
    {
     "ename": "KeyError",
     "evalue": "'c'",
     "output_type": "error",
     "traceback": [
      "\u001b[1;31m---------------------------------------------------------------------------\u001b[0m",
      "\u001b[1;31mKeyError\u001b[0m                                  Traceback (most recent call last)",
      "Cell \u001b[1;32mIn[8], line 1\u001b[0m\n\u001b[1;32m----> 1\u001b[0m \u001b[38;5;28;01mdel\u001b[39;00m d2[\u001b[38;5;124m'\u001b[39m\u001b[38;5;124mc\u001b[39m\u001b[38;5;124m'\u001b[39m]\n\u001b[0;32m      2\u001b[0m d2\n",
      "\u001b[1;31mKeyError\u001b[0m: 'c'"
     ]
    }
   ],
   "source": [
    "del d2['c']\n",
    "d2\n"
   ]
  },
  {
   "cell_type": "code",
   "execution_count": 5,
   "id": "211e8444",
   "metadata": {},
   "outputs": [
    {
     "data": {
      "text/plain": [
       "('c', 40)"
      ]
     },
     "execution_count": 5,
     "metadata": {},
     "output_type": "execute_result"
    }
   ],
   "source": [
    "d2.popitem()"
   ]
  },
  {
   "cell_type": "code",
   "execution_count": 9,
   "id": "e034ceb2",
   "metadata": {},
   "outputs": [],
   "source": [
    "d1={'a':20,'b':30,'c':40}\n",
    "d2={'a':50,'b':100,'c':200} "
   ]
  },
  {
   "cell_type": "code",
   "execution_count": 10,
   "id": "72dd4416",
   "metadata": {},
   "outputs": [],
   "source": [
    "d1={'a':20,'b':30,'c':40}\n",
    "del d1['c']\n",
    "d1.pop('c')\n",
    "d1.popitem()\n",
    "del (d1)"
   ]
  },
  {
   "cell_type": "code",
   "execution_count": 11,
   "id": "b4c90f33",
   "metadata": {},
   "outputs": [],
   "source": [
    "l1=[10,20,30,40,50]\n",
    "del l1[1]"
   ]
  },
  {
   "cell_type": "code",
   "execution_count": 12,
   "id": "a52ae1fc",
   "metadata": {},
   "outputs": [
    {
     "data": {
      "text/plain": [
       "[10, 30, 40, 50]"
      ]
     },
     "execution_count": 12,
     "metadata": {},
     "output_type": "execute_result"
    }
   ],
   "source": [
    "l1"
   ]
  },
  {
   "cell_type": "markdown",
   "id": "52a44d13",
   "metadata": {},
   "source": [
    "- items/values/keys\n",
    "- if i provide two list you know how to make dict\n",
    "- if i provide dict, you know how\n",
    "- function\n",
    "- pop/popitem/del\n",
    "- copy/clear"
   ]
  },
  {
   "cell_type": "markdown",
   "id": "cf1305d6",
   "metadata": {},
   "source": [
    "*fromkeys-get"
   ]
  },
  {
   "cell_type": "code",
   "execution_count": 13,
   "id": "e6f1dd33",
   "metadata": {},
   "outputs": [],
   "source": [
    "del(d2)"
   ]
  },
  {
   "cell_type": "code",
   "execution_count": 14,
   "id": "13352ab2",
   "metadata": {},
   "outputs": [
    {
     "ename": "NameError",
     "evalue": "name 'd2' is not defined",
     "output_type": "error",
     "traceback": [
      "\u001b[1;31m---------------------------------------------------------------------------\u001b[0m",
      "\u001b[1;31mNameError\u001b[0m                                 Traceback (most recent call last)",
      "Cell \u001b[1;32mIn[14], line 1\u001b[0m\n\u001b[1;32m----> 1\u001b[0m d2\n",
      "\u001b[1;31mNameError\u001b[0m: name 'd2' is not defined"
     ]
    }
   ],
   "source": [
    "d2"
   ]
  },
  {
   "cell_type": "code",
   "execution_count": 13,
   "id": "fc95dc07",
   "metadata": {},
   "outputs": [
    {
     "data": {
      "text/plain": [
       "30"
      ]
     },
     "execution_count": 13,
     "metadata": {},
     "output_type": "execute_result"
    }
   ],
   "source": [
    "d1={'a':20,'b':30,'c':40}\n",
    "d1['b']"
   ]
  },
  {
   "cell_type": "code",
   "execution_count": 14,
   "id": "f16d6dbe",
   "metadata": {},
   "outputs": [
    {
     "data": {
      "text/plain": [
       "30"
      ]
     },
     "execution_count": 14,
     "metadata": {},
     "output_type": "execute_result"
    }
   ],
   "source": [
    "d1.get('b')"
   ]
  },
  {
   "cell_type": "code",
   "execution_count": 15,
   "id": "df24b77d",
   "metadata": {},
   "outputs": [],
   "source": [
    "d1.get('z')"
   ]
  },
  {
   "cell_type": "markdown",
   "id": "01702d30",
   "metadata": {},
   "source": [
    "- how many ways we can do\n",
    "- what output it is returning\n",
    "- what is the difference\n",
    "- we can access the values by providing key as index and key in get method\n",
    "- but if the key is not present in dictionary, keys as index will give key error\n",
    "- get method will not return anything and no error"
   ]
  },
  {
   "cell_type": "code",
   "execution_count": null,
   "id": "dd593936",
   "metadata": {},
   "outputs": [],
   "source": [
    "# it creates a new dictionary\n",
    "# create a new dictionary from the given sequence of elements\n",
    "# create new dictionary with iterable key "
   ]
  },
  {
   "cell_type": "code",
   "execution_count": 17,
   "id": "43135dca",
   "metadata": {},
   "outputs": [
    {
     "data": {
      "text/plain": [
       "{'A': None, 'n': None, 'u': None}"
      ]
     },
     "execution_count": 17,
     "metadata": {},
     "output_type": "execute_result"
    }
   ],
   "source": [
    "d2=d1.fromkeys('Anu')\n",
    "d2"
   ]
  },
  {
   "cell_type": "code",
   "execution_count": 18,
   "id": "edc688d3",
   "metadata": {},
   "outputs": [
    {
     "data": {
      "text/plain": [
       "{'A': None, 'n': None, 'u': None}"
      ]
     },
     "execution_count": 18,
     "metadata": {},
     "output_type": "execute_result"
    }
   ],
   "source": [
    "d2={}.fromkeys('Anu')\n",
    "d2"
   ]
  },
  {
   "cell_type": "code",
   "execution_count": 19,
   "id": "fc43ce1f",
   "metadata": {},
   "outputs": [],
   "source": [
    "name='Anu'\n",
    "new=name.capitalize()"
   ]
  },
  {
   "cell_type": "code",
   "execution_count": 21,
   "id": "2d7bc9a1",
   "metadata": {},
   "outputs": [
    {
     "data": {
      "text/plain": [
       "('Anu', 'Anu')"
      ]
     },
     "execution_count": 21,
     "metadata": {},
     "output_type": "execute_result"
    }
   ],
   "source": [
    "name,new"
   ]
  },
  {
   "cell_type": "code",
   "execution_count": 22,
   "id": "6bc1b6bf",
   "metadata": {},
   "outputs": [
    {
     "data": {
      "text/plain": [
       "{1: 'odd', 3: 'odd', 5: 'odd'}"
      ]
     },
     "execution_count": 22,
     "metadata": {},
     "output_type": "execute_result"
    }
   ],
   "source": [
    "d3={}.fromkeys([1,3,5],'odd')\n",
    "d3"
   ]
  },
  {
   "cell_type": "code",
   "execution_count": 23,
   "id": "71e2b142",
   "metadata": {},
   "outputs": [
    {
     "name": "stdout",
     "output_type": "stream",
     "text": [
      "1\n",
      "3\n",
      "5\n"
     ]
    }
   ],
   "source": [
    "for i in [1,3,5]:\n",
    "    print(i)"
   ]
  },
  {
   "cell_type": "markdown",
   "id": "a4d8e5dd",
   "metadata": {},
   "source": [
    "set as default"
   ]
  },
  {
   "cell_type": "markdown",
   "id": "5298a313",
   "metadata": {},
   "source": [
    "-returns the values of the key \n",
    "-if key is not present returns default"
   ]
  },
  {
   "cell_type": "code",
   "execution_count": 24,
   "id": "33656c53",
   "metadata": {},
   "outputs": [
    {
     "data": {
      "text/plain": [
       "{'nareshit': 'ds', 'city': None}"
      ]
     },
     "execution_count": 24,
     "metadata": {},
     "output_type": "execute_result"
    }
   ],
   "source": [
    "d1={}\n",
    "d1.setdefault('nareshit','ds')\n",
    "d1.setdefault('city')\n",
    "d1"
   ]
  },
  {
   "cell_type": "code",
   "execution_count": 25,
   "id": "9f277b3d",
   "metadata": {},
   "outputs": [
    {
     "ename": "KeyError",
     "evalue": "'city'",
     "output_type": "error",
     "traceback": [
      "\u001b[1;31m---------------------------------------------------------------------------\u001b[0m",
      "\u001b[1;31mKeyError\u001b[0m                                  Traceback (most recent call last)",
      "Cell \u001b[1;32mIn[25], line 3\u001b[0m\n\u001b[0;32m      1\u001b[0m d2\u001b[38;5;241m=\u001b[39m{}\n\u001b[0;32m      2\u001b[0m d2[\u001b[38;5;124m'\u001b[39m\u001b[38;5;124mnareshit\u001b[39m\u001b[38;5;124m'\u001b[39m]\u001b[38;5;241m=\u001b[39m\u001b[38;5;124m'\u001b[39m\u001b[38;5;124mDs\u001b[39m\u001b[38;5;124m'\u001b[39m\n\u001b[1;32m----> 3\u001b[0m d2[\u001b[38;5;124m'\u001b[39m\u001b[38;5;124mcity\u001b[39m\u001b[38;5;124m'\u001b[39m]\n",
      "\u001b[1;31mKeyError\u001b[0m: 'city'"
     ]
    }
   ],
   "source": [
    "d2={}\n",
    "d2['nareshit']='Ds'\n",
    "d2['city']"
   ]
  },
  {
   "cell_type": "code",
   "execution_count": 26,
   "id": "c80eaaa9",
   "metadata": {},
   "outputs": [
    {
     "data": {
      "text/plain": [
       "{'nareshit': ['Ds', 'MLOPS', 'DE'], 'city': None}"
      ]
     },
     "execution_count": 26,
     "metadata": {},
     "output_type": "execute_result"
    }
   ],
   "source": [
    "d1={}\n",
    "d1.setdefault('nareshit','ds')\n",
    "d1.setdefault('city')\n",
    "d1.setdefault('nareshit',['DS','MLOPS','DE'])\n",
    "d1['nareshit']=['Ds','MLOPS','DE']\n",
    "d1.setdefault('city','hyd')\n",
    "d1"
   ]
  },
  {
   "cell_type": "markdown",
   "id": "639ebe28",
   "metadata": {},
   "source": [
    "*update"
   ]
  },
  {
   "cell_type": "code",
   "execution_count": 29,
   "id": "ff649bd2",
   "metadata": {},
   "outputs": [
    {
     "name": "stdout",
     "output_type": "stream",
     "text": [
      "{'a': 50, 'b': 100, 'c': 200}\n"
     ]
    }
   ],
   "source": [
    "# it inserts the particular items to the dictionary\n",
    "# D.update([E, ]**F) -> None.  Update D from dict/iterable E and F.\n",
    "# If E is present and has a .keys() method, then does:  for k in E: D[k] = E[k]\n",
    "# If E is present and lacks a .keys() method, then does:  for k, v in E: D[k] = v\n",
    "d1={'a':20,'b':30,'c':40}\n",
    "d2={'a':50,'b':100,'c':200} \n",
    "d1.update(d2)\n",
    "print(d1)"
   ]
  },
  {
   "cell_type": "code",
   "execution_count": 30,
   "id": "73538bf6",
   "metadata": {},
   "outputs": [
    {
     "data": {
      "text/plain": [
       "[1, 4, 5, 4, 9]"
      ]
     },
     "execution_count": 30,
     "metadata": {},
     "output_type": "execute_result"
    }
   ],
   "source": [
    "l1=[1,4,5]\n",
    "l2=[4,9]\n",
    "l1.extend(l2)\n",
    "l1"
   ]
  },
  {
   "cell_type": "markdown",
   "id": "7fb7d753",
   "metadata": {},
   "source": [
    "update method will update a dictionary will elements from another dictionary.\n",
    "it modifies the dictionary"
   ]
  },
  {
   "cell_type": "code",
   "execution_count": 31,
   "id": "4879f69b",
   "metadata": {},
   "outputs": [
    {
     "data": {
      "text/plain": [
       "{1: 2, 2: 3}"
      ]
     },
     "execution_count": 31,
     "metadata": {},
     "output_type": "execute_result"
    }
   ],
   "source": [
    "t1=[(1,2),(2,3)]\n",
    "d1={}\n",
    "d1.update(t1)\n",
    "d1"
   ]
  },
  {
   "cell_type": "markdown",
   "id": "d3fd6073",
   "metadata": {},
   "source": [
    "- strings\n",
    "- list\n",
    "- dictionary"
   ]
  },
  {
   "cell_type": "markdown",
   "id": "3ca54341",
   "metadata": {},
   "source": [
    "- tuple\n",
    "write an article on tuple\n",
    "- how to read\n",
    "- type/max/min/len/summ\n",
    "- index/mutable\n",
    "- in/for\n",
    "- slice\n",
    "- methods\n"
   ]
  }
 ],
 "metadata": {
  "kernelspec": {
   "display_name": "Python 3 (ipykernel)",
   "language": "python",
   "name": "python3"
  },
  "language_info": {
   "codemirror_mode": {
    "name": "ipython",
    "version": 3
   },
   "file_extension": ".py",
   "mimetype": "text/x-python",
   "name": "python",
   "nbconvert_exporter": "python",
   "pygments_lexer": "ipython3",
   "version": "3.11.5"
  }
 },
 "nbformat": 4,
 "nbformat_minor": 5
}
