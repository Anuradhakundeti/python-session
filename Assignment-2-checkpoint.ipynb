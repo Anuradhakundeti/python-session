{
 "cells": [
  {
   "cell_type": "code",
   "execution_count": 2,
   "id": "da31f98c",
   "metadata": {},
   "outputs": [
    {
     "name": "stdout",
     "output_type": "stream",
     "text": [
      "enter the basic salary75000\n",
      "Ramesh gross salary: 4575000\n"
     ]
    }
   ],
   "source": [
    "#ramesh basic salary is input through the keyboard\n",
    "#his dearness allowance is 40% of basic salary\n",
    "#and house rent allowance is 20% of basic salary\n",
    "try:\n",
    "    basic_salary=eval(input(\"enter the basic salary\"))\n",
    "    dearness_allowance=40*basic_salary\n",
    "    house_rent_allowance=20*basic_salary\n",
    "    gross_salary=basic_salary+dearness_allowance+house_rent_allowance\n",
    "    print(\"Ramesh gross salary: {}\".format(gross_salary))\n",
    "except Exception as e:\n",
    "    print(e)"
   ]
  },
  {
   "cell_type": "code",
   "execution_count": 9,
   "id": "33fc142f",
   "metadata": {},
   "outputs": [
    {
     "name": "stdout",
     "output_type": "stream",
     "text": [
      "enter the distance between two cities in km:10\n",
      "the distance in meters of 10000.0 is 10.0:\n",
      "the distance in centimeters of 1000.0 is 10.0:\n",
      "the distance in feet of 46870.8 is 10.0:\n",
      "the distance in inches of 56780.200000000004 is 10.0:\n"
     ]
    }
   ],
   "source": [
    "#the distance between two cities (in km) input through the keyboard\n",
    "#wap to convert and print this distance in meters, feet, inches,  and centimeters\n",
    "try:\n",
    "    distance_in_km=float(input(\"enter the distance between two cities in km:\"))\n",
    "    meters=distance_in_km*1000\n",
    "    centimeters=distance_in_km*100\n",
    "    feet=distance_in_km* 4687.08;\n",
    "    inches=distance_in_km* 5678.02;\n",
    "    print(\"the distance in meters of {} is {}:\".format(meters,distance_in_km))\n",
    "    print(\"the distance in centimeters of {} is {}:\".format(centimeters,distance_in_km))\n",
    "    print(\"the distance in feet of {} is {}:\".format(feet,distance_in_km))\n",
    "    print(\"the distance in inches of {} is {}:\".format(inches,distance_in_km))\n",
    "except Exception as e:\n",
    "    print(e)"
   ]
  },
  {
   "cell_type": "code",
   "execution_count": 12,
   "id": "326b32a8",
   "metadata": {},
   "outputs": [
    {
     "name": "stdout",
     "output_type": "stream",
     "text": [
      "enter the student marks in 1st subject: 98\n",
      "enter the student marks in 2nd subject: 85\n",
      "enter the student marks in 3rd subject: 78\n",
      "enter the student marks in 4rth subject: 65\n",
      "enter the student marks in 5th subject: 39\n",
      "percentage marks of all subjects 3.65 is 3.65: \n",
      "the highest marks in 1st subject is 98: \n"
     ]
    }
   ],
   "source": [
    "# if the marks obtain by a student in five different subjects are input through the keyboard \n",
    "#find out the aggregate marks and percentage marks obtained by the student \n",
    "#Assume that the maximum marks that can be obtained by a student in each subject is 100\n",
    "try:\n",
    "    m1=eval(input(\"enter the student marks in 1st subject: \"))\n",
    "    m2=eval(input(\"enter the student marks in 2nd subject: \"))\n",
    "    m3=eval(input(\"enter the student marks in 3rd subject: \"))\n",
    "    m4=eval(input(\"enter the student marks in 4rth subject: \"))\n",
    "    m5=eval(input(\"enter the student marks in 5th subject: \"))\n",
    "    total_marks = m1+m2+m3+m4+m5\n",
    "    percentage_marks=total_marks/100\n",
    "    print(\"percentage marks of all subjects {} is {}: \".format(percentage_marks,total_marks/100))\n",
    "    if m1>=90:\n",
    "        print(\"the highest marks in 1st subject is {}: \".format(m1,m2,m3,m4,m5,percentage_marks))\n",
    "    elif m2>=80:\n",
    "        print(\"the highest marks in 2nd subject is {}: \".format(m1,m2,m3,m4,m5,percentage_marks))\n",
    "    elif m3>=70:\n",
    "        print(\"the highest marks in 3rd subject is {}: \".format(m1,m2,m3,m4,m5,percentage_marks))\n",
    "    elif m4>=60:\n",
    "        print(\"the highest marks in 4th subject is {}: \".format(m1,m2,m3,m4,m5,percentage_marks))\n",
    "    elif m5>=35:\n",
    "        print(\"the highest marks in 5th subject is {}: \".format(m1,m2,m3,m4,m5,percentage_marks))\n",
    "    else:\n",
    "        print(\"fail\")\n",
    "except Exception as e:\n",
    "    print(e)"
   ]
  },
  {
   "cell_type": "code",
   "execution_count": 16,
   "id": "1f2d80e8",
   "metadata": {},
   "outputs": [
    {
     "name": "stdout",
     "output_type": "stream",
     "text": [
      "enter the temperature in Fahrenheit degrees: 20\n",
      "Fahrenheit of {} is {} degree celsius:  -6.666666666666667\n"
     ]
    }
   ],
   "source": [
    "#temperature of a city in fahrenheit degrees is input through the keyboard\n",
    "#wap to convert this temperature into centigrade degrees\n",
    "try:\n",
    "    Fahrenheit=eval(input(\"enter the temperature in Fahrenheit degrees: \"))\n",
    "    celsius=(Fahrenheit-32)*5/9\n",
    "    print(\"Fahrenheit of {} is {} degree celsius: \",format(celsius))\n",
    "except Exception as e:\n",
    "    print(e)"
   ]
  },
  {
   "cell_type": "code",
   "execution_count": 18,
   "id": "8e92e0df",
   "metadata": {},
   "outputs": [
    {
     "name": "stdout",
     "output_type": "stream",
     "text": [
      "enter the length of the rectangle: 4\n",
      "enter the breadth of the rectangle: 2\n",
      "enter the radius of the rectangle: 5\n",
      "area_rectangle of {} is {}:  8\n",
      "area_perimeter of {} is {}:  12\n",
      "area_circle of {} is {}:  78.53981633974483\n",
      "area_circumference of {} is {}:  16.283185307179586\n"
     ]
    }
   ],
   "source": [
    "#the e length and breadth of a rectangle and radius of a circle are input through the keyboard\n",
    "#wap to calculate the area and perimeter of the rectangle, and the area and circumference of a circle \n",
    "try:\n",
    "    import math\n",
    "    length=eval(input(\"enter the length of the rectangle: \"))\n",
    "    breadth=eval(input(\"enter the breadth of the rectangle: \"))\n",
    "    radius=eval(input(\"enter the radius of the rectangle: \"))\n",
    "    area_rectangle=length*breadth\n",
    "    area_perimeter=2*(length+breadth)\n",
    "    area_circle=math.pi*radius**2\n",
    "    area_circumference=2*(math.pi+radius)\n",
    "    print(\"area_rectangle of {} is {}: \",format(area_rectangle))\n",
    "    print(\"area_perimeter of {} is {}: \",format(area_perimeter))\n",
    "    print(\"area_circle of {} is {}: \",format(area_circle))\n",
    "    print(\"area_circumference of {} is {}: \",format(area_circumference))\n",
    "except Exception as e:\n",
    "    print(e)"
   ]
  },
  {
   "cell_type": "code",
   "execution_count": 2,
   "id": "c4cffa68",
   "metadata": {},
   "outputs": [
    {
     "name": "stdout",
     "output_type": "stream",
     "text": [
      "Enter the C Values:7\n",
      "Enter the D Values:5\n",
      "Before C Values :  7\n",
      "Before D Values :  5\n",
      "After C Values: 5\n",
      "After D Values: 7\n"
     ]
    }
   ],
   "source": [
    "#two numbers are input through the keyboard\n",
    "#into two locations c and d\n",
    "#wap to intercharge the contents of c and d\n",
    "try:\n",
    "    c=int(input(\"Enter the C Values:\"))\n",
    "    d=int(input(\"Enter the D Values:\"))\n",
    "    print(\"Before C Values : \",c)\n",
    "    print(\"Before D Values : \",d)\n",
    "    a=c\n",
    "    c=d\n",
    "    d=a\n",
    "    print(\"After C Values:\",c)\n",
    "    print(\"After D Values:\",d)\n",
    "except Exception as e:\n",
    "    print(e)\n"
   ]
  },
  {
   "cell_type": "code",
   "execution_count": 3,
   "id": "163af6b4",
   "metadata": {},
   "outputs": [
    {
     "name": "stdout",
     "output_type": "stream",
     "text": [
      "Enter the five digits Number:12345\n",
      "Reverse Five digits = 54321\n"
     ]
    }
   ],
   "source": [
    "#if 5 digit number is input through the keyboard\n",
    "#Wap to reverse the number\n",
    "try:   \n",
    "    n=int(input(\"Enter the five digits Number:\"))\n",
    "    reversenum=0\n",
    "    a=n%10\n",
    "    n=n//10\n",
    "    reversenum=reversenum+a*10000\n",
    "\n",
    "    a=n%10\n",
    "    n=n//10\n",
    "    reversenum=reversenum+a*1000\n",
    "\n",
    "    a=n%10\n",
    "    n=n//10\n",
    "    reversenum=reversenum+a*100\n",
    "\n",
    "    a=n%10\n",
    "    n=n//10\n",
    "    reversenum=reversenum+a*10\n",
    "\n",
    "    a=n%10\n",
    "    reversenum=reversenum+a\n",
    "\n",
    "    print(\"Reverse Five digits =\",reversenum)\n",
    "except Exception as e:\n",
    "    print(e)"
   ]
  },
  {
   "cell_type": "code",
   "execution_count": 4,
   "id": "071372b2",
   "metadata": {},
   "outputs": [
    {
     "name": "stdout",
     "output_type": "stream",
     "text": [
      "Enter the four Digits Number :1234\n",
      "Sum of First and Last digits = 5\n"
     ]
    }
   ],
   "source": [
    "#if a 4 digit number is input through the keyboard\n",
    "#wap to obtain the sum of the first and last digit of this number\n",
    "try:    \n",
    "    n=int(input(\"Enter the four Digits Number :\"))\n",
    "    sum=0\n",
    "    a=n//1000\n",
    "    sum=sum+a\n",
    "    a=n%10\n",
    "    sum=sum+a\n",
    "    print(\"Sum of First and Last digits =\",sum)\n",
    "except Exception as e:\n",
    "    print(e)"
   ]
  },
  {
   "cell_type": "code",
   "execution_count": 8,
   "id": "9be1cc46",
   "metadata": {},
   "outputs": [
    {
     "name": "stdout",
     "output_type": "stream",
     "text": [
      "Total Population          :  80000\n",
      "Total Mens                :  41600.0\n",
      "Total Womens              :  38400.0\n",
      "Total Literacy            :  38400.0\n",
      "Total Literacy Mens       :  14560.0\n",
      "Total Literacy Womens     :  23840.0\n",
      "Total Not Literacy Mens   :  27040.0\n",
      "Total Not Literacy Womens :  14560.0\n"
     ]
    }
   ],
   "source": [
    "#in a town the percentage of men is 52\n",
    "#the percentage of total literacy is 48. if total percentage of literate men and women is 35 of the total population \n",
    "#wap to find the total number of illiterate men and women if the population of the town is 80000\n",
    "try:    \n",
    "    population=80000\n",
    "    population_men=(52*population)/100\n",
    "    population_women=population-population_men\n",
    "    population_literacy=(48*population)/100\n",
    "    literacy_men=(35*population_men)/100\n",
    "    literacy_women= population_literacy-literacy_men\n",
    "    un_literacy_men=population_men-literacy_men\n",
    "    un_literacy_women=population_women-literacy_women\n",
    "    print(\"Total Population          : \",population)\n",
    "    print(\"Total Mens                : \",population_men)\n",
    "    print(\"Total Womens              : \",population_women)\n",
    "    print(\"Total Literacy            : \",population_literacy)\n",
    "    print(\"Total Literacy Mens       : \",literacy_men)\n",
    "    print(\"Total Literacy Womens     : \",literacy_women)\n",
    "    print(\"Total Not Literacy Mens   : \",un_literacy_men)\n",
    "    print(\"Total Not Literacy Womens : \",un_literacy_women)\n",
    "except Exception as e:\n",
    "    print(e)"
   ]
  },
  {
   "cell_type": "code",
   "execution_count": 10,
   "id": "6ab68859",
   "metadata": {},
   "outputs": [
    {
     "name": "stdout",
     "output_type": "stream",
     "text": [
      "Enter the Amount to be Withdrawn :1000\n",
      "No of Hundred Notes : 10\n",
      "No of Fifty Notes : 0\n",
      "No of Ten Notes : 0\n"
     ]
    }
   ],
   "source": [
    "#a cashier has currency notes of denominations 10, 50 and 100\n",
    "#if the amount withdrawn is input through the keyboard in hundreds \n",
    "#find the total number of currency notes of each denomination the cashier will have to giveto the withdrawer\n",
    "try:\n",
    "    amt = int(input(\"Enter the Amount to be Withdrawn :\"))\n",
    "    hundred = amt//100\n",
    "    amt = amt%100\n",
    "    fifty = amt//50\n",
    "    amt = amt%50\n",
    "    ten = amt//10\n",
    "    print(\"No of Hundred Notes :\",hundred)\n",
    "    print(\"No of Fifty Notes :\",fifty)\n",
    "    print(\"No of Ten Notes :\",ten)\n",
    "except Exception as e:\n",
    "    print(e)"
   ]
  }
 ],
 "metadata": {
  "kernelspec": {
   "display_name": "Python 3 (ipykernel)",
   "language": "python",
   "name": "python3"
  },
  "language_info": {
   "codemirror_mode": {
    "name": "ipython",
    "version": 3
   },
   "file_extension": ".py",
   "mimetype": "text/x-python",
   "name": "python",
   "nbconvert_exporter": "python",
   "pygments_lexer": "ipython3",
   "version": "3.11.5"
  }
 },
 "nbformat": 4,
 "nbformat_minor": 5
}
