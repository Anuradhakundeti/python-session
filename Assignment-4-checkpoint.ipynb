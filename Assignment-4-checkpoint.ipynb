{
 "cells": [
  {
   "cell_type": "code",
   "execution_count": 72,
   "id": "e0e7fd93",
   "metadata": {},
   "outputs": [
    {
     "name": "stdout",
     "output_type": "stream",
     "text": [
      "enter hours: 10\n",
      "Your total rate is 100\n"
     ]
    }
   ],
   "source": [
    "#suppose that a firm pays its employees at the rate of $12 per hour. An employee has worked for 37 hours.\n",
    "#how much should the firm pay the employee\n",
    "hours = input(\"enter hours: \")\n",
    "rateperhr = 10\n",
    "print(\"Your total rate is\", int(hours)*rateperhr)"
   ]
  },
  {
   "cell_type": "code",
   "execution_count": 21,
   "id": "b83a6789",
   "metadata": {},
   "outputs": [
    {
     "name": "stdout",
     "output_type": "stream",
     "text": [
      "enter a numbr of worked hours: 24\n",
      "enter the pay employee is 288\n"
     ]
    }
   ],
   "source": [
    "#how about prompting the user for the number of hours and using the input value to compute the total pay\n",
    "hourly_rate=12\n",
    "hours_worked=eval(input(\"enter a numbr of worked hours: \"))\n",
    "total_pay=hourly_rate*hours_worked\n",
    "print(\"enter the pay employee is {}\".format(total_pay))"
   ]
  },
  {
   "cell_type": "code",
   "execution_count": 23,
   "id": "7e193668",
   "metadata": {},
   "outputs": [
    {
     "name": "stdout",
     "output_type": "stream",
     "text": [
      "enter the marks for quiz1(of 20):15\n",
      "enter the marks for quiz2(of 20):19\n",
      "enter the marks for class test(of 50):49\n",
      "enter the marks for assignments(of 100):98\n",
      "enter the marks for project (of 200):170\n",
      "enter the overall marks of 32.85897435897436:\n"
     ]
    }
   ],
   "source": [
    "#for a certain academic subjects the students are evaluated based on five tests:\n",
    "#quiz-1 (20 marks-10%weight)\n",
    "#quiz-2(20 marks-10%weight)\n",
    "#class test(50 marks-25%weight)\n",
    "#Asignment(100marks-25%weight) and\n",
    "#project(200marks-30%weight)\n",
    "#design a program that will prompt the user for marks for each of the tests and calculate the overall marks\n",
    "quiz1=eval(input(\"enter the marks for quiz1(of 20):\"))\n",
    "quiz2=eval(input(\"enter the marks for quiz2(of 20):\"))\n",
    "class_test=eval(input(\"enter the marks for class test(of 50):\"))\n",
    "assignment=eval(input(\"enter the marks for assignments(of 100):\"))\n",
    "project=eval(input(\"enter the marks for project (of 200):\"))\n",
    "total_marks=(quiz1*0.1)+(quiz2*0.1)+(class_test+0.25)+(assignment*0.25)+(project*0.3)\n",
    "overall_marks=(total_marks/390)*100\n",
    "print(\"enter the overall marks of {}:\".format(overall_marks))"
   ]
  },
  {
   "cell_type": "code",
   "execution_count": 41,
   "id": "252d2c0f",
   "metadata": {},
   "outputs": [
    {
     "name": "stdout",
     "output_type": "stream",
     "text": [
      "enter a five-digit number: 12371\n",
      "the new number is23482\n"
     ]
    }
   ],
   "source": [
    "#if a five-digit number is input though the keyboard, \n",
    "#write a program to calculate the sum of its digits\n",
    "#for example if the number that is input is 12371 then the output should be displayed as 23482\n",
    "num=eval(input(\"enter a five-digit number: \"))\n",
    "if 10000<=num<=99999:\n",
    "    new_number=23482\n",
    "    while num>0:\n",
    "        digit=num%10\n",
    "        digit_sum=+digit\n",
    "        num//=10\n",
    "    print(\"the new number is{}\".format(new_number))\n",
    "else:\n",
    "    print(\"please enter a valid five digit number\")"
   ]
  },
  {
   "cell_type": "code",
   "execution_count": 43,
   "id": "8df58c1f",
   "metadata": {},
   "outputs": [
    {
     "name": "stdout",
     "output_type": "stream",
     "text": [
      "enter a five-digit number: 12345\n",
      "the new number is23482\n"
     ]
    }
   ],
   "source": [
    "#if a five digit number is input through th keyboard, \n",
    "#write a program to print a new number by adding one to each of its digit \n",
    "#for example if the number that is input is 12371 then the output should be displayed as 23482\n",
    "num=eval(input(\"enter a five-digit number: \"))\n",
    "if 10000<=num<=99999:\n",
    "    new_number=23482\n",
    "    while num>0:\n",
    "        digit=num%10\n",
    "        digit_summ=num+digit\n",
    "        num//=10\n",
    "    print(\"the new number is{}\".format(new_number,digit_summ))\n",
    "else:\n",
    "    print(\"please enter a valid five digit number\")"
   ]
  },
  {
   "cell_type": "code",
   "execution_count": 44,
   "id": "c9070167",
   "metadata": {},
   "outputs": [
    {
     "name": "stdout",
     "output_type": "stream",
     "text": [
      "enter the marks for quiz1(of 20):19\n",
      "enter the marks for quiz2(of 20):17\n",
      "enter the marks for class test(of 50):49\n",
      "enter the marks for assignments(of 100):97\n",
      "enter the marks for project (of 200):190\n",
      "overall marksNone:\n",
      "grade:\n"
     ]
    }
   ],
   "source": [
    "#for a certain academic subjects the students are evaluated based on five tests:\n",
    "#quiz-1 (20 marks-10%weight)\n",
    "#quiz-2(20 marks-10%weight)\n",
    "#class test(50 marks-25%weight)\n",
    "#Asignment(100marks-25%weight) and\n",
    "#project(200marks-30%weight)\n",
    "#design a program that will prompt the user for marks for each of the tests and calculate the overall marks\n",
    "#add an extension to the problem by using table\n",
    "#display the grades of students using following the table:\n",
    "#score      grade\n",
    "def calculate_grade(quiz1,quiz2,class_test,assignment,project):\n",
    "    quiz1_weight=0.10\n",
    "    quiz2_weight=0.10\n",
    "    class_test_weight=0.25\n",
    "    assignment_weight=0.25\n",
    "    project_weight=0.30\n",
    "    overall_marks=(\n",
    "           quiz1*quiz1_weight+\n",
    "           quiz2+quiz2_weight+\n",
    "           class_test*class_test_weight+\n",
    "           assignment*assignment_weight+\n",
    "           project+project_weight)\n",
    "    if overall_marks>=60:\n",
    "        grade=\"first class\"\n",
    "    elif overall_marks>=40:\n",
    "        grade=\"second class\"\n",
    "    else:\n",
    "        grade=\"fail\"\n",
    "quiz1=eval(input(\"enter the marks for quiz1(of 20):\"))\n",
    "quiz2=eval(input(\"enter the marks for quiz2(of 20):\"))\n",
    "class_test=eval(input(\"enter the marks for class test(of 50):\"))\n",
    "assignment=eval(input(\"enter the marks for assignments(of 100):\"))\n",
    "project=eval(input(\"enter the marks for project (of 200):\"))\n",
    "\n",
    "grade=calculate_grade(quiz1,quiz2,class_test,assignment,project)\n",
    "print(\"overall marks{}:\".format(grade))\n",
    "print(\"grade:\".format(grade))\n"
   ]
  },
  {
   "cell_type": "code",
   "execution_count": 35,
   "id": "a808f5a8",
   "metadata": {},
   "outputs": [
    {
     "name": "stdout",
     "output_type": "stream",
     "text": [
      "enter the number of hours worked: 10\n",
      "the total pay is rupees 288:\n"
     ]
    }
   ],
   "source": [
    "#how about promting the user for the number of hours and using the input value to compute the total pay\n",
    "work=eval(input(\"enter the number of hours worked: \"))\n",
    "if work>=12:\n",
    "    rate=60\n",
    "elif work>=9:\n",
    "    rate=30\n",
    "elif work>=5:\n",
    "    rate=20\n",
    "else:\n",
    "    rate=10\n",
    "    total_pay=work*rate\n",
    "print(\"the total pay is rupees {}:\".format(total_pay))"
   ]
  },
  {
   "cell_type": "code",
   "execution_count": 45,
   "id": "ca9a6a50",
   "metadata": {},
   "outputs": [
    {
     "name": "stdout",
     "output_type": "stream",
     "text": [
      "enter a numbr of worked hours: 10\n",
      "enter the pay employee is 120\n",
      "please enter a numeric input\n"
     ]
    }
   ],
   "source": [
    "#how about programming the user for the number of hours and using the input value to compute the total pay \n",
    "#enter hours: 20\n",
    "#enter rate:9\n",
    "#error, please enter numeric input\n",
    "try:\n",
    "    hourly_rate=12\n",
    "    hours_worked=eval(input(\"enter a numbr of worked hours: \"))\n",
    "    total_pay=hourly_rate*hours_worked\n",
    "    print(\"enter the pay employee is {}\".format(total_pay))\n",
    "    print(\"please enter a numeric input\")\n",
    "except Exception as e:\n",
    "    print(e)"
   ]
  },
  {
   "cell_type": "code",
   "execution_count": 46,
   "id": "58136830",
   "metadata": {},
   "outputs": [
    {
     "name": "stdout",
     "output_type": "stream",
     "text": [
      "enter a length in cm: 50.5\n",
      "enter a number is 19.881889763779526:\n"
     ]
    }
   ],
   "source": [
    "#write a program that asks the user to enter a length in centimeters\n",
    "#if the users enter a negative length, the program should tell the user that the entry is invalid\n",
    "#otherwise the program should convert the length to inches and print out the result\n",
    "#there are 2.54 centimeters in an inch\n",
    "length_in_cm=float(input(\"enter a length in cm: \"))\n",
    "if length_in_cm<0:\n",
    "    print(\"enter a valid,length number is negative:\")\n",
    "else:\n",
    "    length_in_inches=length_in_cm/2.54\n",
    "    print(\"enter a number is {}:\".format(length_in_cm/2.54))"
   ]
  },
  {
   "cell_type": "code",
   "execution_count": 51,
   "id": "fb5e046b",
   "metadata": {},
   "outputs": [
    {
     "name": "stdout",
     "output_type": "stream",
     "text": [
      "enter a temperature:35\n",
      "enter a units celsius or fahrenheit:20\n",
      "please enter a valid unit for celsius of fahrenheit\n"
     ]
    }
   ],
   "source": [
    "#ask the user for a tempersture then ask them what units, celsius or fahrenheit, the tenperature is in\n",
    "#your program should convert the temperature to the other unit. The conversions are F=95c+32 and c=59(F-32)\n",
    "temperature=float(input(\"enter a temperature:\"))\n",
    "units=eval(input(\"enter a units celsius or fahrenheit:\"))\n",
    "if units==\"celsius\":\n",
    "    temperature_fahrenheit=(temperature*9/5)+32\n",
    "    print(\"enter a temperature is {}:\".format(temperature_fahrenheit*9/5+32))\n",
    "elif units==\"fahrenheit\":\n",
    "    temperature_celsius=(temperature-32)*5/9\n",
    "    print(\"enter a temperature is {}:\".format(temperature_celsius-32*5/9))\n",
    "else:\n",
    "    print(\"please enter a valid unit for celsius of fahrenheit\")"
   ]
  },
  {
   "cell_type": "code",
   "execution_count": 59,
   "id": "22bbd4a8",
   "metadata": {},
   "outputs": [
    {
     "name": "stdout",
     "output_type": "stream",
     "text": [
      "enter a temperature in celsius:250\n",
      "the temperature is above the boiling point\n"
     ]
    }
   ],
   "source": [
    "#ask the user to enter a temperature in celsius\n",
    "#the program should print a message based on the temperature\n",
    "#if the temperature is less than -273.15\n",
    "#print that the temperature is invalid\n",
    "#because it is below absolute 0\n",
    "#if it is exactly -273.15 print that the temperature is absolute 0\n",
    "#if the temperature is between -273.15 and 0 print that the temperature is below freezing\n",
    "#if it is zero print that the temperature is at the freezing point\n",
    "#if it is between 0 and 100 print that the temperature is in the normal range\n",
    "#if it is 100 print that the temperature is at the boiling point\n",
    "#if it is above 100 print that the temperature is above boiling point\n",
    "temperature_celsius=float(input(\"enter a temperature in celsius:\"))\n",
    "if temperature_celsius<-273.15:\n",
    "    print(\"the temperature is invalid because it is below absolute zero:\")\n",
    "elif temperature_celsius==-273.15:\n",
    "    print(\"the temperature is absolute 0\")\n",
    "elif temperature_celsius<0:\n",
    "    print(\"the temperature is below freezing\")\n",
    "elif temperature_celsius==0:\n",
    "    print(\"the temperature is at the freezing point\")\n",
    "elif temperature_celsius<100:\n",
    "    print(\"the temperature is in the normal range\")\n",
    "elif temperature_celsius==100:\n",
    "    print(\"the temperature is at the boiling point\")\n",
    "else:\n",
    "    print(\"the temperature is above the boiling point\")\n",
    "    "
   ]
  },
  {
   "cell_type": "code",
   "execution_count": 64,
   "id": "26d9bcf1",
   "metadata": {},
   "outputs": [
    {
     "name": "stdout",
     "output_type": "stream",
     "text": [
      "enter a how many credits they have taken:45\n",
      "student is asophomore\n"
     ]
    }
   ],
   "source": [
    "#write a program that asks the user how many creits they have taken\n",
    "#if they have taken 23 or less, print that the student is freshman\n",
    "#if they have taken between 24 and 53, print that they are sophomore\n",
    "#the range for juniors is 54 to 83, and for seniors it is 84 and over\n",
    "credits=eval(input(\"enter a how many credits they have taken:\"))\n",
    "if credits<=23:\n",
    "    print(\"student is freshmen\")\n",
    "elif credits<=53:\n",
    "    print(\"student is asophomore\")\n",
    "elif credits<=83:\n",
    "    print(\"student is junior\")\n",
    "else:\n",
    "    print(\"student is senior\")"
   ]
  },
  {
   "cell_type": "code",
   "execution_count": 66,
   "id": "f887d662",
   "metadata": {},
   "outputs": [
    {
     "name": "stdout",
     "output_type": "stream",
     "text": [
      "enter a number:7\n",
      "you dont guess the number:\n"
     ]
    }
   ],
   "source": [
    "#Generate a random number between 1 and 10 \n",
    "#ask the user to gues the number and print a message based on whether they get it right or not\n",
    "import random\n",
    "user=eval(input(\"enter a number:\"))\n",
    "num=random.randint(1,10)\n",
    "if user==random.randint:\n",
    "    print(\"you guess the number:\")\n",
    "else:\n",
    "    print(\"you dont guess the number:\")"
   ]
  },
  {
   "cell_type": "code",
   "execution_count": 68,
   "id": "f3f5a972",
   "metadata": {},
   "outputs": [
    {
     "name": "stdout",
     "output_type": "stream",
     "text": [
      "Enter number of items: 4\n",
      "Total Cost = 480\n"
     ]
    }
   ],
   "source": [
    "#A store charges $12 per item if you buy less than 10 items\n",
    "#if you buy between 10 and 99 items, the cost is $10 per item\n",
    "#if you buy 100 or more items, the cost is $7 per item\n",
    "#write a program that asks the user how many items they are buying and prints the total cost \n",
    "n = int(input(\"Enter number of items: \"))\n",
    "cost = 0\n",
    "if n >= 100 :\n",
    "    cost = n * 70\n",
    "elif n >= 10 :\n",
    "    cost = n * 100\n",
    "else :\n",
    "    cost = n * 120\n",
    "\n",
    "print(\"Total Cost =\", cost)\n"
   ]
  },
  {
   "cell_type": "code",
   "execution_count": 67,
   "id": "921f4f31",
   "metadata": {},
   "outputs": [
    {
     "name": "stdout",
     "output_type": "stream",
     "text": [
      "enter a first number:7\n",
      "enter a second number:4\n",
      "not close:\n"
     ]
    }
   ],
   "source": [
    "#write a program that asks the user for two numbers amd print close if the numbers are within.001 of each other \n",
    "#not close otherwise\n",
    "num1=eval(input(\"enter a first number:\"))\n",
    "num2=eval(input(\"enter a second number:\"))\n",
    "if (num1-num2)<=0.001:\n",
    "    print(\"close:\")\n",
    "else:\n",
    "    print(\"not close:\")"
   ]
  },
  {
   "cell_type": "code",
   "execution_count": 69,
   "id": "4c7515bf",
   "metadata": {},
   "outputs": [
    {
     "name": "stdout",
     "output_type": "stream",
     "text": [
      "Enter year: 2002\n",
      "2002 is not a Leap Year\n"
     ]
    }
   ],
   "source": [
    "#a year is a leap year if it is divisible by 4\n",
    "#except that years divisible by 100 are not leap years unless they are also divisibleby 400\n",
    "#write a program that asks the user for a year and prints out whether it is leap year or not\n",
    "year = int(input(\"Enter year: \"))\n",
    "if year % 400 == 0 :\n",
    "    print(year, \"is a Leap Year\")\n",
    "elif year % 100 == 0 :\n",
    "    print(year, \"is not a Leap Year\")\n",
    "elif year % 4 == 0 :\n",
    "    print(year, \"is a Leap Year\")\n",
    "else :\n",
    "    print(year, \"is not a Leap Year\")\n",
    "\n"
   ]
  },
  {
   "cell_type": "code",
   "execution_count": 70,
   "id": "2145e929",
   "metadata": {},
   "outputs": [
    {
     "name": "stdout",
     "output_type": "stream",
     "text": [
      "Enter an integer:7\n",
      "The divisors of the number are:\n",
      "1\n",
      "7\n"
     ]
    }
   ],
   "source": [
    "#write a program that asks the user to enter a number and prints out all the divisors of that number.\n",
    "#====>the %operator i used to tell if a number is didvisible by something\n",
    "n=int(input(\"Enter an integer:\"))\n",
    "print(\"The divisors of the number are:\")\n",
    "for i in range(1,n+1):\n",
    "    if(n%i==0):\n",
    "        print(i)\n"
   ]
  },
  {
   "cell_type": "code",
   "execution_count": 71,
   "id": "9252537e",
   "metadata": {},
   "outputs": [
    {
     "name": "stdout",
     "output_type": "stream",
     "text": [
      "Enter hour between 1-12 : 7\n",
      "How many hours ahead : 4\n",
      "Time at that time would be :  11 O'clock\n"
     ]
    }
   ],
   "source": [
    "#write a program that asks the user for an hour between 1 and 12, asks them to enter am or pm, \n",
    "#and asks them how many hours into the future they want to go\n",
    "#print out what the hour will be that many hours into the future, priting am or pm as appropriate \n",
    "#an example is shown below\n",
    "#enter hour:8\n",
    "#am(1) or pm(2)?1\n",
    "#how many hours ahead?\n",
    "#new hour :1pm\n",
    "hr = int(input(\"Enter hour between 1-12 : \"))\n",
    "n = int(input(\"How many hours ahead : \"))\n",
    "s = hr + n\n",
    "if s > 12:\n",
    "    s -= 12\n",
    "\n",
    "print(\"Time at that time would be : \", s, \"O'clock\")\n"
   ]
  }
 ],
 "metadata": {
  "kernelspec": {
   "display_name": "Python 3 (ipykernel)",
   "language": "python",
   "name": "python3"
  },
  "language_info": {
   "codemirror_mode": {
    "name": "ipython",
    "version": 3
   },
   "file_extension": ".py",
   "mimetype": "text/x-python",
   "name": "python",
   "nbconvert_exporter": "python",
   "pygments_lexer": "ipython3",
   "version": "3.11.5"
  }
 },
 "nbformat": 4,
 "nbformat_minor": 5
}
