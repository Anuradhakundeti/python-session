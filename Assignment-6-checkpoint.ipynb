{
 "cells": [
  {
   "cell_type": "code",
   "execution_count": 3,
   "id": "c819d34e",
   "metadata": {},
   "outputs": [
    {
     "name": "stdout",
     "output_type": "stream",
     "text": [
      "Enter a string: python\n",
      "(a) Total number of characters: 6\n",
      "(b) String repeated 10 times: pythonpythonpythonpythonpythonpythonpythonpythonpythonpython\n",
      "(c) First character: p\n",
      "(d) First three characters: pyt\n",
      "(e) Last three characters: hon\n",
      "(f) String backwards: nohtyp\n",
      "(g) The string is not long enough\n",
      "(h) String with first and last characters removed: ytho\n",
      "(i) String in all caps: PYTHON\n",
      "(j) String with every 'a' replaced with 'e': python\n"
     ]
    }
   ],
   "source": [
    "#1. Write a program that asks the user to enter a string. The program should then print the following:\n",
    "#(a) The total number of characters in the string\n",
    "#(b) The string repeated 10 times\n",
    "#(c) The first character of the string (remember that string indices start at 0\n",
    "#(d) The first three characters of the string\n",
    "#(e) The last three characters of the string\n",
    "#(f) The string backwards\n",
    "#(g) The seventh character of the string if the string is long enough and a message otherwise\n",
    "#(h) The string with its first and last characters removed\n",
    "#(i) The string in all caps\n",
    "#(j) The string with every a replaced with an e\n",
    "# Get input from the user\n",
    "user_input = input(\"Enter a string: \")\n",
    "print(\"(a) Total number of characters:\", len(user_input))\n",
    "print(\"(b) String repeated 10 times:\", user_input * 10)\n",
    "print(\"(c) First character:\", user_input[0])\n",
    "print(\"(d) First three characters:\", user_input[:3])\n",
    "print(\"(e) Last three characters:\", user_input[-3:])\n",
    "print(\"(f) String backwards:\", user_input[::-1])\n",
    "if len(user_input) >= 7:\n",
    "    print(\"(g) Seventh character:\", user_input[6])\n",
    "else:\n",
    "    print(\"(g) The string is not long enough\")\n",
    "    print(\"(h) String with first and last characters removed:\", user_input[1:-1])\n",
    "    print(\"(i) String in all caps:\", user_input.upper())\n",
    "    print(\"(j) String with every 'a' replaced with 'e':\", user_input.replace('a', 'e'))"
   ]
  },
  {
   "cell_type": "code",
   "execution_count": 11,
   "id": "8e6b8bfc",
   "metadata": {},
   "outputs": [
    {
     "name": "stdout",
     "output_type": "stream",
     "text": [
      "Enter a string: python\n",
      "Estimated number of words 1\n"
     ]
    }
   ],
   "source": [
    "#2. A simple way to estimate the number of words in a string is to count the number of spaces in the string\n",
    "# Write a program that asks the user for a string and returns an estimate of how many words are in the string\n",
    "#Tip: You need to count the number of words using spaces\n",
    "# Get input from the user\n",
    "user_input = input(\"Enter a string: \")\n",
    "words = user_input.split()\n",
    "num_words = len(words)\n",
    "print(\"Estimated number of words\",num_words)"
   ]
  },
  {
   "cell_type": "code",
   "execution_count": 1,
   "id": "9deef270",
   "metadata": {},
   "outputs": [
    {
     "name": "stdout",
     "output_type": "stream",
     "text": [
      "Enter a word: Anusha\n",
      "The word contains vowels.\n"
     ]
    }
   ],
   "source": [
    "#3.Write a program that asks the user to enter a word and prints out whether that word contains any vowels\n",
    "def has_vowels(word):\n",
    "    vowels = \"aeiouAEIOU\"\n",
    "    for char in word:\n",
    "        if char in vowels:\n",
    "            return True\n",
    "    return False\n",
    "\n",
    "def main():\n",
    "    user_input = input(\"Enter a word: \")\n",
    "    \n",
    "    if has_vowels(user_input):\n",
    "        print(\"The word contains vowels.\")\n",
    "    else:\n",
    "        print(\"The word does not contain any vowels.\")\n",
    "\n",
    "main()"
   ]
  },
  {
   "cell_type": "code",
   "execution_count": 2,
   "id": "aa43c674",
   "metadata": {},
   "outputs": [
    {
     "name": "stdout",
     "output_type": "stream",
     "text": [
      "Enter a word: Anusha\n",
      "Unique vowels in the word: A, a, u\n"
     ]
    }
   ],
   "source": [
    "#4. Improvise the above code by unique vowels\n",
    "def unique_vowels(word):\n",
    "    vowels = \"aeiouAEIOU\"\n",
    "    unique_vowels_set = set()\n",
    "\n",
    "    for char in word:\n",
    "        if char in vowels:\n",
    "            unique_vowels_set.add(char)\n",
    "\n",
    "    return unique_vowels_set\n",
    "\n",
    "def main():\n",
    "    user_input = input(\"Enter a word: \")\n",
    "    \n",
    "    result = unique_vowels(user_input)\n",
    "\n",
    "    if result:\n",
    "        print(\"Unique vowels in the word:\", ', '.join(result))\n",
    "    else:\n",
    "        print(\"The word does not contain any vowels.\")\n",
    "\n",
    "main()"
   ]
  },
  {
   "cell_type": "code",
   "execution_count": 3,
   "id": "5a896e90",
   "metadata": {},
   "outputs": [
    {
     "name": "stdout",
     "output_type": "stream",
     "text": [
      "Enter a string: Apple\n",
      "Modified string: A*ple!!!\n"
     ]
    }
   ],
   "source": [
    "#5. Write a program that asks the user to enter a string. The program should create a new string\n",
    "#called new_string from the user’s string such that the second character is changed to an asterisk and\n",
    "#three exclamation points are attached to the end of the string. Finally, print new_string.\n",
    "def modify_string(user_string):\n",
    "    if len(user_string) >= 2:\n",
    "        new_string = user_string[0] + '*' + user_string[2:]\n",
    "        new_string += '!!!'\n",
    "        return new_string\n",
    "    else:\n",
    "        return \"Please enter a string with at least two characters.\"\n",
    "\n",
    "def main():\n",
    "    user_input = input(\"Enter a string: \")\n",
    "    result = modify_string(user_input)\n",
    "    print(\"Modified string:\", result)\n",
    "\n",
    "main()"
   ]
  },
  {
   "cell_type": "code",
   "execution_count": 4,
   "id": "0ffd0e42",
   "metadata": {},
   "outputs": [
    {
     "name": "stdout",
     "output_type": "stream",
     "text": [
      "Enter a word: Fruits\n",
      "The word is not a palindrome.\n"
     ]
    }
   ],
   "source": [
    "#6. Write a program that asks the user to enter a word and determines whether the word is a\n",
    "#palindrome or not. A palindrome is a word that reads the same backwards as forwards\n",
    "def is_palindrome(word):\n",
    "    word = word.lower()\n",
    "    return word == word[::-1]\n",
    "def main():\n",
    "    user_input = input(\"Enter a word: \")\n",
    "    if is_palindrome(user_input):\n",
    "        print(\"The word is a palindrome.\")\n",
    "    else:\n",
    "        print(\"The word is not a palindrome.\")\n",
    "\n",
    "main()"
   ]
  },
  {
   "cell_type": "code",
   "execution_count": 5,
   "id": "2353531a",
   "metadata": {},
   "outputs": [
    {
     "name": "stdout",
     "output_type": "stream",
     "text": [
      "Enter a word: Malayalam\n",
      "The word is a palindrome.\n"
     ]
    }
   ],
   "source": [
    "def is_palindrome(word):\n",
    "    word = word.lower()\n",
    "    return word == word[::-1]\n",
    "def main():\n",
    "    user_input = input(\"Enter a word: \")\n",
    "    if is_palindrome(user_input):\n",
    "        print(\"The word is a palindrome.\")\n",
    "    else:\n",
    "        print(\"The word is not a palindrome.\")\n",
    "\n",
    "main()"
   ]
  },
  {
   "cell_type": "code",
   "execution_count": 6,
   "id": "09e6ef9f",
   "metadata": {},
   "outputs": [
    {
     "name": "stdout",
     "output_type": "stream",
     "text": [
      "How many email addresses will you enter? 2\n",
      "Enter email address 1: k.anu7422@gmail.com\n",
      "Enter email address 2: ravikundeti123@gmail.com\n",
      "All entered email addresses are student addresses.\n"
     ]
    }
   ],
   "source": [
    "#7. At a certain school, student email addresses end with @student.college.edu, while professor\n",
    "#email addresses end with @prof.college.edu. Write a program that first asks the user how many\n",
    "#email addresses they will be entering, and then has the user enter those addresses. After all the\n",
    "#email addresses are entered, the program should print out a message indicating either that all the\n",
    "#addresses are student addresses or that there were some professor addresses entered.\n",
    "def classify_emails(emails):\n",
    "    all_student_emails = True\n",
    "    for email in emails:\n",
    "        if email.lower().endswith(\"@prof.college.edu\"):\n",
    "            all_student_emails = False\n",
    "            break\n",
    "    \n",
    "    return all_student_emails\n",
    "\n",
    "def main():\n",
    "    num_emails = int(input(\"How many email addresses will you enter? \"))\n",
    "    email_list = []\n",
    "    for i in range(num_emails):\n",
    "        email = input(f\"Enter email address {i + 1}: \")\n",
    "        email_list.append(email)\n",
    "    all_student_emails = classify_emails(email_list)\n",
    "    if all_student_emails:\n",
    "        print(\"All entered email addresses are student addresses.\")\n",
    "    else:\n",
    "        print(\"Some entered email addresses are professor addresses.\")\n",
    "\n",
    "main()"
   ]
  },
  {
   "cell_type": "code",
   "execution_count": 7,
   "id": "fdb9ae04",
   "metadata": {},
   "outputs": [
    {
     "name": "stdout",
     "output_type": "stream",
     "text": [
      "Enter a string: Student\n",
      "SS\n",
      "tt\n",
      "uu\n",
      "dd\n",
      "ee\n",
      "nn\n",
      "tt\n"
     ]
    }
   ],
   "source": [
    "#8. Write a program that asks the user to enter a string, then prints out each letter of the string\n",
    "#doubled and on a separate line. For instance,\n",
    "def double_letters(input_string):\n",
    "    for char in input_string:\n",
    "        print(char * 2)\n",
    "\n",
    "def main():\n",
    "    user_input = input(\"Enter a string: \")\n",
    "    double_letters(user_input)\n",
    "\n",
    "main()"
   ]
  },
  {
   "cell_type": "code",
   "execution_count": 9,
   "id": "27f86f39",
   "metadata": {},
   "outputs": [
    {
     "name": "stdout",
     "output_type": "stream",
     "text": [
      "Enter a word containing the letter 'a': Anu\n",
      "A\n",
      "nu\n"
     ]
    }
   ],
   "source": [
    "#9.Write a program that asks the user to enter a word that contains the letter a. The program should\n",
    "#then print the following two lines: On the first line should be the part of the string up to and\n",
    "#including the the first a, and on the second line should be the rest of the string.\n",
    "def split_string_at_first_a(word):\n",
    "    index_of_a = word.lower().find('a')\n",
    "    if index_of_a != -1:\n",
    "        print(word[:index_of_a + 1])\n",
    "        print(word[index_of_a + 1:])\n",
    "    else:\n",
    "        print(\"The entered word does not contain the letter 'a'.\")\n",
    "\n",
    "def main():\n",
    "    user_input = input(\"Enter a word containing the letter 'a': \")\n",
    "    split_string_at_first_a(user_input)\n",
    "\n",
    "main()"
   ]
  },
  {
   "cell_type": "code",
   "execution_count": 10,
   "id": "0184ef28",
   "metadata": {},
   "outputs": [
    {
     "name": "stdout",
     "output_type": "stream",
     "text": [
      "Enter a word: Rainbow\n",
      "Modified word: RaInBoW\n"
     ]
    }
   ],
   "source": [
    "#10. Write a program that asks the user to enter a word and then capitalizes every other letter of that word\n",
    "def capitalize_every_other_letter(word):\n",
    "    result = \"\"\n",
    "    for i in range(len(word)):\n",
    "        if i % 2 == 0:\n",
    "            result += word[i].upper()\n",
    "        else:\n",
    "            result += word[i]\n",
    "    return result\n",
    "\n",
    "def main():\n",
    "    user_input = input(\"Enter a word: \")\n",
    "    modified_word = capitalize_every_other_letter(user_input)\n",
    "    print(\"Modified word:\", modified_word)\n",
    "main()"
   ]
  },
  {
   "cell_type": "code",
   "execution_count": 11,
   "id": "e6c4584f",
   "metadata": {},
   "outputs": [
    {
     "name": "stdout",
     "output_type": "stream",
     "text": [
      "Enter the first string: Madam\n",
      "Enter the second string: sir\n",
      "Error: The entered strings are not of the same length.\n"
     ]
    }
   ],
   "source": [
    "#11. Write a program that asks the user to enter two strings of the same length. The program should\n",
    "#then check to see if the strings are of the same length. If they are not, the program should print an\n",
    "#appropriate message and exit. If they are of the same length, the program should alternate the\n",
    "#characters of the two strings. For example.\n",
    "def alternate_strings(str1, str2):\n",
    "    if len(str1) != len(str2):\n",
    "        print(\"Error: The entered strings are not of the same length.\")\n",
    "        return None\n",
    "\n",
    "    result = \"\"\n",
    "    for char1, char2 in zip(str1, str2):\n",
    "        result += char1 + char2\n",
    "\n",
    "    return result\n",
    "\n",
    "def main():\n",
    "    user_input1 = input(\"Enter the first string: \")\n",
    "    user_input2 = input(\"Enter the second string: \")\n",
    "\n",
    "    modified_string = alternate_strings(user_input1, user_input2)\n",
    "\n",
    "    if modified_string is not None:\n",
    "        print(\"Modified string:\", modified_string)\n",
    "main()"
   ]
  },
  {
   "cell_type": "code",
   "execution_count": 12,
   "id": "a5360dd3",
   "metadata": {},
   "outputs": [
    {
     "name": "stdout",
     "output_type": "stream",
     "text": [
      "Enter your name in lowercase: anu\n",
      "Modified name: Anu\n"
     ]
    }
   ],
   "source": [
    "#12. Write a program that asks the user to enter their name in lowercase and then capitalizes the first\n",
    "#letter of each word of their name.\n",
    "def capitalize_first_letter(name):\n",
    "    words = name.split()\n",
    "    capitalized_words = [word.capitalize() for word in words]\n",
    "    result = ' '.join(capitalized_words)\n",
    "    return result\n",
    "\n",
    "def main():\n",
    "    user_input = input(\"Enter your name in lowercase: \")\n",
    "    modified_name = capitalize_first_letter(user_input)\n",
    "    print(\"Modified name:\", modified_name)\n",
    "\n",
    "main()"
   ]
  },
  {
   "cell_type": "code",
   "execution_count": 13,
   "id": "1f5a5062",
   "metadata": {},
   "outputs": [
    {
     "name": "stdout",
     "output_type": "stream",
     "text": [
      "Enter a string: Apple\n",
      "Enter a letter: S\n",
      "The letter 'S' does not appear in the string.\n",
      "Enter a string: Mango\n",
      "Enter a letter: a\n",
      "The letter 'a' appears 1 times in the string.\n",
      "Enter a string: Fruit\n",
      "Enter a letter: u\n",
      "The first occurrence of the letter 'u' is at index 2.\n"
     ]
    }
   ],
   "source": [
    "#13. The goal of this exercise is to see if you can mimic the behavior of the in operator and the count\n",
    "#and index methods using only variables, for loops, and if statements.\n",
    "#(a) Without using the in operator, write a program that asks the user for a string and a letter\n",
    "#and prints out whether or not the letter appears in the string.\n",
    "#(b) Without using the count method, write a program that asks the user for a string and a\n",
    "#letter and counts how many occurrences there are of the letter in the string.\n",
    "#(c) Without using the index method, write a program that asks the user for a string and a\n",
    "#letter and prints out the index of the first occurrence of the letter in the string. If the letter is\n",
    "#not in the string, the program should say so.\n",
    "def letter_in_string(string, letter):\n",
    "    for char in string:\n",
    "        if char == letter:\n",
    "            return True\n",
    "    return False\n",
    "\n",
    "def main_a():\n",
    "    user_input_string = input(\"Enter a string: \")\n",
    "    user_input_letter = input(\"Enter a letter: \")\n",
    "\n",
    "    if letter_in_string(user_input_string, user_input_letter):\n",
    "        print(f\"The letter '{user_input_letter}' appears in the string.\")\n",
    "    else:\n",
    "        print(f\"The letter '{user_input_letter}' does not appear in the string.\")\n",
    "main_a()\n",
    "    \n",
    "##count\n",
    "\n",
    "def count_occurrences(string, letter):\n",
    "    count = 0\n",
    "    for char in string:\n",
    "        if char == letter:\n",
    "            count += 1\n",
    "    return count\n",
    "\n",
    "def main_b():\n",
    "    user_input_string = input(\"Enter a string: \")\n",
    "    user_input_letter = input(\"Enter a letter: \")\n",
    "\n",
    "    occurrences = count_occurrences(user_input_string, user_input_letter)\n",
    "    print(f\"The letter '{user_input_letter}' appears {occurrences} times in the string.\")\n",
    "    \n",
    "main_b()\n",
    "    \n",
    "##index\n",
    "\n",
    "def find_first_occurrence(string, letter):\n",
    "    for i, char in enumerate(string):\n",
    "        if char == letter:\n",
    "            return i\n",
    "    return -1\n",
    "\n",
    "def main_c():\n",
    "    user_input_string = input(\"Enter a string: \")\n",
    "    user_input_letter = input(\"Enter a letter: \")\n",
    "\n",
    "    index = find_first_occurrence(user_input_string, user_input_letter)\n",
    "    if index != -1:\n",
    "        print(f\"The first occurrence of the letter '{user_input_letter}' is at index {index}.\")\n",
    "    else:\n",
    "        print(f\"The letter '{user_input_letter}' is not in the string.\")\n",
    "\n",
    "main_c()"
   ]
  },
  {
   "cell_type": "code",
   "execution_count": 14,
   "id": "510aca81",
   "metadata": {},
   "outputs": [
    {
     "name": "stdout",
     "output_type": "stream",
     "text": [
      "The substring 'world' is present in the original string.\n",
      "The substring 'world' starts at index 7.\n",
      "The substring 'world' starts at index 7.\n"
     ]
    }
   ],
   "source": [
    "#14. Finding a substring within a string\n",
    "def find_substring_using_in(original_string, substring):\n",
    "    if substring in original_string:\n",
    "        print(f\"The substring '{substring}' is present in the original string.\")\n",
    "    else:\n",
    "        print(f\"The substring '{substring}' is not present in the original string.\")\n",
    "original_str = \"Hello, world!\"\n",
    "substring_to_find = \"world\"\n",
    "find_substring_using_in(original_str, substring_to_find)\n",
    "\n",
    "##find()\n",
    "\n",
    "def find_substring_using_find(original_string, substring):\n",
    "    index = original_string.find(substring)\n",
    "    if index != -1:\n",
    "        print(f\"The substring '{substring}' starts at index {index}.\")\n",
    "    else:\n",
    "        print(f\"The substring '{substring}' is not present in the original string.\")\n",
    "original_str = \"Hello, world!\"\n",
    "substring_to_find = \"world\"\n",
    "find_substring_using_find(original_str, substring_to_find)\n",
    "\n",
    "#index()\n",
    "\n",
    "def find_substring_using_index(original_string, substring):\n",
    "    try:\n",
    "        index = original_string.index(substring)\n",
    "        print(f\"The substring '{substring}' starts at index {index}.\")\n",
    "    except ValueError:\n",
    "        print(f\"The substring '{substring}' is not present in the original string.\")\n",
    "original_str = \"Hello, world!\"\n",
    "substring_to_find = \"world\"\n",
    "find_substring_using_index(original_str, substring_to_find)"
   ]
  },
  {
   "cell_type": "code",
   "execution_count": 16,
   "id": "183c0f82",
   "metadata": {},
   "outputs": [
    {
     "name": "stdout",
     "output_type": "stream",
     "text": [
      "Enter a string: Study\n",
      "Modified string: Studying\n"
     ]
    }
   ],
   "source": [
    "#15. Write a Python program to add 'ing' at the end of a given string (length should be at least 3). If the\n",
    "#given string already ends with 'ing' then add 'ly' instead.\n",
    "#If the string length of the given string is less than 3, leave it unchanged.\n",
    "def modify_string(input_str):\n",
    "    if len(input_str) < 3:\n",
    "        return input_str\n",
    "    elif input_str.endswith(\"ing\"):\n",
    "        return input_str + \"ly\"\n",
    "    else:\n",
    "        return input_str + \"ing\"\n",
    "\n",
    "def main():\n",
    "    user_input = input(\"Enter a string: \")\n",
    "    modified_string = modify_string(user_input)\n",
    "    print(\"Modified string:\", modified_string)\n",
    "main()"
   ]
  },
  {
   "cell_type": "code",
   "execution_count": 17,
   "id": "37112bf8",
   "metadata": {},
   "outputs": [
    {
     "name": "stdout",
     "output_type": "stream",
     "text": [
      "Extracted confidence value: 0.8475\n"
     ]
    }
   ],
   "source": [
    "#16. Take the following Python code that stores a string:‘\n",
    "#string = 'X-DSPAM-Confidence: 0.8475'\n",
    "#Extract the portion of the string after the colon character and then use the float function to convert\n",
    "#the extracted string into a floating point number.\n",
    "string = 'X-DSPAM-Confidence: 0.8475'\n",
    "parts = string.split(':')\n",
    "confidence_str = parts[1].strip()\n",
    "confidence_float = float(confidence_str)\n",
    "print(\"Extracted confidence value:\", confidence_float)\n"
   ]
  }
 ],
 "metadata": {
  "kernelspec": {
   "display_name": "Python 3 (ipykernel)",
   "language": "python",
   "name": "python3"
  },
  "language_info": {
   "codemirror_mode": {
    "name": "ipython",
    "version": 3
   },
   "file_extension": ".py",
   "mimetype": "text/x-python",
   "name": "python",
   "nbconvert_exporter": "python",
   "pygments_lexer": "ipython3",
   "version": "3.11.5"
  }
 },
 "nbformat": 4,
 "nbformat_minor": 5
}
