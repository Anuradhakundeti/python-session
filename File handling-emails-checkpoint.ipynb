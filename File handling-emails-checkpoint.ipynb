{
 "cells": [
  {
   "cell_type": "code",
   "execution_count": 1,
   "id": "f41161aa",
   "metadata": {},
   "outputs": [],
   "source": [
    "import os"
   ]
  },
  {
   "cell_type": "code",
   "execution_count": 2,
   "id": "6cdc68f1",
   "metadata": {},
   "outputs": [
    {
     "data": {
      "text/plain": [
       "'C:\\\\Users\\\\kanu7'"
      ]
     },
     "execution_count": 2,
     "metadata": {},
     "output_type": "execute_result"
    }
   ],
   "source": [
    "os.getcwd()"
   ]
  },
  {
   "cell_type": "code",
   "execution_count": 15,
   "id": "7ab07b18",
   "metadata": {},
   "outputs": [],
   "source": [
    "file_path=\"C:\\\\Users\\\\kanu7\\\\Downloads\"\n",
    "file_name=\"emails\"\n",
    "extension=\".txt\""
   ]
  },
  {
   "cell_type": "code",
   "execution_count": 16,
   "id": "7953d86b",
   "metadata": {},
   "outputs": [
    {
     "data": {
      "text/plain": [
       "'C:\\\\Users\\\\kanu7\\\\Downloadsemails.txt'"
      ]
     },
     "execution_count": 16,
     "metadata": {},
     "output_type": "execute_result"
    }
   ],
   "source": [
    "file_location+file_name+extension"
   ]
  },
  {
   "cell_type": "code",
   "execution_count": 19,
   "id": "6a02ac88",
   "metadata": {},
   "outputs": [
    {
     "name": "stdout",
     "output_type": "stream",
     "text": [
      "﻿Santhanam, Jayendhran <jayendhran.ms@accenture.com>; Bhattacharjee, Sankalan <s.t.bhattacharjee@accenture.com>; Bansal, Vaishnavi <vaishnavi.a.bansal@accenture.com>; Chandra Shekhar, Pavuluri <p.a.chandra.shekhar@accenture.com>; J Doshi, Hiren <hiren.j.doshi@accenture.com>; Shimoga Prakash, Jeevan <j.shimoga.prakash@accenture.com>; Akhouri, Shreyash <shreyash.akhouri@accenture.com>; Nath, Nupanga <nupanga.nath@accenture.com>; Ponna, Ramesh <r.ponna@accenture.com>; Singhal, Aditya <aditya.d.singhal@accenture.com>; Gorai, Sumit <sumit.gorai@accenture.com>; Valdez, Mariele Dyan Francely <mariele.dyan.valdez@accenture.com>; Cancel, Abigail Kyle <abigail.kyle.cancel@accenture.com>; BONDALAKUNTA, POOJITHA <p.bondalakunta@accenture.com>; priyanka uppala, sai <sai.priyanka.uppala@accenture.com>; Nitin SHINDE, NIKHIL <nikhil.nitin.shinde@accenture.com>; Chidre, Swapna <swapna.chidre@accenture.com>; Sahu, Swastik <s.satyapragyan.sahu@accenture.com>; Sikka, Ankit <ankit.sikka@accenture.com>; Dara, Sai Madhukar <sai.madhukar.dara@accenture.com>; Pattanshetti, Sampreet <s.pattanshetti@accenture.com>; Sharma, Ayush <ayush.ad.sharma@accenture.com>; Latorena, Zairous Jay <zairous.jay.latorena@accenture.com>; Abhimanyu Pradhan, Roshankumar <r.abhimanyu.pradhan@accenture.com>; Jaiswal, Lehar <lehar.jaiswal@accenture.com>; Gupta, Retik <retik.gupta@accenture.com>; Satti, Phanindra Reddy <phanindra.r.satti@accenture.com>; Kumar, Manish <manish.dw.kumar@accenture.com>; Balakrishnan, Devi Priya <devi.p.balakrishnan@accenture.com>; M S, Roshni Priya <roshni.priya.m.s@accenture.com>; Cheerala, Vanaja <vanaja.cheerala@accenture.com>; G D, Chandrashekhar <chandrashekhar.g.d@accenture.com>; Nikhil Reddy, Madithati <m.nikhil.reddy@accenture.com>; Santos, Jeroshelle V. <jeroshelle.v.santos@accenture.com>; Milan, Gerald John <gerald.john.milan@accenture.com>; Gupta, Vivek <vivek.u.gupta@accenture.com>; Mandal, Sumit <s.sunilkumar.mandal@accenture.com>; Prakash Shukla, Ashok <ashok.prakash.shukla@accenture.com>; Naganathan, Siva <sivakumar.naganathan@accenture.com>; GAHLOT, NIKHIL <nikhil.gahlot@accenture.com>; Kanjilal, Sourav <s.a.kanti.kanjilal@accenture.com>; Nallagoni, Omkar <omkar.nallagoni@accenture.com>; Sahajan, Sandra <sandra.sahajan@accenture.com>; Nelluri, Chaitanya <chaitanya.nelluri@accenture.com>\n"
     ]
    }
   ],
   "source": [
    "file_path=\"C:\\\\Users\\\\kanu7\\\\Downloads\\\\emails.txt\"\n",
    "file=open(file_path,encoding=\"utf-8\")\n",
    "print(file.read())"
   ]
  },
  {
   "cell_type": "code",
   "execution_count": 21,
   "id": "b9828142",
   "metadata": {},
   "outputs": [
    {
     "name": "stdout",
     "output_type": "stream",
     "text": [
      "0 ['\\ufeffSanthanam,', 'Jayendhran', '<jayendhran.ms@accenture.com>;', 'Bhattacharjee,', 'Sankalan', '<s.t.bhattacharjee@accenture.com>;', 'Bansal,', 'Vaishnavi', '<vaishnavi.a.bansal@accenture.com>;', 'Chandra', 'Shekhar,', 'Pavuluri', '<p.a.chandra.shekhar@accenture.com>;', 'J', 'Doshi,', 'Hiren', '<hiren.j.doshi@accenture.com>;', 'Shimoga', 'Prakash,', 'Jeevan', '<j.shimoga.prakash@accenture.com>;', 'Akhouri,', 'Shreyash', '<shreyash.akhouri@accenture.com>;', 'Nath,', 'Nupanga', '<nupanga.nath@accenture.com>;', 'Ponna,', 'Ramesh', '<r.ponna@accenture.com>;', 'Singhal,', 'Aditya', '<aditya.d.singhal@accenture.com>;', 'Gorai,', 'Sumit', '<sumit.gorai@accenture.com>;', 'Valdez,', 'Mariele', 'Dyan', 'Francely', '<mariele.dyan.valdez@accenture.com>;', 'Cancel,', 'Abigail', 'Kyle', '<abigail.kyle.cancel@accenture.com>;', 'BONDALAKUNTA,', 'POOJITHA', '<p.bondalakunta@accenture.com>;', 'priyanka', 'uppala,', 'sai', '<sai.priyanka.uppala@accenture.com>;', 'Nitin', 'SHINDE,', 'NIKHIL', '<nikhil.nitin.shinde@accenture.com>;', 'Chidre,', 'Swapna', '<swapna.chidre@accenture.com>;', 'Sahu,', 'Swastik', '<s.satyapragyan.sahu@accenture.com>;', 'Sikka,', 'Ankit', '<ankit.sikka@accenture.com>;', 'Dara,', 'Sai', 'Madhukar', '<sai.madhukar.dara@accenture.com>;', 'Pattanshetti,', 'Sampreet', '<s.pattanshetti@accenture.com>;', 'Sharma,', 'Ayush', '<ayush.ad.sharma@accenture.com>;', 'Latorena,', 'Zairous', 'Jay', '<zairous.jay.latorena@accenture.com>;', 'Abhimanyu', 'Pradhan,', 'Roshankumar', '<r.abhimanyu.pradhan@accenture.com>;', 'Jaiswal,', 'Lehar', '<lehar.jaiswal@accenture.com>;', 'Gupta,', 'Retik', '<retik.gupta@accenture.com>;', 'Satti,', 'Phanindra', 'Reddy', '<phanindra.r.satti@accenture.com>;', 'Kumar,', 'Manish', '<manish.dw.kumar@accenture.com>;', 'Balakrishnan,', 'Devi', 'Priya', '<devi.p.balakrishnan@accenture.com>;', 'M', 'S,', 'Roshni', 'Priya', '<roshni.priya.m.s@accenture.com>;', 'Cheerala,', 'Vanaja', '<vanaja.cheerala@accenture.com>;', 'G', 'D,', 'Chandrashekhar', '<chandrashekhar.g.d@accenture.com>;', 'Nikhil', 'Reddy,', 'Madithati', '<m.nikhil.reddy@accenture.com>;', 'Santos,', 'Jeroshelle', 'V.', '<jeroshelle.v.santos@accenture.com>;', 'Milan,', 'Gerald', 'John', '<gerald.john.milan@accenture.com>;', 'Gupta,', 'Vivek', '<vivek.u.gupta@accenture.com>;', 'Mandal,', 'Sumit', '<s.sunilkumar.mandal@accenture.com>;', 'Prakash', 'Shukla,', 'Ashok', '<ashok.prakash.shukla@accenture.com>;', 'Naganathan,', 'Siva', '<sivakumar.naganathan@accenture.com>;', 'GAHLOT,', 'NIKHIL', '<nikhil.gahlot@accenture.com>;', 'Kanjilal,', 'Sourav', '<s.a.kanti.kanjilal@accenture.com>;', 'Nallagoni,', 'Omkar', '<omkar.nallagoni@accenture.com>;', 'Sahajan,', 'Sandra', '<sandra.sahajan@accenture.com>;', 'Nelluri,', 'Chaitanya', '<chaitanya.nelluri@accenture.com>']\n"
     ]
    }
   ],
   "source": [
    "file_path=\"C:\\\\Users\\\\kanu7\\\\Downloads\\\\emails.txt\"\n",
    "file=open(file_path,encoding=\"utf-8\")\n",
    "for i,j in enumerate(file):\n",
    "          print(i,j.split())\n",
    "        "
   ]
  },
  {
   "cell_type": "code",
   "execution_count": 22,
   "id": "8297dc67",
   "metadata": {},
   "outputs": [
    {
     "data": {
      "text/plain": [
       "['Santhanam', ' Jayendhran <jayendhran.ms@accenture.com>']"
      ]
     },
     "execution_count": 22,
     "metadata": {},
     "output_type": "execute_result"
    }
   ],
   "source": [
    "str1=\"Santhanam, Jayendhran <jayendhran.ms@accenture.com>\"\n",
    "str1.split(',')"
   ]
  },
  {
   "cell_type": "code",
   "execution_count": 44,
   "id": "5ce13df6",
   "metadata": {},
   "outputs": [
    {
     "name": "stdout",
     "output_type": "stream",
     "text": [
      "f_name: Santhana\n",
      "s_name:  Jayendhran\n",
      "email: , Jayendhran <jayendhran.ms@accenture.com\n",
      "company: accenture\n"
     ]
    }
   ],
   "source": [
    "print(\"f_name:\",str1[:str1.find(',')-1])\n",
    "print(\"s_name:\",str1[str1.find(',')+1:str1.find('j')-2])\n",
    "print(\"email:\",str1[str1.find(',',str1.find('')+2):str1.find('o')+2])\n",
    "print(\"company:\",str1[str1.find('@')+1:str1.find('.',str1.find('.')+1)])"
   ]
  },
  {
   "cell_type": "code",
   "execution_count": null,
   "id": "27b6c6eb",
   "metadata": {},
   "outputs": [],
   "source": [
    "print"
   ]
  }
 ],
 "metadata": {
  "kernelspec": {
   "display_name": "Python 3 (ipykernel)",
   "language": "python",
   "name": "python3"
  },
  "language_info": {
   "codemirror_mode": {
    "name": "ipython",
    "version": 3
   },
   "file_extension": ".py",
   "mimetype": "text/x-python",
   "name": "python",
   "nbconvert_exporter": "python",
   "pygments_lexer": "ipython3",
   "version": "3.11.5"
  }
 },
 "nbformat": 4,
 "nbformat_minor": 5
}
