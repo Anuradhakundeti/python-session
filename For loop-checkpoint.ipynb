{
 "cells": [
  {
   "cell_type": "markdown",
   "id": "a4b30857",
   "metadata": {},
   "source": [
    "- Basic syntax\n",
    "- Conditional statements\n",
    "- try-exception\n",
    "- functions\n",
    "- loops\n",
    "    *for\n",
    "    *while\n",
    "    \n",
    "    \n",
    "**FOR LOOP**\n",
    "        - you will be in the loop\n",
    "        - when you will enter into the loop\n",
    "        - how much time you will stay in the loop\n",
    "        - how you will come out of the from loop"
   ]
  },
  {
   "cell_type": "markdown",
   "id": "d3b79ac8",
   "metadata": {},
   "source": [
    "#===========Basic python=======\n",
    "-basic syntax\n",
    "-data types\n",
    "-random/math\n",
    "-eval input and sep \n",
    "-try exception\n",
    "-for\n",
    "-while\n",
    "-functions\n"
   ]
  },
  {
   "cell_type": "markdown",
   "id": "0ef26e00",
   "metadata": {},
   "source": [
    "* Initialization\n",
    "* Increment/decrement\n",
    "* condition to stop the loop"
   ]
  },
  {
   "cell_type": "code",
   "execution_count": null,
   "id": "90358bbd",
   "metadata": {},
   "outputs": [],
   "source": [
    "# i want to print first 10 numbers\n",
    "# initial point: 0\n",
    "# increment\n",
    "# cond=10"
   ]
  },
  {
   "cell_type": "markdown",
   "id": "536ca7c6",
   "metadata": {},
   "source": [
    "**pattern-1\n",
    "\n",
    "    for i in range(stop):\n",
    "    \n",
    "        - in the bracket if we have only single value that is consider as stop value\n",
    "        - the default star value is 0\n",
    "        - python index always starts with :0\n",
    "        - if direction sign is not mentioned : increment(+) sign\n",
    "        - if direction is positive side then end=stop-1"
   ]
  },
  {
   "cell_type": "code",
   "execution_count": 1,
   "id": "111c3196",
   "metadata": {},
   "outputs": [
    {
     "name": "stdout",
     "output_type": "stream",
     "text": [
      "0\n",
      "1\n",
      "2\n",
      "3\n",
      "4\n",
      "5\n",
      "6\n",
      "7\n",
      "8\n",
      "9\n"
     ]
    }
   ],
   "source": [
    "for i in range(10):\n",
    "    print(i)\n",
    "            \n",
    "#start=0\n",
    "#dir=+\n",
    "#end=stop"
   ]
  },
  {
   "cell_type": "code",
   "execution_count": 2,
   "id": "96ae8e5e",
   "metadata": {},
   "outputs": [
    {
     "name": "stdout",
     "output_type": "stream",
     "text": [
      "0\n",
      "1\n",
      "2\n",
      "3\n",
      "4\n",
      "5\n",
      "6\n",
      "7\n",
      "8\n",
      "9\n",
      "10\n",
      "11\n",
      "12\n",
      "13\n",
      "14\n",
      "15\n",
      "16\n",
      "17\n",
      "18\n",
      "19\n"
     ]
    }
   ],
   "source": [
    "for i in range(20):\n",
    "    print(i)"
   ]
  },
  {
   "cell_type": "code",
   "execution_count": 3,
   "id": "c267f2b4",
   "metadata": {},
   "outputs": [
    {
     "name": "stdout",
     "output_type": "stream",
     "text": [
      "0\n",
      "1\n",
      "2\n"
     ]
    }
   ],
   "source": [
    "print(0)\n",
    "print(1)\n",
    "print(2)\n",
    "\n",
    "#generalised: print(i)"
   ]
  },
  {
   "cell_type": "code",
   "execution_count": null,
   "id": "cf6e73e0",
   "metadata": {},
   "outputs": [],
   "source": [
    "- intialization\n",
    "- increment/decrement\n",
    "- condition\n",
    "\n",
    "for i in range(20)"
   ]
  },
  {
   "cell_type": "code",
   "execution_count": 4,
   "id": "28a47010",
   "metadata": {},
   "outputs": [
    {
     "name": "stdout",
     "output_type": "stream",
     "text": [
      "0 1 2\n"
     ]
    }
   ],
   "source": [
    "print(0,end=' ')\n",
    "print(1,end=' ')\n",
    "print(2)"
   ]
  },
  {
   "cell_type": "code",
   "execution_count": 7,
   "id": "380f6d75",
   "metadata": {},
   "outputs": [
    {
     "name": "stdout",
     "output_type": "stream",
     "text": [
      "0 1 2 3 4 5 6 7 8 9 10 11 12 13 14 15 16 17 18 19 "
     ]
    }
   ],
   "source": [
    "for i in range(20):\n",
    "    print(i,end=' ')"
   ]
  },
  {
   "cell_type": "markdown",
   "id": "141f40d8",
   "metadata": {},
   "source": [
    "**pattern-2\n",
    "   \n",
    "   for i in range(start,stop)\n",
    " \n",
    "    . start: start of the loop, initial point\n",
    "    . direction sign not mentioned:+ve direction i.e increment\n",
    "    . end= stop-1"
   ]
  },
  {
   "cell_type": "code",
   "execution_count": 8,
   "id": "b97b3579",
   "metadata": {},
   "outputs": [
    {
     "name": "stdout",
     "output_type": "stream",
     "text": [
      "10 11 12 13 14 15 16 17 18 19 "
     ]
    }
   ],
   "source": [
    "for i in range(10,20):\n",
    "    print(i,end=' ')"
   ]
  },
  {
   "cell_type": "markdown",
   "id": "80059e39",
   "metadata": {},
   "source": [
    "**pattern-3\n",
    "\n",
    "   for i in range(start,stop,step)\n",
    "       -start: start of the loop, initial point\n",
    "       -direction: what is sign of step value, that is the direction\n",
    "                  - direction will not decide by start and stop value\n",
    "                  - direction will provided by step value\n",
    "       - if step size is positive direction\n",
    "                   end=stop-1\n",
    "        -if step size is negative direction \n",
    "                   end=stop+1"
   ]
  },
  {
   "cell_type": "code",
   "execution_count": 9,
   "id": "48ca3239",
   "metadata": {},
   "outputs": [
    {
     "name": "stdout",
     "output_type": "stream",
     "text": [
      "2 4 6 8 10 12 14 16 18 20 22 24 26 28 "
     ]
    }
   ],
   "source": [
    "for i in range(2,30,2):\n",
    "    print(i,end=' ')\n",
    "    \n",
    "    \n",
    "# start=2\n",
    "# direction: step+2\n",
    "# end=stop-1=20-1=19\n",
    "\n",
    "# 2 4 6 8 10 12 14 16 18 20 22 24 26 28"
   ]
  },
  {
   "cell_type": "code",
   "execution_count": 10,
   "id": "f2c428d9",
   "metadata": {},
   "outputs": [
    {
     "name": "stdout",
     "output_type": "stream",
     "text": [
      "-2 -4 -6 -8 -10 -12 -14 -16 -18 -20 -22 -24 -26 -28 "
     ]
    }
   ],
   "source": [
    "for i in range(-2,-30,-2):\n",
    "    print(i,end=' ')\n",
    "  \n",
    "# start=2\n",
    "# direction: step+2\n",
    "# end=stop+1=20+1=19"
   ]
  },
  {
   "cell_type": "code",
   "execution_count": 12,
   "id": "72b8750b",
   "metadata": {},
   "outputs": [],
   "source": [
    "for i in range(8,20,-2):\n",
    "    print(i)\n",
    "    \n",
    "#start=8\n",
    "#direction=step=-2:neg"
   ]
  },
  {
   "cell_type": "code",
   "execution_count": null,
   "id": "b93c4475",
   "metadata": {},
   "outputs": [],
   "source": [
    "range(3,25,3)\n",
    "range(3,25,-3)\n",
    "range(3,-25,3)\n",
    "range(3,-25,-3)\n",
    "range(-3,25,3)\n",
    "range(-3,-25,3)\n",
    "range(-3,25,-3)\n",
    "range(-3,-25,-3)"
   ]
  },
  {
   "cell_type": "code",
   "execution_count": 14,
   "id": "c4f62809",
   "metadata": {},
   "outputs": [
    {
     "name": "stdout",
     "output_type": "stream",
     "text": [
      "3 6 9 12 15 18 21 24 "
     ]
    }
   ],
   "source": [
    "for i in range(3,25,3):\n",
    "    print(i,end=' ')\n",
    "    \n",
    "    \n",
    "#possible"
   ]
  },
  {
   "cell_type": "code",
   "execution_count": 15,
   "id": "65e20494",
   "metadata": {},
   "outputs": [],
   "source": [
    "for i in range(3,25,-3):\n",
    "    print(i,end=' ')\n",
    "    \n",
    "#not possible"
   ]
  },
  {
   "cell_type": "code",
   "execution_count": 16,
   "id": "f97ccb5a",
   "metadata": {},
   "outputs": [],
   "source": [
    "for i in range(3,-25,3):\n",
    "    print(i,end=' ')\n",
    "    \n",
    "#not possible"
   ]
  },
  {
   "cell_type": "code",
   "execution_count": 17,
   "id": "4ca6b711",
   "metadata": {},
   "outputs": [
    {
     "name": "stdout",
     "output_type": "stream",
     "text": [
      "3 0 -3 -6 -9 -12 -15 -18 -21 -24 "
     ]
    }
   ],
   "source": [
    "for i in range(3,-25,-3):\n",
    "    print(i,end=' ')\n",
    "    \n",
    "    \n",
    "#possible"
   ]
  },
  {
   "cell_type": "code",
   "execution_count": 18,
   "id": "77ff7e56",
   "metadata": {},
   "outputs": [
    {
     "name": "stdout",
     "output_type": "stream",
     "text": [
      "-3 0 3 6 9 12 15 18 21 24 "
     ]
    }
   ],
   "source": [
    "for i in range(-3,25,3):\n",
    "    print(i,end=' ')\n",
    "    \n",
    "    \n",
    "#possible"
   ]
  },
  {
   "cell_type": "code",
   "execution_count": 19,
   "id": "32b71da7",
   "metadata": {},
   "outputs": [],
   "source": [
    "for i in range(-3,-25,3):\n",
    "    print(i,end=' ')\n",
    "    \n",
    "    \n",
    "#not possible"
   ]
  },
  {
   "cell_type": "code",
   "execution_count": 20,
   "id": "c87ae66a",
   "metadata": {},
   "outputs": [],
   "source": [
    "for i in range(-3,25,-3):\n",
    "    print(i,end=' ')\n",
    "    \n",
    "    \n",
    "#not possible"
   ]
  },
  {
   "cell_type": "code",
   "execution_count": 21,
   "id": "1df544aa",
   "metadata": {},
   "outputs": [
    {
     "name": "stdout",
     "output_type": "stream",
     "text": [
      "-3 -6 -9 -12 -15 -18 -21 -24 "
     ]
    }
   ],
   "source": [
    "for i in range(-3,-25,-3):\n",
    "    print(i,end=' ')\n",
    "    \n",
    "#possible"
   ]
  },
  {
   "cell_type": "code",
   "execution_count": 1,
   "id": "ed06a541",
   "metadata": {},
   "outputs": [
    {
     "name": "stdout",
     "output_type": "stream",
     "text": [
      "hello\n",
      "hello\n",
      "hello\n"
     ]
    }
   ],
   "source": [
    "#wap print hello 3 times\n",
    "for i in range(3):\n",
    "    print(\"hello\")"
   ]
  },
  {
   "cell_type": "code",
   "execution_count": 2,
   "id": "38a32b5e",
   "metadata": {},
   "outputs": [
    {
     "name": "stdout",
     "output_type": "stream",
     "text": [
      "0\n",
      "1\n",
      "2\n"
     ]
    }
   ],
   "source": [
    "for i in range(3):    #first set up your loop\n",
    "    print(i)"
   ]
  },
  {
   "cell_type": "code",
   "execution_count": 3,
   "id": "9d6825ba",
   "metadata": {},
   "outputs": [
    {
     "name": "stdout",
     "output_type": "stream",
     "text": [
      "hai\n",
      "hello\n",
      "hello\n",
      "hello\n",
      "how do you do\n"
     ]
    }
   ],
   "source": [
    "print(\"hai\")\n",
    "for i in range(3):\n",
    "    print(\"hello\")\n",
    "    \n",
    "print(\"how do you do\")"
   ]
  },
  {
   "cell_type": "code",
   "execution_count": 7,
   "id": "bc198d2d",
   "metadata": {},
   "outputs": [
    {
     "name": "stdout",
     "output_type": "stream",
     "text": [
      "A\n",
      "A\n",
      "A\n",
      "B\n",
      "B\n",
      "B\n",
      "c\n",
      "c\n",
      "c\n"
     ]
    }
   ],
   "source": [
    "#A\n",
    "#A\n",
    "#A\n",
    "#B\n",
    "#B\n",
    "#B\n",
    "#C\n",
    "#C\n",
    "#C\n",
    "for i in range(3):\n",
    "    print(\"A\")\n",
    "for i in range(3):\n",
    "    print(\"B\")\n",
    "for i in range(3):\n",
    "    print(\"c\")"
   ]
  },
  {
   "cell_type": "code",
   "execution_count": 8,
   "id": "f9fb0e7b",
   "metadata": {},
   "outputs": [
    {
     "name": "stdout",
     "output_type": "stream",
     "text": [
      "A\n",
      "B\n",
      "A\n",
      "B\n",
      "A\n",
      "B\n",
      "c\n",
      "c\n"
     ]
    }
   ],
   "source": [
    "for i in range(3):\n",
    "    print(\"A\")\n",
    "    print(\"B\")\n",
    "for i in range(2):\n",
    "    print(\"c\")"
   ]
  },
  {
   "cell_type": "code",
   "execution_count": 16,
   "id": "1056f667",
   "metadata": {},
   "outputs": [
    {
     "name": "stdout",
     "output_type": "stream",
     "text": [
      "the square of 10 is 100\n",
      "the square of 10 is 100\n",
      "the square of 10 is 100\n",
      "the square of 10 is 100\n",
      "the square of 10 is 100\n",
      "the square of 10 is 100\n"
     ]
    }
   ],
   "source": [
    "#wap ask the user get the square of the numbers between 10 to 15\n",
    "#square of 10 is 100\n",
    "#square of 11 is 121\n",
    "#square of 12 is 144\n",
    "#square of 13 is \n",
    "#sqaure of 14 is\n",
    "#square of 15 is\n",
    "for i in range(10,16):\n",
    "    print(\"the square of 10 is 100\".format(i*i))"
   ]
  },
  {
   "cell_type": "code",
   "execution_count": 17,
   "id": "d3077bd1",
   "metadata": {},
   "outputs": [
    {
     "name": "stdout",
     "output_type": "stream",
     "text": [
      "The square of 10 is 100\n",
      "The square of 11 is 121\n",
      "The square of 12 is 144\n",
      "The square of 13 is 169\n",
      "The square of 14 is 196\n",
      "The square of 15 is 225\n"
     ]
    }
   ],
   "source": [
    "for i in range(10,16):\n",
    "    print(\"The square of {} is {}\".format(i,i*i))"
   ]
  },
  {
   "cell_type": "code",
   "execution_count": null,
   "id": "93050ff6",
   "metadata": {},
   "outputs": [],
   "source": [
    "#the same question \n",
    "#take the numbers from keyboard\n",
    "#num1=eval(input())\n",
    "#num2=eval(input())\n",
    "#replace 10,16 in for loop with variables num1,num2\n",
    "num1=eval(input(\"enter the start number: \"))\n",
    "num2=eval(input(\"enter the stop numbeer: \"))\n",
    "\n",
    "for i in range(num1,num2):\n",
    "    print(\"The square of {} is {}\".format(i,i*i))"
   ]
  },
  {
   "cell_type": "code",
   "execution_count": 21,
   "id": "eec40d3b",
   "metadata": {},
   "outputs": [
    {
     "name": "stdout",
     "output_type": "stream",
     "text": [
      "enter the start number: 10\n",
      "enter the stop numbeer: 16\n",
      "The square of 10 is 100\n",
      "The square of 11 is 121\n",
      "The square of 12 is 144\n",
      "The square of 13 is 169\n",
      "The square of 14 is 196\n",
      "The square of 15 is 225\n"
     ]
    }
   ],
   "source": [
    "#function without arguments\n",
    "def square1():\n",
    "    num1=eval(input(\"enter the start number: \"))\n",
    "    num2=eval(input(\"enter the stop numbeer: \"))\n",
    "\n",
    "    for i in range(num1,num2):\n",
    "        print(\"The square of {} is {}\".format(i,i*i))\n",
    "        \n",
    "square1()"
   ]
  },
  {
   "cell_type": "code",
   "execution_count": 23,
   "id": "29c82a00",
   "metadata": {},
   "outputs": [
    {
     "name": "stdout",
     "output_type": "stream",
     "text": [
      "The square of 10 is 100\n",
      "The square of 11 is 121\n",
      "The square of 12 is 144\n",
      "The square of 13 is 169\n",
      "The square of 14 is 196\n",
      "The square of 15 is 225\n"
     ]
    }
   ],
   "source": [
    "def square1(num1,num2):\n",
    "    \n",
    "    for i in range(num1,num2):\n",
    "        print(\"The square of {} is {}\".format(i,i*i))\n",
    "        \n",
    "square1(10,16)"
   ]
  },
  {
   "cell_type": "code",
   "execution_count": 25,
   "id": "c66d2ec7",
   "metadata": {},
   "outputs": [
    {
     "ename": "NameError",
     "evalue": "name 'num111' is not defined",
     "output_type": "error",
     "traceback": [
      "\u001b[1;31m---------------------------------------------------------------------------\u001b[0m",
      "\u001b[1;31mNameError\u001b[0m                                 Traceback (most recent call last)",
      "Cell \u001b[1;32mIn[25], line 6\u001b[0m\n\u001b[0;32m      3\u001b[0m     \u001b[38;5;28;01mfor\u001b[39;00m i \u001b[38;5;129;01min\u001b[39;00m \u001b[38;5;28mrange\u001b[39m(num111,num2):\n\u001b[0;32m      4\u001b[0m         \u001b[38;5;28mprint\u001b[39m(\u001b[38;5;124m\"\u001b[39m\u001b[38;5;124mThe square of \u001b[39m\u001b[38;5;132;01m{}\u001b[39;00m\u001b[38;5;124m is \u001b[39m\u001b[38;5;132;01m{}\u001b[39;00m\u001b[38;5;124m\"\u001b[39m\u001b[38;5;241m.\u001b[39mformat(i,i\u001b[38;5;241m*\u001b[39mi))\n\u001b[1;32m----> 6\u001b[0m square1(\u001b[38;5;241m10\u001b[39m,\u001b[38;5;241m16\u001b[39m)\n",
      "Cell \u001b[1;32mIn[25], line 3\u001b[0m, in \u001b[0;36msquare1\u001b[1;34m(num1, num2)\u001b[0m\n\u001b[0;32m      1\u001b[0m \u001b[38;5;28;01mdef\u001b[39;00m \u001b[38;5;21msquare1\u001b[39m(num1,num2):\n\u001b[1;32m----> 3\u001b[0m     \u001b[38;5;28;01mfor\u001b[39;00m i \u001b[38;5;129;01min\u001b[39;00m \u001b[38;5;28mrange\u001b[39m(num111,num2):\n\u001b[0;32m      4\u001b[0m         \u001b[38;5;28mprint\u001b[39m(\u001b[38;5;124m\"\u001b[39m\u001b[38;5;124mThe square of \u001b[39m\u001b[38;5;132;01m{}\u001b[39;00m\u001b[38;5;124m is \u001b[39m\u001b[38;5;132;01m{}\u001b[39;00m\u001b[38;5;124m\"\u001b[39m\u001b[38;5;241m.\u001b[39mformat(i,i\u001b[38;5;241m*\u001b[39mi))\n",
      "\u001b[1;31mNameError\u001b[0m: name 'num111' is not defined"
     ]
    }
   ],
   "source": [
    "#function with arguments\n",
    "def square1(num1,num2):\n",
    "    \n",
    "    for i in range(num111,num2):\n",
    "        print(\"The square of {} is {}\".format(i,i*i))\n",
    "        \n",
    "square1(10,16)"
   ]
  },
  {
   "cell_type": "code",
   "execution_count": 27,
   "id": "486b1672",
   "metadata": {},
   "outputs": [
    {
     "name": "stdout",
     "output_type": "stream",
     "text": [
      "enter a number: 10\n",
      "the square of 10 is 100\n",
      "enter a number: 20\n",
      "the square of 20 is 400\n",
      "enter a number: 30 \n",
      "the square of 30 is 900\n",
      "enter a number: 40\n",
      "the square of 40 is 1600\n",
      "enter a number: 50\n",
      "the square of 50 is 2500\n"
     ]
    }
   ],
   "source": [
    "#wap ask the user to print square of the 5 numbers\n",
    "#and these five numbers you need to ask user every time\n",
    "for i in  range(5):\n",
    "    num=eval(input(\"enter a number: \"))\n",
    "    print(\"the square of {} is {}\".format(num,num*num))"
   ]
  },
  {
   "cell_type": "code",
   "execution_count": 29,
   "id": "948b92d9",
   "metadata": {},
   "outputs": [
    {
     "name": "stdout",
     "output_type": "stream",
     "text": [
      "the square of 0 is 0\n",
      "the square of 1 is 1\n",
      "the square of 2 is 4\n",
      "the square of 3 is 9\n",
      "the square of 4 is 16\n"
     ]
    }
   ],
   "source": [
    "for i in  range(5):\n",
    "    print(\"the square of {} is {}\".format(i,i*i))"
   ]
  },
  {
   "cell_type": "code",
   "execution_count": 31,
   "id": "926e47ff",
   "metadata": {},
   "outputs": [
    {
     "name": "stdout",
     "output_type": "stream",
     "text": [
      "enter a number: 1\n",
      "the square of 1 is 1\n",
      "the square of 1 is 1\n",
      "the square of 1 is 1\n",
      "the square of 1 is 1\n",
      "the square of 1 is 1\n"
     ]
    }
   ],
   "source": [
    "num=eval(input(\"enter a number: \"))\n",
    "for i in  range(5):\n",
    "    print(\"the square of {} is {}\".format(num,num*num))"
   ]
  },
  {
   "cell_type": "code",
   "execution_count": 33,
   "id": "d4c146af",
   "metadata": {},
   "outputs": [
    {
     "name": "stdout",
     "output_type": "stream",
     "text": [
      "the square of 10 is 100 \n",
      "the square of 11 is 121 \n",
      "the square of 7 is 49 \n",
      "the square of 14 is 196 \n",
      "the square of 16 is 256 \n"
     ]
    }
   ],
   "source": [
    "#wap ask the user to print five times square of a number\n",
    "#this time you need to take every time a random number between 1 to 20\n",
    "import random\n",
    "for i in range(5):\n",
    "    num=random.randint(1,20)\n",
    "    print(\"the square of {} is {} \".format(num,num*num))"
   ]
  },
  {
   "cell_type": "code",
   "execution_count": 35,
   "id": "8cd0346f",
   "metadata": {},
   "outputs": [
    {
     "name": "stdout",
     "output_type": "stream",
     "text": [
      "enter number10\n",
      "the given 10 is even\n"
     ]
    }
   ],
   "source": [
    "#wap ask the user print the given number is even or odd\n",
    "#you need to take the numbers between 10 to 30\n",
    "#iterate the loop between 10 and 30\n",
    "#every time apply the if i%2==0: print even\n",
    "#                     else: print odd\n",
    "num=eval(input(\"enter number\"))\n",
    "if num%2==0:\n",
    "    print(\"the given {} is even\".format(num))\n",
    "else:\n",
    "    print(\"the given {} is odd\".format(num))"
   ]
  },
  {
   "cell_type": "code",
   "execution_count": 37,
   "id": "375d1263",
   "metadata": {},
   "outputs": [
    {
     "name": "stdout",
     "output_type": "stream",
     "text": [
      "the given 10 is even\n",
      "the given 10 is odd\n",
      "the given 10 is even\n",
      "the given 10 is odd\n",
      "the given 10 is even\n",
      "the given 10 is odd\n",
      "the given 10 is even\n",
      "the given 10 is odd\n",
      "the given 10 is even\n",
      "the given 10 is odd\n"
     ]
    }
   ],
   "source": [
    "for i in range(10,20):\n",
    "    if i%2==0:\n",
    "        print(\"the given {} is even\".format(num))\n",
    "    else:\n",
    "        print(\"the given {} is odd\".format(num))"
   ]
  },
  {
   "cell_type": "code",
   "execution_count": 41,
   "id": "d734d30f",
   "metadata": {},
   "outputs": [
    {
     "name": "stdout",
     "output_type": "stream",
     "text": [
      "the given 28 is even\n",
      "the given 17 is odd\n",
      "the given 17 is odd\n",
      "the given 26 is even\n",
      "the given 24 is even\n"
     ]
    }
   ],
   "source": [
    "#wap ask the user to print the given number is even or odd\n",
    "#you need to take the number between randomly between 10 and 30\n",
    "#this process ypu need to 5 times\n",
    "#create a for loop to run 5 times\n",
    "#every time get the random number\n",
    "#finally apply if-else condition: it is an even or odd\n",
    "import random\n",
    "for i in range(5):\n",
    "    num=random.randint(10,30)\n",
    "    if num%2==0:\n",
    "        print(\"the given {} is even\".format(num))\n",
    "    else:\n",
    "        print(\"the given {} is odd\".format(num)) "
   ]
  },
  {
   "cell_type": "code",
   "execution_count": 39,
   "id": "98c1f6b7",
   "metadata": {},
   "outputs": [
    {
     "name": "stdout",
     "output_type": "stream",
     "text": [
      "the given 10 is even\n"
     ]
    }
   ],
   "source": [
    "if num%2==0:\n",
    "    print(\"the given {} is even\".format(num))\n",
    "else:\n",
    "    print(\"the given {} is odd\".format(num))"
   ]
  },
  {
   "cell_type": "code",
   "execution_count": 43,
   "id": "0f5e746b",
   "metadata": {},
   "outputs": [
    {
     "name": "stdout",
     "output_type": "stream",
     "text": [
      "the given 18 is even\n",
      "the given 21 is odd\n",
      "the given 14 is even\n",
      "the given 11 is odd\n",
      "the given 24 is even\n"
     ]
    }
   ],
   "source": [
    "def even_odd(num):\n",
    "    if num%2==0:\n",
    "        print(\"the given {} is even\".format(num))\n",
    "    else:\n",
    "        print(\"the given {} is odd\".format(num))\n",
    "        \n",
    "import random\n",
    "for i in range(5):\n",
    "    num=random.randint(10,30)\n",
    "    even_odd(num)"
   ]
  },
  {
   "cell_type": "code",
   "execution_count": 47,
   "id": "a306e645",
   "metadata": {},
   "outputs": [
    {
     "name": "stdout",
     "output_type": "stream",
     "text": [
      "enter the number between 1 and 10:7\n",
      "you lost\n",
      "enter the number between 1 and 10:2\n",
      "you lost\n",
      "enter the number between 1 and 10:5\n",
      "you lost\n"
     ]
    }
   ],
   "source": [
    "#5 times\n",
    "#take a random number from random package between 1 to 10\n",
    "#===========you need to repeat three times\n",
    "#ask the user enter a number between 1 to 10\n",
    "#if the number == random number:\n",
    "#       print(\"you won\")\n",
    "#else:\n",
    "#     print(\"you lost\")\n",
    "import random\n",
    "random_num=random.randint(1,10)\n",
    "for i in range(3):\n",
    "    user_num=eval(input(\"enter the number between 1 and 10:\"))\n",
    "    if user_num==random_num:\n",
    "        print(\"you won\")\n",
    "        break\n",
    "    else:\n",
    "        print(\"you lost\")"
   ]
  },
  {
   "cell_type": "code",
   "execution_count": 49,
   "id": "7b27639f",
   "metadata": {},
   "outputs": [
    {
     "name": "stdout",
     "output_type": "stream",
     "text": [
      "enter the number between 1 and 10:2\n",
      "you lost\n",
      "the number of chances left is:  0\n",
      "enter the number between 1 and 10:1\n",
      "you lost\n",
      "the number of chances left is:  1\n",
      "enter the number between 1 and 10:4\n",
      "you lost\n",
      "the number of chances left is:  2\n"
     ]
    }
   ],
   "source": [
    "#improvise the above code\n",
    "#you need to mention number of chances left\n",
    "#the user whenever he fai/lose\n",
    "import random\n",
    "random_num=random.randint(1,10)\n",
    "for i in range(3):\n",
    "    user_num=eval(input(\"enter the number between 1 and 10:\"))\n",
    "    if user_num==random_num:\n",
    "        print(\"you won\")\n",
    "        break\n",
    "    else:\n",
    "        print(\"you lost\")\n",
    "        print(\"the number of chances left is: \",i)"
   ]
  },
  {
   "cell_type": "code",
   "execution_count": 50,
   "id": "28d95054",
   "metadata": {},
   "outputs": [
    {
     "name": "stdout",
     "output_type": "stream",
     "text": [
      "enter how many chances you want:1\n",
      "enter the number between 1 and 10:7\n",
      "you lost\n",
      "the number of chances left is:  0\n"
     ]
    }
   ],
   "source": [
    "import random\n",
    "random_num=random.randint(1,10)\n",
    "chances=eval(input(\"enter how many chances you want:\"))\n",
    "for i in range(chances):\n",
    "    user_num=eval(input(\"enter the number between 1 and 10:\"))\n",
    "    if user_num==random_num:\n",
    "        print(\"you won\")\n",
    "        break\n",
    "    else:\n",
    "        print(\"you lost\")\n",
    "        print(\"the number of chances left is: \",i)"
   ]
  },
  {
   "cell_type": "code",
   "execution_count": 51,
   "id": "425d85fa",
   "metadata": {},
   "outputs": [
    {
     "name": "stdout",
     "output_type": "stream",
     "text": [
      "enter how many chances you want:2\n",
      "enter the number between 1 and 10:7\n",
      "you lost\n",
      "the number of chances left is:  0\n",
      "enter the number between 1 and 10:1\n",
      "you lost\n",
      "the number of chances left is:  1\n"
     ]
    }
   ],
   "source": [
    "import random\n",
    "random_num=random.randint(1,10)\n",
    "chances=eval(input(\"enter how many chances you want:\"))\n",
    "for i in range(2):\n",
    "    user_num=eval(input(\"enter the number between 1 and 10:\"))\n",
    "    if user_num==random_num:\n",
    "        print(\"you won\")\n",
    "        break\n",
    "    else:\n",
    "        print(\"you lost\")\n",
    "        print(\"the number of chances left is: \",i)"
   ]
  },
  {
   "cell_type": "code",
   "execution_count": 52,
   "id": "53afcdbd",
   "metadata": {},
   "outputs": [
    {
     "name": "stdout",
     "output_type": "stream",
     "text": [
      "enter how many chances you want:4\n",
      "enter the number between 1 and 10:1\n",
      "you lost\n",
      "the number of chances left is:  3\n",
      "enter the number between 1 and 10:2\n",
      "you won\n"
     ]
    }
   ],
   "source": [
    "import random\n",
    "random_num=random.randint(1,10)\n",
    "chances=eval(input(\"enter how many chances you want:\"))\n",
    "for i in range(chances):\n",
    "    user_num=eval(input(\"enter the number between 1 and 10:\"))\n",
    "    if user_num==random_num:\n",
    "        print(\"you won\")\n",
    "        break\n",
    "    else:\n",
    "        print(\"you lost\")\n",
    "        print(\"the number of chances left is: \",chances-1-i)"
   ]
  },
  {
   "cell_type": "code",
   "execution_count": 58,
   "id": "8149db78",
   "metadata": {},
   "outputs": [
    {
     "name": "stdout",
     "output_type": "stream",
     "text": [
      "enter how many chances you want:1\n",
      "enter the number between 1 and 10:2\n",
      "please try again your all chances are over\n"
     ]
    }
   ],
   "source": [
    "#improvise the above code\n",
    "#whenever the user lost all the chances\n",
    "#it should print all the chances are over\n",
    "#print('please try again after 10 minutes')\n",
    "#you need to provide \n",
    "import random\n",
    "random_num=random.randint(1,10)\n",
    "chances=eval(input(\"enter how many chances you want:\"))\n",
    "for i in range(chances):\n",
    "    user_num=eval(input(\"enter the number between 1 and 10:\"))\n",
    "    if user_num==random_num:\n",
    "        print(\"you won\")\n",
    "        print(\"please try after \")\n",
    "        break\n",
    "    elif i==0:\n",
    "        print(\"please try again your all chances are over\")\n",
    "    else:\n",
    "        print(\"you lost\")\n",
    "        print(\"the number of chances left is: \",chances-1-i)"
   ]
  },
  {
   "cell_type": "code",
   "execution_count": 2,
   "id": "9109d779",
   "metadata": {},
   "outputs": [
    {
     "name": "stdout",
     "output_type": "stream",
     "text": [
      "enter how many chances you want:2\n",
      "enter the number between 1 and 10:3\n",
      "you won\n",
      "please try after \n"
     ]
    }
   ],
   "source": [
    "import random\n",
    "random_num=random.randint(1,10)\n",
    "chances=eval(input(\"enter how many chances you want:\"))\n",
    "for i in range(chances):\n",
    "    user_num=eval(input(\"enter the number between 1 and 10:\"))\n",
    "    if user_num==random_num:\n",
    "        print(\"you won\")\n",
    "        print(\"please try after \")\n",
    "        break\n",
    "    elif chances-1-i==0:\n",
    "        print(\"please try again your all chances are over\")\n",
    "    else:\n",
    "        print(\"you lost\")\n",
    "        print(\"the number of chances left is: \",chances-1-i)\n",
    "        \n",
    "#chances=3\n",
    "#i=0    2     10      if 2==10  F======>elif 3-1: 2===0 F====>else:2\n",
    "#i=1    2     10      if 2==10  F======>elif 3-1-1: 1==0 F=====>else:2\n",
    "#i=1    2     10      if 2==10  F======>elif 3-1-2: 1==0 F=====>else:2"
   ]
  },
  {
   "cell_type": "code",
   "execution_count": 6,
   "id": "1b3a0af9",
   "metadata": {},
   "outputs": [
    {
     "name": "stdout",
     "output_type": "stream",
     "text": [
      "1\n",
      "3\n",
      "6\n",
      "10\n",
      "15\n",
      "21\n",
      "28\n",
      "36\n",
      "45\n",
      "55\n"
     ]
    }
   ],
   "source": [
    "#wap ask the user get the sum of 10 natural numbers  ======>interview question\n",
    "#1+2+3+4+5+6+7+8+9+10=55\n",
    "summ=0\n",
    "for i in range(1,11):\n",
    "    summ=summ+i\n",
    "    print(summ)\n",
    "    \n",
    "#0+1=1\n",
    "#1+2=3\n",
    "#3+3=6\n",
    "#6+4=10\n",
    "#10+5=15\n",
    "#15+6=21\n",
    "#21+7=28\n",
    "#28+8=36\n",
    "#36+9=45\n",
    "#45+10=55   "
   ]
  },
  {
   "cell_type": "code",
   "execution_count": 7,
   "id": "12d69f9a",
   "metadata": {},
   "outputs": [
    {
     "name": "stdout",
     "output_type": "stream",
     "text": [
      "0+1 is: \n",
      "1\n",
      "1+2 is: \n",
      "3\n",
      "3+3 is: \n",
      "6\n",
      "6+4 is: \n",
      "10\n",
      "10+5 is: \n",
      "15\n",
      "15+6 is: \n",
      "21\n",
      "21+7 is: \n",
      "28\n",
      "28+8 is: \n",
      "36\n",
      "36+9 is: \n",
      "45\n",
      "45+10 is: \n",
      "55\n"
     ]
    }
   ],
   "source": [
    "summ=0\n",
    "for i in range(1,11):\n",
    "    print(\"{}+{} is: \".format(summ,i))\n",
    "    summ=summ+i\n",
    "    print(summ)"
   ]
  },
  {
   "cell_type": "code",
   "execution_count": 8,
   "id": "26c2aae6",
   "metadata": {},
   "outputs": [
    {
     "name": "stdout",
     "output_type": "stream",
     "text": [
      "0+1 is: \n",
      "1\n",
      "1+2 is: \n",
      "3\n",
      "3+3 is: \n",
      "6\n",
      "6+4 is: \n",
      "10\n",
      "10+5 is: \n",
      "15\n",
      "15+6 is: \n",
      "21\n",
      "21+7 is: \n",
      "28\n",
      "28+8 is: \n",
      "36\n",
      "36+9 is: \n",
      "45\n",
      "45+10 is: \n",
      "55\n",
      "the sum of first 10 natural numbers is: 55\n"
     ]
    }
   ],
   "source": [
    "summ=0\n",
    "for i in range(1,11):\n",
    "    print(\"{}+{} is: \".format(summ,i))\n",
    "    summ=summ+i\n",
    "    print(summ)     #in this loop the last value is 55\n",
    "    \n",
    "print(\"the sum of first 10 natural numbers is:\",summ)"
   ]
  },
  {
   "cell_type": "code",
   "execution_count": 11,
   "id": "1a810677",
   "metadata": {},
   "outputs": [
    {
     "name": "stdout",
     "output_type": "stream",
     "text": [
      "0\n",
      "1\n",
      "2\n",
      "3\n",
      "4\n",
      "5\n",
      "6\n",
      "7\n",
      "8\n",
      "9\n"
     ]
    },
    {
     "data": {
      "text/plain": [
       "9"
      ]
     },
     "execution_count": 11,
     "metadata": {},
     "output_type": "execute_result"
    }
   ],
   "source": [
    "for i in range(10):         sum=0====>keyword\n",
    "    num=i\n",
    "    print(i)   #9\n",
    "    \n",
    "num"
   ]
  },
  {
   "cell_type": "markdown",
   "id": "8ae8b113",
   "metadata": {},
   "source": [
    "- whenever if you want implement counter program \n",
    "- summ program\n",
    "- initialize the variable with zero\n",
    "- like: summ=0 or count=0\n",
    "- inside the loop based onn the problem update the variable\n",
    "- like: summ=summ+i or count=count+i\n",
    "- like: summ+=i or count+=i"
   ]
  },
  {
   "cell_type": "code",
   "execution_count": 16,
   "id": "7498a1e0",
   "metadata": {},
   "outputs": [
    {
     "name": "stdout",
     "output_type": "stream",
     "text": [
      "when is odd: 0\n",
      "the given 23 is odd\n",
      "when is odd: 1\n",
      "the given 17 is odd\n",
      "when is odd: 2\n",
      "the given 29 is odd\n",
      "when is even: 3\n",
      "the given 26 is even\n",
      "when is even: 4\n",
      "the given 12 is even\n",
      "2 3\n"
     ]
    }
   ],
   "source": [
    "#wap ask the user to print the given number is even or odd\n",
    "#you need to take the number between randomly between 10 and 30\n",
    "#this process ypu need to 5 times\n",
    "#create a for loop to run 5 times\n",
    "#every time get the random number\n",
    "#finally apply if-else condition: it is an even or odd\n",
    "#improvise this problem\n",
    "#by count the number of even and number odds you are getting\n",
    "even_count=0\n",
    "odd_count=0\n",
    "import random\n",
    "for i in range(5):\n",
    "    num=random.randint(10,30)\n",
    "    if num%2==0:\n",
    "        print(\"when is even:\",i)\n",
    "        print(\"the given {} is even\".format(num))\n",
    "        even_count=even_count+1\n",
    "    else:\n",
    "        print(\"when is odd:\",i)\n",
    "        print(\"the given {} is odd\".format(num)) \n",
    "        odd_count=odd_count+1\n",
    "        \n",
    "print(even_count,odd_count)\n",
    "\n",
    "#i=0 =1 =4\n",
    "#even_count=0\n",
    "#even_count=even_count+i ====> 0+0=0\n",
    "#0+1=1\n",
    "#1+4=5"
   ]
  },
  {
   "cell_type": "code",
   "execution_count": 13,
   "id": "57413522",
   "metadata": {},
   "outputs": [
    {
     "name": "stdout",
     "output_type": "stream",
     "text": [
      "0\n",
      "the given 17 is odd\n",
      "1\n",
      "the given 20 is even\n",
      "3\n",
      "the given 13 is odd\n",
      "6\n",
      "the given 23 is odd\n",
      "10\n",
      "the given 25 is odd\n"
     ]
    }
   ],
   "source": [
    "#wap ask the user to print the given number is even or odd\n",
    "#you need to take the number between randomly between 10 and 30\n",
    "#this process ypu need to 5 times\n",
    "#create a for loop to run 5 times\n",
    "#every time get the random number\n",
    "#finally apply if-else condition: it is an even or odd\n",
    "count=0\n",
    "import random\n",
    "for i in range(5):\n",
    "    num=random.randint(10,30)\n",
    "    count=count+i\n",
    "    print(count)\n",
    "    if num%2==0:\n",
    "        print(\"the given {} is even\".format(num))\n",
    "    else:\n",
    "        print(\"the given {} is odd\".format(num)) "
   ]
  },
  {
   "cell_type": "code",
   "execution_count": 17,
   "id": "8f5fa3c1",
   "metadata": {},
   "outputs": [
    {
     "name": "stdout",
     "output_type": "stream",
     "text": [
      "66\n",
      "15\n",
      "10\n",
      "84\n",
      "59\n",
      "69\n",
      "3\n",
      "25\n",
      "4\n",
      "18\n"
     ]
    }
   ],
   "source": [
    "#wap ask the user take a number between 1 to 99\n",
    "#iterate the loop 10 times\n",
    "#count how many times a number is coming and greater than 50\n",
    "#2\n",
    "#20\n",
    "#55\n",
    "#\n",
    "for i in range(10):\n",
    "    num=random.randint(1,99)\n",
    "    print(num)"
   ]
  },
  {
   "cell_type": "code",
   "execution_count": 18,
   "id": "a4bd2f85",
   "metadata": {},
   "outputs": [
    {
     "name": "stdout",
     "output_type": "stream",
     "text": [
      "72\n",
      "61\n",
      "94\n",
      "67\n",
      "56\n"
     ]
    }
   ],
   "source": [
    "for i in range(10):\n",
    "    num=random.randint(1,99)\n",
    "    if num>50:\n",
    "        print(num)"
   ]
  },
  {
   "cell_type": "code",
   "execution_count": 20,
   "id": "834a32da",
   "metadata": {},
   "outputs": [
    {
     "name": "stdout",
     "output_type": "stream",
     "text": [
      "97\n",
      "57\n",
      "96\n",
      "87\n",
      "98\n",
      "88\n",
      "the number of values more than 50 is: 6\n"
     ]
    }
   ],
   "source": [
    "import random\n",
    "count=0\n",
    "for i in range(10):\n",
    "    num=random.randint(1,99)\n",
    "    if num>50:\n",
    "        print(num)\n",
    "        count+=1\n",
    "        \n",
    "print(\"the number of values more than 50 is:\",count)"
   ]
  },
  {
   "cell_type": "code",
   "execution_count": 21,
   "id": "81878d27",
   "metadata": {},
   "outputs": [
    {
     "name": "stdout",
     "output_type": "stream",
     "text": [
      "enter which number divisors want to know: 10\n",
      "10 is divisible by 1\n",
      "10 is divisible by 2\n",
      "10 is divisible by 5\n",
      "10 is divisible by 10\n",
      "the number of divisors are: 10\n"
     ]
    }
   ],
   "source": [
    "#number of divisors program\n",
    "#10 is divisible by what numbers\n",
    "#10/1 10/2 10/3 10/4 10/5 10/6 10/7 10/8 10/8 10/9 10/10\n",
    "#num/i%2==0\n",
    "#5 divisors : 1 to 55\n",
    "num=eval(input(\"enter which number divisors want to know: \"))\n",
    "for i in range(1,num+1):\n",
    "    if (num%i==0):\n",
    "        print(\"{} is divisible by {}\".format(num,i))\n",
    "        count=count+1\n",
    "        \n",
    "        \n",
    "print(\"the number of divisors are:\",count)\n"
   ]
  },
  {
   "cell_type": "code",
   "execution_count": 22,
   "id": "db015b8f",
   "metadata": {},
   "outputs": [
    {
     "data": {
      "text/plain": [
       "0"
      ]
     },
     "execution_count": 22,
     "metadata": {},
     "output_type": "execute_result"
    }
   ],
   "source": [
    "10%10"
   ]
  },
  {
   "cell_type": "code",
   "execution_count": 25,
   "id": "7fc10b7e",
   "metadata": {},
   "outputs": [
    {
     "name": "stdout",
     "output_type": "stream",
     "text": [
      "enter which number divisors want to know: 10\n",
      "10 is divisible by 1\n",
      "10 is divisible by 2\n",
      "10 is divisible by 5\n",
      "10 is divisible by 10\n",
      "the number of divisors are: 4\n",
      "the number of not divisors count is: 6\n"
     ]
    }
   ],
   "source": [
    "d_count=0\n",
    "nd_count=0\n",
    "num=eval(input(\"enter which number divisors want to know: \"))\n",
    "for i in range(1,num+1):\n",
    "    if (num%i==0):\n",
    "        print(\"{} is divisible by {}\".format(num,i))\n",
    "        d_count=d_count+1\n",
    "    else:\n",
    "        nd_count=nd_count+1\n",
    "        \n",
    "print(\"the number of divisors are:\",d_count)\n",
    "print(\"the number of not divisors count is:\",nd_count)"
   ]
  },
  {
   "cell_type": "code",
   "execution_count": 55,
   "id": "852bf8f2",
   "metadata": {},
   "outputs": [
    {
     "name": "stdout",
     "output_type": "stream",
     "text": [
      "enter which number divisors want to know:10\n",
      "10 is divisible by 1\n",
      "10 is divisible by 2\n",
      "10 is divisible by 5\n",
      "10 is divisible by 10\n",
      "4 6\n"
     ]
    }
   ],
   "source": [
    "num=eval(input(\"enter which number divisors want to know:\"))\n",
    "def counter():\n",
    "    d_count=0\n",
    "    nd_count=0\n",
    "    for i in range(1,num+1):\n",
    "        if num%i==0:\n",
    "            print(\"{} is divisible by {}\".format(num,i))\n",
    "            d_count=d_count+1\n",
    "        else:\n",
    "            nd_count=nd_count+1  \n",
    "    \n",
    "    return(d_count,nd_count)\n",
    "\n",
    "val1,val2=counter()\n",
    "print(val1,val2)"
   ]
  },
  {
   "cell_type": "code",
   "execution_count": 36,
   "id": "e0bd0efa",
   "metadata": {},
   "outputs": [
    {
     "name": "stdout",
     "output_type": "stream",
     "text": [
      "enter which number divisors want to know: 10\n",
      "10 is divisible by 1\n",
      "10 is divisible by 2\n",
      "10 is divisible by 5\n",
      "10 is divisible by 10\n",
      "4 6\n"
     ]
    }
   ],
   "source": [
    "def counter2():\n",
    "    d_count=0\n",
    "    nd_count=0\n",
    "    num=eval(input(\"enter which number divisors want to know: \"))\n",
    "    for i in range(1,num+1):\n",
    "        if (num%i==0):\n",
    "            print(\"{} is divisible by {}\".format(num,i))\n",
    "            d_count=d_count+1\n",
    "        else:\n",
    "            nd_count=nd_count+1  \n",
    "    return(d_count,nd_count)\n",
    "\n",
    "val1,val2=counter2()\n",
    "print(val1,val2)"
   ]
  },
  {
   "cell_type": "markdown",
   "id": "c1344e97",
   "metadata": {},
   "source": [
    "- whenever you want implement counter program\n",
    "- initialise counter inside the function only\n",
    "#def condition():\n",
    "#=============>\n",
    "#=============>\n",
    "#=============>\n",
    "#return()"
   ]
  },
  {
   "cell_type": "code",
   "execution_count": 59,
   "id": "d5b4e908",
   "metadata": {},
   "outputs": [
    {
     "name": "stdout",
     "output_type": "stream",
     "text": [
      "10 is divisible by 10\n"
     ]
    },
    {
     "data": {
      "text/plain": [
       "(1, 0)"
      ]
     },
     "execution_count": 59,
     "metadata": {},
     "output_type": "execute_result"
    }
   ],
   "source": [
    "def condition(num,\n",
    "             d_count,\n",
    "             nd_count,\n",
    "             i):\n",
    "    if num%i==0:\n",
    "        print(\"{} is divisible by {}\".format(num,i))\n",
    "        d_count=d_count+1\n",
    "    else:\n",
    "        nd_count=nd_count+1\n",
    "        \n",
    "    return(d_count,nd_count)\n",
    "\n",
    "condition(num,d_count,nd_count,i)"
   ]
  },
  {
   "cell_type": "code",
   "execution_count": 41,
   "id": "5f5d22be",
   "metadata": {},
   "outputs": [
    {
     "name": "stdout",
     "output_type": "stream",
     "text": [
      "10 is divisible by 10\n"
     ]
    },
    {
     "data": {
      "text/plain": [
       "(1, 0)"
      ]
     },
     "execution_count": 41,
     "metadata": {},
     "output_type": "execute_result"
    }
   ],
   "source": [
    "def condition():\n",
    "    d_count=0\n",
    "    nd_count=0\n",
    "    if num%i==0:\n",
    "        print(\"{} is divisible by {}\".format(num,i))\n",
    "        d_count=d_count+1\n",
    "    else:\n",
    "        nd_count=nd_count+1\n",
    "        \n",
    "    return(d_count,nd_count)\n",
    "\n",
    "condition()"
   ]
  },
  {
   "cell_type": "code",
   "execution_count": 48,
   "id": "111caa30",
   "metadata": {},
   "outputs": [
    {
     "name": "stdout",
     "output_type": "stream",
     "text": [
      "enter which number divisors want to know: 10\n",
      "10 is divisible by 0\n",
      "10 is divisible by 1\n",
      "10 is divisible by 2\n",
      "10 is divisible by 3\n",
      "4 6\n"
     ]
    }
   ],
   "source": [
    "def condition(num,\n",
    "             d_count,\n",
    "             nd_count,\n",
    "             i):\n",
    "    if num%i==0:\n",
    "        print(\"{} is divisible by {}\".format(num,d_count,nd_count,i))\n",
    "        d_count=d_count+1\n",
    "    else:\n",
    "        nd_count=nd_count+1\n",
    "        \n",
    "    return(d_count,nd_count)\n",
    "\n",
    "def counter2():\n",
    "    d_count=0\n",
    "    nd_count=0\n",
    "    num=eval(input(\"enter which number divisors want to know: \"))\n",
    "    for i in range(1,num+1):\n",
    "        d_count,nd_count=condition(num,d_count,nd_count,i)\n",
    "    return(d_count,nd_count)\n",
    "\n",
    "val1,val2=counter2()\n",
    "print(val1,val2)"
   ]
  },
  {
   "cell_type": "markdown",
   "id": "df6e7232",
   "metadata": {},
   "source": [
    "***While loop***"
   ]
  },
  {
   "cell_type": "code",
   "execution_count": null,
   "id": "2b98fd1f",
   "metadata": {},
   "outputs": [],
   "source": [
    "# any loop we need three things\n",
    "- Initialization\n",
    "- Condition\n",
    "- Increment/Decrement"
   ]
  },
  {
   "cell_type": "code",
   "execution_count": null,
   "id": "a0fef3df",
   "metadata": {},
   "outputs": [],
   "source": [
    "for i in range(1,10):\n",
    "    \n",
    "in while loop we need to provide all three are individually"
   ]
  },
  {
   "cell_type": "code",
   "execution_count": null,
   "id": "bdf1df53",
   "metadata": {},
   "outputs": [],
   "source": [
    "#syntax for while loop\n",
    "i=0               #initial point\n",
    "while <condition>:\n",
    "    #st1\n",
    "    #st2\n",
    "    #st3\n",
    "    \n",
    "    i=i+1"
   ]
  },
  {
   "cell_type": "code",
   "execution_count": 1,
   "id": "4f6f4006",
   "metadata": {},
   "outputs": [
    {
     "name": "stdout",
     "output_type": "stream",
     "text": [
      "1 2 3 4 5 6 7 8 9 "
     ]
    }
   ],
   "source": [
    "# I want to print first 10 numbers 0 to 9\n",
    "for i in range(1,10):\n",
    "    print(i,end=' ')\n",
    "    "
   ]
  },
  {
   "cell_type": "code",
   "execution_count": null,
   "id": "213bc6b8",
   "metadata": {},
   "outputs": [],
   "source": [
    "i=0               #initial point\n",
    "while <>:\n",
    "    print(i,end=' ')\n",
    "    i=i+1\n",
    "    \n",
    "# true conditions based on i=0\n",
    "# i<100\n",
    "# i>=0\n",
    "# i<10\n",
    "# i>-1\n",
    "# i!=1"
   ]
  },
  {
   "cell_type": "code",
   "execution_count": null,
   "id": "8adc2048",
   "metadata": {},
   "outputs": [],
   "source": [
    "i=0               #initial point\n",
    "while <i>=0>:\n",
    "    print(i,end=' ')\n",
    "    i=i+1\n",
    "\n",
    "# step1: i=o 0>=0 True print(0) i=0+1=1\n",
    "# step2: i=1 1>=0      print(1) i=1+1=2\n",
    "# step3: i=2 2>=0      print(2) i=2+1=3"
   ]
  },
  {
   "cell_type": "code",
   "execution_count": 3,
   "id": "096b6244",
   "metadata": {},
   "outputs": [
    {
     "name": "stdout",
     "output_type": "stream",
     "text": [
      "0 1 2 3 4 5 6 7 8 9 "
     ]
    }
   ],
   "source": [
    "i=0               #initial point\n",
    "while i<10:\n",
    "    print(i,end=' ')\n",
    "    i=i+1\n"
   ]
  },
  {
   "cell_type": "markdown",
   "id": "e450de15",
   "metadata": {},
   "source": [
    "- If you want avoid infinite loop, give a proper condition\n",
    "- Based on a given Question\n",
    "- Even though the condition is valid, you can enter inside the loop\n",
    "- But you never come out the loop"
   ]
  },
  {
   "cell_type": "code",
   "execution_count": 5,
   "id": "e30fe1ad",
   "metadata": {},
   "outputs": [
    {
     "name": "stdout",
     "output_type": "stream",
     "text": [
      "10 11 12 13 14 15 16 17 18 19 20 "
     ]
    }
   ],
   "source": [
    "#print the value between 10 to 20\n",
    "i=10               #initial point\n",
    "while i<=20:\n",
    "    print(i,end=' ')\n",
    "    i=i+1\n"
   ]
  },
  {
   "cell_type": "code",
   "execution_count": 11,
   "id": "ce24dae1",
   "metadata": {},
   "outputs": [
    {
     "name": "stdout",
     "output_type": "stream",
     "text": [
      "-1 -2 -3 -4 -5 -6 -7 -8 -9 -10 "
     ]
    }
   ],
   "source": [
    "#print -1 to -10\n",
    "i=-1               #initial point\n",
    "while i>=-10:\n",
    "    print(i,end=' ')\n",
    "    i=i-1\n"
   ]
  },
  {
   "cell_type": "code",
   "execution_count": 12,
   "id": "666acb85",
   "metadata": {},
   "outputs": [
    {
     "name": "stdout",
     "output_type": "stream",
     "text": [
      "-1 -2 -3 -4 -5 -6 -7 -8 -9 -10 "
     ]
    }
   ],
   "source": [
    "i=-1               #initial point\n",
    "while True:\n",
    "    print(i,end=' ')\n",
    "    if i==-11:\n",
    "        break"
   ]
  },
  {
   "cell_type": "code",
   "execution_count": null,
   "id": "c135c9e7",
   "metadata": {},
   "outputs": [],
   "source": [
    "# By mistake you provide not a valid condition\n",
    "# then your loop is going infinite\n",
    "# then provide a if condition inside the loop\n",
    "\n",
    "# suppose you are not good at provide conditions\n",
    "# then apply the while true==== then provide the if condition\n",
    "# inside the loop"
   ]
  },
  {
   "cell_type": "code",
   "execution_count": 5,
   "id": "6cb44b84",
   "metadata": {},
   "outputs": [
    {
     "name": "stdout",
     "output_type": "stream",
     "text": [
      "10 11 12 13 14 15 16 17 18 19 20 -1 -2 -3 -4 -5 -6 -7 -8 -9 -10 "
     ]
    }
   ],
   "source": [
    "#Infinite loop#\n",
    "i=10               #initial point\n",
    "while i<21:\n",
    "    print(i,end=' ')\n",
    "    i=i+1\n",
    "#True#\n",
    "i=-1               #initial point\n",
    "while i<-11:\n",
    "    print(i,end=' ')\n",
    "    i=i-1\n",
    "\n",
    "i=-1 \n",
    "while True:\n",
    "    print(i,end=' ')\n",
    "    i=i-1\n",
    "    if i==-11:\n",
    "        break\n"
   ]
  },
  {
   "cell_type": "code",
   "execution_count": null,
   "id": "e72cad04",
   "metadata": {},
   "outputs": [],
   "source": [
    "#ask the user enter a number 5 times and print the square of the number\n",
    "# for loop\n",
    "# while loop\n"
   ]
  },
  {
   "cell_type": "code",
   "execution_count": 16,
   "id": "563a17d5",
   "metadata": {},
   "outputs": [
    {
     "name": "stdout",
     "output_type": "stream",
     "text": [
      "enter the number: 5\n",
      "the square of 5 is 25\n",
      "enter the number: 6\n",
      "the square of 6 is 36\n",
      "enter the number: 7\n",
      "the square of 7 is 49\n",
      "enter the number: 8\n",
      "the square of 8 is 64\n",
      "enter the number: 9\n",
      "the square of 9 is 81\n"
     ]
    }
   ],
   "source": [
    "for i in range(5):\n",
    "    num=eval(input(\"enter the number: \"))\n",
    "    print(\"the square of {} is {}\".format(num,num*num))\n"
   ]
  },
  {
   "cell_type": "code",
   "execution_count": 17,
   "id": "6c428df6",
   "metadata": {},
   "outputs": [
    {
     "name": "stdout",
     "output_type": "stream",
     "text": [
      "enter a number:5\n",
      "the square of 5 is 25\n",
      "enter a number:4\n",
      "the square of 4 is 16\n",
      "enter a number:3\n",
      "the square of 3 is 9\n",
      "enter a number:2\n",
      "the square of 2 is 4\n",
      "enter a number:1\n",
      "the square of 1 is 1\n"
     ]
    }
   ],
   "source": [
    "i=0\n",
    "while i<=4:\n",
    "    num=eval(input(\"enter a number:\"))\n",
    "    print(\"the square of {} is {}\".format(num,num*num))\n",
    "    i=i+1\n",
    "        \n"
   ]
  },
  {
   "cell_type": "code",
   "execution_count": 18,
   "id": "e7f4bc62",
   "metadata": {},
   "outputs": [
    {
     "name": "stdout",
     "output_type": "stream",
     "text": [
      "the square of 13 is 169\n",
      "the square of 11 is 121\n",
      "the square of 16 is 256\n",
      "the square of 16 is 256\n",
      "the square of 17 is 289\n"
     ]
    }
   ],
   "source": [
    "#wap take a random number between 10 to 20, five times you need to take\n",
    "#and print the square of the number\n",
    "import random\n",
    "for i in range(5):\n",
    "    r=random.randint(10,30)\n",
    "    print(\"the square of {} is {}\".format(r,r*r))"
   ]
  },
  {
   "cell_type": "code",
   "execution_count": 19,
   "id": "fa39307c",
   "metadata": {},
   "outputs": [
    {
     "name": "stdout",
     "output_type": "stream",
     "text": [
      "the square of 20 is 400\n",
      "the square of 16 is 256\n",
      "the square of 16 is 256\n",
      "the square of 30 is 900\n",
      "the square of 16 is 256\n"
     ]
    }
   ],
   "source": [
    "import random\n",
    "i=0\n",
    "while i<=4:\n",
    "    r=random.randint(10,30)\n",
    "    print(\"the square of {} is {}\".format(r,r*r))\n",
    "    i=i+1"
   ]
  },
  {
   "cell_type": "code",
   "execution_count": 21,
   "id": "a77a681f",
   "metadata": {},
   "outputs": [
    {
     "name": "stdout",
     "output_type": "stream",
     "text": [
      "10 is an even number\n",
      "11 s an odd number\n",
      "12 is an even number\n",
      "13 s an odd number\n",
      "14 is an even number\n",
      "15 s an odd number\n",
      "16 is an even number\n",
      "17 s an odd number\n",
      "18 is an even number\n",
      "19 s an odd number\n"
     ]
    }
   ],
   "source": [
    "#wap ask the user to print a number is even or odd\n",
    "#consider number from 10 to 20\n",
    "#for loop\n",
    "#while loop\n",
    "for i in range(10,20):\n",
    "    if i%2==0:\n",
    "        print(\"{} is an even number\".format(i))\n",
    "    else:\n",
    "        print(\"{} s an odd number\".format(i))"
   ]
  },
  {
   "cell_type": "code",
   "execution_count": 28,
   "id": "f6e26df6",
   "metadata": {},
   "outputs": [
    {
     "name": "stdout",
     "output_type": "stream",
     "text": [
      "11 is an odd number\n",
      "12 is an even number\n",
      "13 is an odd number\n",
      "14 is an even number\n",
      "15 is an odd number\n",
      "16 is an even number\n",
      "17 is an odd number\n",
      "18 is an even number\n",
      "19 is an odd number\n",
      "20 is an even number\n"
     ]
    }
   ],
   "source": [
    "i=10\n",
    "while i<20:\n",
    "    i=i+1\n",
    "    if i%2==0:\n",
    "        print(\"{} is an even number\".format(i))\n",
    "    else:\n",
    "        print(\"{} is an odd number\".format(i))\n",
    "    "
   ]
  },
  {
   "cell_type": "code",
   "execution_count": 31,
   "id": "5803273c",
   "metadata": {},
   "outputs": [
    {
     "name": "stdout",
     "output_type": "stream",
     "text": [
      "1\n",
      "3\n",
      "6\n",
      "10\n",
      "15\n",
      "21\n",
      "28\n",
      "36\n",
      "45\n"
     ]
    }
   ],
   "source": [
    "#print sum of first 10 natural numbers\n",
    "#ans should be 55\n",
    "#for loop\n",
    "#while loop\n",
    "summ=0\n",
    "for i in range(1,10):\n",
    "    summ+=i\n",
    "    print(summ)\n",
    "    \n",
    "    "
   ]
  },
  {
   "cell_type": "code",
   "execution_count": 34,
   "id": "caf4b457",
   "metadata": {},
   "outputs": [
    {
     "name": "stdout",
     "output_type": "stream",
     "text": [
      "55\n"
     ]
    }
   ],
   "source": [
    "i=1\n",
    "summ=0\n",
    "while i<11:\n",
    "    summ+=i\n",
    "    i=i+1\n",
    "    \n",
    "print(summ)"
   ]
  },
  {
   "cell_type": "code",
   "execution_count": 37,
   "id": "52f79640",
   "metadata": {},
   "outputs": [
    {
     "name": "stdout",
     "output_type": "stream",
     "text": [
      "379\n"
     ]
    }
   ],
   "source": [
    "#wap get 10 random nubers between 1 to 100\n",
    "#and summ those numbers\n",
    "#for loop\n",
    "#while loop\n",
    "import random\n",
    "summ=0\n",
    "for i in range(10):\n",
    "    r=random.randint(1,100)\n",
    "    summ=summ+r\n",
    "    \n",
    "print(summ)\n",
    "    "
   ]
  },
  {
   "cell_type": "code",
   "execution_count": 38,
   "id": "d4c2e2f1",
   "metadata": {},
   "outputs": [
    {
     "name": "stdout",
     "output_type": "stream",
     "text": [
      "507\n"
     ]
    }
   ],
   "source": [
    "i=0\n",
    "summ=0\n",
    "while i<=10:\n",
    "    r=random.randint(1,100)\n",
    "    summ=summ+r\n",
    "    i=i+1\n",
    "    \n",
    "print(summ)"
   ]
  },
  {
   "cell_type": "code",
   "execution_count": 39,
   "id": "e3b36906",
   "metadata": {},
   "outputs": [
    {
     "name": "stdout",
     "output_type": "stream",
     "text": [
      "9\n"
     ]
    }
   ],
   "source": [
    "#wap ask the user get a 10 random numbers between 10 to 100\n",
    "#count how many are greater than 50\n",
    "#for loop \n",
    "#while loop\n",
    "import random\n",
    "count=0\n",
    "for i in range(10):\n",
    "    num=random.randint(10,100)\n",
    "    if num>50:\n",
    "        count+=1\n",
    "        \n",
    "print(count)"
   ]
  },
  {
   "cell_type": "code",
   "execution_count": 40,
   "id": "ec785868",
   "metadata": {},
   "outputs": [
    {
     "name": "stdout",
     "output_type": "stream",
     "text": [
      "97 63 2\n"
     ]
    }
   ],
   "source": [
    "i=0\n",
    "count=0\n",
    "while i<10:\n",
    "    num=random.randint(10,100)\n",
    "    if num>50:\n",
    "        print(num,end=' ')\n",
    "        count+=1\n",
    "        \n",
    "    i=i+1\n",
    "    \n",
    "print(count)"
   ]
  },
  {
   "cell_type": "code",
   "execution_count": 44,
   "id": "178a7851",
   "metadata": {},
   "outputs": [
    {
     "name": "stdout",
     "output_type": "stream",
     "text": [
      "3\n"
     ]
    }
   ],
   "source": [
    "#wap ask the user get a 10 random numbers between 0 to 10\n",
    "#count how many are greater than 50 and equal=0\n",
    "#for loop \n",
    "#while loop\n",
    "import random\n",
    "count=0\n",
    "for i in range(10):\n",
    "    num=random.randint(0,10)\n",
    "    if num>5 or num==0:\n",
    "        count+=1\n",
    "        \n",
    "print(count)"
   ]
  },
  {
   "cell_type": "code",
   "execution_count": 45,
   "id": "1c8f7376",
   "metadata": {},
   "outputs": [
    {
     "name": "stdout",
     "output_type": "stream",
     "text": [
      "10 0 7 9 10 6 9 0 8\n"
     ]
    }
   ],
   "source": [
    "i=0\n",
    "count=0\n",
    "while i<10:\n",
    "    num=random.randint(0,10)\n",
    "    if num>5 or num==0:\n",
    "        print(num,end=' ')\n",
    "        count+=1\n",
    "        \n",
    "    i=i+1\n",
    "    \n",
    "print(count)"
   ]
  },
  {
   "cell_type": "code",
   "execution_count": 46,
   "id": "2bad4da4",
   "metadata": {},
   "outputs": [
    {
     "name": "stdout",
     "output_type": "stream",
     "text": [
      "5\n"
     ]
    }
   ],
   "source": [
    "#wap ask the user get a 10 random numbers between 0 to 10\n",
    "#count how many are greater than 50 \n",
    "# how many are equal=0\n",
    "#for loop \n",
    "#while loop\n",
    "import random\n",
    "count=0\n",
    "for i in range(10):\n",
    "    num=random.randint(10,100)\n",
    "    if num>50:\n",
    "        count+=1\n",
    "    elif num==0:\n",
    "        count+=1\n",
    "        \n",
    "print(count)\n"
   ]
  },
  {
   "cell_type": "code",
   "execution_count": 49,
   "id": "a9b9e558",
   "metadata": {},
   "outputs": [
    {
     "name": "stdout",
     "output_type": "stream",
     "text": [
      "9 1\n",
      "0\n"
     ]
    }
   ],
   "source": [
    "i=0\n",
    "count_5=0\n",
    "count_0=0\n",
    "while i<10:\n",
    "    num=random.randint(0,10)\n",
    "    if num>5:\n",
    "        print(num,end=' ')\n",
    "        count_5+=1\n",
    "    elif num==0:\n",
    "        print(num,end=' ')\n",
    "        count_0+=1\n",
    "        \n",
    "    i=i+1\n",
    "    \n",
    "print(count_5)\n",
    "print(count_0)"
   ]
  },
  {
   "cell_type": "code",
   "execution_count": 52,
   "id": "469e45cd",
   "metadata": {},
   "outputs": [
    {
     "name": "stdout",
     "output_type": "stream",
     "text": [
      "enter number between 1 1nd 10:7\n",
      "you lost\n",
      "enter number between 1 1nd 10:4\n",
      "you lost\n",
      "enter number between 1 1nd 10:3\n",
      "you won\n"
     ]
    }
   ],
   "source": [
    "#5 times\n",
    "#take a random number from random package between 1 to 10\n",
    "#===========you need to repeat three times\n",
    "#ask the user enter a number between 1 to 10\n",
    "#if the number == random number:\n",
    "#       print(\"you won\")\n",
    "#else:\n",
    "#     print(\"you lost\")  \n",
    "import random\n",
    "i=0\n",
    "while i<5:\n",
    "    random_num=random.randint(1,10)\n",
    "    user_num=eval(input(\"enter number between 1 1nd 10:\"))\n",
    "    if user_num==random_num:\n",
    "        print(\"you won\")\n",
    "        break\n",
    "    else:\n",
    "        print(\"you lost\")\n",
    "        \n",
    "    i=i+1"
   ]
  },
  {
   "cell_type": "code",
   "execution_count": 4,
   "id": "52b0d3a0",
   "metadata": {},
   "outputs": [
    {
     "name": "stdout",
     "output_type": "stream",
     "text": [
      "you still do not have enough money to start playing:\n",
      "enter the withdrawl amount:5000\n",
      "now, you are ready to play the game\n",
      "account balance: 5200\n",
      "e-wallet balance: 5000\n"
     ]
    }
   ],
   "source": [
    "#500\n",
    "#500\n",
    "#200=========500+200\n",
    "#con1: 1000====go to play\n",
    "#con2: 500\n",
    "#      take the money\n",
    "#      500+100 <1000\n",
    "#      take the money\n",
    "#      100\n",
    "#      500+100+100\n",
    "e_wallet=5000\n",
    "current_acc=200\n",
    "while current_acc<1000:\n",
    "    print(\"you still do not have enough money to start playing:\")\n",
    "    withdraw=eval(input(\"enter the withdrawl amount:\"))\n",
    "    if (withdraw>e_wallet):\n",
    "        print(\"notenough balance in e_wallet:\")\n",
    "    elif(e_wallet==0):\n",
    "        print(\"e_wallet balance is nill:\")\n",
    "        break\n",
    "    else:\n",
    "        current_acc+=withdraw\n",
    "        e_wallet=withdraw\n",
    "if(current_acc>=1000):\n",
    "    print(\"now, you are ready to play the game\")\n",
    "    print(\"account balance:\", current_acc)\n",
    "    print(\"e-wallet balance:\",e_wallet)"
   ]
  }
 ],
 "metadata": {
  "kernelspec": {
   "display_name": "Python 3 (ipykernel)",
   "language": "python",
   "name": "python3"
  },
  "language_info": {
   "codemirror_mode": {
    "name": "ipython",
    "version": 3
   },
   "file_extension": ".py",
   "mimetype": "text/x-python",
   "name": "python",
   "nbconvert_exporter": "python",
   "pygments_lexer": "ipython3",
   "version": "3.11.5"
  }
 },
 "nbformat": 4,
 "nbformat_minor": 5
}
