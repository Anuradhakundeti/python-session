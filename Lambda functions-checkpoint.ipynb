{
 "cells": [
  {
   "cell_type": "code",
   "execution_count": 1,
   "id": "d58cc74f",
   "metadata": {},
   "outputs": [
    {
     "data": {
      "text/plain": [
       "30"
      ]
     },
     "execution_count": 1,
     "metadata": {},
     "output_type": "execute_result"
    }
   ],
   "source": [
    "def add(x):\n",
    "    return(x+10)\n",
    "\n",
    "add(20)"
   ]
  },
  {
   "cell_type": "code",
   "execution_count": 5,
   "id": "6cacd347",
   "metadata": {},
   "outputs": [
    {
     "data": {
      "text/plain": [
       "70"
      ]
     },
     "execution_count": 5,
     "metadata": {},
     "output_type": "execute_result"
    }
   ],
   "source": [
    "def add(x):\n",
    "    summ=x+10\n",
    "    return(summ)\n",
    "add(60)"
   ]
  },
  {
   "cell_type": "markdown",
   "id": "ae8238ac",
   "metadata": {},
   "source": [
    "*one argunment"
   ]
  },
  {
   "cell_type": "code",
   "execution_count": 6,
   "id": "00c407fc",
   "metadata": {},
   "outputs": [
    {
     "data": {
      "text/plain": [
       "70"
      ]
     },
     "execution_count": 6,
     "metadata": {},
     "output_type": "execute_result"
    }
   ],
   "source": [
    "#how many arguments are present?:x\n",
    "#what you are returning?:x+10\n",
    "# format: lambda <argument_name>:<output>\n",
    "add=lambda x:x+10\n",
    "add(60)"
   ]
  },
  {
   "cell_type": "code",
   "execution_count": 7,
   "id": "234fd6a8",
   "metadata": {},
   "outputs": [],
   "source": [
    "def square(x):\n",
    "    return(x*x)"
   ]
  },
  {
   "cell_type": "code",
   "execution_count": 9,
   "id": "f10a8020",
   "metadata": {},
   "outputs": [
    {
     "data": {
      "text/plain": [
       "25"
      ]
     },
     "execution_count": 9,
     "metadata": {},
     "output_type": "execute_result"
    }
   ],
   "source": [
    "square=lambda a:a*a\n",
    "square(5)"
   ]
  },
  {
   "cell_type": "code",
   "execution_count": 10,
   "id": "31f8d9e3",
   "metadata": {},
   "outputs": [],
   "source": [
    "def cube(x):\n",
    "    return(x*x*x)"
   ]
  },
  {
   "cell_type": "code",
   "execution_count": 11,
   "id": "040c9a21",
   "metadata": {},
   "outputs": [
    {
     "data": {
      "text/plain": [
       "343"
      ]
     },
     "execution_count": 11,
     "metadata": {},
     "output_type": "execute_result"
    }
   ],
   "source": [
    "cube=lambda a:a*a*a\n",
    "cube(7)"
   ]
  },
  {
   "cell_type": "markdown",
   "id": "210f5fad",
   "metadata": {},
   "source": [
    "*two arguments"
   ]
  },
  {
   "cell_type": "code",
   "execution_count": 12,
   "id": "9b1453d3",
   "metadata": {},
   "outputs": [
    {
     "data": {
      "text/plain": [
       "16"
      ]
     },
     "execution_count": 12,
     "metadata": {},
     "output_type": "execute_result"
    }
   ],
   "source": [
    "#how many arguments are present?:x\n",
    "#what you are returning?:x+10\n",
    "# format: lambda <arg1>,<arg2>:<output>\n",
    "def add(a,b):\n",
    "    return(a+b)\n",
    "add(7,9)"
   ]
  },
  {
   "cell_type": "code",
   "execution_count": 18,
   "id": "67073e40",
   "metadata": {},
   "outputs": [
    {
     "data": {
      "text/plain": [
       "5.0"
      ]
     },
     "execution_count": 18,
     "metadata": {},
     "output_type": "execute_result"
    }
   ],
   "source": [
    "#implement the average of three numbers using lambda\n",
    "average=lambda a,b,c:(a+b+c)/3\n",
    "average(5,5,5)"
   ]
  },
  {
   "cell_type": "code",
   "execution_count": 19,
   "id": "6eae3c89",
   "metadata": {},
   "outputs": [
    {
     "data": {
      "text/plain": [
       "5.67"
      ]
     },
     "execution_count": 19,
     "metadata": {},
     "output_type": "execute_result"
    }
   ],
   "source": [
    "#implement average make c as default parameter\n",
    "average=lambda a,b,c=5:round((a+b+c)/3,2)\n",
    "average(7,5)"
   ]
  },
  {
   "cell_type": "code",
   "execution_count": 20,
   "id": "2317895d",
   "metadata": {},
   "outputs": [
    {
     "data": {
      "text/plain": [
       "26.67"
      ]
     },
     "execution_count": 20,
     "metadata": {},
     "output_type": "execute_result"
    }
   ],
   "source": [
    "round(26.66666,2)"
   ]
  },
  {
   "cell_type": "markdown",
   "id": "c7f72aff",
   "metadata": {},
   "source": [
    "**if-else**"
   ]
  },
  {
   "cell_type": "code",
   "execution_count": 22,
   "id": "8fd8c6e8",
   "metadata": {},
   "outputs": [
    {
     "data": {
      "text/plain": [
       "7"
      ]
     },
     "execution_count": 22,
     "metadata": {},
     "output_type": "execute_result"
    }
   ],
   "source": [
    "#create a function for finding greater number between two numbers\n",
    "def greater(num1,num2):\n",
    "    if num1>num2:\n",
    "        return(num1)\n",
    "    else:\n",
    "        return(num2)\n",
    "    \n",
    "greater(7,5)"
   ]
  },
  {
   "cell_type": "code",
   "execution_count": 27,
   "id": "08a26526",
   "metadata": {},
   "outputs": [],
   "source": [
    "l1=[]\n",
    "def greater(num1,num2):\n",
    "    if num1>num2:\n",
    "        l1.append(num1)\n",
    "    else:\n",
    "        l1.append(num2)\n",
    "    \n",
    "greater(7,5)"
   ]
  },
  {
   "cell_type": "code",
   "execution_count": 28,
   "id": "ad4cf91b",
   "metadata": {},
   "outputs": [
    {
     "data": {
      "text/plain": [
       "[7]"
      ]
     },
     "execution_count": 28,
     "metadata": {},
     "output_type": "execute_result"
    }
   ],
   "source": [
    "l1=[<if_output> <if_ con> else <else_op> <loop>]"
   ]
  },
  {
   "cell_type": "code",
   "execution_count": 29,
   "id": "317ac33c",
   "metadata": {},
   "outputs": [
    {
     "data": {
      "text/plain": [
       "200"
      ]
     },
     "execution_count": 29,
     "metadata": {},
     "output_type": "execute_result"
    }
   ],
   "source": [
    "def greater(n1,n2):\n",
    "    if n1>n2:\n",
    "        return(n1)\n",
    "    else:\n",
    "        return(n2)\n",
    "    \n",
    "greater(100,200)\n",
    "#format:\n",
    "#lambda <arg1>,<arg2>: <if_output> <if_ con> else <else_op>"
   ]
  },
  {
   "cell_type": "code",
   "execution_count": 32,
   "id": "a878f6ea",
   "metadata": {},
   "outputs": [
    {
     "data": {
      "text/plain": [
       "3"
      ]
     },
     "execution_count": 32,
     "metadata": {},
     "output_type": "execute_result"
    }
   ],
   "source": [
    "greater=lambda a,b:(a if a>b else b)\n",
    "greater(0,3)"
   ]
  },
  {
   "cell_type": "markdown",
   "id": "75282162",
   "metadata": {},
   "source": [
    "-lambda function is nothing but create a function\n",
    "-one argument\n",
    "-multiple arguments\n",
    "-if else conditions\n",
    "-if else conditions same like list compehenshion"
   ]
  },
  {
   "cell_type": "code",
   "execution_count": 2,
   "id": "578b2c75",
   "metadata": {},
   "outputs": [
    {
     "name": "stdout",
     "output_type": "stream",
     "text": [
      "['Hyd']\n",
      "['Hyd', 'Mumbai']\n",
      "['Hyd', 'Mumbai', 'Chennai']\n"
     ]
    },
    {
     "data": {
      "text/plain": [
       "['Hyd', 'Mumbai', 'Chennai']"
      ]
     },
     "execution_count": 2,
     "metadata": {},
     "output_type": "execute_result"
    }
   ],
   "source": [
    "list1=['hyd','mumbai','chennai']\n",
    "#output: ['Hyd','Mumbai','Chennai']\n",
    "# M-1: use append method\n",
    "list2=[]\n",
    "for i in list1:\n",
    "    list2.append(i.capitalize())\n",
    "    print(list2)\n",
    "# M-2: use list comprhenshion\n",
    "[i.capitalize() for i in list1]\n",
    "# M-3: make a lambda function"
   ]
  },
  {
   "cell_type": "code",
   "execution_count": null,
   "id": "c32ca7e0",
   "metadata": {},
   "outputs": [],
   "source": [
    "lambda <arguments>: <output>"
   ]
  },
  {
   "cell_type": "code",
   "execution_count": null,
   "id": "bf54a1d2",
   "metadata": {},
   "outputs": [],
   "source": [
    "# whenever you use iterations\n",
    "# iterator: some thing can be iterbale/ you can print using for loop\n",
    "# list ,string, tuple, dictionary"
   ]
  },
  {
   "cell_type": "code",
   "execution_count": null,
   "id": "d2937e17",
   "metadata": {},
   "outputs": [],
   "source": [
    "lambda <arguments>: <output>,<iterator>\n",
    "[i.capitalize() for i in list1]"
   ]
  },
  {
   "cell_type": "code",
   "execution_count": 5,
   "id": "cca98909",
   "metadata": {},
   "outputs": [
    {
     "data": {
      "text/plain": [
       "(<function __main__.<lambda>(i)>, ['hyd', 'chennai', 'mumbai'])"
      ]
     },
     "execution_count": 5,
     "metadata": {},
     "output_type": "execute_result"
    }
   ],
   "source": [
    "list1=['hyd','chennai','mumbai']\n",
    "lambda i:i.capitalize(),list1"
   ]
  },
  {
   "cell_type": "code",
   "execution_count": null,
   "id": "1e36b65e",
   "metadata": {},
   "outputs": [],
   "source": [
    "lambda <arg>:<output>"
   ]
  },
  {
   "cell_type": "code",
   "execution_count": null,
   "id": "a2f13a64",
   "metadata": {},
   "outputs": [],
   "source": [
    "- next thing is map input and output"
   ]
  },
  {
   "cell_type": "code",
   "execution_count": 6,
   "id": "76a83f95",
   "metadata": {},
   "outputs": [
    {
     "data": {
      "text/plain": [
       "<map at 0x1d585db1ed0>"
      ]
     },
     "execution_count": 6,
     "metadata": {},
     "output_type": "execute_result"
    }
   ],
   "source": [
    "list1=['hyd','chennai','mumbai']\n",
    "map(lambda i:i.capitalize(),list1)"
   ]
  },
  {
   "cell_type": "code",
   "execution_count": null,
   "id": "a4d72151",
   "metadata": {},
   "outputs": [],
   "source": [
    "- store the output"
   ]
  },
  {
   "cell_type": "code",
   "execution_count": 7,
   "id": "513aba19",
   "metadata": {},
   "outputs": [
    {
     "data": {
      "text/plain": [
       "['Hyd', 'Chennai', 'Mumbai']"
      ]
     },
     "execution_count": 7,
     "metadata": {},
     "output_type": "execute_result"
    }
   ],
   "source": [
    "list(map(lambda i:i.capitalize(),list1))"
   ]
  },
  {
   "cell_type": "markdown",
   "id": "edd40d46",
   "metadata": {},
   "source": [
    "-first make a lambda function\n",
    "-second add your iterator\n",
    "-map both function and iterator\n",
    "-save the result in a list"
   ]
  },
  {
   "cell_type": "code",
   "execution_count": null,
   "id": "d841e02f",
   "metadata": {},
   "outputs": [],
   "source": [
    "list1=['hyd','chennai','mumbai']\n",
    "lambda i:i.capitalize(),list1\n",
    "map(lambda i:i.capitalize(),list1)\n",
    "list(map(lambda i:i.capitalize(),list1))"
   ]
  },
  {
   "cell_type": "code",
   "execution_count": 1,
   "id": "9deae60c",
   "metadata": {},
   "outputs": [
    {
     "name": "stdout",
     "output_type": "stream",
     "text": [
      "1\n",
      "4\n",
      "9\n",
      "16\n",
      "25\n"
     ]
    }
   ],
   "source": [
    "list1=[1,2,3,4,5]\n",
    "# [1,4,9,16,25]\n",
    "\n",
    "list(map(lambda i:i*i,list1))\n",
    "for i in map(lambda i:i*i,list1):\n",
    "    print(i)"
   ]
  },
  {
   "cell_type": "code",
   "execution_count": 2,
   "id": "44994179",
   "metadata": {},
   "outputs": [
    {
     "name": "stdout",
     "output_type": "stream",
     "text": [
      "12\n",
      "24\n",
      "36\n"
     ]
    }
   ],
   "source": [
    "list1=[1,2,3]\n",
    "list2=[11,22,33]\n",
    "# [12,24,36]\n",
    "for i,j in zip(list1,list2):\n",
    "     print(i+j)"
   ]
  },
  {
   "cell_type": "code",
   "execution_count": 3,
   "id": "b6554b5a",
   "metadata": {},
   "outputs": [
    {
     "data": {
      "text/plain": [
       "'<map object at 0x000001CAF6101AE0>'"
      ]
     },
     "execution_count": 3,
     "metadata": {},
     "output_type": "execute_result"
    }
   ],
   "source": [
    "str(map(lambda i,j:i+j, list1,list2))"
   ]
  },
  {
   "cell_type": "code",
   "execution_count": 4,
   "id": "131919b1",
   "metadata": {},
   "outputs": [
    {
     "data": {
      "text/plain": [
       "<map at 0x1caf6101690>"
      ]
     },
     "execution_count": 4,
     "metadata": {},
     "output_type": "execute_result"
    }
   ],
   "source": [
    "map(lambda i,j:i+j, list1,list2)"
   ]
  },
  {
   "cell_type": "code",
   "execution_count": 5,
   "id": "d47b9e9f",
   "metadata": {},
   "outputs": [
    {
     "data": {
      "text/plain": [
       "'[]'"
      ]
     },
     "execution_count": 5,
     "metadata": {},
     "output_type": "execute_result"
    }
   ],
   "source": [
    "str([])"
   ]
  },
  {
   "cell_type": "code",
   "execution_count": null,
   "id": "0361fdb3",
   "metadata": {},
   "outputs": [],
   "source": [
    "i.capitalize()\n",
    "i*i\n",
    "i+j"
   ]
  },
  {
   "cell_type": "code",
   "execution_count": 6,
   "id": "9c8784e0",
   "metadata": {},
   "outputs": [
    {
     "name": "stdout",
     "output_type": "stream",
     "text": [
      "['h#d']\n",
      "['h#d', 'mum#bai']\n"
     ]
    },
    {
     "data": {
      "text/plain": [
       "['h#d', 'mum#bai']"
      ]
     },
     "execution_count": 6,
     "metadata": {},
     "output_type": "execute_result"
    }
   ],
   "source": [
    "list1=['h#d','mum#bai','chennai']\n",
    "#['h#d','mum#bai']\n",
    "list1=['h#d','mum#bai','chennai']\n",
    "list2=[]\n",
    "for i in list1:\n",
    "    if '#' in i:\n",
    "        list2.append(i)\n",
    "        print(list2)\n",
    "\n",
    "[i for i in list1 if '#' in i]"
   ]
  },
  {
   "cell_type": "code",
   "execution_count": 11,
   "id": "af063dfd",
   "metadata": {},
   "outputs": [],
   "source": [
    "#lambda <argument>:<condition>,<iterator>"
   ]
  },
  {
   "cell_type": "code",
   "execution_count": 8,
   "id": "36f77883",
   "metadata": {},
   "outputs": [
    {
     "data": {
      "text/plain": [
       "[True, True, False]"
      ]
     },
     "execution_count": 8,
     "metadata": {},
     "output_type": "execute_result"
    }
   ],
   "source": [
    "list1=['h#d','mum#bai','chennai']\n",
    "list(map(lambda i: '#' in i,list1))\n",
    "# condition mapping to list of items"
   ]
  },
  {
   "cell_type": "code",
   "execution_count": 9,
   "id": "f965fd78",
   "metadata": {},
   "outputs": [
    {
     "data": {
      "text/plain": [
       "['h#d', 'mum#bai']"
      ]
     },
     "execution_count": 9,
     "metadata": {},
     "output_type": "execute_result"
    }
   ],
   "source": [
    "list1=['h#d','mum#bai','chennai']\n",
    "list(filter(lambda i: '#' in i,list1))"
   ]
  },
  {
   "cell_type": "code",
   "execution_count": 10,
   "id": "bd4a2b46",
   "metadata": {},
   "outputs": [
    {
     "data": {
      "text/plain": [
       "True"
      ]
     },
     "execution_count": 10,
     "metadata": {},
     "output_type": "execute_result"
    }
   ],
   "source": [
    "list1=['h#d','mum#bai','chennai']\n",
    "'#' in 'h#d'\n",
    "'#' in 'mum#bai'"
   ]
  },
  {
   "cell_type": "code",
   "execution_count": null,
   "id": "2cb8c6a5",
   "metadata": {},
   "outputs": [],
   "source": []
  }
 ],
 "metadata": {
  "kernelspec": {
   "display_name": "Python 3 (ipykernel)",
   "language": "python",
   "name": "python3"
  },
  "language_info": {
   "codemirror_mode": {
    "name": "ipython",
    "version": 3
   },
   "file_extension": ".py",
   "mimetype": "text/x-python",
   "name": "python",
   "nbconvert_exporter": "python",
   "pygments_lexer": "ipython3",
   "version": "3.11.5"
  }
 },
 "nbformat": 4,
 "nbformat_minor": 5
}
