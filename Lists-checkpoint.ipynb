{
 "cells": [
  {
   "cell_type": "markdown",
   "id": "0f0f09e4",
   "metadata": {},
   "source": [
    "- Read the strings\n",
    "- type\n",
    "- max\n",
    "- min\n",
    "- len\n",
    "- in (for loop)\n",
    "- range\n",
    "- index\n",
    "- mutable\n",
    "- slice\n",
    "- methods"
   ]
  },
  {
   "cell_type": "markdown",
   "id": "d8dc04e2",
   "metadata": {},
   "source": [
    "array of elements"
   ]
  },
  {
   "cell_type": "code",
   "execution_count": 1,
   "id": "c62277e2",
   "metadata": {},
   "outputs": [],
   "source": [
    "string1='python'"
   ]
  },
  {
   "cell_type": "code",
   "execution_count": 25,
   "id": "28b247a9",
   "metadata": {},
   "outputs": [
    {
     "data": {
      "text/plain": [
       "[1, 2, 3, 4]"
      ]
     },
     "execution_count": 25,
     "metadata": {},
     "output_type": "execute_result"
    }
   ],
   "source": [
    "list1=[1,2,3,4]\n",
    "list1"
   ]
  },
  {
   "cell_type": "code",
   "execution_count": 4,
   "id": "bbb70c8c",
   "metadata": {},
   "outputs": [
    {
     "data": {
      "text/plain": [
       "['A,B,C,D']"
      ]
     },
     "execution_count": 4,
     "metadata": {},
     "output_type": "execute_result"
    }
   ],
   "source": [
    "list2=['A,B,C,D']\n",
    "list2"
   ]
  },
  {
   "cell_type": "code",
   "execution_count": 5,
   "id": "b3258a29",
   "metadata": {},
   "outputs": [
    {
     "data": {
      "text/plain": [
       "[1, 2, 3, 4, 'A,B,C,D']"
      ]
     },
     "execution_count": 5,
     "metadata": {},
     "output_type": "execute_result"
    }
   ],
   "source": [
    "list3=[1,2,3,4,'A,B,C,D']\n",
    "list3"
   ]
  },
  {
   "cell_type": "code",
   "execution_count": 6,
   "id": "014e3e97",
   "metadata": {},
   "outputs": [
    {
     "data": {
      "text/plain": [
       "[1, 'Apple', 10.5, (10+20j), True]"
      ]
     },
     "execution_count": 6,
     "metadata": {},
     "output_type": "execute_result"
    }
   ],
   "source": [
    "list4=[1,'Apple',10.5,10+20j,True]\n",
    "list4"
   ]
  },
  {
   "cell_type": "code",
   "execution_count": 7,
   "id": "c5659738",
   "metadata": {},
   "outputs": [
    {
     "data": {
      "text/plain": [
       "[100, 100, 100]"
      ]
     },
     "execution_count": 7,
     "metadata": {},
     "output_type": "execute_result"
    }
   ],
   "source": [
    "list5=[100,100,100]\n",
    "list5"
   ]
  },
  {
   "cell_type": "code",
   "execution_count": 8,
   "id": "9d4ab031",
   "metadata": {},
   "outputs": [
    {
     "data": {
      "text/plain": [
       "[[1, 2, 3, 4]]"
      ]
     },
     "execution_count": 8,
     "metadata": {},
     "output_type": "execute_result"
    }
   ],
   "source": [
    "list6=[[1,2,3,4]]\n",
    "list6"
   ]
  },
  {
   "cell_type": "markdown",
   "id": "d009f0c4",
   "metadata": {},
   "source": [
    "- list is an array of elements\n",
    "- list elements heterogeneous(different) data types are allowed\n",
    "- duplicates are allowed\n",
    "- list in list also works"
   ]
  },
  {
   "cell_type": "markdown",
   "id": "e5e8cc4d",
   "metadata": {},
   "source": [
    "type"
   ]
  },
  {
   "cell_type": "code",
   "execution_count": 9,
   "id": "54b21d0e",
   "metadata": {},
   "outputs": [
    {
     "data": {
      "text/plain": [
       "list"
      ]
     },
     "execution_count": 9,
     "metadata": {},
     "output_type": "execute_result"
    }
   ],
   "source": [
    "type(list3)"
   ]
  },
  {
   "cell_type": "markdown",
   "id": "a7ff246e",
   "metadata": {},
   "source": [
    "max"
   ]
  },
  {
   "cell_type": "code",
   "execution_count": 10,
   "id": "966581a1",
   "metadata": {},
   "outputs": [
    {
     "data": {
      "text/plain": [
       "[1, 2, 3, 4]"
      ]
     },
     "execution_count": 10,
     "metadata": {},
     "output_type": "execute_result"
    }
   ],
   "source": [
    "list1"
   ]
  },
  {
   "cell_type": "code",
   "execution_count": 11,
   "id": "4cf6878a",
   "metadata": {},
   "outputs": [
    {
     "data": {
      "text/plain": [
       "['A,B,C,D']"
      ]
     },
     "execution_count": 11,
     "metadata": {},
     "output_type": "execute_result"
    }
   ],
   "source": [
    "list2"
   ]
  },
  {
   "cell_type": "code",
   "execution_count": 12,
   "id": "b64fa315",
   "metadata": {},
   "outputs": [
    {
     "name": "stdout",
     "output_type": "stream",
     "text": [
      "4\n",
      "A,B,C,D\n"
     ]
    },
    {
     "ename": "TypeError",
     "evalue": "'>' not supported between instances of 'str' and 'int'",
     "output_type": "error",
     "traceback": [
      "\u001b[1;31m---------------------------------------------------------------------------\u001b[0m",
      "\u001b[1;31mTypeError\u001b[0m                                 Traceback (most recent call last)",
      "Cell \u001b[1;32mIn[12], line 3\u001b[0m\n\u001b[0;32m      1\u001b[0m \u001b[38;5;28mprint\u001b[39m(\u001b[38;5;28mmax\u001b[39m(list1))\n\u001b[0;32m      2\u001b[0m \u001b[38;5;28mprint\u001b[39m(\u001b[38;5;28mmax\u001b[39m(list2))\n\u001b[1;32m----> 3\u001b[0m \u001b[38;5;28mprint\u001b[39m(\u001b[38;5;28mmax\u001b[39m(list3))\n",
      "\u001b[1;31mTypeError\u001b[0m: '>' not supported between instances of 'str' and 'int'"
     ]
    }
   ],
   "source": [
    "print(max(list1))   # 4     \n",
    "print(max(list2))  #D=====>ascii word\n",
    "print(max(list3)) # error we cant compare different data type"
   ]
  },
  {
   "cell_type": "markdown",
   "id": "09c2c0a2",
   "metadata": {},
   "source": [
    "min"
   ]
  },
  {
   "cell_type": "code",
   "execution_count": 15,
   "id": "f235c4b2",
   "metadata": {},
   "outputs": [
    {
     "name": "stdout",
     "output_type": "stream",
     "text": [
      "1\n",
      "A,B,C,D\n"
     ]
    },
    {
     "ename": "TypeError",
     "evalue": "'<' not supported between instances of 'str' and 'int'",
     "output_type": "error",
     "traceback": [
      "\u001b[1;31m---------------------------------------------------------------------------\u001b[0m",
      "\u001b[1;31mTypeError\u001b[0m                                 Traceback (most recent call last)",
      "Cell \u001b[1;32mIn[15], line 3\u001b[0m\n\u001b[0;32m      1\u001b[0m \u001b[38;5;28mprint\u001b[39m(\u001b[38;5;28mmin\u001b[39m(list1))   \u001b[38;5;66;03m# 1     \u001b[39;00m\n\u001b[0;32m      2\u001b[0m \u001b[38;5;28mprint\u001b[39m(\u001b[38;5;28mmin\u001b[39m(list2))  \u001b[38;5;66;03m#A=====>ascii word\u001b[39;00m\n\u001b[1;32m----> 3\u001b[0m \u001b[38;5;28mprint\u001b[39m(\u001b[38;5;28mmin\u001b[39m(list3))\n",
      "\u001b[1;31mTypeError\u001b[0m: '<' not supported between instances of 'str' and 'int'"
     ]
    }
   ],
   "source": [
    "print(min(list1))   # 1     \n",
    "print(min(list2))  #A=====>ascii word\n",
    "print(min(list3)) # error we cant compare different data type"
   ]
  },
  {
   "cell_type": "markdown",
   "id": "05133ce5",
   "metadata": {},
   "source": [
    "len"
   ]
  },
  {
   "cell_type": "code",
   "execution_count": 16,
   "id": "e6522b5c",
   "metadata": {},
   "outputs": [
    {
     "name": "stdout",
     "output_type": "stream",
     "text": [
      "4\n",
      "1\n",
      "5\n"
     ]
    }
   ],
   "source": [
    "print(len(list1))\n",
    "print(len(list2))\n",
    "print(len(list3))"
   ]
  },
  {
   "cell_type": "markdown",
   "id": "37de4d11",
   "metadata": {},
   "source": [
    "sum"
   ]
  },
  {
   "cell_type": "code",
   "execution_count": 17,
   "id": "1604fdb0",
   "metadata": {},
   "outputs": [
    {
     "name": "stdout",
     "output_type": "stream",
     "text": [
      "[1, 2, 3, 4]\n",
      "10\n"
     ]
    }
   ],
   "source": [
    "print(list1)\n",
    "print(sum(list1))"
   ]
  },
  {
   "cell_type": "code",
   "execution_count": 18,
   "id": "a2fcce91",
   "metadata": {},
   "outputs": [
    {
     "name": "stdout",
     "output_type": "stream",
     "text": [
      "['A,B,C,D']\n"
     ]
    },
    {
     "ename": "TypeError",
     "evalue": "unsupported operand type(s) for +: 'int' and 'str'",
     "output_type": "error",
     "traceback": [
      "\u001b[1;31m---------------------------------------------------------------------------\u001b[0m",
      "\u001b[1;31mTypeError\u001b[0m                                 Traceback (most recent call last)",
      "Cell \u001b[1;32mIn[18], line 2\u001b[0m\n\u001b[0;32m      1\u001b[0m \u001b[38;5;28mprint\u001b[39m(list2)\n\u001b[1;32m----> 2\u001b[0m \u001b[38;5;28mprint\u001b[39m(\u001b[38;5;28msum\u001b[39m(list2))\n",
      "\u001b[1;31mTypeError\u001b[0m: unsupported operand type(s) for +: 'int' and 'str'"
     ]
    }
   ],
   "source": [
    "print(list2)\n",
    "print(sum(list2))"
   ]
  },
  {
   "cell_type": "markdown",
   "id": "5e5ec15e",
   "metadata": {},
   "source": [
    "- sum\n",
    "- eval\n",
    "- range"
   ]
  },
  {
   "cell_type": "markdown",
   "id": "1e93021a",
   "metadata": {},
   "source": [
    "in"
   ]
  },
  {
   "cell_type": "code",
   "execution_count": 24,
   "id": "7bb31e7d",
   "metadata": {},
   "outputs": [
    {
     "data": {
      "text/plain": [
       "[1, 2, 3, 4]"
      ]
     },
     "execution_count": 24,
     "metadata": {},
     "output_type": "execute_result"
    }
   ],
   "source": [
    "list1"
   ]
  },
  {
   "cell_type": "code",
   "execution_count": 32,
   "id": "bc7503fd",
   "metadata": {},
   "outputs": [],
   "source": [
    "list1=[1,2,3,4]"
   ]
  },
  {
   "cell_type": "code",
   "execution_count": 33,
   "id": "f5bca1e4",
   "metadata": {},
   "outputs": [
    {
     "data": {
      "text/plain": [
       "['In',\n",
       " 'Out',\n",
       " '_',\n",
       " '_10',\n",
       " '_11',\n",
       " '_19',\n",
       " '_2',\n",
       " '_24',\n",
       " '_25',\n",
       " '_29',\n",
       " '_4',\n",
       " '_5',\n",
       " '_6',\n",
       " '_7',\n",
       " '_8',\n",
       " '_9',\n",
       " '__',\n",
       " '___',\n",
       " '__builtin__',\n",
       " '__builtins__',\n",
       " '__doc__',\n",
       " '__loader__',\n",
       " '__name__',\n",
       " '__package__',\n",
       " '__spec__',\n",
       " '_dh',\n",
       " '_i',\n",
       " '_i1',\n",
       " '_i10',\n",
       " '_i11',\n",
       " '_i12',\n",
       " '_i13',\n",
       " '_i14',\n",
       " '_i15',\n",
       " '_i16',\n",
       " '_i17',\n",
       " '_i18',\n",
       " '_i19',\n",
       " '_i2',\n",
       " '_i20',\n",
       " '_i21',\n",
       " '_i22',\n",
       " '_i23',\n",
       " '_i24',\n",
       " '_i25',\n",
       " '_i26',\n",
       " '_i27',\n",
       " '_i28',\n",
       " '_i29',\n",
       " '_i3',\n",
       " '_i30',\n",
       " '_i31',\n",
       " '_i32',\n",
       " '_i33',\n",
       " '_i4',\n",
       " '_i5',\n",
       " '_i6',\n",
       " '_i7',\n",
       " '_i8',\n",
       " '_i9',\n",
       " '_ih',\n",
       " '_ii',\n",
       " '_iii',\n",
       " '_oh',\n",
       " 'exit',\n",
       " 'get_ipython',\n",
       " 'i',\n",
       " 'list1',\n",
       " 'list2',\n",
       " 'list3',\n",
       " 'list4',\n",
       " 'list5',\n",
       " 'list6',\n",
       " 'open',\n",
       " 'quit',\n",
       " 'string1']"
      ]
     },
     "execution_count": 33,
     "metadata": {},
     "output_type": "execute_result"
    }
   ],
   "source": [
    "dir()"
   ]
  },
  {
   "cell_type": "code",
   "execution_count": 35,
   "id": "3aa3badc",
   "metadata": {},
   "outputs": [
    {
     "data": {
      "text/plain": [
       "True"
      ]
     },
     "execution_count": 35,
     "metadata": {},
     "output_type": "execute_result"
    }
   ],
   "source": [
    "1 in list1\n",
    "2 in list1\n",
    "3 in list1\n",
    "4 in list1\n",
    "\n",
    "i in list1\n",
    "#can i iterate through for loop"
   ]
  },
  {
   "cell_type": "code",
   "execution_count": 31,
   "id": "8e3c31c6",
   "metadata": {},
   "outputs": [
    {
     "name": "stdout",
     "output_type": "stream",
     "text": [
      "1\n",
      "2\n",
      "3\n",
      "4\n"
     ]
    }
   ],
   "source": [
    "for i in list1:\n",
    "    print(i)"
   ]
  },
  {
   "cell_type": "markdown",
   "id": "76773aa1",
   "metadata": {},
   "source": [
    "concatenation"
   ]
  },
  {
   "cell_type": "code",
   "execution_count": 36,
   "id": "161ebe38",
   "metadata": {},
   "outputs": [
    {
     "data": {
      "text/plain": [
       "[1, 2, 3, 4]"
      ]
     },
     "execution_count": 36,
     "metadata": {},
     "output_type": "execute_result"
    }
   ],
   "source": [
    "list1"
   ]
  },
  {
   "cell_type": "code",
   "execution_count": 37,
   "id": "2e511375",
   "metadata": {},
   "outputs": [
    {
     "data": {
      "text/plain": [
       "['A,B,C,D']"
      ]
     },
     "execution_count": 37,
     "metadata": {},
     "output_type": "execute_result"
    }
   ],
   "source": [
    "list2"
   ]
  },
  {
   "cell_type": "code",
   "execution_count": 38,
   "id": "4ece1a7d",
   "metadata": {},
   "outputs": [
    {
     "name": "stdout",
     "output_type": "stream",
     "text": [
      "[1, 2, 3, 4, 'A,B,C,D']\n",
      "['A,B,C,D', 1, 2, 3, 4]\n"
     ]
    }
   ],
   "source": [
    "print(list1+list2)\n",
    "print(list2+list1)"
   ]
  },
  {
   "cell_type": "code",
   "execution_count": 41,
   "id": "395a2c89",
   "metadata": {},
   "outputs": [
    {
     "data": {
      "text/plain": [
       "[1, 2, 3, 4, 'A,B,C,D']"
      ]
     },
     "execution_count": 41,
     "metadata": {},
     "output_type": "execute_result"
    }
   ],
   "source": [
    "new_list=list1+list2\n",
    "\n",
    "new_list"
   ]
  },
  {
   "cell_type": "code",
   "execution_count": 42,
   "id": "7982ef60",
   "metadata": {},
   "outputs": [
    {
     "data": {
      "text/plain": [
       "[1, 2, 3, 4, 1, 2, 3, 4, 1, 2, 3, 4]"
      ]
     },
     "execution_count": 42,
     "metadata": {},
     "output_type": "execute_result"
    }
   ],
   "source": [
    "list1*3"
   ]
  },
  {
   "cell_type": "code",
   "execution_count": 43,
   "id": "f4e4400d",
   "metadata": {},
   "outputs": [
    {
     "ename": "TypeError",
     "evalue": "unsupported operand type(s) for -: 'list' and 'list'",
     "output_type": "error",
     "traceback": [
      "\u001b[1;31m---------------------------------------------------------------------------\u001b[0m",
      "\u001b[1;31mTypeError\u001b[0m                                 Traceback (most recent call last)",
      "Cell \u001b[1;32mIn[43], line 1\u001b[0m\n\u001b[1;32m----> 1\u001b[0m list1\u001b[38;5;241m-\u001b[39mlist2\n\u001b[0;32m      2\u001b[0m list1\u001b[38;5;241m/\u001b[39mlist2\n\u001b[0;32m      3\u001b[0m list1\u001b[38;5;241m*\u001b[39mlist2\n",
      "\u001b[1;31mTypeError\u001b[0m: unsupported operand type(s) for -: 'list' and 'list'"
     ]
    }
   ],
   "source": [
    "list1-list2\n",
    "list1/list2\n",
    "list1*list2"
   ]
  },
  {
   "cell_type": "markdown",
   "id": "9d0cd616",
   "metadata": {},
   "source": [
    "index"
   ]
  },
  {
   "cell_type": "code",
   "execution_count": 44,
   "id": "e640d379",
   "metadata": {},
   "outputs": [
    {
     "data": {
      "text/plain": [
       "[1, 2, 3, 4, 'A,B,C,D']"
      ]
     },
     "execution_count": 44,
     "metadata": {},
     "output_type": "execute_result"
    }
   ],
   "source": [
    "list3"
   ]
  },
  {
   "cell_type": "code",
   "execution_count": 45,
   "id": "8a24598b",
   "metadata": {},
   "outputs": [
    {
     "data": {
      "text/plain": [
       "(1, 2, 3, 4)"
      ]
     },
     "execution_count": 45,
     "metadata": {},
     "output_type": "execute_result"
    }
   ],
   "source": [
    "#python index starts with 0\n",
    "list3[0],list3[1],list3[2],list3[3]\n",
    "\n",
    "# list3[i]\n",
    "# i=0 1 2 3"
   ]
  },
  {
   "cell_type": "code",
   "execution_count": 46,
   "id": "16518596",
   "metadata": {},
   "outputs": [
    {
     "data": {
      "text/plain": [
       "'A,B,C,D'"
      ]
     },
     "execution_count": 46,
     "metadata": {},
     "output_type": "execute_result"
    }
   ],
   "source": [
    "list3[-1]"
   ]
  },
  {
   "cell_type": "code",
   "execution_count": 47,
   "id": "089ffa49",
   "metadata": {},
   "outputs": [
    {
     "data": {
      "text/plain": [
       "2"
      ]
     },
     "execution_count": 47,
     "metadata": {},
     "output_type": "execute_result"
    }
   ],
   "source": [
    "list3[+1]"
   ]
  },
  {
   "cell_type": "code",
   "execution_count": 71,
   "id": "ba11249f",
   "metadata": {},
   "outputs": [
    {
     "ename": "SyntaxError",
     "evalue": "invalid syntax (1677655478.py, line 4)",
     "output_type": "error",
     "traceback": [
      "\u001b[1;36m  Cell \u001b[1;32mIn[71], line 4\u001b[1;36m\u001b[0m\n\u001b[1;33m    1  2  3  4  A  B  C  D\u001b[0m\n\u001b[1;37m       ^\u001b[0m\n\u001b[1;31mSyntaxError\u001b[0m\u001b[1;31m:\u001b[0m invalid syntax\n"
     ]
    }
   ],
   "source": [
    "list1[-3]\n",
    "\n",
    "-8 -7 -6 -5 -4 -3 -2 -1\n",
    "1  2  3  4  A  B  C  D\n",
    "0  1  2  3  4  5  6  7"
   ]
  },
  {
   "cell_type": "code",
   "execution_count": 54,
   "id": "edfb5786",
   "metadata": {},
   "outputs": [
    {
     "ename": "IndexError",
     "evalue": "Replacement index 1 out of range for positional args tuple",
     "output_type": "error",
     "traceback": [
      "\u001b[1;31m---------------------------------------------------------------------------\u001b[0m",
      "\u001b[1;31mIndexError\u001b[0m                                Traceback (most recent call last)",
      "Cell \u001b[1;32mIn[54], line 2\u001b[0m\n\u001b[0;32m      1\u001b[0m \u001b[38;5;28;01mfor\u001b[39;00m i \u001b[38;5;129;01min\u001b[39;00m \u001b[38;5;28mrange\u001b[39m(\u001b[38;5;28mlen\u001b[39m(list3)):\n\u001b[1;32m----> 2\u001b[0m     \u001b[38;5;28mprint\u001b[39m(\u001b[38;5;124m'\u001b[39m\u001b[38;5;124mpostive index is: \u001b[39m\u001b[38;5;132;01m{}\u001b[39;00m\u001b[38;5;124m and negative index is \u001b[39m\u001b[38;5;132;01m{}\u001b[39;00m\u001b[38;5;124m: for an element \u001b[39m\u001b[38;5;132;01m{}\u001b[39;00m\u001b[38;5;124m'\u001b[39m\u001b[38;5;241m.\u001b[39mformat(\u001b[38;5;28mlen\u001b[39m(list3)))\n",
      "\u001b[1;31mIndexError\u001b[0m: Replacement index 1 out of range for positional args tuple"
     ]
    }
   ],
   "source": [
    "for i in range(len(list3)):\n",
    "    print('postive index is: {} and negative index is {}: for an element {}'.format(i-i(len))"
   ]
  },
  {
   "cell_type": "code",
   "execution_count": 58,
   "id": "e5a6d755",
   "metadata": {},
   "outputs": [
    {
     "name": "stdout",
     "output_type": "stream",
     "text": [
      "Ab\n",
      "Cd\n",
      "Ef\n",
      "Ab\n",
      "Cd\n",
      "Ef\n"
     ]
    }
   ],
   "source": [
    "#WAP find the elements which are having len<3\n",
    "# list=['Apple','Ball','Cat','Ab','Cd','Ef']\n",
    "# step-1: iterate the list using for loop\n",
    "# step-2: apply the if condition len(<element>)<3:\n",
    "# step-3: print(element)\n",
    "list1=['Apple','Ball','Cat','Ab','Cd','Ef']\n",
    "for i in range(len(list1)):\n",
    "    if len(list1[i])<3:\n",
    "        print(list1[i])\n",
    "\n",
    "for i in list1:\n",
    "     if len(i)<3:\n",
    "        print(i)"
   ]
  },
  {
   "cell_type": "code",
   "execution_count": 59,
   "id": "56a6f9b8",
   "metadata": {},
   "outputs": [
    {
     "name": "stdout",
     "output_type": "stream",
     "text": [
      "App#e\n",
      "B#ll\n",
      "C#t\n"
     ]
    }
   ],
   "source": [
    "#WAP find the elements which are having #\n",
    "# list=['App#e','B#ll','C#t','Ab','Cd','Ef']\n",
    "# step-1: iterate the list using for loop\n",
    "# step-2: apply the if condition:\n",
    "# step-3: print(element)\n",
    "list1=['App#e','B#ll','C#t','Ab','Cd','Ef']\n",
    "for i in list1:\n",
    "    if '#' in i:\n",
    "        print(i)"
   ]
  },
  {
   "cell_type": "code",
   "execution_count": 61,
   "id": "08a5fca8",
   "metadata": {},
   "outputs": [
    {
     "name": "stdout",
     "output_type": "stream",
     "text": [
      "1\n",
      "2\n",
      "3\n"
     ]
    }
   ],
   "source": [
    "list1=['App#e','B#ll','C#t','Ab','Cd','Ef']\n",
    "count=0\n",
    "for i in list1:\n",
    "     if '#' in i:\n",
    "        count=count+1\n",
    "        print(count)"
   ]
  },
  {
   "cell_type": "code",
   "execution_count": 62,
   "id": "c31dfb46",
   "metadata": {},
   "outputs": [
    {
     "data": {
      "text/plain": [
       "'Ball'"
      ]
     },
     "execution_count": 62,
     "metadata": {},
     "output_type": "execute_result"
    }
   ],
   "source": [
    "list1=[1,2,3,['Apple','Ball']]\n",
    "# retrive the ball using index\n",
    "# In the given list how many elements are there: 4\n",
    "list1[3][1]"
   ]
  },
  {
   "cell_type": "code",
   "execution_count": 63,
   "id": "fcb39c58",
   "metadata": {},
   "outputs": [
    {
     "data": {
      "text/plain": [
       "'Cherry'"
      ]
     },
     "execution_count": 63,
     "metadata": {},
     "output_type": "execute_result"
    }
   ],
   "source": [
    "list2=[[[[[[['Cherry']]]]]]]\n",
    "list2[0][0][0][0][0][0][0]"
   ]
  },
  {
   "cell_type": "code",
   "execution_count": 64,
   "id": "e910b520",
   "metadata": {},
   "outputs": [],
   "source": [
    "list3=[[[['A','B',[[[1,2,3,['Car']]]]]]]]\n",
    "# retrive the car"
   ]
  },
  {
   "cell_type": "code",
   "execution_count": 65,
   "id": "534d40cb",
   "metadata": {},
   "outputs": [
    {
     "data": {
      "text/plain": [
       "'car'"
      ]
     },
     "execution_count": 65,
     "metadata": {},
     "output_type": "execute_result"
    }
   ],
   "source": [
    "list3=[[[['A','B',[[[1,2,3,['car']]]]]]]]\n",
    "list3[0][0][0][2][0][0][3][0]"
   ]
  },
  {
   "cell_type": "code",
   "execution_count": 72,
   "id": "65c4a0e1",
   "metadata": {},
   "outputs": [
    {
     "data": {
      "text/plain": [
       "['a', 'b', 'c', 'd']"
      ]
     },
     "execution_count": 72,
     "metadata": {},
     "output_type": "execute_result"
    }
   ],
   "source": [
    "list1=['a','b','c','d'] \n",
    "list1"
   ]
  },
  {
   "cell_type": "code",
   "execution_count": 73,
   "id": "3fbe2ba2",
   "metadata": {},
   "outputs": [
    {
     "data": {
      "text/plain": [
       "('a', 'b')"
      ]
     },
     "execution_count": 73,
     "metadata": {},
     "output_type": "execute_result"
    }
   ],
   "source": [
    "list1[0],list1[1]"
   ]
  },
  {
   "cell_type": "code",
   "execution_count": 74,
   "id": "121303d2",
   "metadata": {},
   "outputs": [
    {
     "data": {
      "text/plain": [
       "'d'"
      ]
     },
     "execution_count": 74,
     "metadata": {},
     "output_type": "execute_result"
    }
   ],
   "source": [
    "list1[-1]"
   ]
  },
  {
   "cell_type": "markdown",
   "id": "c598cbe2",
   "metadata": {},
   "source": [
    "mutable"
   ]
  },
  {
   "cell_type": "code",
   "execution_count": 75,
   "id": "6171d693",
   "metadata": {},
   "outputs": [
    {
     "ename": "TypeError",
     "evalue": "'str' object does not support item assignment",
     "output_type": "error",
     "traceback": [
      "\u001b[1;31m---------------------------------------------------------------------------\u001b[0m",
      "\u001b[1;31mTypeError\u001b[0m                                 Traceback (most recent call last)",
      "Cell \u001b[1;32mIn[75], line 3\u001b[0m\n\u001b[0;32m      1\u001b[0m string1\u001b[38;5;241m=\u001b[39m\u001b[38;5;124m'\u001b[39m\u001b[38;5;124mwelcome\u001b[39m\u001b[38;5;124m'\u001b[39m\n\u001b[0;32m      2\u001b[0m \u001b[38;5;66;03m# 'l' to 'L'\u001b[39;00m\n\u001b[1;32m----> 3\u001b[0m string1[\u001b[38;5;241m2\u001b[39m]\u001b[38;5;241m=\u001b[39m\u001b[38;5;124m'\u001b[39m\u001b[38;5;124mL\u001b[39m\u001b[38;5;124m'\u001b[39m\n",
      "\u001b[1;31mTypeError\u001b[0m: 'str' object does not support item assignment"
     ]
    }
   ],
   "source": [
    "string1='welcome'\n",
    "# 'l' to 'L'\n",
    "string1[2]='L'\n",
    "# strings are immutable"
   ]
  },
  {
   "cell_type": "code",
   "execution_count": 76,
   "id": "1178289e",
   "metadata": {},
   "outputs": [
    {
     "data": {
      "text/plain": [
       "[100, 'B', 'C']"
      ]
     },
     "execution_count": 76,
     "metadata": {},
     "output_type": "execute_result"
    }
   ],
   "source": [
    "list1=['A','B','C']\n",
    "list1[0]=100\n",
    "list1"
   ]
  },
  {
   "cell_type": "markdown",
   "id": "915d26dd",
   "metadata": {},
   "source": [
    "slice"
   ]
  },
  {
   "cell_type": "code",
   "execution_count": 77,
   "id": "eacdb4e6",
   "metadata": {},
   "outputs": [
    {
     "name": "stdout",
     "output_type": "stream",
     "text": [
      "[30, 'P', 'H', 'a']\n",
      "[]\n",
      "[]\n",
      "[30]\n",
      "['c']\n",
      "[]\n",
      "['c', 'N', 'T', 50]\n",
      "[]\n"
     ]
    }
   ],
   "source": [
    "list1=[10,20,30,40,50,'P','Y','T','H','O','N','a','b','c','D']\n",
    "print(list1[2:14:3]) # p\n",
    "print(list1[2:14:-3]) # np\n",
    "print(list1[2:-14:3]) # np\n",
    "print(list1[2:-14:-3]) # p\n",
    "print(list1[-2:14:3]) # p\n",
    "print(list1[-2:-14:3]) # np\n",
    "print(list1[-2:-14:-3]) # p\n",
    "print(list1[-2:14:-3]) # np"
   ]
  },
  {
   "cell_type": "markdown",
   "id": "1e2b56cf",
   "metadata": {},
   "source": [
    "- Reading a list\n",
    "- Different ways to provide elements\n",
    "- type/min/max/sum/len\n",
    "- in\n",
    "- concatenation\n",
    "- index\n",
    "- mutable\n",
    "- slice"
   ]
  },
  {
   "cell_type": "markdown",
   "id": "0f7b47c6",
   "metadata": {},
   "source": [
    "# List methods"
   ]
  },
  {
   "cell_type": "code",
   "execution_count": 78,
   "id": "f04f38f2",
   "metadata": {},
   "outputs": [
    {
     "data": {
      "text/plain": [
       "['__add__',\n",
       " '__class__',\n",
       " '__class_getitem__',\n",
       " '__contains__',\n",
       " '__delattr__',\n",
       " '__delitem__',\n",
       " '__dir__',\n",
       " '__doc__',\n",
       " '__eq__',\n",
       " '__format__',\n",
       " '__ge__',\n",
       " '__getattribute__',\n",
       " '__getitem__',\n",
       " '__getstate__',\n",
       " '__gt__',\n",
       " '__hash__',\n",
       " '__iadd__',\n",
       " '__imul__',\n",
       " '__init__',\n",
       " '__init_subclass__',\n",
       " '__iter__',\n",
       " '__le__',\n",
       " '__len__',\n",
       " '__lt__',\n",
       " '__mul__',\n",
       " '__ne__',\n",
       " '__new__',\n",
       " '__reduce__',\n",
       " '__reduce_ex__',\n",
       " '__repr__',\n",
       " '__reversed__',\n",
       " '__rmul__',\n",
       " '__setattr__',\n",
       " '__setitem__',\n",
       " '__sizeof__',\n",
       " '__str__',\n",
       " '__subclasshook__',\n",
       " 'append',\n",
       " 'clear',\n",
       " 'copy',\n",
       " 'count',\n",
       " 'extend',\n",
       " 'index',\n",
       " 'insert',\n",
       " 'pop',\n",
       " 'remove',\n",
       " 'reverse',\n",
       " 'sort']"
      ]
     },
     "execution_count": 78,
     "metadata": {},
     "output_type": "execute_result"
    }
   ],
   "source": [
    "dir([])"
   ]
  },
  {
   "cell_type": "markdown",
   "id": "f8ddd49d",
   "metadata": {},
   "source": [
    "clear-copy"
   ]
  },
  {
   "cell_type": "code",
   "execution_count": 79,
   "id": "81e37335",
   "metadata": {},
   "outputs": [
    {
     "name": "stdout",
     "output_type": "stream",
     "text": [
      "list1: []\n",
      "list2: [1, 2, 3, 4]\n"
     ]
    }
   ],
   "source": [
    "list1=[1,2,3,4]\n",
    "\n",
    "# I wanat copy these elements in a list2\n",
    "\n",
    "list2=list1.copy()\n",
    "list1.clear()\n",
    "print('list1:',list1) # []\n",
    "print('list2:',list2) # [1,2,3,4]"
   ]
  },
  {
   "cell_type": "code",
   "execution_count": null,
   "id": "96674858",
   "metadata": {},
   "outputs": [],
   "source": [
    "# Side heading\n",
    "# write the code\n",
    "# insight/observation from above code"
   ]
  },
  {
   "cell_type": "markdown",
   "id": "d29543b3",
   "metadata": {},
   "source": [
    "append"
   ]
  },
  {
   "cell_type": "code",
   "execution_count": 80,
   "id": "1e067779",
   "metadata": {},
   "outputs": [
    {
     "data": {
      "text/plain": [
       "[100, 200, 300]"
      ]
     },
     "execution_count": 80,
     "metadata": {},
     "output_type": "execute_result"
    }
   ],
   "source": [
    "# add (something) to the end of a written document.\n",
    "list1=[100,200]\n",
    "\n",
    "# [100,200,300]\n",
    "\n",
    "list1.append(300)\n",
    "list1"
   ]
  },
  {
   "cell_type": "code",
   "execution_count": 81,
   "id": "3f899eb2",
   "metadata": {},
   "outputs": [
    {
     "data": {
      "text/plain": [
       "[100, 200, 300]"
      ]
     },
     "execution_count": 81,
     "metadata": {},
     "output_type": "execute_result"
    }
   ],
   "source": [
    "list1=[]\n",
    "list1.append(100)\n",
    "list1.append(200)\n",
    "list1.append(300)\n",
    "list1"
   ]
  },
  {
   "cell_type": "code",
   "execution_count": 82,
   "id": "5c93f188",
   "metadata": {},
   "outputs": [
    {
     "data": {
      "text/plain": [
       "[100, 200, 300, [100, 200]]"
      ]
     },
     "execution_count": 82,
     "metadata": {},
     "output_type": "execute_result"
    }
   ],
   "source": [
    "list1.append([100,200])\n",
    "list1"
   ]
  },
  {
   "cell_type": "code",
   "execution_count": 83,
   "id": "72a458a5",
   "metadata": {},
   "outputs": [
    {
     "data": {
      "text/plain": [
       "[100, 200, 300, [100, 200], 'Apple']"
      ]
     },
     "execution_count": 83,
     "metadata": {},
     "output_type": "execute_result"
    }
   ],
   "source": [
    "list1.append('Apple')\n",
    "list1"
   ]
  },
  {
   "cell_type": "code",
   "execution_count": 85,
   "id": "8dda1596",
   "metadata": {},
   "outputs": [
    {
     "name": "stdout",
     "output_type": "stream",
     "text": [
      "1\n",
      "4\n",
      "9\n",
      "16\n",
      "25\n"
     ]
    }
   ],
   "source": [
    "# Input list= [1,2,3,4,5]\n",
    "# create a new list = [1,4,9,16,25]\n",
    "# write normal python code\n",
    "\n",
    "list1=[1,2,3,4,5]\n",
    "for i in list1:\n",
    "    print(i*i)\n",
    "\n",
    "# I dont want print the values, i want save the output in a list"
   ]
  },
  {
   "cell_type": "code",
   "execution_count": 86,
   "id": "6e20924a",
   "metadata": {},
   "outputs": [
    {
     "data": {
      "text/plain": [
       "[1, 4, 9, 16, 25]"
      ]
     },
     "execution_count": 86,
     "metadata": {},
     "output_type": "execute_result"
    }
   ],
   "source": [
    "list1=[1,2,3,4,5]\n",
    "output=[]\n",
    "for i in list1:\n",
    "    output.append(i*i)\n",
    "output"
   ]
  },
  {
   "cell_type": "code",
   "execution_count": 87,
   "id": "cf782a03",
   "metadata": {},
   "outputs": [
    {
     "data": {
      "text/plain": [
       "['Hyd', 'Bengaluru', 'Delhi']"
      ]
     },
     "execution_count": 87,
     "metadata": {},
     "output_type": "execute_result"
    }
   ],
   "source": [
    "list2=['hyd','bengaluru','delhi']\n",
    "\n",
    "# output=['Hyd','Bengaluru','Delhi']\n",
    "\n",
    "output=[]\n",
    "for i in list2:\n",
    "    output.append(i.capitalize())\n",
    "output"
   ]
  },
  {
   "cell_type": "code",
   "execution_count": 88,
   "id": "287869ee",
   "metadata": {},
   "outputs": [
    {
     "data": {
      "text/plain": [
       "['h#d', 'beng#luru']"
      ]
     },
     "execution_count": 88,
     "metadata": {},
     "output_type": "execute_result"
    }
   ],
   "source": [
    "list3=['h#d','beng#luru','delhi']\n",
    "\n",
    "# output=['h#d','beng#luru']\n",
    "\n",
    "output=[]\n",
    "for i in list3:\n",
    "     if '#' in i:\n",
    "        output.append(i)\n",
    "output"
   ]
  },
  {
   "cell_type": "markdown",
   "id": "0238b1b9",
   "metadata": {},
   "source": [
    "# List comprehension"
   ]
  },
  {
   "cell_type": "code",
   "execution_count": 89,
   "id": "27b17101",
   "metadata": {},
   "outputs": [
    {
     "data": {
      "text/plain": [
       "[1, 4, 9, 16, 25]"
      ]
     },
     "execution_count": 89,
     "metadata": {},
     "output_type": "execute_result"
    }
   ],
   "source": [
    "# code in a single line ===== > speed the process\n",
    "list1=[1,2,3,4,5] # input\n",
    "output=[]\n",
    "for i in list1:\n",
    "    output.append(i*i)\n",
    "output\n",
    "\n",
    "# step-1: intilaized the list output=[]\n",
    "# step-2: iterate the loop\n",
    "# step-3: you save the output\n",
    "\n",
    "output1=[i*i for i in list1]\n",
    "output1\n",
    "# [<output> <forloop>]"
   ]
  },
  {
   "cell_type": "code",
   "execution_count": 90,
   "id": "d2d8a49b",
   "metadata": {},
   "outputs": [
    {
     "data": {
      "text/plain": [
       "['Hyd', 'Bengaluru', 'Delhi']"
      ]
     },
     "execution_count": 90,
     "metadata": {},
     "output_type": "execute_result"
    }
   ],
   "source": [
    "list2=['hyd','bengaluru','delhi']\n",
    "\n",
    "# output=['Hyd','Bengaluru','Delhi']\n",
    "\n",
    "output=[]\n",
    "for i in list2:\n",
    "     output.append(i.capitalize())\n",
    "output\n",
    "\n",
    "# [<output> <forloop>]\n",
    "output1=[i.capitalize() for i in list2]\n",
    "output1"
   ]
  },
  {
   "cell_type": "code",
   "execution_count": 91,
   "id": "423242d2",
   "metadata": {},
   "outputs": [
    {
     "data": {
      "text/plain": [
       "[1, 2, 3, 4, 5, 6, 7, 8, 9, 10, 11, 12, 13, 14, 15, 16, 17, 18, 19, 20]"
      ]
     },
     "execution_count": 91,
     "metadata": {},
     "output_type": "execute_result"
    }
   ],
   "source": [
    "# create the list of 20 numbers from 1 to 20\n",
    "\n",
    "##################################M-1\n",
    "#for i in range(1,21):\n",
    "#print(i)\n",
    "\n",
    "################################### M-2\n",
    "\n",
    "numbers=[]\n",
    "for i in range(1,21):\n",
    "    numbers.append(i)\n",
    "numbers\n",
    "\n",
    "################################### M-3\n",
    "\n",
    "numbers1=[i for i in range(1,21)]\n",
    "numbers1"
   ]
  },
  {
   "cell_type": "code",
   "execution_count": null,
   "id": "eb40d446",
   "metadata": {},
   "outputs": [],
   "source": [
    "#list comprehension with if condition"
   ]
  },
  {
   "cell_type": "code",
   "execution_count": 92,
   "id": "2184da58",
   "metadata": {},
   "outputs": [
    {
     "data": {
      "text/plain": [
       "['h#d', 'beng#luru']"
      ]
     },
     "execution_count": 92,
     "metadata": {},
     "output_type": "execute_result"
    }
   ],
   "source": [
    "list3=['h#d','beng#luru','delhi']\n",
    "\n",
    "# output=['h#d','beng#luru']\n",
    "\n",
    "output=[]\n",
    "for i in list3:\n",
    "    if '#' in i:\n",
    "        output.append(i)\n",
    "output\n",
    "\n",
    "#[<o/p> <forloop> <if_condition>]\n",
    "\n",
    "output1=[i for i in list3 if '#' in i]\n",
    "output1"
   ]
  },
  {
   "cell_type": "code",
   "execution_count": 93,
   "id": "6f96b76f",
   "metadata": {},
   "outputs": [],
   "source": [
    "list4=['abcd','abc','ac','a']\n",
    "# elemnts less than 3\n",
    "# ['ac','a']"
   ]
  },
  {
   "cell_type": "code",
   "execution_count": 94,
   "id": "316f1a86",
   "metadata": {},
   "outputs": [
    {
     "data": {
      "text/plain": [
       "['ac', 'a']"
      ]
     },
     "execution_count": 94,
     "metadata": {},
     "output_type": "execute_result"
    }
   ],
   "source": [
    "list4=[\"abcd\",\"abc\",\"ac\",\"a\"]\n",
    "output=[i for i in list4 if len(i)<3]\n",
    "output"
   ]
  },
  {
   "cell_type": "code",
   "execution_count": 95,
   "id": "1cb675cf",
   "metadata": {},
   "outputs": [
    {
     "name": "stdout",
     "output_type": "stream",
     "text": [
      "odd:1\n",
      "even:2\n",
      "odd:3\n",
      "even:4\n",
      "odd:5\n",
      "even:6\n"
     ]
    }
   ],
   "source": [
    "# if else\n",
    "list1=[1,2,3,4,5,6]\n",
    "for i in list1:\n",
    "    if i%2==0:\n",
    "        print(\"even:{}\".format(i))\n",
    "    else:\n",
    "        print(\"odd:{}\".format(i))"
   ]
  },
  {
   "cell_type": "code",
   "execution_count": 96,
   "id": "3364e083",
   "metadata": {},
   "outputs": [
    {
     "data": {
      "text/plain": [
       "['odd:1', 'even:2', 'odd:3', 'even:4', 'odd:5', 'even:6']"
      ]
     },
     "execution_count": 96,
     "metadata": {},
     "output_type": "execute_result"
    }
   ],
   "source": [
    "list1=[1,2,3,4,5,6]\n",
    "output=[]\n",
    "for i in list1:\n",
    "    if i%2==0:\n",
    "        output.append(\"even:{}\".format(i))\n",
    "    else:\n",
    "        output.append(\"odd:{}\".format(i))\n",
    "output"
   ]
  },
  {
   "cell_type": "code",
   "execution_count": 97,
   "id": "c3c16296",
   "metadata": {},
   "outputs": [
    {
     "data": {
      "text/plain": [
       "['odd:1', 'even:2', 'odd:3', 'even:4', 'odd:5', 'even:6']"
      ]
     },
     "execution_count": 97,
     "metadata": {},
     "output_type": "execute_result"
    }
   ],
   "source": [
    "#[<if_output> <if_condition> else <else_ouput> <for loop>]\n",
    "[\"even:{}\".format(i) if i%2==0 else \"odd:{}\".format(i) for i in list1]"
   ]
  },
  {
   "cell_type": "markdown",
   "id": "afc5c2ec",
   "metadata": {},
   "source": [
    "count"
   ]
  },
  {
   "cell_type": "code",
   "execution_count": 98,
   "id": "371a1245",
   "metadata": {},
   "outputs": [
    {
     "data": {
      "text/plain": [
       "3"
      ]
     },
     "execution_count": 98,
     "metadata": {},
     "output_type": "execute_result"
    }
   ],
   "source": [
    "list1=[1,2,3,'A','B','B','B','C']\n",
    "list1.count('B')"
   ]
  },
  {
   "cell_type": "code",
   "execution_count": 100,
   "id": "d1e8ce52",
   "metadata": {},
   "outputs": [
    {
     "name": "stdout",
     "output_type": "stream",
     "text": [
      "1\n",
      "2\n",
      "3\n"
     ]
    }
   ],
   "source": [
    "count=0\n",
    "for i in list1:\n",
    "    if i=='B':\n",
    "        count=count+1\n",
    "        print(count)"
   ]
  },
  {
   "cell_type": "markdown",
   "id": "d2615d03",
   "metadata": {},
   "source": [
    "Extend"
   ]
  },
  {
   "cell_type": "code",
   "execution_count": 101,
   "id": "5e8fa726",
   "metadata": {},
   "outputs": [
    {
     "data": {
      "text/plain": [
       "['A', 'B', 'C', 1, 2, 3]"
      ]
     },
     "execution_count": 101,
     "metadata": {},
     "output_type": "execute_result"
    }
   ],
   "source": [
    "list1=['A','B','C']\n",
    "list2=[1,2,3]\n",
    "list1.extend(list2)\n",
    "list1\n",
    "# here the list1 will be updated with list2 values"
   ]
  },
  {
   "cell_type": "code",
   "execution_count": 102,
   "id": "4d6ad9c3",
   "metadata": {},
   "outputs": [
    {
     "data": {
      "text/plain": [
       "['A', 'B', 'C', [1, 2, 3]]"
      ]
     },
     "execution_count": 102,
     "metadata": {},
     "output_type": "execute_result"
    }
   ],
   "source": [
    "list1=['A','B','C']\n",
    "list2=[1,2,3]\n",
    "list1.append(list2) # ['A','B','C',[1,2,3]]\n",
    "list1"
   ]
  },
  {
   "cell_type": "code",
   "execution_count": 103,
   "id": "d647ccd1",
   "metadata": {},
   "outputs": [
    {
     "name": "stdout",
     "output_type": "stream",
     "text": [
      "['A', 'B', 'C', 1, 2, 3]\n"
     ]
    }
   ],
   "source": [
    "list1=['A','B','C']\n",
    "list2=[1,2,3]\n",
    "list1=list1+list2\n",
    "print(list1)"
   ]
  },
  {
   "cell_type": "markdown",
   "id": "2654a4db",
   "metadata": {},
   "source": [
    "# append vs extend vs concat\n",
    "append will add the element at last , that element can be any type\n",
    "- list1=[1,2,3]\n",
    "- list2 =['A','B']\n",
    "- list1.append(list2)=[1,2,3,['A','B']]\n",
    "Extend will update the list by adding new elements, the result also save in a same list\n",
    "- list1=[1,2,3]\n",
    "- list2 =['A','B']\n",
    "- list1.extend(list2)=[1,2,3,'A','B']\n",
    "Concat will add two list, but the result will not update in a same list\n",
    "- list1=[1,2,3]\n",
    "- list2 =['A','B']\n",
    "- list1+list2=[1,2,3,'A','B']\n",
    "\n",
    "iterator\n",
    "- iterator word ======= > loop\n",
    "- the elements we can print using for loop\n",
    "- string='python' we can print each letter using for loop\n",
    "- list1=[1,2,3] we can print each element using for loop"
   ]
  },
  {
   "cell_type": "code",
   "execution_count": 104,
   "id": "0d479f10",
   "metadata": {},
   "outputs": [
    {
     "data": {
      "text/plain": [
       "<reversed at 0x202896fcfd0>"
      ]
     },
     "execution_count": 104,
     "metadata": {},
     "output_type": "execute_result"
    }
   ],
   "source": [
    "val=reversed('python')\n",
    "val"
   ]
  },
  {
   "cell_type": "code",
   "execution_count": 105,
   "id": "ec0f197f",
   "metadata": {},
   "outputs": [
    {
     "name": "stdout",
     "output_type": "stream",
     "text": [
      "n\n",
      "o\n",
      "h\n",
      "t\n",
      "y\n",
      "p\n"
     ]
    }
   ],
   "source": [
    "for i in val:\n",
    "    print(i)"
   ]
  },
  {
   "cell_type": "code",
   "execution_count": 106,
   "id": "95b3bcff",
   "metadata": {},
   "outputs": [
    {
     "data": {
      "text/plain": [
       "[1, 2, 3, 'p', 'y', 't', 'h', 'o', 'n', 'python']"
      ]
     },
     "execution_count": 106,
     "metadata": {},
     "output_type": "execute_result"
    }
   ],
   "source": [
    "list1=[1,2,3]\n",
    "list1.extend('python')\n",
    "list1.append('python')\n",
    "list1"
   ]
  },
  {
   "cell_type": "markdown",
   "id": "9544b122",
   "metadata": {},
   "source": [
    "pop-remove-del"
   ]
  },
  {
   "cell_type": "code",
   "execution_count": 107,
   "id": "2540c853",
   "metadata": {},
   "outputs": [
    {
     "data": {
      "text/plain": [
       "[1, 2, 3, 'p', 'y', 't', 'h', 'o', 'n', 'python']"
      ]
     },
     "execution_count": 107,
     "metadata": {},
     "output_type": "execute_result"
    }
   ],
   "source": [
    "list1"
   ]
  },
  {
   "cell_type": "code",
   "execution_count": 108,
   "id": "b47c6bbc",
   "metadata": {},
   "outputs": [
    {
     "data": {
      "text/plain": [
       "'python'"
      ]
     },
     "execution_count": 108,
     "metadata": {},
     "output_type": "execute_result"
    }
   ],
   "source": [
    "list1.pop()"
   ]
  },
  {
   "cell_type": "code",
   "execution_count": 109,
   "id": "0a4147ae",
   "metadata": {},
   "outputs": [
    {
     "data": {
      "text/plain": [
       "[1, 2, 3, 'p', 'y', 't', 'h', 'o', 'n']"
      ]
     },
     "execution_count": 109,
     "metadata": {},
     "output_type": "execute_result"
    }
   ],
   "source": [
    "list1"
   ]
  },
  {
   "cell_type": "code",
   "execution_count": 110,
   "id": "d4532cfa",
   "metadata": {},
   "outputs": [
    {
     "data": {
      "text/plain": [
       "'t'"
      ]
     },
     "execution_count": 110,
     "metadata": {},
     "output_type": "execute_result"
    }
   ],
   "source": [
    "list1\n",
    "list1.pop(5) # list1.pop(list1.index('t'))\n",
    "\n",
    "# in side bracket default aragument is there index=-1\n",
    "# -1 means last value\n",
    "# if you not provide any value\n",
    "# it will remove last value\n",
    "# if i provide any index, it will reove that element\n",
    "# it is also returning , which element it is removing"
   ]
  },
  {
   "cell_type": "code",
   "execution_count": 111,
   "id": "a06dfdb5",
   "metadata": {},
   "outputs": [
    {
     "ename": "IndexError",
     "evalue": "pop index out of range",
     "output_type": "error",
     "traceback": [
      "\u001b[1;31m---------------------------------------------------------------------------\u001b[0m",
      "\u001b[1;31mIndexError\u001b[0m                                Traceback (most recent call last)",
      "Cell \u001b[1;32mIn[111], line 1\u001b[0m\n\u001b[1;32m----> 1\u001b[0m list1\u001b[38;5;241m.\u001b[39mpop(\u001b[38;5;241m100\u001b[39m)\n",
      "\u001b[1;31mIndexError\u001b[0m: pop index out of range"
     ]
    }
   ],
   "source": [
    "list1.pop(100)"
   ]
  },
  {
   "cell_type": "code",
   "execution_count": 112,
   "id": "7062a376",
   "metadata": {},
   "outputs": [
    {
     "data": {
      "text/plain": [
       "[200, 100, 300]"
      ]
     },
     "execution_count": 112,
     "metadata": {},
     "output_type": "execute_result"
    }
   ],
   "source": [
    "list1=[100,200,100,300] # duplicates are allowed\n",
    "list1.remove(100) # first occurence will gone\n",
    "list1 # it will not return any value"
   ]
  },
  {
   "cell_type": "code",
   "execution_count": 113,
   "id": "7652b44e",
   "metadata": {},
   "outputs": [],
   "source": [
    "del(list1)"
   ]
  },
  {
   "cell_type": "code",
   "execution_count": 114,
   "id": "971b65fa",
   "metadata": {},
   "outputs": [
    {
     "ename": "NameError",
     "evalue": "name 'list1' is not defined",
     "output_type": "error",
     "traceback": [
      "\u001b[1;31m---------------------------------------------------------------------------\u001b[0m",
      "\u001b[1;31mNameError\u001b[0m                                 Traceback (most recent call last)",
      "Cell \u001b[1;32mIn[114], line 1\u001b[0m\n\u001b[1;32m----> 1\u001b[0m list1\n",
      "\u001b[1;31mNameError\u001b[0m: name 'list1' is not defined"
     ]
    }
   ],
   "source": [
    "list1"
   ]
  },
  {
   "cell_type": "code",
   "execution_count": 115,
   "id": "30b68bb4",
   "metadata": {},
   "outputs": [
    {
     "data": {
      "text/plain": [
       "[100, 200, 300]"
      ]
     },
     "execution_count": 115,
     "metadata": {},
     "output_type": "execute_result"
    }
   ],
   "source": [
    "list1=[100,200,100,300]\n",
    "del list1[2]\n",
    "list1"
   ]
  },
  {
   "cell_type": "code",
   "execution_count": 116,
   "id": "a83b87e6",
   "metadata": {},
   "outputs": [
    {
     "data": {
      "text/plain": [
       "['__add__',\n",
       " '__class__',\n",
       " '__class_getitem__',\n",
       " '__contains__',\n",
       " '__delattr__',\n",
       " '__delitem__',\n",
       " '__dir__',\n",
       " '__doc__',\n",
       " '__eq__',\n",
       " '__format__',\n",
       " '__ge__',\n",
       " '__getattribute__',\n",
       " '__getitem__',\n",
       " '__getstate__',\n",
       " '__gt__',\n",
       " '__hash__',\n",
       " '__iadd__',\n",
       " '__imul__',\n",
       " '__init__',\n",
       " '__init_subclass__',\n",
       " '__iter__',\n",
       " '__le__',\n",
       " '__len__',\n",
       " '__lt__',\n",
       " '__mul__',\n",
       " '__ne__',\n",
       " '__new__',\n",
       " '__reduce__',\n",
       " '__reduce_ex__',\n",
       " '__repr__',\n",
       " '__reversed__',\n",
       " '__rmul__',\n",
       " '__setattr__',\n",
       " '__setitem__',\n",
       " '__sizeof__',\n",
       " '__str__',\n",
       " '__subclasshook__',\n",
       " 'append',\n",
       " 'clear',\n",
       " 'copy',\n",
       " 'count',\n",
       " 'extend',\n",
       " 'index',\n",
       " 'insert',\n",
       " 'pop',\n",
       " 'remove',\n",
       " 'reverse',\n",
       " 'sort']"
      ]
     },
     "execution_count": 116,
     "metadata": {},
     "output_type": "execute_result"
    }
   ],
   "source": [
    "dir(list1)"
   ]
  },
  {
   "cell_type": "markdown",
   "id": "12acfe92",
   "metadata": {},
   "source": [
    "- index vs multiple values\n",
    "- insert vs append\n",
    "- reverse ascending and descending ======= reversed\n",
    "- sort =========== sorted\n",
    "- difference between reverse and sort\n",
    "\n",
    "-get all the differences all the information\n",
    "-share your screenshot"
   ]
  },
  {
   "cell_type": "code",
   "execution_count": 117,
   "id": "3199d7c2",
   "metadata": {},
   "outputs": [
    {
     "data": {
      "text/plain": [
       "4"
      ]
     },
     "execution_count": 117,
     "metadata": {},
     "output_type": "execute_result"
    }
   ],
   "source": [
    "list1=[1,2,3,4,2,6]\n",
    "f_i=list1.index(2)\n",
    "list1.index(2,f_i+1)"
   ]
  },
  {
   "cell_type": "markdown",
   "id": "be8cc267",
   "metadata": {},
   "source": [
    "zip"
   ]
  },
  {
   "cell_type": "code",
   "execution_count": 120,
   "id": "55723cf7",
   "metadata": {},
   "outputs": [
    {
     "name": "stdout",
     "output_type": "stream",
     "text": [
      "Anu age is 21\n",
      "Akhi age is 30\n",
      "Snehi age is 22\n"
     ]
    }
   ],
   "source": [
    "list1=['Anu','Akhi','Snehi']\n",
    "list2=[21,30,22]\n",
    "\n",
    "# 'Anu age is 21'\n",
    "# 'Akhi age is 20'\n",
    "# 'Snehi age is 22'\n",
    "for i,j in zip(list1,list2):\n",
    "    print(\"{} age is {}\".format(i,j))"
   ]
  },
  {
   "cell_type": "code",
   "execution_count": 121,
   "id": "fe87888c",
   "metadata": {},
   "outputs": [
    {
     "data": {
      "text/plain": [
       "[125, 230, 335]"
      ]
     },
     "execution_count": 121,
     "metadata": {},
     "output_type": "execute_result"
    }
   ],
   "source": [
    "list1=[100,200,300]\n",
    "list2=[25,30,35]\n",
    "\n",
    "# output=[125,230,335]\n",
    "\n",
    "output=[i+j for i,j in zip(list1,list2)]\n",
    "output"
   ]
  },
  {
   "cell_type": "code",
   "execution_count": 13,
   "id": "97c54473",
   "metadata": {},
   "outputs": [
    {
     "name": "stdout",
     "output_type": "stream",
     "text": [
      "Who is PM of india\n",
      "enter the answerModi\n",
      "What is the capital of india\n",
      "enter the answerDelhi\n",
      "Who is President\n",
      "enter the answerDraupadi\n",
      "your total obtain marks: 3\n"
     ]
    }
   ],
   "source": [
    "# take 5 questions in list1\n",
    "# take corresponding 5 answers in another list2\n",
    "# iterate through list1\n",
    "# every quetion should print\n",
    "# answer=input(\"tell the answer\")\n",
    "# answer will check in list2\n",
    "# if it is there : marks=marks+1\n",
    "# else: No marks\n",
    "# how many write answers you made, how may answers you got\n",
    "######################################\n",
    "# list1=['Who is PM of india','What is the capital of india','Who is President]\n",
    "# list2=['Modi','Delhi','Draupadi']\n",
    "# marks=0\n",
    "# correct_answr=0\n",
    "# for i in range(len(list1)):\n",
    "# print('Q1:'<>)\n",
    "# answer=input(\"enter the answer\")\n",
    "# if answer.lower()==list2.index(i):\n",
    "#      marks+=1\n",
    "list1=['Who is PM of india','What is the capital of india','Who is President']\n",
    "list2=['Modi','Delhi','Draupadi']\n",
    "marks=0\n",
    "       \n",
    "for i in range(len(list1)):\n",
    "    print(list1[i])\n",
    "       \n",
    "    answer=input(\"enter the answer\") \n",
    "    if answer.capitalize()==list2[i]:\n",
    "        marks+=1\n",
    "print(\"your total obtain marks:\",marks)\n",
    "       "
   ]
  },
  {
   "cell_type": "code",
   "execution_count": null,
   "id": "b17e9f6b",
   "metadata": {},
   "outputs": [],
   "source": []
  }
 ],
 "metadata": {
  "kernelspec": {
   "display_name": "Python 3 (ipykernel)",
   "language": "python",
   "name": "python3"
  },
  "language_info": {
   "codemirror_mode": {
    "name": "ipython",
    "version": 3
   },
   "file_extension": ".py",
   "mimetype": "text/x-python",
   "name": "python",
   "nbconvert_exporter": "python",
   "pygments_lexer": "ipython3",
   "version": "3.11.5"
  }
 },
 "nbformat": 4,
 "nbformat_minor": 5
}
