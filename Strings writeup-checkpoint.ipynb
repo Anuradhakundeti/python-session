{
 "cells": [
  {
   "cell_type": "code",
   "execution_count": null,
   "id": "157653d5",
   "metadata": {},
   "outputs": [],
   "source": [
    "# How to read the strings"
   ]
  },
  {
   "cell_type": "markdown",
   "id": "efc5d500",
   "metadata": {},
   "source": [
    "SingleQuotes"
   ]
  },
  {
   "cell_type": "code",
   "execution_count": 3,
   "id": "59059745",
   "metadata": {},
   "outputs": [
    {
     "data": {
      "text/plain": [
       "'apple'"
      ]
     },
     "execution_count": 3,
     "metadata": {},
     "output_type": "execute_result"
    }
   ],
   "source": [
    "# single quote\n",
    "string1='apple'\n",
    "string1"
   ]
  },
  {
   "cell_type": "markdown",
   "id": "fd4733d1",
   "metadata": {},
   "source": [
    "DoubleQuotes"
   ]
  },
  {
   "cell_type": "code",
   "execution_count": 2,
   "id": "7478e2d6",
   "metadata": {},
   "outputs": [
    {
     "data": {
      "text/plain": [
       "'cherry'"
      ]
     },
     "execution_count": 2,
     "metadata": {},
     "output_type": "execute_result"
    }
   ],
   "source": [
    "# double quotes\n",
    "string2=\"cherry\"\n",
    "string2"
   ]
  },
  {
   "cell_type": "markdown",
   "id": "50c5b542",
   "metadata": {},
   "source": [
    "TripleQuotes"
   ]
  },
  {
   "cell_type": "code",
   "execution_count": 3,
   "id": "56b1be08",
   "metadata": {},
   "outputs": [
    {
     "name": "stdout",
     "output_type": "stream",
     "text": [
      "hai 'apple'\n"
     ]
    }
   ],
   "source": [
    "# Triple quotes\n",
    "string3=\"hai 'apple'\"\n",
    "print(string3)"
   ]
  },
  {
   "cell_type": "markdown",
   "id": "41f58eb4",
   "metadata": {},
   "source": [
    "DocStrings"
   ]
  },
  {
   "cell_type": "code",
   "execution_count": null,
   "id": "da40199b",
   "metadata": {},
   "outputs": [],
   "source": [
    "# doc string is used to say some information about python code"
   ]
  },
  {
   "cell_type": "code",
   "execution_count": 1,
   "id": "d3b54187",
   "metadata": {},
   "outputs": [
    {
     "name": "stdout",
     "output_type": "stream",
     "text": [
      "hai \"apple\"\n"
     ]
    }
   ],
   "source": [
    "'hai apple' # if you want to highlite apple\n",
    "string4='hai \"apple\"'\n",
    "print(string4)"
   ]
  },
  {
   "cell_type": "markdown",
   "id": "8647a535",
   "metadata": {},
   "source": [
    "Type"
   ]
  },
  {
   "cell_type": "code",
   "execution_count": 4,
   "id": "a16f8475",
   "metadata": {},
   "outputs": [
    {
     "data": {
      "text/plain": [
       "'apple'"
      ]
     },
     "execution_count": 4,
     "metadata": {},
     "output_type": "execute_result"
    }
   ],
   "source": [
    "string1"
   ]
  },
  {
   "cell_type": "code",
   "execution_count": 5,
   "id": "2a7090f9",
   "metadata": {},
   "outputs": [
    {
     "data": {
      "text/plain": [
       "str"
      ]
     },
     "execution_count": 5,
     "metadata": {},
     "output_type": "execute_result"
    }
   ],
   "source": [
    "type(string1) #string"
   ]
  },
  {
   "cell_type": "markdown",
   "id": "f5f90ca9",
   "metadata": {},
   "source": [
    "length"
   ]
  },
  {
   "cell_type": "code",
   "execution_count": 5,
   "id": "7d78775f",
   "metadata": {},
   "outputs": [
    {
     "data": {
      "text/plain": [
       "5"
      ]
     },
     "execution_count": 5,
     "metadata": {},
     "output_type": "execute_result"
    }
   ],
   "source": [
    "len(string1)"
   ]
  },
  {
   "cell_type": "markdown",
   "id": "a5f24276",
   "metadata": {},
   "source": [
    "Max − Min"
   ]
  },
  {
   "cell_type": "code",
   "execution_count": 6,
   "id": "3bf6a92d",
   "metadata": {},
   "outputs": [
    {
     "data": {
      "text/plain": [
       "'l'"
      ]
     },
     "execution_count": 6,
     "metadata": {},
     "output_type": "execute_result"
    }
   ],
   "source": [
    "string1='lL'\n",
    "max(string1) # apple"
   ]
  },
  {
   "cell_type": "code",
   "execution_count": 7,
   "id": "2228a50e",
   "metadata": {},
   "outputs": [
    {
     "data": {
      "text/plain": [
       "108"
      ]
     },
     "execution_count": 7,
     "metadata": {},
     "output_type": "execute_result"
    }
   ],
   "source": [
    "ord('l') #it will provide ascii value of char"
   ]
  },
  {
   "cell_type": "code",
   "execution_count": 8,
   "id": "85e3e706",
   "metadata": {},
   "outputs": [
    {
     "data": {
      "text/plain": [
       "97"
      ]
     },
     "execution_count": 8,
     "metadata": {},
     "output_type": "execute_result"
    }
   ],
   "source": [
    "ord('a')"
   ]
  },
  {
   "cell_type": "code",
   "execution_count": 9,
   "id": "e3de2624",
   "metadata": {},
   "outputs": [
    {
     "data": {
      "text/plain": [
       "('p', 'a')"
      ]
     },
     "execution_count": 9,
     "metadata": {},
     "output_type": "execute_result"
    }
   ],
   "source": [
    "string1='apple'\n",
    "max(string1),min(string1)"
   ]
  },
  {
   "cell_type": "code",
   "execution_count": 11,
   "id": "95aec682",
   "metadata": {},
   "outputs": [
    {
     "name": "stdout",
     "output_type": "stream",
     "text": [
      "0\n",
      "1\n",
      "2\n",
      "3\n",
      "4\n"
     ]
    }
   ],
   "source": [
    "for i in range(len('apple')): #in is used only for strings\n",
    "    print(i)\n"
   ]
  },
  {
   "cell_type": "code",
   "execution_count": 12,
   "id": "251e7f9b",
   "metadata": {},
   "outputs": [
    {
     "name": "stdout",
     "output_type": "stream",
     "text": [
      "the ascii value of a is 97\n",
      "the ascii value of p is 112\n",
      "the ascii value of p is 112\n",
      "the ascii value of l is 108\n",
      "the ascii value of e is 101\n"
     ]
    }
   ],
   "source": [
    "for i in string1:\n",
    "    print(\"the ascii value of {} is {}\".format(i,ord(i)))"
   ]
  },
  {
   "cell_type": "markdown",
   "id": "d6713f5f",
   "metadata": {},
   "source": [
    "Concatination\n",
    "Addition"
   ]
  },
  {
   "cell_type": "code",
   "execution_count": 14,
   "id": "5db893a6",
   "metadata": {},
   "outputs": [
    {
     "data": {
      "text/plain": [
       "'anusha'"
      ]
     },
     "execution_count": 14,
     "metadata": {},
     "output_type": "execute_result"
    }
   ],
   "source": [
    "str1='anu'\n",
    "str2='sha'\n",
    "str1+str2"
   ]
  },
  {
   "cell_type": "markdown",
   "id": "4753ed46",
   "metadata": {},
   "source": [
    "subtraction"
   ]
  },
  {
   "cell_type": "code",
   "execution_count": 15,
   "id": "14d4c1c9",
   "metadata": {},
   "outputs": [
    {
     "ename": "TypeError",
     "evalue": "unsupported operand type(s) for -: 'str' and 'str'",
     "output_type": "error",
     "traceback": [
      "\u001b[1;31m---------------------------------------------------------------------------\u001b[0m",
      "\u001b[1;31mTypeError\u001b[0m                                 Traceback (most recent call last)",
      "Cell \u001b[1;32mIn[15], line 3\u001b[0m\n\u001b[0;32m      1\u001b[0m str1\u001b[38;5;241m=\u001b[39m\u001b[38;5;124m'\u001b[39m\u001b[38;5;124mAmmu\u001b[39m\u001b[38;5;124m'\u001b[39m\n\u001b[0;32m      2\u001b[0m str2\u001b[38;5;241m=\u001b[39m\u001b[38;5;124m'\u001b[39m\u001b[38;5;124mKanna\u001b[39m\u001b[38;5;124m'\u001b[39m\n\u001b[1;32m----> 3\u001b[0m str1\u001b[38;5;241m-\u001b[39mstr2\n",
      "\u001b[1;31mTypeError\u001b[0m: unsupported operand type(s) for -: 'str' and 'str'"
     ]
    }
   ],
   "source": [
    "str1='Ammu'\n",
    "str2='Kanna'\n",
    "str1-str2"
   ]
  },
  {
   "cell_type": "markdown",
   "id": "aae0d14f",
   "metadata": {},
   "source": [
    "Division"
   ]
  },
  {
   "cell_type": "code",
   "execution_count": 16,
   "id": "9e96d633",
   "metadata": {},
   "outputs": [
    {
     "ename": "TypeError",
     "evalue": "unsupported operand type(s) for /: 'str' and 'str'",
     "output_type": "error",
     "traceback": [
      "\u001b[1;31m---------------------------------------------------------------------------\u001b[0m",
      "\u001b[1;31mTypeError\u001b[0m                                 Traceback (most recent call last)",
      "Cell \u001b[1;32mIn[16], line 3\u001b[0m\n\u001b[0;32m      1\u001b[0m str1\u001b[38;5;241m=\u001b[39m\u001b[38;5;124m'\u001b[39m\u001b[38;5;124mAnu\u001b[39m\u001b[38;5;124m'\u001b[39m\n\u001b[0;32m      2\u001b[0m str2\u001b[38;5;241m=\u001b[39m\u001b[38;5;124m'\u001b[39m\u001b[38;5;124mAkhi\u001b[39m\u001b[38;5;124m'\u001b[39m\n\u001b[1;32m----> 3\u001b[0m str1\u001b[38;5;241m/\u001b[39mstr2\n",
      "\u001b[1;31mTypeError\u001b[0m: unsupported operand type(s) for /: 'str' and 'str'"
     ]
    }
   ],
   "source": [
    "str1='Anu'\n",
    "str2='Akhi'\n",
    "str1/str2"
   ]
  },
  {
   "cell_type": "markdown",
   "id": "4e35cfa1",
   "metadata": {},
   "source": [
    "Multiplication"
   ]
  },
  {
   "cell_type": "code",
   "execution_count": 17,
   "id": "003f2970",
   "metadata": {},
   "outputs": [
    {
     "ename": "TypeError",
     "evalue": "can't multiply sequence by non-int of type 'str'",
     "output_type": "error",
     "traceback": [
      "\u001b[1;31m---------------------------------------------------------------------------\u001b[0m",
      "\u001b[1;31mTypeError\u001b[0m                                 Traceback (most recent call last)",
      "Cell \u001b[1;32mIn[17], line 3\u001b[0m\n\u001b[0;32m      1\u001b[0m str1\u001b[38;5;241m=\u001b[39m\u001b[38;5;124m'\u001b[39m\u001b[38;5;124manu\u001b[39m\u001b[38;5;124m'\u001b[39m\n\u001b[0;32m      2\u001b[0m str2\u001b[38;5;241m=\u001b[39m\u001b[38;5;124m'\u001b[39m\u001b[38;5;124mammu\u001b[39m\u001b[38;5;124m'\u001b[39m\n\u001b[1;32m----> 3\u001b[0m str1\u001b[38;5;241m*\u001b[39mstr2\n",
      "\u001b[1;31mTypeError\u001b[0m: can't multiply sequence by non-int of type 'str'"
     ]
    }
   ],
   "source": [
    "str1='anu'\n",
    "str2='ammu'\n",
    "str1*str2"
   ]
  },
  {
   "cell_type": "code",
   "execution_count": 18,
   "id": "00b7797b",
   "metadata": {},
   "outputs": [
    {
     "data": {
      "text/plain": [
       "'anuanuanu'"
      ]
     },
     "execution_count": 18,
     "metadata": {},
     "output_type": "execute_result"
    }
   ],
   "source": [
    "3*str1"
   ]
  },
  {
   "cell_type": "code",
   "execution_count": 19,
   "id": "dd72f0f6",
   "metadata": {},
   "outputs": [
    {
     "data": {
      "text/plain": [
       "'ammuammuammu'"
      ]
     },
     "execution_count": 19,
     "metadata": {},
     "output_type": "execute_result"
    }
   ],
   "source": [
    "str2+str2+str2"
   ]
  },
  {
   "cell_type": "markdown",
   "id": "9adacede",
   "metadata": {},
   "source": [
    "*Addition of two strings is known as Concatination\n",
    "*We cannot subtract/divide/multiply two strings\n",
    "*If we do we get unsupported operand\n",
    "*We cannot multiply sequence by non-int of type 'str'"
   ]
  },
  {
   "cell_type": "markdown",
   "id": "123f259c",
   "metadata": {},
   "source": [
    "In"
   ]
  },
  {
   "cell_type": "code",
   "execution_count": 20,
   "id": "c30a1580",
   "metadata": {},
   "outputs": [
    {
     "data": {
      "text/plain": [
       "True"
      ]
     },
     "execution_count": 20,
     "metadata": {},
     "output_type": "execute_result"
    }
   ],
   "source": [
    "string1='Anu'\n",
    "'A' in string1\n",
    "'n' in string1\n",
    "'u' in string1\n",
    "# i in string1"
   ]
  },
  {
   "cell_type": "code",
   "execution_count": 21,
   "id": "1906d27d",
   "metadata": {},
   "outputs": [
    {
     "name": "stdout",
     "output_type": "stream",
     "text": [
      "A\n",
      "n\n",
      "u\n"
     ]
    }
   ],
   "source": [
    "for i in string1:\n",
    "    print(i)"
   ]
  },
  {
   "cell_type": "markdown",
   "id": "a1f44357",
   "metadata": {},
   "source": [
    "*range(): we have to provide number inside the range\n",
    "*in: is used only for strings\n",
    "*If we want to print the letters using for loop go for in operator"
   ]
  },
  {
   "cell_type": "markdown",
   "id": "263ac475",
   "metadata": {},
   "source": [
    "Index"
   ]
  },
  {
   "cell_type": "code",
   "execution_count": 22,
   "id": "89a4629d",
   "metadata": {},
   "outputs": [
    {
     "name": "stdout",
     "output_type": "stream",
     "text": [
      "A\n",
      "n\n",
      "u\n"
     ]
    }
   ],
   "source": [
    "for i in range(3):\n",
    "    print(string1[i])"
   ]
  },
  {
   "cell_type": "code",
   "execution_count": 23,
   "id": "6066fe4a",
   "metadata": {},
   "outputs": [
    {
     "name": "stdout",
     "output_type": "stream",
     "text": [
      "A\n",
      "n\n",
      "u\n",
      "u\n",
      "0 A\n",
      "1 n\n",
      "2 u\n",
      "3 u\n"
     ]
    }
   ],
   "source": [
    "string1='Anuu'\n",
    "for i in string1:\n",
    "     print(i)\n",
    "for i in range(len(string1)):\n",
    "     print(i,string1[i])"
   ]
  },
  {
   "cell_type": "code",
   "execution_count": 24,
   "id": "ab5b72d8",
   "metadata": {},
   "outputs": [
    {
     "data": {
      "text/plain": [
       "'the index of i is 1'"
      ]
     },
     "execution_count": 24,
     "metadata": {},
     "output_type": "execute_result"
    }
   ],
   "source": [
    "'the index of s is 0'\n",
    "'the index of i is 1'"
   ]
  },
  {
   "cell_type": "code",
   "execution_count": null,
   "id": "decde090",
   "metadata": {},
   "outputs": [],
   "source": [
    "-3 -2 -1\n",
    "a  n  u\n",
    "0  1  2"
   ]
  },
  {
   "cell_type": "code",
   "execution_count": 33,
   "id": "55a0a013",
   "metadata": {},
   "outputs": [
    {
     "data": {
      "text/plain": [
       "'u'"
      ]
     },
     "execution_count": 33,
     "metadata": {},
     "output_type": "execute_result"
    }
   ],
   "source": [
    "string1[-1]"
   ]
  },
  {
   "cell_type": "code",
   "execution_count": 34,
   "id": "2e118bcd",
   "metadata": {},
   "outputs": [
    {
     "data": {
      "text/plain": [
       "('n', 'u', 'u')"
      ]
     },
     "execution_count": 34,
     "metadata": {},
     "output_type": "execute_result"
    }
   ],
   "source": [
    "string1[-3],string1[-2],string1[-1]"
   ]
  },
  {
   "cell_type": "code",
   "execution_count": 35,
   "id": "fd6b7cfa",
   "metadata": {},
   "outputs": [
    {
     "name": "stdout",
     "output_type": "stream",
     "text": [
      "the negative index of a is -3\n",
      "the negative index of n is -2\n",
      "the negative index of u is -1\n"
     ]
    }
   ],
   "source": [
    "string1='anu'\n",
    "for i in range(-len(string1),0):\n",
    "     print(\"the negative index of {} is {}\".format(string1[i],i))"
   ]
  },
  {
   "cell_type": "code",
   "execution_count": 37,
   "id": "e0036d5d",
   "metadata": {},
   "outputs": [
    {
     "name": "stdout",
     "output_type": "stream",
     "text": [
      "the positive index of a is 0\n",
      "the positive index of n is 1\n",
      "the positive index of u is 2\n"
     ]
    }
   ],
   "source": [
    "for i in range(len(string1)):\n",
    "    print('the positive index of {} is {}'.format(string1[i],i))"
   ]
  },
  {
   "cell_type": "code",
   "execution_count": 40,
   "id": "8bd8ec98",
   "metadata": {},
   "outputs": [
    {
     "name": "stdout",
     "output_type": "stream",
     "text": [
      "the positive index is a and negative index is -6\n",
      "the positive index is n and negative index is -5\n",
      "the positive index is u and negative index is -4\n"
     ]
    }
   ],
   "source": [
    "string1='anu'\n",
    "for i in range(len(string1)):\n",
    "     print(\"the positive index is {} and negative index is {}\".format(string1[i],i-6))"
   ]
  },
  {
   "cell_type": "code",
   "execution_count": 41,
   "id": "840f00cf",
   "metadata": {},
   "outputs": [
    {
     "name": "stdout",
     "output_type": "stream",
     "text": [
      "-3 0\n",
      "-2 1\n",
      "-1 2\n"
     ]
    }
   ],
   "source": [
    "for i in range(-len(string1),0):\n",
    "    print(i,i+3)"
   ]
  },
  {
   "cell_type": "code",
   "execution_count": 45,
   "id": "fc13d078",
   "metadata": {},
   "outputs": [
    {
     "name": "stdout",
     "output_type": "stream",
     "text": [
      "2\n"
     ]
    }
   ],
   "source": [
    "string1='hai anu'\n",
    "count=0\n",
    "for i in range(len(string1)):\n",
    "    if string1[i]=='a':\n",
    "        count+=1\n",
    "print(count)"
   ]
  },
  {
   "cell_type": "markdown",
   "id": "ab7eb909",
   "metadata": {},
   "source": [
    "Mutable and Immutable Concept"
   ]
  },
  {
   "cell_type": "markdown",
   "id": "ec53dbcc",
   "metadata": {},
   "source": [
    "*Mutable------> We can change\n",
    "*Immutable------> We cannot change the value by using index operation\n",
    "*Strings are Immutable"
   ]
  },
  {
   "cell_type": "code",
   "execution_count": 46,
   "id": "ad21cf37",
   "metadata": {},
   "outputs": [
    {
     "data": {
      "text/plain": [
       "[1000, 200, 300]"
      ]
     },
     "execution_count": 46,
     "metadata": {},
     "output_type": "execute_result"
    }
   ],
   "source": [
    "list1=[100,200,300]\n",
    "list1[0]=1000\n",
    "list1"
   ]
  },
  {
   "cell_type": "markdown",
   "id": "f4aed1ed",
   "metadata": {},
   "source": [
    "Slice"
   ]
  },
  {
   "cell_type": "code",
   "execution_count": null,
   "id": "5d0ff79b",
   "metadata": {},
   "outputs": [],
   "source": [
    "h a i s i r i\n",
    "0 1 2 3 4 5 6 7"
   ]
  },
  {
   "cell_type": "code",
   "execution_count": 50,
   "id": "f52a945c",
   "metadata": {},
   "outputs": [
    {
     "data": {
      "text/plain": [
       "'i an'"
      ]
     },
     "execution_count": 50,
     "metadata": {},
     "output_type": "execute_result"
    }
   ],
   "source": [
    "string1='hai anu'\n",
    "string1[2:6]"
   ]
  },
  {
   "cell_type": "code",
   "execution_count": 51,
   "id": "6f5d811c",
   "metadata": {},
   "outputs": [
    {
     "data": {
      "text/plain": [
       "'a'"
      ]
     },
     "execution_count": 51,
     "metadata": {},
     "output_type": "execute_result"
    }
   ],
   "source": [
    "string1='hai anu'\n",
    "string1[1:2:5]"
   ]
  },
  {
   "cell_type": "code",
   "execution_count": 52,
   "id": "0f90706d",
   "metadata": {},
   "outputs": [
    {
     "data": {
      "text/plain": [
       "'hai anu'"
      ]
     },
     "execution_count": 52,
     "metadata": {},
     "output_type": "execute_result"
    }
   ],
   "source": [
    "string1[:]"
   ]
  },
  {
   "cell_type": "code",
   "execution_count": 53,
   "id": "fdf523df",
   "metadata": {},
   "outputs": [
    {
     "data": {
      "text/plain": [
       "7"
      ]
     },
     "execution_count": 53,
     "metadata": {},
     "output_type": "execute_result"
    }
   ],
   "source": [
    "len(string1)"
   ]
  },
  {
   "cell_type": "code",
   "execution_count": 54,
   "id": "68194310",
   "metadata": {},
   "outputs": [
    {
     "data": {
      "text/plain": [
       "' anu'"
      ]
     },
     "execution_count": 54,
     "metadata": {},
     "output_type": "execute_result"
    }
   ],
   "source": [
    "string1='hai anu'\n",
    "string1[3:7]"
   ]
  },
  {
   "cell_type": "code",
   "execution_count": 55,
   "id": "4e5acbab",
   "metadata": {},
   "outputs": [
    {
     "name": "stdout",
     "output_type": "stream",
     "text": [
      "2"
     ]
    }
   ],
   "source": [
    "for i in range(2,4,6):print(i,end='')"
   ]
  },
  {
   "cell_type": "markdown",
   "id": "cc4226cb",
   "metadata": {},
   "source": [
    "String Methods"
   ]
  },
  {
   "cell_type": "code",
   "execution_count": null,
   "id": "567b9a90",
   "metadata": {},
   "outputs": [],
   "source": [
    "Capitilize"
   ]
  },
  {
   "cell_type": "code",
   "execution_count": 57,
   "id": "1663f8fd",
   "metadata": {},
   "outputs": [
    {
     "data": {
      "text/plain": [
       "'Anu'"
      ]
     },
     "execution_count": 57,
     "metadata": {},
     "output_type": "execute_result"
    }
   ],
   "source": [
    "string1='anu'\n",
    "string1.capitalize()"
   ]
  },
  {
   "cell_type": "markdown",
   "id": "4c50d9f4",
   "metadata": {},
   "source": [
    "Upper"
   ]
  },
  {
   "cell_type": "code",
   "execution_count": 58,
   "id": "2e1dc049",
   "metadata": {},
   "outputs": [
    {
     "data": {
      "text/plain": [
       "'ANU'"
      ]
     },
     "execution_count": 58,
     "metadata": {},
     "output_type": "execute_result"
    }
   ],
   "source": [
    "string1.upper()"
   ]
  },
  {
   "cell_type": "markdown",
   "id": "485fa5bf",
   "metadata": {},
   "source": [
    "Lower"
   ]
  },
  {
   "cell_type": "code",
   "execution_count": 59,
   "id": "44beca87",
   "metadata": {},
   "outputs": [
    {
     "data": {
      "text/plain": [
       "'anu'"
      ]
     },
     "execution_count": 59,
     "metadata": {},
     "output_type": "execute_result"
    }
   ],
   "source": [
    "string1.lower()"
   ]
  },
  {
   "cell_type": "code",
   "execution_count": 60,
   "id": "8142d23c",
   "metadata": {},
   "outputs": [
    {
     "name": "stdout",
     "output_type": "stream",
     "text": [
      "Anu\n",
      "ANU\n",
      "anu\n"
     ]
    }
   ],
   "source": [
    "string1='anu'\n",
    "print(string1.capitalize())\n",
    "print(string1.upper())\n",
    "print(string1.lower())"
   ]
  },
  {
   "cell_type": "code",
   "execution_count": 61,
   "id": "ac705e2a",
   "metadata": {},
   "outputs": [
    {
     "data": {
      "text/plain": [
       "1"
      ]
     },
     "execution_count": 61,
     "metadata": {},
     "output_type": "execute_result"
    }
   ],
   "source": [
    "string1.count('a')"
   ]
  },
  {
   "cell_type": "code",
   "execution_count": null,
   "id": "e85783f8",
   "metadata": {},
   "outputs": [],
   "source": [
    "for i in string1:\n",
    "if i=='a':\n",
    "count+=1"
   ]
  },
  {
   "cell_type": "code",
   "execution_count": 62,
   "id": "b08b8954",
   "metadata": {},
   "outputs": [],
   "source": [
    "string1='anu'"
   ]
  },
  {
   "cell_type": "code",
   "execution_count": 63,
   "id": "afcdf3a5",
   "metadata": {},
   "outputs": [
    {
     "data": {
      "text/plain": [
       "'Anu'"
      ]
     },
     "execution_count": 63,
     "metadata": {},
     "output_type": "execute_result"
    }
   ],
   "source": [
    "string1.replace('a','A')"
   ]
  },
  {
   "cell_type": "markdown",
   "id": "702ea92e",
   "metadata": {},
   "source": [
    "*Capitilize : First letter as capital\n",
    "*Upper: All letters are in upper case\n",
    "*lower: All letters are i lower case\n",
    "*Case fold : Case less comparision(lower case)"
   ]
  },
  {
   "cell_type": "markdown",
   "id": "fc89e7d3",
   "metadata": {},
   "source": [
    "count"
   ]
  },
  {
   "cell_type": "code",
   "execution_count": 64,
   "id": "c98483a4",
   "metadata": {},
   "outputs": [
    {
     "data": {
      "text/plain": [
       "1"
      ]
     },
     "execution_count": 64,
     "metadata": {},
     "output_type": "execute_result"
    }
   ],
   "source": [
    "string1='hai ammu anu'\n",
    "string1.count('i')"
   ]
  },
  {
   "cell_type": "code",
   "execution_count": 65,
   "id": "677ff0b3",
   "metadata": {},
   "outputs": [
    {
     "data": {
      "text/plain": [
       "1"
      ]
     },
     "execution_count": 65,
     "metadata": {},
     "output_type": "execute_result"
    }
   ],
   "source": [
    "string1.count('hai')"
   ]
  },
  {
   "cell_type": "code",
   "execution_count": 67,
   "id": "3c32bd9e",
   "metadata": {},
   "outputs": [
    {
     "data": {
      "text/plain": [
       "2"
      ]
     },
     "execution_count": 67,
     "metadata": {},
     "output_type": "execute_result"
    }
   ],
   "source": [
    "word=''\n",
    "for i in string1:\n",
    "    if i != ' ':\n",
    "        word+=i\n",
    "        if word == 'mom':\n",
    "            count+=1\n",
    "        word=''\n",
    "count"
   ]
  },
  {
   "cell_type": "markdown",
   "id": "ac3d9665",
   "metadata": {},
   "source": [
    "Replace"
   ]
  },
  {
   "cell_type": "code",
   "execution_count": 68,
   "id": "dc7a243f",
   "metadata": {},
   "outputs": [
    {
     "data": {
      "text/plain": [
       "'than#you'"
      ]
     },
     "execution_count": 68,
     "metadata": {},
     "output_type": "execute_result"
    }
   ],
   "source": [
    "string1='thankyou'\n",
    "string1.replace('k','#')"
   ]
  },
  {
   "cell_type": "code",
   "execution_count": 69,
   "id": "ca75938b",
   "metadata": {},
   "outputs": [
    {
     "data": {
      "text/plain": [
       "'ha@@y'"
      ]
     },
     "execution_count": 69,
     "metadata": {},
     "output_type": "execute_result"
    }
   ],
   "source": [
    "string1='happy'\n",
    "string1.replace('p','@')"
   ]
  },
  {
   "cell_type": "code",
   "execution_count": 70,
   "id": "efc91af1",
   "metadata": {},
   "outputs": [
    {
     "data": {
      "text/plain": [
       "'y'"
      ]
     },
     "execution_count": 70,
     "metadata": {},
     "output_type": "execute_result"
    }
   ],
   "source": [
    "len(string1)\n",
    "max(string1)"
   ]
  },
  {
   "cell_type": "markdown",
   "id": "5d54db92",
   "metadata": {},
   "source": [
    "Index"
   ]
  },
  {
   "cell_type": "code",
   "execution_count": 71,
   "id": "54045bd7",
   "metadata": {},
   "outputs": [
    {
     "data": {
      "text/plain": [
       "6"
      ]
     },
     "execution_count": 71,
     "metadata": {},
     "output_type": "execute_result"
    }
   ],
   "source": [
    "string1='thankyou sir'\n",
    "string1.index('o')"
   ]
  },
  {
   "cell_type": "code",
   "execution_count": 74,
   "id": "9b50e1a5",
   "metadata": {},
   "outputs": [
    {
     "name": "stdout",
     "output_type": "stream",
     "text": [
      "2\n"
     ]
    }
   ],
   "source": [
    "for i in range(len(string1)):\n",
    "    if string1[i]=='a':\n",
    "        print(i)"
   ]
  },
  {
   "cell_type": "code",
   "execution_count": 75,
   "id": "c289bf36",
   "metadata": {},
   "outputs": [
    {
     "data": {
      "text/plain": [
       "10"
      ]
     },
     "execution_count": 75,
     "metadata": {},
     "output_type": "execute_result"
    }
   ],
   "source": [
    "string1.index('i')"
   ]
  },
  {
   "cell_type": "markdown",
   "id": "98f9de5a",
   "metadata": {},
   "source": [
    "Find"
   ]
  },
  {
   "cell_type": "code",
   "execution_count": 76,
   "id": "4355798d",
   "metadata": {},
   "outputs": [
    {
     "data": {
      "text/plain": [
       "-1"
      ]
     },
     "execution_count": 76,
     "metadata": {},
     "output_type": "execute_result"
    }
   ],
   "source": [
    "string1='hello hello'\n",
    "string1.find('z')"
   ]
  },
  {
   "cell_type": "markdown",
   "id": "ff9c7be3",
   "metadata": {},
   "source": [
    "Strip - lStrip - rstrip"
   ]
  },
  {
   "cell_type": "code",
   "execution_count": 78,
   "id": "22a2f08b",
   "metadata": {},
   "outputs": [],
   "source": [
    "str1=' hello hai anu '\n",
    "str2=\" hello hai anu\"\n",
    "str3=\"hello hai anu \""
   ]
  },
  {
   "cell_type": "code",
   "execution_count": 79,
   "id": "9a5da77f",
   "metadata": {},
   "outputs": [
    {
     "name": "stdout",
     "output_type": "stream",
     "text": [
      "hello hai anu\n",
      "hello hai anu\n",
      "hello hai anu\n"
     ]
    }
   ],
   "source": [
    "print(str1.strip())\n",
    "print(str2.lstrip())\n",
    "print(str3.rstrip())"
   ]
  },
  {
   "cell_type": "code",
   "execution_count": 80,
   "id": "9b7625c5",
   "metadata": {},
   "outputs": [
    {
     "name": "stdout",
     "output_type": "stream",
     "text": [
      "hello hai anu \n"
     ]
    }
   ],
   "source": [
    "print(str3)"
   ]
  },
  {
   "cell_type": "markdown",
   "id": "dbaa040b",
   "metadata": {},
   "source": [
    "Startswith Endswith"
   ]
  },
  {
   "cell_type": "code",
   "execution_count": 81,
   "id": "4ac9da60",
   "metadata": {},
   "outputs": [],
   "source": [
    "str1='good morning'"
   ]
  },
  {
   "cell_type": "code",
   "execution_count": 82,
   "id": "78ff6a75",
   "metadata": {},
   "outputs": [
    {
     "data": {
      "text/plain": [
       "True"
      ]
     },
     "execution_count": 82,
     "metadata": {},
     "output_type": "execute_result"
    }
   ],
   "source": [
    "str1.startswith('good morning')"
   ]
  },
  {
   "cell_type": "code",
   "execution_count": 83,
   "id": "0bc85914",
   "metadata": {},
   "outputs": [
    {
     "data": {
      "text/plain": [
       "True"
      ]
     },
     "execution_count": 83,
     "metadata": {},
     "output_type": "execute_result"
    }
   ],
   "source": [
    "str1.endswith('morning')"
   ]
  },
  {
   "cell_type": "code",
   "execution_count": 85,
   "id": "1ceb31c6",
   "metadata": {},
   "outputs": [
    {
     "data": {
      "text/plain": [
       "True"
      ]
     },
     "execution_count": 85,
     "metadata": {},
     "output_type": "execute_result"
    }
   ],
   "source": [
    "str1.startswith(str1)"
   ]
  },
  {
   "cell_type": "markdown",
   "id": "273527c2",
   "metadata": {},
   "source": [
    "isalpha isnumeric isalnum"
   ]
  },
  {
   "cell_type": "code",
   "execution_count": 86,
   "id": "a3270fc7",
   "metadata": {},
   "outputs": [
    {
     "data": {
      "text/plain": [
       "False"
      ]
     },
     "execution_count": 86,
     "metadata": {},
     "output_type": "execute_result"
    }
   ],
   "source": [
    "str1='11sin happy birthday'\n",
    "str1.isalnum()"
   ]
  },
  {
   "cell_type": "code",
   "execution_count": 87,
   "id": "45df9e13",
   "metadata": {},
   "outputs": [],
   "source": [
    "str1='abc.123'"
   ]
  },
  {
   "cell_type": "code",
   "execution_count": 88,
   "id": "c49aa886",
   "metadata": {},
   "outputs": [
    {
     "data": {
      "text/plain": [
       "True"
      ]
     },
     "execution_count": 88,
     "metadata": {},
     "output_type": "execute_result"
    }
   ],
   "source": [
    "str1='85230'\n",
    "str1.isnumeric()"
   ]
  },
  {
   "cell_type": "code",
   "execution_count": 89,
   "id": "8bd6be1f",
   "metadata": {},
   "outputs": [
    {
     "data": {
      "text/plain": [
       "True"
      ]
     },
     "execution_count": 89,
     "metadata": {},
     "output_type": "execute_result"
    }
   ],
   "source": [
    "str1='anu'\n",
    "str1.isalpha()"
   ]
  },
  {
   "cell_type": "markdown",
   "id": "5bd04e91",
   "metadata": {},
   "source": [
    "Split"
   ]
  },
  {
   "cell_type": "code",
   "execution_count": 90,
   "id": "28af5e97",
   "metadata": {},
   "outputs": [
    {
     "data": {
      "text/plain": [
       "['hey', 'anu', 'how', 'are', 'you']"
      ]
     },
     "execution_count": 90,
     "metadata": {},
     "output_type": "execute_result"
    }
   ],
   "source": [
    "str1='hey anu how are you'\n",
    "str1.split()"
   ]
  },
  {
   "cell_type": "code",
   "execution_count": 91,
   "id": "ad219c76",
   "metadata": {},
   "outputs": [
    {
     "data": {
      "text/plain": [
       "['hey anu', 'how are you']"
      ]
     },
     "execution_count": 91,
     "metadata": {},
     "output_type": "execute_result"
    }
   ],
   "source": [
    "str1='hey anu,how are you'\n",
    "str1.split(',')"
   ]
  },
  {
   "cell_type": "code",
   "execution_count": 92,
   "id": "ec4caffe",
   "metadata": {},
   "outputs": [
    {
     "data": {
      "text/plain": [
       "' lucky '"
      ]
     },
     "execution_count": 92,
     "metadata": {},
     "output_type": "execute_result"
    }
   ],
   "source": [
    "str1='%%%%% lucky %%%%%'\n",
    "str1.strip('%')"
   ]
  }
 ],
 "metadata": {
  "kernelspec": {
   "display_name": "Python 3 (ipykernel)",
   "language": "python",
   "name": "python3"
  },
  "language_info": {
   "codemirror_mode": {
    "name": "ipython",
    "version": 3
   },
   "file_extension": ".py",
   "mimetype": "text/x-python",
   "name": "python",
   "nbconvert_exporter": "python",
   "pygments_lexer": "ipython3",
   "version": "3.11.5"
  }
 },
 "nbformat": 4,
 "nbformat_minor": 5
}
