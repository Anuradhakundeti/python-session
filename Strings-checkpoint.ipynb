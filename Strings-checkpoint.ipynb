{
 "cells": [
  {
   "cell_type": "code",
   "execution_count": 1,
   "id": "360742bd",
   "metadata": {},
   "outputs": [],
   "source": [
    "#strings\n",
    "#list\n",
    "#dictionary\n",
    "#tuple\n",
    "#set"
   ]
  },
  {
   "cell_type": "markdown",
   "id": "beb7c886",
   "metadata": {},
   "source": [
    "**How to read the strings"
   ]
  },
  {
   "cell_type": "code",
   "execution_count": 2,
   "id": "92725969",
   "metadata": {},
   "outputs": [
    {
     "data": {
      "text/plain": [
       "'python'"
      ]
     },
     "execution_count": 2,
     "metadata": {},
     "output_type": "execute_result"
    }
   ],
   "source": [
    "string1='python'        #single quote\n",
    "string1"
   ]
  },
  {
   "cell_type": "code",
   "execution_count": 3,
   "id": "589783d0",
   "metadata": {},
   "outputs": [
    {
     "data": {
      "text/plain": [
       "'python'"
      ]
     },
     "execution_count": 3,
     "metadata": {},
     "output_type": "execute_result"
    }
   ],
   "source": [
    "string2=\"python\"        #double quotes\n",
    "string2"
   ]
  },
  {
   "cell_type": "code",
   "execution_count": 4,
   "id": "489857e8",
   "metadata": {},
   "outputs": [],
   "source": [
    "#### Triple quotes\n",
    "# Doc string is used to say some information about your python code"
   ]
  },
  {
   "cell_type": "code",
   "execution_count": 5,
   "id": "8f9728d7",
   "metadata": {},
   "outputs": [],
   "source": [
    "\"\"\"\n",
    "im creating a hello function\n",
    "arguments: none\n",
    "return: none\n",
    "\"\"\"\n",
    "def hello():\n",
    "    print(\"good morning\")"
   ]
  },
  {
   "cell_type": "code",
   "execution_count": 6,
   "id": "a004a5d2",
   "metadata": {},
   "outputs": [
    {
     "data": {
      "text/plain": [
       "'hello python'"
      ]
     },
     "execution_count": 6,
     "metadata": {},
     "output_type": "execute_result"
    }
   ],
   "source": [
    "'hello python'       #i want highlite the python"
   ]
  },
  {
   "cell_type": "code",
   "execution_count": 8,
   "id": "c501fb63",
   "metadata": {},
   "outputs": [
    {
     "name": "stdout",
     "output_type": "stream",
     "text": [
      "hello \"python\"\n"
     ]
    }
   ],
   "source": [
    "string3='hello \"python\"'\n",
    "print(string3)"
   ]
  },
  {
   "cell_type": "code",
   "execution_count": 9,
   "id": "4d8e66b5",
   "metadata": {},
   "outputs": [
    {
     "name": "stdout",
     "output_type": "stream",
     "text": [
      "hello 'python'\n"
     ]
    }
   ],
   "source": [
    "string4=\"hello 'python'\"\n",
    "print(string4)"
   ]
  },
  {
   "cell_type": "markdown",
   "id": "2f5688e7",
   "metadata": {},
   "source": [
    "- type\n",
    "- len\n",
    "- max\n",
    "- min"
   ]
  },
  {
   "cell_type": "markdown",
   "id": "0f956062",
   "metadata": {},
   "source": [
    "**type:"
   ]
  },
  {
   "cell_type": "code",
   "execution_count": 10,
   "id": "be264772",
   "metadata": {},
   "outputs": [
    {
     "data": {
      "text/plain": [
       "'python'"
      ]
     },
     "execution_count": 10,
     "metadata": {},
     "output_type": "execute_result"
    }
   ],
   "source": [
    "string1"
   ]
  },
  {
   "cell_type": "code",
   "execution_count": 11,
   "id": "1fda3218",
   "metadata": {},
   "outputs": [
    {
     "data": {
      "text/plain": [
       "str"
      ]
     },
     "execution_count": 11,
     "metadata": {},
     "output_type": "execute_result"
    }
   ],
   "source": [
    "type(string1)    #str"
   ]
  },
  {
   "cell_type": "markdown",
   "id": "5bacd433",
   "metadata": {},
   "source": [
    "**len:"
   ]
  },
  {
   "cell_type": "code",
   "execution_count": 12,
   "id": "4cd5a840",
   "metadata": {},
   "outputs": [
    {
     "data": {
      "text/plain": [
       "6"
      ]
     },
     "execution_count": 12,
     "metadata": {},
     "output_type": "execute_result"
    }
   ],
   "source": [
    "len(string1)"
   ]
  },
  {
   "cell_type": "markdown",
   "id": "737f924a",
   "metadata": {},
   "source": [
    "**max-min:"
   ]
  },
  {
   "cell_type": "code",
   "execution_count": 13,
   "id": "f3511547",
   "metadata": {},
   "outputs": [
    {
     "data": {
      "text/plain": [
       "'y'"
      ]
     },
     "execution_count": 13,
     "metadata": {},
     "output_type": "execute_result"
    }
   ],
   "source": [
    "max(string1)        #python"
   ]
  },
  {
   "cell_type": "code",
   "execution_count": 14,
   "id": "9c92a71d",
   "metadata": {},
   "outputs": [
    {
     "data": {
      "text/plain": [
       "'p'"
      ]
     },
     "execution_count": 14,
     "metadata": {},
     "output_type": "execute_result"
    }
   ],
   "source": [
    "string1='pP'\n",
    "max(string1)       #ASCII by using values"
   ]
  },
  {
   "cell_type": "markdown",
   "id": "8ddcff86",
   "metadata": {},
   "source": [
    "*ord-*chr"
   ]
  },
  {
   "cell_type": "code",
   "execution_count": 16,
   "id": "57411e50",
   "metadata": {},
   "outputs": [
    {
     "data": {
      "text/plain": [
       "112"
      ]
     },
     "execution_count": 16,
     "metadata": {},
     "output_type": "execute_result"
    }
   ],
   "source": [
    "ord('p')  #it will provide ascii value of char"
   ]
  },
  {
   "cell_type": "code",
   "execution_count": 17,
   "id": "855c4a1e",
   "metadata": {},
   "outputs": [
    {
     "data": {
      "text/plain": [
       "80"
      ]
     },
     "execution_count": 17,
     "metadata": {},
     "output_type": "execute_result"
    }
   ],
   "source": [
    "ord('P')"
   ]
  },
  {
   "cell_type": "code",
   "execution_count": 19,
   "id": "31e56a98",
   "metadata": {},
   "outputs": [
    {
     "data": {
      "text/plain": [
       "'y'"
      ]
     },
     "execution_count": 19,
     "metadata": {},
     "output_type": "execute_result"
    }
   ],
   "source": [
    "string1='python'\n",
    "max(string1)"
   ]
  },
  {
   "cell_type": "code",
   "execution_count": 20,
   "id": "cf43d82a",
   "metadata": {},
   "outputs": [
    {
     "data": {
      "text/plain": [
       "('y', 'h')"
      ]
     },
     "execution_count": 20,
     "metadata": {},
     "output_type": "execute_result"
    }
   ],
   "source": [
    "string1='python'\n",
    "max(string1),min(string1)"
   ]
  },
  {
   "cell_type": "code",
   "execution_count": 21,
   "id": "15849db7",
   "metadata": {},
   "outputs": [
    {
     "data": {
      "text/plain": [
       "(112, 121, 116, 104, 111, 110)"
      ]
     },
     "execution_count": 21,
     "metadata": {},
     "output_type": "execute_result"
    }
   ],
   "source": [
    "ord('p'),ord('y'),ord('t'),ord('h'),ord('o'),ord('n')"
   ]
  },
  {
   "cell_type": "code",
   "execution_count": 23,
   "id": "edfa56e7",
   "metadata": {},
   "outputs": [
    {
     "data": {
      "text/plain": [
       "('p', 'y', 't', 'h', 'o', 'n')"
      ]
     },
     "execution_count": 23,
     "metadata": {},
     "output_type": "execute_result"
    }
   ],
   "source": [
    "chr(112), chr(121), chr(116),chr(104),chr(111),chr(110)"
   ]
  },
  {
   "cell_type": "code",
   "execution_count": 24,
   "id": "0edd308d",
   "metadata": {},
   "outputs": [
    {
     "name": "stdout",
     "output_type": "stream",
     "text": [
      "0\n",
      "1\n",
      "2\n",
      "3\n",
      "4\n",
      "5\n"
     ]
    }
   ],
   "source": [
    "for i in range(len('python')):\n",
    "    print(i)"
   ]
  },
  {
   "cell_type": "markdown",
   "id": "56ef16a5",
   "metadata": {},
   "source": [
    "-i want to print p y t h o n\n",
    "***in:"
   ]
  },
  {
   "cell_type": "code",
   "execution_count": 27,
   "id": "20406f04",
   "metadata": {},
   "outputs": [
    {
     "data": {
      "text/plain": [
       "True"
      ]
     },
     "execution_count": 27,
     "metadata": {},
     "output_type": "execute_result"
    }
   ],
   "source": [
    "string1='python'\n",
    "'p' in string1\n",
    "'y' in string1\n",
    "'t' in string1\n",
    "'h' in string1\n",
    "'o' in string1\n",
    "'n' in string1\n",
    "# i in string1             #generalized expression"
   ]
  },
  {
   "cell_type": "code",
   "execution_count": 28,
   "id": "0725342f",
   "metadata": {},
   "outputs": [
    {
     "name": "stdout",
     "output_type": "stream",
     "text": [
      "p\n",
      "y\n",
      "t\n",
      "h\n",
      "o\n",
      "n\n"
     ]
    }
   ],
   "source": [
    "for i in string1:\n",
    "    print(i)"
   ]
  },
  {
   "cell_type": "markdown",
   "id": "ebdde718",
   "metadata": {},
   "source": [
    "-range(): you need provide number inside the range\n",
    "-in     : is used only for strings\n",
    "if you want print the letters using for loop go for in operator"
   ]
  },
  {
   "cell_type": "code",
   "execution_count": 29,
   "id": "0770d26e",
   "metadata": {},
   "outputs": [
    {
     "name": "stdout",
     "output_type": "stream",
     "text": [
      "112\n",
      "121\n",
      "116\n",
      "104\n",
      "111\n",
      "110\n",
      "110\n"
     ]
    }
   ],
   "source": [
    "print(ord('p'))\n",
    "print(ord('y'))\n",
    "print(ord('t'))\n",
    "print(ord('h'))\n",
    "print(ord('o'))\n",
    "print(ord('n'))\n",
    "\n",
    "print(ord(i))"
   ]
  },
  {
   "cell_type": "code",
   "execution_count": 30,
   "id": "8d0543f2",
   "metadata": {},
   "outputs": [
    {
     "name": "stdout",
     "output_type": "stream",
     "text": [
      "112\n",
      "121\n",
      "116\n",
      "104\n",
      "111\n",
      "110\n"
     ]
    }
   ],
   "source": [
    "for i in string1:\n",
    "    print(ord(i))\n",
    "     #the ascii value of p is 112"
   ]
  },
  {
   "cell_type": "code",
   "execution_count": 31,
   "id": "74e14bda",
   "metadata": {},
   "outputs": [
    {
     "name": "stdout",
     "output_type": "stream",
     "text": [
      "the ascii value of p is 112\n",
      "the ascii value of y is 121\n",
      "the ascii value of t is 116\n",
      "the ascii value of h is 104\n",
      "the ascii value of o is 111\n",
      "the ascii value of n is 110\n"
     ]
    }
   ],
   "source": [
    "for i in (string1):\n",
    "    print(\"the ascii value of {} is {}\".format(i,ord(i)))"
   ]
  },
  {
   "cell_type": "code",
   "execution_count": 33,
   "id": "eb8fb9ca",
   "metadata": {},
   "outputs": [],
   "source": [
    "#ascii value of A to Z\n",
    "#package_name: string\n",
    "import string"
   ]
  },
  {
   "cell_type": "raw",
   "id": "a86fe887",
   "metadata": {},
   "source": [
    "dir(string)"
   ]
  },
  {
   "cell_type": "code",
   "execution_count": null,
   "id": "8ee84dc5",
   "metadata": {},
   "outputs": [],
   "source": [
    "string.ascii_uppercase"
   ]
  },
  {
   "cell_type": "code",
   "execution_count": null,
   "id": "c6ea9781",
   "metadata": {},
   "outputs": [],
   "source": [
    "'ABCDEFGHIJKLMNOPQRSTUVWXYZ'"
   ]
  },
  {
   "cell_type": "code",
   "execution_count": 36,
   "id": "19924b41",
   "metadata": {},
   "outputs": [
    {
     "name": "stdout",
     "output_type": "stream",
     "text": [
      "the ascii value of A is 65\n",
      "the ascii value of B is 66\n",
      "the ascii value of C is 67\n",
      "the ascii value of D is 68\n",
      "the ascii value of E is 69\n",
      "the ascii value of F is 70\n",
      "the ascii value of G is 71\n",
      "the ascii value of H is 72\n",
      "the ascii value of I is 73\n",
      "the ascii value of J is 74\n",
      "the ascii value of K is 75\n",
      "the ascii value of L is 76\n",
      "the ascii value of M is 77\n",
      "the ascii value of N is 78\n",
      "the ascii value of O is 79\n",
      "the ascii value of P is 80\n",
      "the ascii value of Q is 81\n",
      "the ascii value of R is 82\n",
      "the ascii value of S is 83\n",
      "the ascii value of T is 84\n",
      "the ascii value of U is 85\n",
      "the ascii value of V is 86\n",
      "the ascii value of W is 87\n",
      "the ascii value of X is 88\n",
      "the ascii value of Y is 89\n",
      "the ascii value of Z is 90\n"
     ]
    }
   ],
   "source": [
    "for i in string.ascii_uppercase:\n",
    "    print(\"the ascii value of {} is {}\".format(i,ord(i)))"
   ]
  },
  {
   "cell_type": "code",
   "execution_count": null,
   "id": "78bd189d",
   "metadata": {},
   "outputs": [],
   "source": [
    "'ABCDEFGHIJKLMNOPQRSTUVWXYZ'"
   ]
  },
  {
   "cell_type": "code",
   "execution_count": 37,
   "id": "192a9746",
   "metadata": {},
   "outputs": [
    {
     "name": "stdout",
     "output_type": "stream",
     "text": [
      "the ascii value of a is 97\n",
      "the ascii value of b is 98\n",
      "the ascii value of c is 99\n",
      "the ascii value of d is 100\n",
      "the ascii value of e is 101\n",
      "the ascii value of f is 102\n",
      "the ascii value of g is 103\n",
      "the ascii value of h is 104\n",
      "the ascii value of i is 105\n",
      "the ascii value of j is 106\n",
      "the ascii value of k is 107\n",
      "the ascii value of l is 108\n",
      "the ascii value of m is 109\n",
      "the ascii value of n is 110\n",
      "the ascii value of o is 111\n",
      "the ascii value of p is 112\n",
      "the ascii value of q is 113\n",
      "the ascii value of r is 114\n",
      "the ascii value of s is 115\n",
      "the ascii value of t is 116\n",
      "the ascii value of u is 117\n",
      "the ascii value of v is 118\n",
      "the ascii value of w is 119\n",
      "the ascii value of x is 120\n",
      "the ascii value of y is 121\n",
      "the ascii value of z is 122\n"
     ]
    }
   ],
   "source": [
    "for i in string.ascii_lowercase:\n",
    "        print(\"the ascii value of {} is {}\".format(i,ord(i)))"
   ]
  },
  {
   "cell_type": "code",
   "execution_count": 38,
   "id": "8d6cee5c",
   "metadata": {},
   "outputs": [
    {
     "data": {
      "text/plain": [
       "97"
      ]
     },
     "execution_count": 38,
     "metadata": {},
     "output_type": "execute_result"
    }
   ],
   "source": [
    "#what \n",
    "ord('a')"
   ]
  },
  {
   "cell_type": "code",
   "execution_count": 39,
   "id": "5f8adfce",
   "metadata": {},
   "outputs": [
    {
     "name": "stdout",
     "output_type": "stream",
     "text": [
      "33 !\n",
      "34 \"\n",
      "35 #\n",
      "36 $\n",
      "37 %\n",
      "38 &\n",
      "39 '\n",
      "40 (\n",
      "41 )\n",
      "42 *\n",
      "43 +\n",
      "44 ,\n",
      "45 -\n",
      "46 .\n",
      "47 /\n",
      "48 0\n",
      "49 1\n",
      "50 2\n",
      "51 3\n",
      "52 4\n",
      "53 5\n",
      "54 6\n",
      "55 7\n",
      "56 8\n",
      "57 9\n",
      "58 :\n",
      "59 ;\n",
      "60 <\n",
      "61 =\n",
      "62 >\n",
      "63 ?\n",
      "64 @\n",
      "65 A\n",
      "66 B\n",
      "67 C\n",
      "68 D\n",
      "69 E\n",
      "70 F\n",
      "71 G\n",
      "72 H\n",
      "73 I\n",
      "74 J\n",
      "75 K\n",
      "76 L\n",
      "77 M\n",
      "78 N\n",
      "79 O\n",
      "80 P\n",
      "81 Q\n",
      "82 R\n",
      "83 S\n",
      "84 T\n",
      "85 U\n",
      "86 V\n",
      "87 W\n",
      "88 X\n",
      "89 Y\n",
      "90 Z\n",
      "91 [\n",
      "92 \\\n",
      "93 ]\n",
      "94 ^\n",
      "95 _\n",
      "96 `\n",
      "97 a\n",
      "98 b\n",
      "99 c\n",
      "100 d\n",
      "101 e\n",
      "102 f\n",
      "103 g\n",
      "104 h\n",
      "105 i\n",
      "106 j\n",
      "107 k\n",
      "108 l\n",
      "109 m\n",
      "110 n\n",
      "111 o\n",
      "112 p\n",
      "113 q\n",
      "114 r\n",
      "115 s\n",
      "116 t\n",
      "117 u\n",
      "118 v\n",
      "119 w\n",
      "120 x\n",
      "121 y\n",
      "122 z\n",
      "123 {\n",
      "124 |\n",
      "125 }\n",
      "126 ~\n"
     ]
    }
   ],
   "source": [
    "for i in range(33,127):\n",
    "    print(i,chr(i))"
   ]
  },
  {
   "cell_type": "code",
   "execution_count": 40,
   "id": "5c6c89ab",
   "metadata": {},
   "outputs": [
    {
     "name": "stdout",
     "output_type": "stream",
     "text": [
      "938 Ϊ\n",
      "939 Ϋ\n",
      "940 ά\n",
      "941 έ\n",
      "942 ή\n",
      "943 ί\n",
      "944 ΰ\n",
      "945 α\n",
      "946 β\n",
      "947 γ\n",
      "948 δ\n",
      "949 ε\n",
      "950 ζ\n",
      "951 η\n",
      "952 θ\n",
      "953 ι\n",
      "954 κ\n",
      "955 λ\n",
      "956 μ\n",
      "957 ν\n",
      "958 ξ\n",
      "959 ο\n",
      "960 π\n",
      "961 ρ\n",
      "962 ς\n",
      "963 σ\n",
      "964 τ\n",
      "965 υ\n",
      "966 φ\n",
      "967 χ\n",
      "968 ψ\n",
      "969 ω\n",
      "970 ϊ\n",
      "971 ϋ\n",
      "972 ό\n",
      "973 ύ\n",
      "974 ώ\n",
      "975 Ϗ\n",
      "976 ϐ\n",
      "977 ϑ\n",
      "978 ϒ\n",
      "979 ϓ\n",
      "980 ϔ\n",
      "981 ϕ\n",
      "982 ϖ\n",
      "983 ϗ\n",
      "984 Ϙ\n",
      "985 ϙ\n",
      "986 Ϛ\n",
      "987 ϛ\n",
      "988 Ϝ\n",
      "989 ϝ\n",
      "990 Ϟ\n",
      "991 ϟ\n",
      "992 Ϡ\n",
      "993 ϡ\n",
      "994 Ϣ\n",
      "995 ϣ\n",
      "996 Ϥ\n",
      "997 ϥ\n",
      "998 Ϧ\n",
      "999 ϧ\n"
     ]
    }
   ],
   "source": [
    "for i in range(938,1000):\n",
    "    print(i,chr(i))"
   ]
  },
  {
   "cell_type": "code",
   "execution_count": 41,
   "id": "7d1e3b2f",
   "metadata": {},
   "outputs": [
    {
     "data": {
      "text/plain": [
       "'abcdefghijklmnopqrstuvwxyzABCDEFGHIJKLMNOPQRSTUVWXYZ'"
      ]
     },
     "execution_count": 41,
     "metadata": {},
     "output_type": "execute_result"
    }
   ],
   "source": [
    "string.ascii_letters"
   ]
  },
  {
   "cell_type": "code",
   "execution_count": 42,
   "id": "c8bcfa63",
   "metadata": {},
   "outputs": [
    {
     "data": {
      "text/plain": [
       "'0123456789abcdefghijklmnopqrstuvwxyzABCDEFGHIJKLMNOPQRSTUVWXYZ!\"#$%&\\'()*+,-./:;<=>?@[\\\\]^_`{|}~ \\t\\n\\r\\x0b\\x0c'"
      ]
     },
     "execution_count": 42,
     "metadata": {},
     "output_type": "execute_result"
    }
   ],
   "source": [
    "string.printable\n",
    "\n",
    "#digits\n",
    "#lower\n",
    "#upper"
   ]
  },
  {
   "cell_type": "code",
   "execution_count": 48,
   "id": "4370763a",
   "metadata": {},
   "outputs": [
    {
     "name": "stdout",
     "output_type": "stream",
     "text": [
      "2\n"
     ]
    }
   ],
   "source": [
    "#wap ask the user find number of 'a' letters in a given string\n",
    "#string='hai how are you how do you do'\n",
    "#ans:3\n",
    "\n",
    "#first iterate the string using in and for loop\n",
    "#print each letter===>i\n",
    "#apply the if condition i=='a'\n",
    "#                       count+=1\n",
    "string='hai how are you how do you do'\n",
    "count=0\n",
    "for i in string:\n",
    "    if i=='a':\n",
    "        count=count+1\n",
    "        \n",
    "print(count)"
   ]
  },
  {
   "cell_type": "code",
   "execution_count": 10,
   "id": "b75f01cf",
   "metadata": {},
   "outputs": [
    {
     "name": "stdout",
     "output_type": "stream",
     "text": [
      "7\n"
     ]
    }
   ],
   "source": [
    "#wap count the vowels in a string\n",
    "#string='hai how are you'\n",
    "#7\n",
    "string='hai how are you'\n",
    "count=0\n",
    "for i in string:\n",
    "    if i in 'aeiou':\n",
    "            count=count+1\n",
    "print(count)"
   ]
  },
  {
   "cell_type": "code",
   "execution_count": 18,
   "id": "2b092d59",
   "metadata": {},
   "outputs": [
    {
     "name": "stdout",
     "output_type": "stream",
     "text": [
      "0\n"
     ]
    }
   ],
   "source": [
    "#wap count the unique vowels in a string\n",
    "#string='hai how are you'\n",
    "#5\n",
    "string1='hai how are you'\n",
    "count=1\n",
    "for i in string1:\n",
    "    for i in string2:\n",
    "        string2=string1+1\n",
    "        \n",
    "print(count)"
   ]
  },
  {
   "cell_type": "code",
   "execution_count": 2,
   "id": "7d7de15b",
   "metadata": {},
   "outputs": [
    {
     "name": "stdout",
     "output_type": "stream",
     "text": [
      "enter the number7\n",
      "1 + 2 is 3\n",
      "3 + 3 is 6\n",
      "6 + 4 is 10\n",
      "10 + 5 is 15\n",
      "15 + 6 is 21\n",
      "21 + 7 is 28\n"
     ]
    }
   ],
   "source": [
    "count=1\n",
    "i=2\n",
    "n=eval(input(\"enter the number\"))\n",
    "while i<=n:                                                                                            \n",
    "    temp=count+i\n",
    "    print(\"{} + {} is {}\".format(count,i,temp))\n",
    "    count=count+i\n",
    "    i=i+1"
   ]
  },
  {
   "cell_type": "markdown",
   "id": "c707e29a",
   "metadata": {},
   "source": [
    "**concatenation"
   ]
  },
  {
   "cell_type": "code",
   "execution_count": 54,
   "id": "98f77fc0",
   "metadata": {},
   "outputs": [
    {
     "data": {
      "text/plain": [
       "'haihow'"
      ]
     },
     "execution_count": 54,
     "metadata": {},
     "output_type": "execute_result"
    }
   ],
   "source": [
    "str1='hai'\n",
    "str2='how'\n",
    "str1+str2"
   ]
  },
  {
   "cell_type": "code",
   "execution_count": 55,
   "id": "f2d9ef62",
   "metadata": {},
   "outputs": [
    {
     "ename": "TypeError",
     "evalue": "unsupported operand type(s) for -: 'str' and 'str'",
     "output_type": "error",
     "traceback": [
      "\u001b[1;31m---------------------------------------------------------------------------\u001b[0m",
      "\u001b[1;31mTypeError\u001b[0m                                 Traceback (most recent call last)",
      "Cell \u001b[1;32mIn[55], line 1\u001b[0m\n\u001b[1;32m----> 1\u001b[0m str1\u001b[38;5;241m-\u001b[39mstr2\n",
      "\u001b[1;31mTypeError\u001b[0m: unsupported operand type(s) for -: 'str' and 'str'"
     ]
    }
   ],
   "source": [
    "str1-str2"
   ]
  },
  {
   "cell_type": "code",
   "execution_count": 56,
   "id": "b7ed62a8",
   "metadata": {},
   "outputs": [
    {
     "ename": "TypeError",
     "evalue": "can't multiply sequence by non-int of type 'str'",
     "output_type": "error",
     "traceback": [
      "\u001b[1;31m---------------------------------------------------------------------------\u001b[0m",
      "\u001b[1;31mTypeError\u001b[0m                                 Traceback (most recent call last)",
      "Cell \u001b[1;32mIn[56], line 1\u001b[0m\n\u001b[1;32m----> 1\u001b[0m str1\u001b[38;5;241m*\u001b[39mstr2\n",
      "\u001b[1;31mTypeError\u001b[0m: can't multiply sequence by non-int of type 'str'"
     ]
    }
   ],
   "source": [
    "str1*str2"
   ]
  },
  {
   "cell_type": "code",
   "execution_count": 57,
   "id": "b28af792",
   "metadata": {},
   "outputs": [
    {
     "ename": "TypeError",
     "evalue": "unsupported operand type(s) for /: 'str' and 'str'",
     "output_type": "error",
     "traceback": [
      "\u001b[1;31m---------------------------------------------------------------------------\u001b[0m",
      "\u001b[1;31mTypeError\u001b[0m                                 Traceback (most recent call last)",
      "Cell \u001b[1;32mIn[57], line 1\u001b[0m\n\u001b[1;32m----> 1\u001b[0m str1\u001b[38;5;241m/\u001b[39mstr2\n",
      "\u001b[1;31mTypeError\u001b[0m: unsupported operand type(s) for /: 'str' and 'str'"
     ]
    }
   ],
   "source": [
    "str1/str2"
   ]
  },
  {
   "cell_type": "code",
   "execution_count": 58,
   "id": "32699291",
   "metadata": {},
   "outputs": [
    {
     "data": {
      "text/plain": [
       "'howhowhow'"
      ]
     },
     "execution_count": 58,
     "metadata": {},
     "output_type": "execute_result"
    }
   ],
   "source": [
    "3*str2"
   ]
  },
  {
   "cell_type": "code",
   "execution_count": 60,
   "id": "bfe27db0",
   "metadata": {},
   "outputs": [
    {
     "data": {
      "text/plain": [
       "'haihaihai'"
      ]
     },
     "execution_count": 60,
     "metadata": {},
     "output_type": "execute_result"
    }
   ],
   "source": [
    "str1+str1+str1"
   ]
  },
  {
   "cell_type": "markdown",
   "id": "f6cb07c6",
   "metadata": {},
   "source": [
    "- how to read \n",
    "- single/double/triple\n",
    "- type\n",
    "- len\n",
    "- max\n",
    "- min\n",
    "- in  (how to iterate through for loop)\n",
    "- cancatenation\n",
    "- subtraction/mul/div\n",
    "- in\n",
    "- mutable\n",
    "- immutable\n",
    "- slice"
   ]
  },
  {
   "cell_type": "markdown",
   "id": "d7cc0861",
   "metadata": {},
   "source": [
    "**index"
   ]
  },
  {
   "cell_type": "code",
   "execution_count": 62,
   "id": "3069a395",
   "metadata": {},
   "outputs": [],
   "source": [
    "string1='python'    #6 letters\n"
   ]
  },
  {
   "cell_type": "code",
   "execution_count": 63,
   "id": "235529e3",
   "metadata": {},
   "outputs": [
    {
     "ename": "SyntaxError",
     "evalue": "invalid syntax (691820132.py, line 1)",
     "output_type": "error",
     "traceback": [
      "\u001b[1;36m  Cell \u001b[1;32mIn[63], line 1\u001b[1;36m\u001b[0m\n\u001b[1;33m    p y t h o n\u001b[0m\n\u001b[1;37m      ^\u001b[0m\n\u001b[1;31mSyntaxError\u001b[0m\u001b[1;31m:\u001b[0m invalid syntax\n"
     ]
    }
   ],
   "source": [
    "p y t h o n\n",
    "0 1 2 3 4 5"
   ]
  },
  {
   "cell_type": "code",
   "execution_count": 67,
   "id": "0678345b",
   "metadata": {},
   "outputs": [
    {
     "data": {
      "text/plain": [
       "('p', 'y', 't', 'h', 'o', 'n')"
      ]
     },
     "execution_count": 67,
     "metadata": {},
     "output_type": "execute_result"
    }
   ],
   "source": [
    "string1[0],string1[1],string1[2],string1[3],string1[4],string1[5]"
   ]
  },
  {
   "cell_type": "code",
   "execution_count": 74,
   "id": "2ee8c5ef",
   "metadata": {},
   "outputs": [
    {
     "data": {
      "text/plain": [
       "('p', 'y', 't', 'h', 'o', 'n')"
      ]
     },
     "execution_count": 74,
     "metadata": {},
     "output_type": "execute_result"
    }
   ],
   "source": [
    "string1[0],string1[1],string1[2],string1[3],string1[4],string1[5]"
   ]
  },
  {
   "cell_type": "code",
   "execution_count": 73,
   "id": "39a4cdce",
   "metadata": {},
   "outputs": [
    {
     "name": "stdout",
     "output_type": "stream",
     "text": [
      "p\n",
      "y\n",
      "t\n",
      "h\n",
      "o\n"
     ]
    }
   ],
   "source": [
    "for i in range(5):\n",
    "    print(string1[i])"
   ]
  },
  {
   "cell_type": "code",
   "execution_count": 72,
   "id": "89817efe",
   "metadata": {},
   "outputs": [
    {
     "name": "stdout",
     "output_type": "stream",
     "text": [
      "p\n",
      "y\n",
      "t\n",
      "h\n",
      "o\n",
      "n\n",
      "p\n",
      "y\n",
      "t\n",
      "h\n",
      "o\n",
      "n\n"
     ]
    }
   ],
   "source": [
    "string1='python'\n",
    "\n",
    "# i want to print letters using in operator\n",
    "# i want to print letters using range operator\n",
    "for i in string1:\n",
    "    print(i)\n",
    "    \n",
    "for i in range(len(string1)):\n",
    "    print(string1[i])"
   ]
  },
  {
   "cell_type": "code",
   "execution_count": 5,
   "id": "bde31570",
   "metadata": {},
   "outputs": [
    {
     "data": {
      "text/plain": [
       "12"
      ]
     },
     "execution_count": 5,
     "metadata": {},
     "output_type": "execute_result"
    }
   ],
   "source": [
    "name='python class'\n",
    "len(name)\n",
    "#if you want print only letter: in\n",
    "#if you want print index: range"
   ]
  },
  {
   "cell_type": "code",
   "execution_count": 8,
   "id": "3b615dbe",
   "metadata": {},
   "outputs": [
    {
     "name": "stdout",
     "output_type": "stream",
     "text": [
      "the index no of p is 0\n",
      "the index no of y is 1\n",
      "the index no of t is 2\n",
      "the index no of h is 3\n",
      "the index no of o is 4\n",
      "the index no of n is 5\n",
      "the index no of   is 6\n",
      "the index no of c is 7\n",
      "the index no of l is 8\n",
      "the index no of a is 9\n",
      "the index no of s is 10\n",
      "the index no of s is 11\n"
     ]
    }
   ],
   "source": [
    "name='python class'\n",
    "for i in range(len(name)):\n",
    "    print(\"the index no of {} is {}\".format(name[i],i))"
   ]
  },
  {
   "cell_type": "code",
   "execution_count": 5,
   "id": "8dabb74f",
   "metadata": {},
   "outputs": [],
   "source": [
    "string1='python'\n",
    "\n",
    "#i want to print the letters using for loop\n",
    "#in\n",
    "#range"
   ]
  },
  {
   "cell_type": "code",
   "execution_count": 7,
   "id": "8455c304",
   "metadata": {},
   "outputs": [
    {
     "name": "stdout",
     "output_type": "stream",
     "text": [
      "p y t h o n 0 p\n",
      "1 y\n",
      "2 t\n",
      "3 h\n",
      "4 o\n",
      "5 n\n"
     ]
    }
   ],
   "source": [
    "for i in string1:           #i means each letter\n",
    "    print(i,end=' ')\n",
    "    \n",
    "for i in range(len(string1)):   #i means number\n",
    "    print(i,string1[i])"
   ]
  },
  {
   "cell_type": "code",
   "execution_count": null,
   "id": "d0d01ac3",
   "metadata": {},
   "outputs": [],
   "source": [
    "'the index of p is 0'\n",
    "'the index of y is 1'"
   ]
  },
  {
   "cell_type": "code",
   "execution_count": 9,
   "id": "9885b309",
   "metadata": {},
   "outputs": [
    {
     "name": "stdout",
     "output_type": "stream",
     "text": [
      "the index of p is 0\n",
      "the index of y is 1\n",
      "the index of t is 2\n",
      "the index of h is 3\n",
      "the index of o is 4\n",
      "the index of n is 5\n"
     ]
    }
   ],
   "source": [
    "for i in range(len(string1)):\n",
    "    print('the index of {} is {}'.format(string1[i],i))"
   ]
  },
  {
   "cell_type": "code",
   "execution_count": null,
   "id": "6d76989b",
   "metadata": {},
   "outputs": [],
   "source": [
    "-6 -5 -4 -3 -2 -1 \n",
    " p  y  t  h  o  n \n",
    "0   1  2 3  4 5===========>pos"
   ]
  },
  {
   "cell_type": "code",
   "execution_count": 10,
   "id": "7e4bd1b1",
   "metadata": {},
   "outputs": [
    {
     "data": {
      "text/plain": [
       "'n'"
      ]
     },
     "execution_count": 10,
     "metadata": {},
     "output_type": "execute_result"
    }
   ],
   "source": [
    "string1[-1]"
   ]
  },
  {
   "cell_type": "code",
   "execution_count": 11,
   "id": "48cad47c",
   "metadata": {},
   "outputs": [
    {
     "name": "stdout",
     "output_type": "stream",
     "text": [
      "the negative index of p is -6\n",
      "the negative index of y is -5\n",
      "the negative index of t is -4\n",
      "the negative index of h is -3\n",
      "the negative index of o is -2\n",
      "the negative index of n is -1\n"
     ]
    }
   ],
   "source": [
    "#iterate the for loop on string1\n",
    "#print the letters using negative index\n",
    "#the idea is first you need to print the numbers between -6 to -1 using for loop\n",
    "for i in range(-6,0):\n",
    "    print(\"the negative index of {} is {}\".format(string1[i],i))"
   ]
  },
  {
   "cell_type": "code",
   "execution_count": 12,
   "id": "837962d9",
   "metadata": {},
   "outputs": [
    {
     "name": "stdout",
     "output_type": "stream",
     "text": [
      "-6 -5 -4 -3 -2 -1 "
     ]
    }
   ],
   "source": [
    "for i in range(-6,0):print(i,end=' ')"
   ]
  },
  {
   "cell_type": "code",
   "execution_count": 19,
   "id": "a5b70c0e",
   "metadata": {},
   "outputs": [
    {
     "name": "stdout",
     "output_type": "stream",
     "text": [
      "the index of p is -6\n",
      "the index of y is -5\n",
      "the index of t is -4\n",
      "the index of h is -3\n",
      "the index of o is -2\n",
      "the index of n is -1\n"
     ]
    }
   ],
   "source": [
    "for i in range(-len(string1),0):\n",
    "    print('the index of {} is {}'.format(string1[i],i))"
   ]
  },
  {
   "cell_type": "code",
   "execution_count": 21,
   "id": "397d7c73",
   "metadata": {},
   "outputs": [
    {
     "name": "stdout",
     "output_type": "stream",
     "text": [
      "the positive index is 0 and the negative index is p for -6\n",
      "the positive index is 1 and the negative index is y for -5\n",
      "the positive index is 2 and the negative index is t for -4\n",
      "the positive index is 3 and the negative index is h for -3\n",
      "the positive index is 4 and the negative index is o for -2\n",
      "the positive index is 5 and the negative index is n for -1\n"
     ]
    }
   ],
   "source": [
    "#'the positive index is 0 and the negative index is -6 for a letter p'\n",
    "string1='python'\n",
    "for i in range(len(string1)):\n",
    "    print('the positive index is {} and the negative index is {} for {}'.format(i,string1[i],i-6))"
   ]
  },
  {
   "cell_type": "code",
   "execution_count": 24,
   "id": "d1713a7c",
   "metadata": {},
   "outputs": [
    {
     "name": "stdout",
     "output_type": "stream",
     "text": [
      "the negative index of p is -6\n",
      "the negative index of y is -5\n",
      "the negative index of t is -4\n",
      "the negative index of h is -3\n",
      "the negative index of o is -2\n",
      "the negative index of n is -1\n",
      "the negative index of p is -12\n",
      "the negative index of y is -11\n",
      "the negative index of t is -10\n",
      "the negative index of h is -9\n",
      "the negative index of o is -8\n",
      "the negative index of n is -7\n",
      "the positive index is -6 and the negative index is p for -12\n",
      "the positive index is -5 and the negative index is y for -11\n",
      "the positive index is -4 and the negative index is t for -10\n",
      "the positive index is -3 and the negative index is h for -9\n",
      "the positive index is -2 and the negative index is o for -8\n",
      "the positive index is -1 and the negative index is n for -7\n"
     ]
    }
   ],
   "source": [
    "for i in range(-len(string1),0):\n",
    "    print(\"the negative index of {} is {}\".format(string1[i],i))\n",
    "               \n",
    "for i in range(-len(string1),0):\n",
    "    print(\"the negative index of {} is {}\".format(string1[i],i-6))\n",
    "               \n",
    "for i in range(-len(string1),0):\n",
    "        print('the positive index is {} and the negative index is {} for {}'.format(i,string1[i],i-6))"
   ]
  },
  {
   "cell_type": "code",
   "execution_count": 26,
   "id": "46e727ce",
   "metadata": {},
   "outputs": [
    {
     "name": "stdout",
     "output_type": "stream",
     "text": [
      "the negative index of p is 0\n",
      "the negative index of y is 1\n",
      "the negative index of t is 2\n",
      "the negative index of h is 3\n",
      "the negative index of o is 4\n",
      "the negative index of n is 5\n",
      "the negative index of p is -6\n",
      "the negative index of y is -5\n",
      "the negative index of t is -4\n",
      "the negative index of h is -3\n",
      "the negative index of o is -2\n",
      "the negative index of n is -1\n",
      "the positive index is -6 and the negative index is p for -6\n",
      "the positive index is -5 and the negative index is y for -5\n",
      "the positive index is -4 and the negative index is t for -4\n",
      "the positive index is -3 and the negative index is h for -3\n",
      "the positive index is -2 and the negative index is o for -2\n",
      "the positive index is -1 and the negative index is n for -1\n"
     ]
    }
   ],
   "source": [
    "for i in range(-len(string1),0):\n",
    "    print(\"the negative index of {} is {}\".format(string1[i],i+6))\n",
    "               \n",
    "for i in range(-len(string1),0):\n",
    "    print(\"the negative index of {} is {}\".format(string1[i],i))\n",
    "               \n",
    "for i in range(-len(string1),0):\n",
    "        print('the positive index is {} and the negative index is {} for {}'.format(i,string1[i],i))"
   ]
  },
  {
   "cell_type": "code",
   "execution_count": 27,
   "id": "5e31984a",
   "metadata": {},
   "outputs": [
    {
     "name": "stdout",
     "output_type": "stream",
     "text": [
      "the positive index is 0 and the negative index is p for 0\n",
      "the positive index is 1 and the negative index is y for 1\n",
      "the positive index is 2 and the negative index is t for 2\n",
      "the positive index is 3 and the negative index is h for 3\n",
      "the positive index is 4 and the negative index is o for 4\n",
      "the positive index is 5 and the negative index is n for 5\n"
     ]
    }
   ],
   "source": [
    "i=0\n",
    "while i<len(string1):\n",
    "    print('the positive index is {} and the negative index is {} for {}'.format(i,string1[i],i))\n",
    "    i=i+1\n",
    "          "
   ]
  },
  {
   "cell_type": "code",
   "execution_count": 32,
   "id": "31124953",
   "metadata": {},
   "outputs": [
    {
     "name": "stdout",
     "output_type": "stream",
     "text": [
      "0\n"
     ]
    }
   ],
   "source": [
    "string='hai how are you how do you do'\n",
    "count=0\n",
    "for i in range(len(string1)):\n",
    "    if string1=='a':\n",
    "        count=count+1\n",
    "        \n",
    "print(count)"
   ]
  },
  {
   "cell_type": "markdown",
   "id": "626b4672",
   "metadata": {},
   "source": [
    "***Mutable and immutable concept***\n",
    "mutable-----we can change\n",
    "immutable------we cannot change the value by using index operations\n",
    "***Strings are immutable***"
   ]
  },
  {
   "cell_type": "code",
   "execution_count": 33,
   "id": "9f89d804",
   "metadata": {},
   "outputs": [
    {
     "data": {
      "text/plain": [
       "[1000, 200, 300]"
      ]
     },
     "execution_count": 33,
     "metadata": {},
     "output_type": "execute_result"
    }
   ],
   "source": [
    "list1=[100,200,300]\n",
    "list1[0]=1000\n",
    "list1"
   ]
  },
  {
   "cell_type": "markdown",
   "id": "0faf65c3",
   "metadata": {},
   "source": [
    "**slice*"
   ]
  },
  {
   "cell_type": "raw",
   "id": "2d78b6e1",
   "metadata": {},
   "source": [
    "h a i   h o w   a r e     y  o  u \n",
    "0 1 2 3 4 5 6 7 8 9 10 11 12 13 14 "
   ]
  },
  {
   "cell_type": "code",
   "execution_count": 36,
   "id": "c6c11962",
   "metadata": {},
   "outputs": [
    {
     "data": {
      "text/plain": [
       "'ioa'"
      ]
     },
     "execution_count": 36,
     "metadata": {},
     "output_type": "execute_result"
    }
   ],
   "source": [
    "#range(start,stop,end)\n",
    "string1='hai how are you'\n",
    "string1[2:10:3]"
   ]
  },
  {
   "cell_type": "code",
   "execution_count": 38,
   "id": "cecaec82",
   "metadata": {},
   "outputs": [
    {
     "data": {
      "text/plain": [
       "'hai how are you'"
      ]
     },
     "execution_count": 38,
     "metadata": {},
     "output_type": "execute_result"
    }
   ],
   "source": [
    "string1[:]\n",
    "#nothing mentioned means start and last letter"
   ]
  },
  {
   "cell_type": "code",
   "execution_count": 39,
   "id": "6a915038",
   "metadata": {},
   "outputs": [
    {
     "data": {
      "text/plain": [
       "'hai how are you'"
      ]
     },
     "execution_count": 39,
     "metadata": {},
     "output_type": "execute_result"
    }
   ],
   "source": [
    "string1[::]\n",
    "#start=0\n",
    "#stop=last letter len(string1)\n",
    "#step=+1"
   ]
  },
  {
   "cell_type": "code",
   "execution_count": 41,
   "id": "51082212",
   "metadata": {},
   "outputs": [
    {
     "data": {
      "text/plain": [
       "'hai how are you'"
      ]
     },
     "execution_count": 41,
     "metadata": {},
     "output_type": "execute_result"
    }
   ],
   "source": [
    "string1='hai how are you'\n",
    "string1[2:10]\n",
    "string1[2:10:3]\n",
    "string1[:]\n",
    "string1[::]"
   ]
  },
  {
   "cell_type": "code",
   "execution_count": 42,
   "id": "0b3c6401",
   "metadata": {},
   "outputs": [
    {
     "data": {
      "text/plain": [
       "''"
      ]
     },
     "execution_count": 42,
     "metadata": {},
     "output_type": "execute_result"
    }
   ],
   "source": [
    "string1[2:10:-3]"
   ]
  },
  {
   "cell_type": "code",
   "execution_count": 43,
   "id": "39271620",
   "metadata": {},
   "outputs": [],
   "source": [
    "for i in range(2,10,-3):print(i)"
   ]
  },
  {
   "cell_type": "code",
   "execution_count": null,
   "id": "10f29c88",
   "metadata": {},
   "outputs": [],
   "source": [
    "-15 -14  -13 -12 -11 -10 -9 -8 -7 -6 -5 -4 -3 -2 -1\n",
    "h    a    i       h    o  w     a  r  e     y  o  u \n",
    "0    1    2    3  4    5  6  7  8  9  10 11 12 13 14 "
   ]
  },
  {
   "cell_type": "code",
   "execution_count": null,
   "id": "c51d72f7",
   "metadata": {},
   "outputs": [],
   "source": [
    "string1[2:14:2]       #p\n",
    "string1[2:14:-2]      #np\n",
    "string1[2:-14:2]      #np\n",
    "string1[2:-14:-2]     #p\n",
    "string1[-2:14:2]      #p\n",
    "string1[-2:-14:2]     #np\n",
    "string1[-2:-14:-2]    #p"
   ]
  },
  {
   "cell_type": "code",
   "execution_count": 44,
   "id": "1786bfd3",
   "metadata": {},
   "outputs": [
    {
     "name": "stdout",
     "output_type": "stream",
     "text": [
      "2 0 -2 -4 -6 -8 -10 -12 "
     ]
    }
   ],
   "source": [
    " for i in range(2,-14,-2):print(i,end=' ')"
   ]
  },
  {
   "cell_type": "code",
   "execution_count": 45,
   "id": "da548160",
   "metadata": {},
   "outputs": [
    {
     "data": {
      "text/plain": [
       "'i'"
      ]
     },
     "execution_count": 45,
     "metadata": {},
     "output_type": "execute_result"
    }
   ],
   "source": [
    "string1[2:-14:-2]"
   ]
  },
  {
   "cell_type": "code",
   "execution_count": 46,
   "id": "de6cb959",
   "metadata": {},
   "outputs": [
    {
     "data": {
      "text/plain": [
       "'o r o '"
      ]
     },
     "execution_count": 46,
     "metadata": {},
     "output_type": "execute_result"
    }
   ],
   "source": [
    "string1[-2:-14:-2]    "
   ]
  },
  {
   "cell_type": "markdown",
   "id": "0f975c10",
   "metadata": {},
   "source": [
    "**string methods**"
   ]
  },
  {
   "cell_type": "code",
   "execution_count": 4,
   "id": "d2c69daa",
   "metadata": {},
   "outputs": [
    {
     "name": "stdout",
     "output_type": "stream",
     "text": [
      "Help on function read_csv in module pandas.io.parsers.readers:\n",
      "\n",
      "read_csv(filepath_or_buffer: 'FilePath | ReadCsvBuffer[bytes] | ReadCsvBuffer[str]', *, sep: 'str | None | lib.NoDefault' = <no_default>, delimiter: 'str | None | lib.NoDefault' = None, header: \"int | Sequence[int] | None | Literal['infer']\" = 'infer', names: 'Sequence[Hashable] | None | lib.NoDefault' = <no_default>, index_col: 'IndexLabel | Literal[False] | None' = None, usecols=None, dtype: 'DtypeArg | None' = None, engine: 'CSVEngine | None' = None, converters=None, true_values=None, false_values=None, skipinitialspace: 'bool' = False, skiprows=None, skipfooter: 'int' = 0, nrows: 'int | None' = None, na_values=None, keep_default_na: 'bool' = True, na_filter: 'bool' = True, verbose: 'bool' = False, skip_blank_lines: 'bool' = True, parse_dates: 'bool | Sequence[Hashable] | None' = None, infer_datetime_format: 'bool | lib.NoDefault' = <no_default>, keep_date_col: 'bool' = False, date_parser=<no_default>, date_format: 'str | None' = None, dayfirst: 'bool' = False, cache_dates: 'bool' = True, iterator: 'bool' = False, chunksize: 'int | None' = None, compression: 'CompressionOptions' = 'infer', thousands: 'str | None' = None, decimal: 'str' = '.', lineterminator: 'str | None' = None, quotechar: 'str' = '\"', quoting: 'int' = 0, doublequote: 'bool' = True, escapechar: 'str | None' = None, comment: 'str | None' = None, encoding: 'str | None' = None, encoding_errors: 'str | None' = 'strict', dialect: 'str | csv.Dialect | None' = None, on_bad_lines: 'str' = 'error', delim_whitespace: 'bool' = False, low_memory=True, memory_map: 'bool' = False, float_precision: \"Literal['high', 'legacy'] | None\" = None, storage_options: 'StorageOptions' = None, dtype_backend: 'DtypeBackend | lib.NoDefault' = <no_default>) -> 'DataFrame | TextFileReader'\n",
      "    Read a comma-separated values (csv) file into DataFrame.\n",
      "    \n",
      "    Also supports optionally iterating or breaking of the file\n",
      "    into chunks.\n",
      "    \n",
      "    Additional help can be found in the online docs for\n",
      "    `IO Tools <https://pandas.pydata.org/pandas-docs/stable/user_guide/io.html>`_.\n",
      "    \n",
      "    Parameters\n",
      "    ----------\n",
      "    filepath_or_buffer : str, path object or file-like object\n",
      "        Any valid string path is acceptable. The string could be a URL. Valid\n",
      "        URL schemes include http, ftp, s3, gs, and file. For file URLs, a host is\n",
      "        expected. A local file could be: file://localhost/path/to/table.csv.\n",
      "    \n",
      "        If you want to pass in a path object, pandas accepts any ``os.PathLike``.\n",
      "    \n",
      "        By file-like object, we refer to objects with a ``read()`` method, such as\n",
      "        a file handle (e.g. via builtin ``open`` function) or ``StringIO``.\n",
      "    sep : str, default ','\n",
      "        Delimiter to use. If sep is None, the C engine cannot automatically detect\n",
      "        the separator, but the Python parsing engine can, meaning the latter will\n",
      "        be used and automatically detect the separator by Python's builtin sniffer\n",
      "        tool, ``csv.Sniffer``. In addition, separators longer than 1 character and\n",
      "        different from ``'\\s+'`` will be interpreted as regular expressions and\n",
      "        will also force the use of the Python parsing engine. Note that regex\n",
      "        delimiters are prone to ignoring quoted data. Regex example: ``'\\r\\t'``.\n",
      "    delimiter : str, default ``None``\n",
      "        Alias for sep.\n",
      "    header : int, list of int, None, default 'infer'\n",
      "        Row number(s) to use as the column names, and the start of the\n",
      "        data.  Default behavior is to infer the column names: if no names\n",
      "        are passed the behavior is identical to ``header=0`` and column\n",
      "        names are inferred from the first line of the file, if column\n",
      "        names are passed explicitly then the behavior is identical to\n",
      "        ``header=None``. Explicitly pass ``header=0`` to be able to\n",
      "        replace existing names. The header can be a list of integers that\n",
      "        specify row locations for a multi-index on the columns\n",
      "        e.g. [0,1,3]. Intervening rows that are not specified will be\n",
      "        skipped (e.g. 2 in this example is skipped). Note that this\n",
      "        parameter ignores commented lines and empty lines if\n",
      "        ``skip_blank_lines=True``, so ``header=0`` denotes the first line of\n",
      "        data rather than the first line of the file.\n",
      "    names : array-like, optional\n",
      "        List of column names to use. If the file contains a header row,\n",
      "        then you should explicitly pass ``header=0`` to override the column names.\n",
      "        Duplicates in this list are not allowed.\n",
      "    index_col : int, str, sequence of int / str, or False, optional, default ``None``\n",
      "      Column(s) to use as the row labels of the ``DataFrame``, either given as\n",
      "      string name or column index. If a sequence of int / str is given, a\n",
      "      MultiIndex is used.\n",
      "    \n",
      "      Note: ``index_col=False`` can be used to force pandas to *not* use the first\n",
      "      column as the index, e.g. when you have a malformed file with delimiters at\n",
      "      the end of each line.\n",
      "    usecols : list-like or callable, optional\n",
      "        Return a subset of the columns. If list-like, all elements must either\n",
      "        be positional (i.e. integer indices into the document columns) or strings\n",
      "        that correspond to column names provided either by the user in `names` or\n",
      "        inferred from the document header row(s). If ``names`` are given, the document\n",
      "        header row(s) are not taken into account. For example, a valid list-like\n",
      "        `usecols` parameter would be ``[0, 1, 2]`` or ``['foo', 'bar', 'baz']``.\n",
      "        Element order is ignored, so ``usecols=[0, 1]`` is the same as ``[1, 0]``.\n",
      "        To instantiate a DataFrame from ``data`` with element order preserved use\n",
      "        ``pd.read_csv(data, usecols=['foo', 'bar'])[['foo', 'bar']]`` for columns\n",
      "        in ``['foo', 'bar']`` order or\n",
      "        ``pd.read_csv(data, usecols=['foo', 'bar'])[['bar', 'foo']]``\n",
      "        for ``['bar', 'foo']`` order.\n",
      "    \n",
      "        If callable, the callable function will be evaluated against the column\n",
      "        names, returning names where the callable function evaluates to True. An\n",
      "        example of a valid callable argument would be ``lambda x: x.upper() in\n",
      "        ['AAA', 'BBB', 'DDD']``. Using this parameter results in much faster\n",
      "        parsing time and lower memory usage.\n",
      "    dtype : Type name or dict of column -> type, optional\n",
      "        Data type for data or columns. E.g. {'a': np.float64, 'b': np.int32,\n",
      "        'c': 'Int64'}\n",
      "        Use `str` or `object` together with suitable `na_values` settings\n",
      "        to preserve and not interpret dtype.\n",
      "        If converters are specified, they will be applied INSTEAD\n",
      "        of dtype conversion.\n",
      "    \n",
      "        .. versionadded:: 1.5.0\n",
      "    \n",
      "            Support for defaultdict was added. Specify a defaultdict as input where\n",
      "            the default determines the dtype of the columns which are not explicitly\n",
      "            listed.\n",
      "    engine : {'c', 'python', 'pyarrow'}, optional\n",
      "        Parser engine to use. The C and pyarrow engines are faster, while the python engine\n",
      "        is currently more feature-complete. Multithreading is currently only supported by\n",
      "        the pyarrow engine.\n",
      "    \n",
      "        .. versionadded:: 1.4.0\n",
      "    \n",
      "            The \"pyarrow\" engine was added as an *experimental* engine, and some features\n",
      "            are unsupported, or may not work correctly, with this engine.\n",
      "    converters : dict, optional\n",
      "        Dict of functions for converting values in certain columns. Keys can either\n",
      "        be integers or column labels.\n",
      "    true_values : list, optional\n",
      "        Values to consider as True in addition to case-insensitive variants of \"True\".\n",
      "    false_values : list, optional\n",
      "        Values to consider as False in addition to case-insensitive variants of \"False\".\n",
      "    skipinitialspace : bool, default False\n",
      "        Skip spaces after delimiter.\n",
      "    skiprows : list-like, int or callable, optional\n",
      "        Line numbers to skip (0-indexed) or number of lines to skip (int)\n",
      "        at the start of the file.\n",
      "    \n",
      "        If callable, the callable function will be evaluated against the row\n",
      "        indices, returning True if the row should be skipped and False otherwise.\n",
      "        An example of a valid callable argument would be ``lambda x: x in [0, 2]``.\n",
      "    skipfooter : int, default 0\n",
      "        Number of lines at bottom of file to skip (Unsupported with engine='c').\n",
      "    nrows : int, optional\n",
      "        Number of rows of file to read. Useful for reading pieces of large files.\n",
      "    na_values : scalar, str, list-like, or dict, optional\n",
      "        Additional strings to recognize as NA/NaN. If dict passed, specific\n",
      "        per-column NA values.  By default the following values are interpreted as\n",
      "        NaN: '', '#N/A', '#N/A N/A', '#NA', '-1.#IND', '-1.#QNAN', '-NaN', '-nan',\n",
      "        '1.#IND', '1.#QNAN', '<NA>', 'N/A', 'NA', 'NULL', 'NaN', 'None',\n",
      "        'n/a', 'nan', 'null'.\n",
      "    keep_default_na : bool, default True\n",
      "        Whether or not to include the default NaN values when parsing the data.\n",
      "        Depending on whether `na_values` is passed in, the behavior is as follows:\n",
      "    \n",
      "        * If `keep_default_na` is True, and `na_values` are specified, `na_values`\n",
      "          is appended to the default NaN values used for parsing.\n",
      "        * If `keep_default_na` is True, and `na_values` are not specified, only\n",
      "          the default NaN values are used for parsing.\n",
      "        * If `keep_default_na` is False, and `na_values` are specified, only\n",
      "          the NaN values specified `na_values` are used for parsing.\n",
      "        * If `keep_default_na` is False, and `na_values` are not specified, no\n",
      "          strings will be parsed as NaN.\n",
      "    \n",
      "        Note that if `na_filter` is passed in as False, the `keep_default_na` and\n",
      "        `na_values` parameters will be ignored.\n",
      "    na_filter : bool, default True\n",
      "        Detect missing value markers (empty strings and the value of na_values). In\n",
      "        data without any NAs, passing na_filter=False can improve the performance\n",
      "        of reading a large file.\n",
      "    verbose : bool, default False\n",
      "        Indicate number of NA values placed in non-numeric columns.\n",
      "    skip_blank_lines : bool, default True\n",
      "        If True, skip over blank lines rather than interpreting as NaN values.\n",
      "    parse_dates : bool or list of int or names or list of lists or dict, default False\n",
      "        The behavior is as follows:\n",
      "    \n",
      "        * boolean. If True -> try parsing the index.\n",
      "        * list of int or names. e.g. If [1, 2, 3] -> try parsing columns 1, 2, 3\n",
      "          each as a separate date column.\n",
      "        * list of lists. e.g.  If [[1, 3]] -> combine columns 1 and 3 and parse as\n",
      "          a single date column.\n",
      "        * dict, e.g. {'foo' : [1, 3]} -> parse columns 1, 3 as date and call\n",
      "          result 'foo'\n",
      "    \n",
      "        If a column or index cannot be represented as an array of datetimes,\n",
      "        say because of an unparsable value or a mixture of timezones, the column\n",
      "        or index will be returned unaltered as an object data type. For\n",
      "        non-standard datetime parsing, use ``pd.to_datetime`` after\n",
      "        ``pd.read_csv``.\n",
      "    \n",
      "        Note: A fast-path exists for iso8601-formatted dates.\n",
      "    infer_datetime_format : bool, default False\n",
      "        If True and `parse_dates` is enabled, pandas will attempt to infer the\n",
      "        format of the datetime strings in the columns, and if it can be inferred,\n",
      "        switch to a faster method of parsing them. In some cases this can increase\n",
      "        the parsing speed by 5-10x.\n",
      "    \n",
      "        .. deprecated:: 2.0.0\n",
      "            A strict version of this argument is now the default, passing it has no effect.\n",
      "    \n",
      "    keep_date_col : bool, default False\n",
      "        If True and `parse_dates` specifies combining multiple columns then\n",
      "        keep the original columns.\n",
      "    date_parser : function, optional\n",
      "        Function to use for converting a sequence of string columns to an array of\n",
      "        datetime instances. The default uses ``dateutil.parser.parser`` to do the\n",
      "        conversion. Pandas will try to call `date_parser` in three different ways,\n",
      "        advancing to the next if an exception occurs: 1) Pass one or more arrays\n",
      "        (as defined by `parse_dates`) as arguments; 2) concatenate (row-wise) the\n",
      "        string values from the columns defined by `parse_dates` into a single array\n",
      "        and pass that; and 3) call `date_parser` once for each row using one or\n",
      "        more strings (corresponding to the columns defined by `parse_dates`) as\n",
      "        arguments.\n",
      "    \n",
      "        .. deprecated:: 2.0.0\n",
      "           Use ``date_format`` instead, or read in as ``object`` and then apply\n",
      "           :func:`to_datetime` as-needed.\n",
      "    date_format : str or dict of column -> format, default ``None``\n",
      "       If used in conjunction with ``parse_dates``, will parse dates according to this\n",
      "       format. For anything more complex,\n",
      "       please read in as ``object`` and then apply :func:`to_datetime` as-needed.\n",
      "    \n",
      "       .. versionadded:: 2.0.0\n",
      "    dayfirst : bool, default False\n",
      "        DD/MM format dates, international and European format.\n",
      "    cache_dates : bool, default True\n",
      "        If True, use a cache of unique, converted dates to apply the datetime\n",
      "        conversion. May produce significant speed-up when parsing duplicate\n",
      "        date strings, especially ones with timezone offsets.\n",
      "    \n",
      "    iterator : bool, default False\n",
      "        Return TextFileReader object for iteration or getting chunks with\n",
      "        ``get_chunk()``.\n",
      "    \n",
      "        .. versionchanged:: 1.2\n",
      "    \n",
      "           ``TextFileReader`` is a context manager.\n",
      "    chunksize : int, optional\n",
      "        Return TextFileReader object for iteration.\n",
      "        See the `IO Tools docs\n",
      "        <https://pandas.pydata.org/pandas-docs/stable/io.html#io-chunking>`_\n",
      "        for more information on ``iterator`` and ``chunksize``.\n",
      "    \n",
      "        .. versionchanged:: 1.2\n",
      "    \n",
      "           ``TextFileReader`` is a context manager.\n",
      "    compression : str or dict, default 'infer'\n",
      "        For on-the-fly decompression of on-disk data. If 'infer' and 'filepath_or_buffer' is\n",
      "        path-like, then detect compression from the following extensions: '.gz',\n",
      "        '.bz2', '.zip', '.xz', '.zst', '.tar', '.tar.gz', '.tar.xz' or '.tar.bz2'\n",
      "        (otherwise no compression).\n",
      "        If using 'zip' or 'tar', the ZIP file must contain only one data file to be read in.\n",
      "        Set to ``None`` for no decompression.\n",
      "        Can also be a dict with key ``'method'`` set\n",
      "        to one of {``'zip'``, ``'gzip'``, ``'bz2'``, ``'zstd'``, ``'tar'``} and other\n",
      "        key-value pairs are forwarded to\n",
      "        ``zipfile.ZipFile``, ``gzip.GzipFile``,\n",
      "        ``bz2.BZ2File``, ``zstandard.ZstdDecompressor`` or\n",
      "        ``tarfile.TarFile``, respectively.\n",
      "        As an example, the following could be passed for Zstandard decompression using a\n",
      "        custom compression dictionary:\n",
      "        ``compression={'method': 'zstd', 'dict_data': my_compression_dict}``.\n",
      "    \n",
      "        .. versionadded:: 1.5.0\n",
      "            Added support for `.tar` files.\n",
      "    \n",
      "        .. versionchanged:: 1.4.0 Zstandard support.\n",
      "    \n",
      "    thousands : str, optional\n",
      "        Thousands separator.\n",
      "    decimal : str, default '.'\n",
      "        Character to recognize as decimal point (e.g. use ',' for European data).\n",
      "    lineterminator : str (length 1), optional\n",
      "        Character to break file into lines. Only valid with C parser.\n",
      "    quotechar : str (length 1), optional\n",
      "        The character used to denote the start and end of a quoted item. Quoted\n",
      "        items can include the delimiter and it will be ignored.\n",
      "    quoting : int or csv.QUOTE_* instance, default 0\n",
      "        Control field quoting behavior per ``csv.QUOTE_*`` constants. Use one of\n",
      "        QUOTE_MINIMAL (0), QUOTE_ALL (1), QUOTE_NONNUMERIC (2) or QUOTE_NONE (3).\n",
      "    doublequote : bool, default ``True``\n",
      "       When quotechar is specified and quoting is not ``QUOTE_NONE``, indicate\n",
      "       whether or not to interpret two consecutive quotechar elements INSIDE a\n",
      "       field as a single ``quotechar`` element.\n",
      "    escapechar : str (length 1), optional\n",
      "        One-character string used to escape other characters.\n",
      "    comment : str, optional\n",
      "        Indicates remainder of line should not be parsed. If found at the beginning\n",
      "        of a line, the line will be ignored altogether. This parameter must be a\n",
      "        single character. Like empty lines (as long as ``skip_blank_lines=True``),\n",
      "        fully commented lines are ignored by the parameter `header` but not by\n",
      "        `skiprows`. For example, if ``comment='#'``, parsing\n",
      "        ``#empty\\na,b,c\\n1,2,3`` with ``header=0`` will result in 'a,b,c' being\n",
      "        treated as the header.\n",
      "    encoding : str, optional, default \"utf-8\"\n",
      "        Encoding to use for UTF when reading/writing (ex. 'utf-8'). `List of Python\n",
      "        standard encodings\n",
      "        <https://docs.python.org/3/library/codecs.html#standard-encodings>`_ .\n",
      "    \n",
      "        .. versionchanged:: 1.2\n",
      "    \n",
      "           When ``encoding`` is ``None``, ``errors=\"replace\"`` is passed to\n",
      "           ``open()``. Otherwise, ``errors=\"strict\"`` is passed to ``open()``.\n",
      "           This behavior was previously only the case for ``engine=\"python\"``.\n",
      "    \n",
      "        .. versionchanged:: 1.3.0\n",
      "    \n",
      "           ``encoding_errors`` is a new argument. ``encoding`` has no longer an\n",
      "           influence on how encoding errors are handled.\n",
      "    \n",
      "    encoding_errors : str, optional, default \"strict\"\n",
      "        How encoding errors are treated. `List of possible values\n",
      "        <https://docs.python.org/3/library/codecs.html#error-handlers>`_ .\n",
      "    \n",
      "        .. versionadded:: 1.3.0\n",
      "    \n",
      "    dialect : str or csv.Dialect, optional\n",
      "        If provided, this parameter will override values (default or not) for the\n",
      "        following parameters: `delimiter`, `doublequote`, `escapechar`,\n",
      "        `skipinitialspace`, `quotechar`, and `quoting`. If it is necessary to\n",
      "        override values, a ParserWarning will be issued. See csv.Dialect\n",
      "        documentation for more details.\n",
      "    on_bad_lines : {'error', 'warn', 'skip'} or callable, default 'error'\n",
      "        Specifies what to do upon encountering a bad line (a line with too many fields).\n",
      "        Allowed values are :\n",
      "    \n",
      "            - 'error', raise an Exception when a bad line is encountered.\n",
      "            - 'warn', raise a warning when a bad line is encountered and skip that line.\n",
      "            - 'skip', skip bad lines without raising or warning when they are encountered.\n",
      "    \n",
      "        .. versionadded:: 1.3.0\n",
      "    \n",
      "        .. versionadded:: 1.4.0\n",
      "    \n",
      "            - callable, function with signature\n",
      "              ``(bad_line: list[str]) -> list[str] | None`` that will process a single\n",
      "              bad line. ``bad_line`` is a list of strings split by the ``sep``.\n",
      "              If the function returns ``None``, the bad line will be ignored.\n",
      "              If the function returns a new list of strings with more elements than\n",
      "              expected, a ``ParserWarning`` will be emitted while dropping extra elements.\n",
      "              Only supported when ``engine=\"python\"``\n",
      "    \n",
      "    delim_whitespace : bool, default False\n",
      "        Specifies whether or not whitespace (e.g. ``' '`` or ``'    '``) will be\n",
      "        used as the sep. Equivalent to setting ``sep='\\s+'``. If this option\n",
      "        is set to True, nothing should be passed in for the ``delimiter``\n",
      "        parameter.\n",
      "    low_memory : bool, default True\n",
      "        Internally process the file in chunks, resulting in lower memory use\n",
      "        while parsing, but possibly mixed type inference.  To ensure no mixed\n",
      "        types either set False, or specify the type with the `dtype` parameter.\n",
      "        Note that the entire file is read into a single DataFrame regardless,\n",
      "        use the `chunksize` or `iterator` parameter to return the data in chunks.\n",
      "        (Only valid with C parser).\n",
      "    memory_map : bool, default False\n",
      "        If a filepath is provided for `filepath_or_buffer`, map the file object\n",
      "        directly onto memory and access the data directly from there. Using this\n",
      "        option can improve performance because there is no longer any I/O overhead.\n",
      "    float_precision : str, optional\n",
      "        Specifies which converter the C engine should use for floating-point\n",
      "        values. The options are ``None`` or 'high' for the ordinary converter,\n",
      "        'legacy' for the original lower precision pandas converter, and\n",
      "        'round_trip' for the round-trip converter.\n",
      "    \n",
      "        .. versionchanged:: 1.2\n",
      "    \n",
      "    storage_options : dict, optional\n",
      "        Extra options that make sense for a particular storage connection, e.g.\n",
      "        host, port, username, password, etc. For HTTP(S) URLs the key-value pairs\n",
      "        are forwarded to ``urllib.request.Request`` as header options. For other\n",
      "        URLs (e.g. starting with \"s3://\", and \"gcs://\") the key-value pairs are\n",
      "        forwarded to ``fsspec.open``. Please see ``fsspec`` and ``urllib`` for more\n",
      "        details, and for more examples on storage options refer `here\n",
      "        <https://pandas.pydata.org/docs/user_guide/io.html?\n",
      "        highlight=storage_options#reading-writing-remote-files>`_.\n",
      "    \n",
      "        .. versionadded:: 1.2\n",
      "    \n",
      "    dtype_backend : {\"numpy_nullable\", \"pyarrow\"}, defaults to NumPy backed DataFrames\n",
      "        Which dtype_backend to use, e.g. whether a DataFrame should have NumPy\n",
      "        arrays, nullable dtypes are used for all dtypes that have a nullable\n",
      "        implementation when \"numpy_nullable\" is set, pyarrow is used for all\n",
      "        dtypes if \"pyarrow\" is set.\n",
      "    \n",
      "        The dtype_backends are still experimential.\n",
      "    \n",
      "        .. versionadded:: 2.0\n",
      "    \n",
      "    Returns\n",
      "    -------\n",
      "    DataFrame or TextFileReader\n",
      "        A comma-separated values (csv) file is returned as two-dimensional\n",
      "        data structure with labeled axes.\n",
      "    \n",
      "    See Also\n",
      "    --------\n",
      "    DataFrame.to_csv : Write DataFrame to a comma-separated values (csv) file.\n",
      "    read_csv : Read a comma-separated values (csv) file into DataFrame.\n",
      "    read_fwf : Read a table of fixed-width formatted lines into DataFrame.\n",
      "    \n",
      "    Examples\n",
      "    --------\n",
      "    >>> pd.read_csv('data.csv')  # doctest: +SKIP\n",
      "\n"
     ]
    }
   ],
   "source": [
    "import pandas\n",
    "dir(pandas)\n",
    "help(pandas.read_csv)"
   ]
  },
  {
   "cell_type": "markdown",
   "id": "f1257728",
   "metadata": {},
   "source": [
    "**capitalize**"
   ]
  },
  {
   "cell_type": "code",
   "execution_count": 48,
   "id": "6cb29460",
   "metadata": {},
   "outputs": [
    {
     "name": "stdout",
     "output_type": "stream",
     "text": [
      "Help on built-in function capitalize:\n",
      "\n",
      "capitalize() method of builtins.str instance\n",
      "    Return a capitalized version of the string.\n",
      "    \n",
      "    More specifically, make the first character have upper case and the rest lower\n",
      "    case.\n",
      "\n"
     ]
    }
   ],
   "source": [
    "string1='welcome'\n",
    "help(string1.capitalize)"
   ]
  },
  {
   "cell_type": "code",
   "execution_count": null,
   "id": "3a87adb8",
   "metadata": {},
   "outputs": [],
   "source": [
    "import random\n",
    "random.randint()"
   ]
  },
  {
   "cell_type": "code",
   "execution_count": 49,
   "id": "0030aa48",
   "metadata": {},
   "outputs": [
    {
     "data": {
      "text/plain": [
       "'Welcome'"
      ]
     },
     "execution_count": 49,
     "metadata": {},
     "output_type": "execute_result"
    }
   ],
   "source": [
    "string1='welcome'\n",
    "string1.capitalize()"
   ]
  },
  {
   "cell_type": "markdown",
   "id": "24f685dc",
   "metadata": {},
   "source": [
    "*upper"
   ]
  },
  {
   "cell_type": "code",
   "execution_count": 50,
   "id": "e57d2112",
   "metadata": {},
   "outputs": [
    {
     "data": {
      "text/plain": [
       "'WELCOME'"
      ]
     },
     "execution_count": 50,
     "metadata": {},
     "output_type": "execute_result"
    }
   ],
   "source": [
    "string1.upper()"
   ]
  },
  {
   "cell_type": "markdown",
   "id": "40595d15",
   "metadata": {},
   "source": [
    "*lower"
   ]
  },
  {
   "cell_type": "code",
   "execution_count": 52,
   "id": "07911683",
   "metadata": {},
   "outputs": [
    {
     "data": {
      "text/plain": [
       "'welcome'"
      ]
     },
     "execution_count": 52,
     "metadata": {},
     "output_type": "execute_result"
    }
   ],
   "source": [
    "string1.lower()"
   ]
  },
  {
   "cell_type": "code",
   "execution_count": 54,
   "id": "c84a3773",
   "metadata": {},
   "outputs": [
    {
     "name": "stdout",
     "output_type": "stream",
     "text": [
      "Welcome\n",
      "WELCOME\n",
      "welcome\n"
     ]
    }
   ],
   "source": [
    "string1='weLCome'\n",
    "print(string1.capitalize())\n",
    "print(string1.upper())\n",
    "print(string1.lower())"
   ]
  },
  {
   "cell_type": "code",
   "execution_count": 56,
   "id": "d63d06e2",
   "metadata": {},
   "outputs": [],
   "source": [
    "string1='hai how are you'"
   ]
  },
  {
   "cell_type": "code",
   "execution_count": 57,
   "id": "a1385c30",
   "metadata": {},
   "outputs": [
    {
     "data": {
      "text/plain": [
       "2"
      ]
     },
     "execution_count": 57,
     "metadata": {},
     "output_type": "execute_result"
    }
   ],
   "source": [
    "string1.count('a')"
   ]
  },
  {
   "cell_type": "code",
   "execution_count": 58,
   "id": "3dc50c28",
   "metadata": {},
   "outputs": [],
   "source": [
    "count=0\n",
    "for i in string1:\n",
    "    if i=='a':\n",
    "        count+=1"
   ]
  },
  {
   "cell_type": "code",
   "execution_count": 59,
   "id": "63c537ea",
   "metadata": {},
   "outputs": [],
   "source": [
    "string1='welcome'"
   ]
  },
  {
   "cell_type": "code",
   "execution_count": 63,
   "id": "24596b5e",
   "metadata": {},
   "outputs": [
    {
     "data": {
      "text/plain": [
       "'weLcome'"
      ]
     },
     "execution_count": 63,
     "metadata": {},
     "output_type": "execute_result"
    }
   ],
   "source": [
    "str1=string1[:2]\n",
    "str2=string1[3:]\n",
    "str1+'L'+str2"
   ]
  },
  {
   "cell_type": "code",
   "execution_count": 64,
   "id": "744e9ec2",
   "metadata": {},
   "outputs": [
    {
     "data": {
      "text/plain": [
       "'weLcome'"
      ]
     },
     "execution_count": 64,
     "metadata": {},
     "output_type": "execute_result"
    }
   ],
   "source": [
    "string1.replace('l','L')"
   ]
  },
  {
   "cell_type": "code",
   "execution_count": 14,
   "id": "36fea6b6",
   "metadata": {},
   "outputs": [
    {
     "data": {
      "text/plain": [
       "'Python'"
      ]
     },
     "execution_count": 14,
     "metadata": {},
     "output_type": "execute_result"
    }
   ],
   "source": [
    "string1='python'    #i want to change p======P\n",
    "string2='P'\n",
    "string1+string2 \n",
    "string1.title()\n",
    "# output==Python"
   ]
  },
  {
   "cell_type": "code",
   "execution_count": 12,
   "id": "6a7b12d1",
   "metadata": {},
   "outputs": [
    {
     "data": {
      "text/plain": [
       "(3+5j)"
      ]
     },
     "execution_count": 12,
     "metadata": {},
     "output_type": "execute_result"
    }
   ],
   "source": [
    "number=3+5j\n",
    "number"
   ]
  },
  {
   "cell_type": "code",
   "execution_count": 13,
   "id": "cfe8111d",
   "metadata": {},
   "outputs": [
    {
     "data": {
      "text/plain": [
       "['__abs__',\n",
       " '__add__',\n",
       " '__bool__',\n",
       " '__class__',\n",
       " '__complex__',\n",
       " '__delattr__',\n",
       " '__dir__',\n",
       " '__doc__',\n",
       " '__eq__',\n",
       " '__format__',\n",
       " '__ge__',\n",
       " '__getattribute__',\n",
       " '__getnewargs__',\n",
       " '__getstate__',\n",
       " '__gt__',\n",
       " '__hash__',\n",
       " '__init__',\n",
       " '__init_subclass__',\n",
       " '__le__',\n",
       " '__lt__',\n",
       " '__mul__',\n",
       " '__ne__',\n",
       " '__neg__',\n",
       " '__new__',\n",
       " '__pos__',\n",
       " '__pow__',\n",
       " '__radd__',\n",
       " '__reduce__',\n",
       " '__reduce_ex__',\n",
       " '__repr__',\n",
       " '__rmul__',\n",
       " '__rpow__',\n",
       " '__rsub__',\n",
       " '__rtruediv__',\n",
       " '__setattr__',\n",
       " '__sizeof__',\n",
       " '__str__',\n",
       " '__sub__',\n",
       " '__subclasshook__',\n",
       " '__truediv__',\n",
       " 'conjugate',\n",
       " 'imag',\n",
       " 'real']"
      ]
     },
     "execution_count": 13,
     "metadata": {},
     "output_type": "execute_result"
    }
   ],
   "source": [
    "dir(number)"
   ]
  },
  {
   "cell_type": "code",
   "execution_count": 2,
   "id": "f36e5ca5",
   "metadata": {},
   "outputs": [],
   "source": [
    "string='python'"
   ]
  },
  {
   "cell_type": "code",
   "execution_count": 3,
   "id": "5ed969ff",
   "metadata": {},
   "outputs": [
    {
     "name": "stdout",
     "output_type": "stream",
     "text": [
      "0\n",
      "p\n",
      "1\n",
      "y\n",
      "2\n",
      "t\n",
      "3\n",
      "h\n",
      "4\n",
      "o\n"
     ]
    }
   ],
   "source": [
    "for i in range(5):\n",
    "    print(i)\n",
    "    print(string[i])"
   ]
  },
  {
   "cell_type": "markdown",
   "id": "ba24b023",
   "metadata": {},
   "source": [
    "- i want to print letters using in operator\n",
    "- i want to print letters using range operator"
   ]
  },
  {
   "cell_type": "code",
   "execution_count": 4,
   "id": "80410d57",
   "metadata": {},
   "outputs": [
    {
     "name": "stdout",
     "output_type": "stream",
     "text": [
      "p\n",
      "y\n",
      "t\n",
      "h\n",
      "o\n",
      "n\n",
      "0\n",
      "p\n",
      "1\n",
      "y\n",
      "2\n",
      "t\n",
      "3\n",
      "h\n",
      "4\n",
      "o\n",
      "5\n",
      "n\n"
     ]
    }
   ],
   "source": [
    "string1='python'\n",
    "for i in string1:\n",
    "    print(i)\n",
    "for i in range(len(string1)):\n",
    "    print(i)\n",
    "    print(string1[i])"
   ]
  },
  {
   "cell_type": "markdown",
   "id": "a223f78d",
   "metadata": {},
   "source": [
    "*capitalize: first letter as capital\n",
    "*upper: all letters are in upper case\n",
    "*lower: all letters are in lower case\n",
    "*casefold:case less comparison(lower case)"
   ]
  },
  {
   "cell_type": "code",
   "execution_count": 5,
   "id": "8e34850e",
   "metadata": {},
   "outputs": [
    {
     "data": {
      "text/plain": [
       "'welcome'"
      ]
     },
     "execution_count": 5,
     "metadata": {},
     "output_type": "execute_result"
    }
   ],
   "source": [
    "string2='welcome'\n",
    "string2.casefold()    "
   ]
  },
  {
   "cell_type": "code",
   "execution_count": 6,
   "id": "f2364e47",
   "metadata": {},
   "outputs": [
    {
     "data": {
      "text/plain": [
       "1"
      ]
     },
     "execution_count": 6,
     "metadata": {},
     "output_type": "execute_result"
    }
   ],
   "source": [
    "string1='hai how are you'\n",
    "string1.count('hai')"
   ]
  },
  {
   "cell_type": "code",
   "execution_count": 7,
   "id": "aa0f9105",
   "metadata": {},
   "outputs": [
    {
     "name": "stdout",
     "output_type": "stream",
     "text": [
      "1\n",
      "0\n",
      "1\n",
      "0\n"
     ]
    }
   ],
   "source": [
    "string1='ola'\n",
    "print(string1.count('ola'))\n",
    "print(string1.count('ola '))\n",
    "print(string1.count('ol'))\n",
    "print(string1.count('oa'))"
   ]
  },
  {
   "cell_type": "code",
   "execution_count": 8,
   "id": "0b17a92d",
   "metadata": {},
   "outputs": [
    {
     "name": "stdout",
     "output_type": "stream",
     "text": [
      "3\n",
      "2\n",
      "3\n",
      "0\n"
     ]
    }
   ],
   "source": [
    "string1='ola ola ola'\n",
    "print(string1.count('ola'))\n",
    "print(string1.count('ola '))\n",
    "print(string1.count('ol'))\n",
    "print(string1.count('oa'))"
   ]
  },
  {
   "cell_type": "code",
   "execution_count": 9,
   "id": "4470072d",
   "metadata": {},
   "outputs": [
    {
     "name": "stdout",
     "output_type": "stream",
     "text": [
      "2\n",
      "1\n",
      "2\n",
      "0\n"
     ]
    }
   ],
   "source": [
    "string1='ola ola'\n",
    "print(string1.count('ola'))\n",
    "print(string1.count('ola '))\n",
    "print(string1.count('ol'))\n",
    "print(string1.count('oa'))"
   ]
  },
  {
   "cell_type": "code",
   "execution_count": 10,
   "id": "ce1196ed",
   "metadata": {},
   "outputs": [
    {
     "name": "stdout",
     "output_type": "stream",
     "text": [
      "2\n",
      "2\n",
      "0\n",
      "1\n"
     ]
    }
   ],
   "source": [
    "string1='ola ola ola'\n",
    "print(string1.count('a',4))\n",
    "print(string1.count('a',6))\n",
    "print(string1.count('a',4,6))\n",
    "print(string1.count('a',4,7))"
   ]
  },
  {
   "cell_type": "code",
   "execution_count": 11,
   "id": "5c52a929",
   "metadata": {},
   "outputs": [
    {
     "name": "stdout",
     "output_type": "stream",
     "text": [
      "1\n"
     ]
    }
   ],
   "source": [
    "string1='ola ola ola ola'\n",
    "count=0\n",
    "for i in range(len(string1)):\n",
    "    if string1[i:i+3]=='ola':\n",
    "        count=+1\n",
    "print(count)\n",
    "#i=0 string1[0:3]: 0 1 2  : ola\n",
    "#i=1 string1[1:4]: 1 2 3  : la\n"
   ]
  },
  {
   "cell_type": "code",
   "execution_count": null,
   "id": "97a51bba",
   "metadata": {},
   "outputs": [],
   "source": [
    "#how many ola are there\n",
    "#do till now what we complete use that only except count method\n",
    "count=0\n",
    "word=''\n",
    "for i in string1:\n",
    "    if i"
   ]
  },
  {
   "cell_type": "code",
   "execution_count": 14,
   "id": "f76a0cff",
   "metadata": {},
   "outputs": [
    {
     "data": {
      "text/plain": [
       "4"
      ]
     },
     "execution_count": 14,
     "metadata": {},
     "output_type": "execute_result"
    }
   ],
   "source": [
    "string1.count('a')\n",
    "string1.count('ola')"
   ]
  },
  {
   "cell_type": "markdown",
   "id": "35babe9f",
   "metadata": {},
   "source": [
    "*replcae"
   ]
  },
  {
   "cell_type": "code",
   "execution_count": 16,
   "id": "5eeb3b11",
   "metadata": {},
   "outputs": [
    {
     "data": {
      "text/plain": [
       "'weLLLcome'"
      ]
     },
     "execution_count": 16,
     "metadata": {},
     "output_type": "execute_result"
    }
   ],
   "source": [
    "string1='welcome'\n",
    "#replace 'l' with 'L'\n",
    "string1.replace('l','LLL')"
   ]
  },
  {
   "cell_type": "code",
   "execution_count": 17,
   "id": "f8d15725",
   "metadata": {},
   "outputs": [
    {
     "data": {
      "text/plain": [
       "'$esta$t'"
      ]
     },
     "execution_count": 17,
     "metadata": {},
     "output_type": "execute_result"
    }
   ],
   "source": [
    "string1='restart'\n",
    "string1.replace('r',('$'))"
   ]
  },
  {
   "cell_type": "code",
   "execution_count": 19,
   "id": "0781a982",
   "metadata": {},
   "outputs": [
    {
     "data": {
      "text/plain": [
       "'$estart rrr'"
      ]
     },
     "execution_count": 19,
     "metadata": {},
     "output_type": "execute_result"
    }
   ],
   "source": [
    "string1='restart rrr'\n",
    "#replace 'r' with '$'\n",
    "string1.replace('r', '$',1)"
   ]
  },
  {
   "cell_type": "code",
   "execution_count": 21,
   "id": "747088d6",
   "metadata": {},
   "outputs": [
    {
     "data": {
      "text/plain": [
       "'resta$t'"
      ]
     },
     "execution_count": 21,
     "metadata": {},
     "output_type": "execute_result"
    }
   ],
   "source": [
    "string1='restart'\n",
    "#o/p: 'resta$t'\n",
    "s1=string1[0]\n",
    "s2=string1[1:].replace('r','$')\n",
    "s1+s2"
   ]
  },
  {
   "cell_type": "code",
   "execution_count": 22,
   "id": "ca18e655",
   "metadata": {},
   "outputs": [
    {
     "data": {
      "text/plain": [
       "'resta$t'"
      ]
     },
     "execution_count": 22,
     "metadata": {},
     "output_type": "execute_result"
    }
   ],
   "source": [
    "string1[::-1].replace('r','$',1)[::-1]"
   ]
  },
  {
   "cell_type": "markdown",
   "id": "b582f263",
   "metadata": {},
   "source": [
    "*index"
   ]
  },
  {
   "cell_type": "code",
   "execution_count": 23,
   "id": "598a7cad",
   "metadata": {},
   "outputs": [
    {
     "data": {
      "text/plain": [
       "3"
      ]
     },
     "execution_count": 23,
     "metadata": {},
     "output_type": "execute_result"
    }
   ],
   "source": [
    "string1='welcome python'\n",
    "#index of 'c'\n",
    "string1.index('c')"
   ]
  },
  {
   "cell_type": "code",
   "execution_count": 24,
   "id": "bc87a4b7",
   "metadata": {},
   "outputs": [
    {
     "ename": "ValueError",
     "evalue": "substring not found",
     "output_type": "error",
     "traceback": [
      "\u001b[1;31m---------------------------------------------------------------------------\u001b[0m",
      "\u001b[1;31mValueError\u001b[0m                                Traceback (most recent call last)",
      "Cell \u001b[1;32mIn[24], line 1\u001b[0m\n\u001b[1;32m----> 1\u001b[0m string1\u001b[38;5;241m.\u001b[39mindex(\u001b[38;5;124m'\u001b[39m\u001b[38;5;124mz\u001b[39m\u001b[38;5;124m'\u001b[39m)\n",
      "\u001b[1;31mValueError\u001b[0m: substring not found"
     ]
    }
   ],
   "source": [
    "string1.index('z') #sub string not found"
   ]
  },
  {
   "cell_type": "code",
   "execution_count": 26,
   "id": "a0390e36",
   "metadata": {},
   "outputs": [
    {
     "name": "stdout",
     "output_type": "stream",
     "text": [
      "3\n"
     ]
    },
    {
     "data": {
      "text/plain": [
       "3"
      ]
     },
     "execution_count": 26,
     "metadata": {},
     "output_type": "execute_result"
    }
   ],
   "source": [
    "string1='hai how are you and'\n",
    "#how many 'a' are there\n",
    "#what are the indexes of 'a'\n",
    "count=0\n",
    "for i in string1:\n",
    "    if i=='a':\n",
    "        count+=1\n",
    "        \n",
    "print(count)\n",
    "string1.count('a')"
   ]
  },
  {
   "cell_type": "code",
   "execution_count": 27,
   "id": "c3af56f1",
   "metadata": {},
   "outputs": [
    {
     "name": "stdout",
     "output_type": "stream",
     "text": [
      "1\n",
      "8\n",
      "16\n"
     ]
    }
   ],
   "source": [
    "for i in range(len(string1)):\n",
    "    if string1[i]=='a':\n",
    "        print(i)"
   ]
  },
  {
   "cell_type": "code",
   "execution_count": 28,
   "id": "fc8d175f",
   "metadata": {},
   "outputs": [
    {
     "data": {
      "text/plain": [
       "1"
      ]
     },
     "execution_count": 28,
     "metadata": {},
     "output_type": "execute_result"
    }
   ],
   "source": [
    "string1.index('a')"
   ]
  },
  {
   "cell_type": "code",
   "execution_count": 29,
   "id": "e8b43279",
   "metadata": {},
   "outputs": [],
   "source": [
    "string1='hai hai hai hai hai'\n",
    "i1=string1.index('a')\n",
    "i2=string1.index('a')\n",
    "i3=string1.index('a')\n",
    "i4=string1.index('a')\n",
    "i5=string1.index('a')"
   ]
  },
  {
   "cell_type": "code",
   "execution_count": 31,
   "id": "35f3870e",
   "metadata": {},
   "outputs": [
    {
     "data": {
      "text/plain": [
       "2"
      ]
     },
     "execution_count": 31,
     "metadata": {},
     "output_type": "execute_result"
    }
   ],
   "source": [
    "string1='welcome hello hello'\n",
    "string1.index('l')"
   ]
  },
  {
   "cell_type": "markdown",
   "id": "9f2a310f",
   "metadata": {},
   "source": [
    "*find"
   ]
  },
  {
   "cell_type": "code",
   "execution_count": 34,
   "id": "e8c92840",
   "metadata": {},
   "outputs": [],
   "source": [
    "#take one string1\n",
    "#string1.find()\n",
    "#apply shift+tab\n",
    "# read what it is says\n",
    "#implement that"
   ]
  },
  {
   "cell_type": "code",
   "execution_count": 37,
   "id": "cdeddcc1",
   "metadata": {},
   "outputs": [
    {
     "ename": "ValueError",
     "evalue": "substring not found",
     "output_type": "error",
     "traceback": [
      "\u001b[1;31m---------------------------------------------------------------------------\u001b[0m",
      "\u001b[1;31mValueError\u001b[0m                                Traceback (most recent call last)",
      "Cell \u001b[1;32mIn[37], line 6\u001b[0m\n\u001b[0;32m      2\u001b[0m string1\u001b[38;5;241m.\u001b[39mfind(\u001b[38;5;124m'\u001b[39m\u001b[38;5;124mz\u001b[39m\u001b[38;5;124m'\u001b[39m)   \u001b[38;5;66;03m#no error\u001b[39;00m\n\u001b[0;32m      4\u001b[0m \u001b[38;5;66;03m#if substring not found it returns-1\u001b[39;00m\n\u001b[1;32m----> 6\u001b[0m string1\u001b[38;5;241m.\u001b[39mindex(\u001b[38;5;124m'\u001b[39m\u001b[38;5;124mz\u001b[39m\u001b[38;5;124m'\u001b[39m)\n\u001b[0;32m      7\u001b[0m \u001b[38;5;66;03m#value error: sub string not found\u001b[39;00m\n\u001b[0;32m      9\u001b[0m string1\u001b[38;5;241m.\u001b[39mcount(\u001b[38;5;124m'\u001b[39m\u001b[38;5;124mz\u001b[39m\u001b[38;5;124m'\u001b[39m)\n",
      "\u001b[1;31mValueError\u001b[0m: substring not found"
     ]
    }
   ],
   "source": [
    "string1='hai hai'\n",
    "string1.find('z')   #no error\n",
    "\n",
    "#if substring not found it returns-1\n",
    "\n",
    "string1.index('z')\n",
    "#value error: sub string not found\n",
    "\n",
    "string1.count('z')   #no error\n",
    "#rerturns zero"
   ]
  },
  {
   "cell_type": "markdown",
   "id": "08a7cd2e",
   "metadata": {},
   "source": [
    "*capitilize/upper/lower/casefold\n",
    "*index/find\n",
    "*count\n",
    "*replace"
   ]
  },
  {
   "cell_type": "code",
   "execution_count": 1,
   "id": "038b0410",
   "metadata": {},
   "outputs": [
    {
     "data": {
      "text/plain": [
       "2"
      ]
     },
     "execution_count": 1,
     "metadata": {},
     "output_type": "execute_result"
    }
   ],
   "source": [
    "str1='hai how are you,i am good'\n",
    "str1.index('i')   #first occurrence"
   ]
  },
  {
   "cell_type": "code",
   "execution_count": 2,
   "id": "c98f9752",
   "metadata": {},
   "outputs": [
    {
     "data": {
      "text/plain": [
       "16"
      ]
     },
     "execution_count": 2,
     "metadata": {},
     "output_type": "execute_result"
    }
   ],
   "source": [
    "str1.index('i',str1.index('i')+1)"
   ]
  },
  {
   "cell_type": "markdown",
   "id": "aa667906",
   "metadata": {},
   "source": [
    "*strip-lstrip-rstrip"
   ]
  },
  {
   "cell_type": "code",
   "execution_count": 16,
   "id": "353c69ed",
   "metadata": {},
   "outputs": [],
   "source": [
    "str1=' hello how are you'\n",
    "str2=\" hello how are you\"\n",
    "str3=\"hello how are you \"\n",
    "\n",
    "# I want remove the spaces\n",
    "# If you want remove the spaces on both sides use strip method\n",
    "# If you want remove the spaces only left side then use lstrip: left strip\n",
    "# if you want remove the spcaes only ride side then use rstrip: right strip"
   ]
  },
  {
   "cell_type": "code",
   "execution_count": 17,
   "id": "396ab11f",
   "metadata": {},
   "outputs": [
    {
     "name": "stdout",
     "output_type": "stream",
     "text": [
      "hello how are you\n",
      "hello how are you\n",
      " hello how are you\n"
     ]
    }
   ],
   "source": [
    "print(str1.strip())\n",
    "print(str1.lstrip())\n",
    "print(str1.rstrip())"
   ]
  },
  {
   "cell_type": "code",
   "execution_count": 5,
   "id": "f7f4ce72",
   "metadata": {},
   "outputs": [
    {
     "name": "stdout",
     "output_type": "stream",
     "text": [
      "hello how are you\n",
      "hello how are you\n",
      "hello how are you\n"
     ]
    }
   ],
   "source": [
    "print(str1.strip())\n",
    "print(str2.lstrip())\n",
    "print(str3.rstrip())"
   ]
  },
  {
   "cell_type": "code",
   "execution_count": 6,
   "id": "8200e670",
   "metadata": {},
   "outputs": [
    {
     "name": "stdout",
     "output_type": "stream",
     "text": [
      "hello how are you \n"
     ]
    }
   ],
   "source": [
    "print(str3)"
   ]
  },
  {
   "cell_type": "code",
   "execution_count": 7,
   "id": "3fdadb27",
   "metadata": {},
   "outputs": [
    {
     "data": {
      "text/plain": [
       "'hello how are you '"
      ]
     },
     "execution_count": 7,
     "metadata": {},
     "output_type": "execute_result"
    }
   ],
   "source": [
    "str3"
   ]
  },
  {
   "cell_type": "code",
   "execution_count": null,
   "id": "c3b00f6f",
   "metadata": {},
   "outputs": [],
   "source": [
    "#wap to extract\n",
    "\n",
    "str1='python.anaconda@nareshit.com'\n",
    "str2='anu.kundeti@nareshit.com'\n",
    "str3='virat.kohli@bcci.com'\n",
    "#Extract first name: python\n",
    "#Extract second name: anaconda\n",
    "#Extract Institue name: nareshit\n",
    "\n",
    "#do not count it\n",
    "#use methods find/index"
   ]
  },
  {
   "cell_type": "code",
   "execution_count": 11,
   "id": "1286f7fc",
   "metadata": {},
   "outputs": [
    {
     "data": {
      "text/plain": [
       "'python'"
      ]
     },
     "execution_count": 11,
     "metadata": {},
     "output_type": "execute_result"
    }
   ],
   "source": [
    "str1='python'\n",
    "str1"
   ]
  },
  {
   "cell_type": "code",
   "execution_count": 18,
   "id": "802cab7c",
   "metadata": {},
   "outputs": [
    {
     "data": {
      "text/plain": [
       "-1"
      ]
     },
     "execution_count": 18,
     "metadata": {},
     "output_type": "execute_result"
    }
   ],
   "source": [
    "str1[0:6],str1[7:15],str1[16:24]\n",
    "str1.find('.')"
   ]
  },
  {
   "cell_type": "code",
   "execution_count": 19,
   "id": "a8085f37",
   "metadata": {},
   "outputs": [
    {
     "data": {
      "text/plain": [
       "'how are '"
      ]
     },
     "execution_count": 19,
     "metadata": {},
     "output_type": "execute_result"
    }
   ],
   "source": [
    "str1[0:str1.find('.')]\n",
    "str1[7:15]"
   ]
  },
  {
   "cell_type": "code",
   "execution_count": 22,
   "id": "b7787c90",
   "metadata": {},
   "outputs": [
    {
     "name": "stdout",
     "output_type": "stream",
     "text": [
      "First name: anu\n",
      "Second name: kundeti\n",
      "Institute name: nareshit\n"
     ]
    }
   ],
   "source": [
    "str1='anu.kundeti@nareshit.com'\n",
    "print(\"First name:\",str1[:str1.find('.')])\n",
    "print(\"Second name:\",str1[str1.find('.')+1:str1.find('@')])\n",
    "print(\"Institute name:\",str1[str1.find('@')+1:str1.find('.',str1.find('.')+1)])"
   ]
  },
  {
   "cell_type": "code",
   "execution_count": 23,
   "id": "cdc236aa",
   "metadata": {},
   "outputs": [
    {
     "name": "stdout",
     "output_type": "stream",
     "text": [
      "anu\n",
      "kundeti\n",
      "nareshit\n"
     ]
    }
   ],
   "source": [
    "str1='anu.kundeti@nareshit.com'\n",
    "num1=str1.find('.')\n",
    "f_name=str1[:num1]\n",
    "print(f_name)\n",
    "num2=str1.find('@')\n",
    "s_name=str1[num1+1:num2]\n",
    "print(s_name)\n",
    "num3=str1.find('.',str1.find('.')+1)\n",
    "c_name=str1[num2+1:num3]\n",
    "print(c_name)"
   ]
  },
  {
   "cell_type": "code",
   "execution_count": 24,
   "id": "2e378486",
   "metadata": {},
   "outputs": [
    {
     "data": {
      "text/plain": [
       "'c'"
      ]
     },
     "execution_count": 24,
     "metadata": {},
     "output_type": "execute_result"
    }
   ],
   "source": [
    "str1='a.b@c.com'\n",
    "first_dot=str1.index('.')\n",
    "second_dot=str1.index('.',first_dot+1) #after completion of first dot\n",
    "str1[str1.find('@')+1:second_dot]"
   ]
  },
  {
   "cell_type": "code",
   "execution_count": 25,
   "id": "f90e3a9f",
   "metadata": {},
   "outputs": [
    {
     "data": {
      "text/plain": [
       "'1489'"
      ]
     },
     "execution_count": 25,
     "metadata": {},
     "output_type": "execute_result"
    }
   ],
   "source": [
    "str1='3.1489'\n",
    "#Extract 3\n",
    "#Extract 1489\n",
    "\n",
    "str1[str1.index('.')-1]\n",
    "str1[str1.index('.')+1:]  #str1[<first>:<last>]"
   ]
  },
  {
   "cell_type": "code",
   "execution_count": 26,
   "id": "289f1ef1",
   "metadata": {},
   "outputs": [
    {
     "data": {
      "text/plain": [
       "2"
      ]
     },
     "execution_count": 26,
     "metadata": {},
     "output_type": "execute_result"
    }
   ],
   "source": [
    "str1.index('.')+1"
   ]
  },
  {
   "cell_type": "markdown",
   "id": "c4db61b6",
   "metadata": {},
   "source": [
    "*startswith-endswith"
   ]
  },
  {
   "cell_type": "code",
   "execution_count": 27,
   "id": "0759854a",
   "metadata": {},
   "outputs": [],
   "source": [
    "str1='Hai Anu! How are you'"
   ]
  },
  {
   "cell_type": "code",
   "execution_count": 29,
   "id": "e6a84761",
   "metadata": {},
   "outputs": [
    {
     "data": {
      "text/plain": [
       "True"
      ]
     },
     "execution_count": 29,
     "metadata": {},
     "output_type": "execute_result"
    }
   ],
   "source": [
    "str1.startswith('Hai Anu! How are you')\n",
    "#str1.startswith('h')"
   ]
  },
  {
   "cell_type": "code",
   "execution_count": 30,
   "id": "dcc6bf8b",
   "metadata": {},
   "outputs": [
    {
     "data": {
      "text/plain": [
       "True"
      ]
     },
     "execution_count": 30,
     "metadata": {},
     "output_type": "execute_result"
    }
   ],
   "source": [
    "str1.endswith('you')"
   ]
  },
  {
   "cell_type": "code",
   "execution_count": 31,
   "id": "355d48b5",
   "metadata": {},
   "outputs": [
    {
     "data": {
      "text/plain": [
       "True"
      ]
     },
     "execution_count": 31,
     "metadata": {},
     "output_type": "execute_result"
    }
   ],
   "source": [
    "str1.startswith(str1)\n",
    "\n",
    "#str1.endswith(str1)"
   ]
  },
  {
   "cell_type": "code",
   "execution_count": 32,
   "id": "622c1d03",
   "metadata": {},
   "outputs": [
    {
     "data": {
      "text/plain": [
       "True"
      ]
     },
     "execution_count": 32,
     "metadata": {},
     "output_type": "execute_result"
    }
   ],
   "source": [
    "str1.endswith(str1)"
   ]
  },
  {
   "cell_type": "code",
   "execution_count": 33,
   "id": "c9da0654",
   "metadata": {},
   "outputs": [
    {
     "data": {
      "text/plain": [
       "['__add__',\n",
       " '__class__',\n",
       " '__contains__',\n",
       " '__delattr__',\n",
       " '__dir__',\n",
       " '__doc__',\n",
       " '__eq__',\n",
       " '__format__',\n",
       " '__ge__',\n",
       " '__getattribute__',\n",
       " '__getitem__',\n",
       " '__getnewargs__',\n",
       " '__getstate__',\n",
       " '__gt__',\n",
       " '__hash__',\n",
       " '__init__',\n",
       " '__init_subclass__',\n",
       " '__iter__',\n",
       " '__le__',\n",
       " '__len__',\n",
       " '__lt__',\n",
       " '__mod__',\n",
       " '__mul__',\n",
       " '__ne__',\n",
       " '__new__',\n",
       " '__reduce__',\n",
       " '__reduce_ex__',\n",
       " '__repr__',\n",
       " '__rmod__',\n",
       " '__rmul__',\n",
       " '__setattr__',\n",
       " '__sizeof__',\n",
       " '__str__',\n",
       " '__subclasshook__',\n",
       " 'capitalize',\n",
       " 'casefold',\n",
       " 'center',\n",
       " 'count',\n",
       " 'encode',\n",
       " 'endswith',\n",
       " 'expandtabs',\n",
       " 'find',\n",
       " 'format',\n",
       " 'format_map',\n",
       " 'index',\n",
       " 'isalnum',\n",
       " 'isalpha',\n",
       " 'isascii',\n",
       " 'isdecimal',\n",
       " 'isdigit',\n",
       " 'isidentifier',\n",
       " 'islower',\n",
       " 'isnumeric',\n",
       " 'isprintable',\n",
       " 'isspace',\n",
       " 'istitle',\n",
       " 'isupper',\n",
       " 'join',\n",
       " 'ljust',\n",
       " 'lower',\n",
       " 'lstrip',\n",
       " 'maketrans',\n",
       " 'partition',\n",
       " 'removeprefix',\n",
       " 'removesuffix',\n",
       " 'replace',\n",
       " 'rfind',\n",
       " 'rindex',\n",
       " 'rjust',\n",
       " 'rpartition',\n",
       " 'rsplit',\n",
       " 'rstrip',\n",
       " 'split',\n",
       " 'splitlines',\n",
       " 'startswith',\n",
       " 'strip',\n",
       " 'swapcase',\n",
       " 'title',\n",
       " 'translate',\n",
       " 'upper',\n",
       " 'zfill']"
      ]
     },
     "execution_count": 33,
     "metadata": {},
     "output_type": "execute_result"
    }
   ],
   "source": [
    "dir('')"
   ]
  },
  {
   "cell_type": "code",
   "execution_count": null,
   "id": "fc002599",
   "metadata": {},
   "outputs": [],
   "source": [
    "'isalnum',\n",
    " 'isalpha',\n",
    " 'isascii',\n",
    " 'isdecimal',\n",
    " 'isdigit',\n",
    " 'isidentifier',\n",
    " 'islower',\n",
    " 'isnumeric',\n",
    " 'isprintable',\n",
    " 'isspace',\n",
    " 'istitle',\n",
    " 'isupper',"
   ]
  },
  {
   "cell_type": "code",
   "execution_count": null,
   "id": "d3fbe2f3",
   "metadata": {},
   "outputs": [],
   "source": [
    "# take one string1\n",
    "# string1.isalnum()\n",
    "# isalpha\n",
    "# isnumeric\n",
    "# isupper\n",
    "# islower"
   ]
  },
  {
   "cell_type": "code",
   "execution_count": 46,
   "id": "4cabe274",
   "metadata": {},
   "outputs": [
    {
     "ename": "IndentationError",
     "evalue": "unexpected indent (860813327.py, line 6)",
     "output_type": "error",
     "traceback": [
      "\u001b[1;36m  Cell \u001b[1;32mIn[46], line 6\u001b[1;36m\u001b[0m\n\u001b[1;33m    .isalpha\u001b[0m\n\u001b[1;37m    ^\u001b[0m\n\u001b[1;31mIndentationError\u001b[0m\u001b[1;31m:\u001b[0m unexpected indent\n"
     ]
    }
   ],
   "source": [
    "string1='abc'\n",
    "string2='123'\n",
    "string3='abc123'\n",
    "string4='ABC'\n",
    "string1.isnumeric()\n",
    "       .isalpha\n",
    "        .isalnum\n",
    "        .isupper\n",
    "        .islower"
   ]
  },
  {
   "cell_type": "code",
   "execution_count": 47,
   "id": "30ff3f2b",
   "metadata": {},
   "outputs": [
    {
     "data": {
      "text/plain": [
       "False"
      ]
     },
     "execution_count": 47,
     "metadata": {},
     "output_type": "execute_result"
    }
   ],
   "source": [
    "str1='75hai how are 7324you'\n",
    "str1.isalnum()"
   ]
  },
  {
   "cell_type": "code",
   "execution_count": null,
   "id": "d49be79c",
   "metadata": {},
   "outputs": [],
   "source": [
    "str1='abc.123'"
   ]
  },
  {
   "cell_type": "markdown",
   "id": "62413fea",
   "metadata": {},
   "source": [
    "*split"
   ]
  },
  {
   "cell_type": "code",
   "execution_count": 48,
   "id": "7945ad1b",
   "metadata": {},
   "outputs": [
    {
     "data": {
      "text/plain": [
       "['Hai', 'Anu!', 'How', 'are', 'you']"
      ]
     },
     "execution_count": 48,
     "metadata": {},
     "output_type": "execute_result"
    }
   ],
   "source": [
    "str1='Hai Anu! How are you '\n",
    "str1.split()\n",
    "#if i not provide anything inside brackets:space\n",
    "#output is in list format"
   ]
  },
  {
   "cell_type": "code",
   "execution_count": 49,
   "id": "0ccefccc",
   "metadata": {},
   "outputs": [
    {
     "data": {
      "text/plain": [
       "['Hai Anu! How are you ']"
      ]
     },
     "execution_count": 49,
     "metadata": {},
     "output_type": "execute_result"
    }
   ],
   "source": [
    "str1='Hai Anu! How are you '\n",
    "str1.split(',')"
   ]
  },
  {
   "cell_type": "code",
   "execution_count": 50,
   "id": "7a54eb4c",
   "metadata": {},
   "outputs": [
    {
     "data": {
      "text/plain": [
       "['H', 'i Anu! How ', 're you ']"
      ]
     },
     "execution_count": 50,
     "metadata": {},
     "output_type": "execute_result"
    }
   ],
   "source": [
    "str1='Hai Anu! How are you '\n",
    "str1.split('a')  #h i how, re you"
   ]
  },
  {
   "cell_type": "code",
   "execution_count": 51,
   "id": "ba14c77f",
   "metadata": {},
   "outputs": [
    {
     "data": {
      "text/plain": [
       "['Hai', 'Anu!', 'How', 'are', 'you']"
      ]
     },
     "execution_count": 51,
     "metadata": {},
     "output_type": "execute_result"
    }
   ],
   "source": [
    "str1='Hai Anu! How are you '\n",
    "str1.split()  #h i how, re you"
   ]
  },
  {
   "cell_type": "code",
   "execution_count": 52,
   "id": "29c6886c",
   "metadata": {},
   "outputs": [
    {
     "data": {
      "text/plain": [
       "'Hello'"
      ]
     },
     "execution_count": 52,
     "metadata": {},
     "output_type": "execute_result"
    }
   ],
   "source": [
    "str1='%%%%Hello%%%%'\n",
    "str1.strip('%')"
   ]
  },
  {
   "cell_type": "markdown",
   "id": "f4b05aae",
   "metadata": {},
   "source": [
    "- Capitalize/upper/lower/casefold\n",
    "- Index/find\n",
    "- Count\n",
    "- Replace\n",
    "- Lstrip/rstrip/strip\n",
    "- startswith/endswith\n",
    "- isalpha/isnumeric/isalnum\n",
    "- split"
   ]
  },
  {
   "cell_type": "code",
   "execution_count": null,
   "id": "22d270f9",
   "metadata": {},
   "outputs": [],
   "source": [
    "#wap to identify the longest word and shortest word in a given sentence\n",
    "#wap to identify the most repated word in a given sentence\n",
    "#wap out of 3 strings 'hyd','blr','mumbai' which is greater and which is lower"
   ]
  },
  {
   "cell_type": "markdown",
   "id": "394defc6",
   "metadata": {},
   "source": [
    ". How to read the strings\n",
    ". Single quotes/double quotes/triple quotes\n",
    ". Docstring\n",
    ". type\n",
    ". max\n",
    ". min\n",
    ". len\n",
    ". addition of two strings(concatenation)\n",
    ". multiplication\n",
    ". subtraction\n",
    ". divison \n",
    ". in operator(for loop)\n",
    ". index\n",
    ". mutable condition\n",
    ". slice\n",
    ". string methods:\n",
    "    - capitalize/upper/lower/casefold\n",
    "    - index/find\n",
    "    - count\n",
    "    - replace\n",
    "    - lstrip/rstrip/strip\n",
    "    - startswith/endswith\n",
    "    - isalpha/isnumeric/isalnum\n",
    "    - split"
   ]
  }
 ],
 "metadata": {
  "kernelspec": {
   "display_name": "Python 3 (ipykernel)",
   "language": "python",
   "name": "python3"
  },
  "language_info": {
   "codemirror_mode": {
    "name": "ipython",
    "version": 3
   },
   "file_extension": ".py",
   "mimetype": "text/x-python",
   "name": "python",
   "nbconvert_exporter": "python",
   "pygments_lexer": "ipython3",
   "version": "3.11.5"
  }
 },
 "nbformat": 4,
 "nbformat_minor": 5
}
