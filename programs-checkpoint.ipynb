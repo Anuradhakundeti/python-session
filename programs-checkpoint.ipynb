{
 "cells": [
  {
   "cell_type": "code",
   "execution_count": 4,
   "id": "53425c41",
   "metadata": {},
   "outputs": [
    {
     "name": "stdout",
     "output_type": "stream",
     "text": [
      "enter the salary1000000\n",
      "enter the tax percentage40000\n",
      "the amount of tax paid: 400000000.0\n"
     ]
    }
   ],
   "source": [
    "salary=eval(input(\"enter the salary\"))\n",
    "if salary>=1000000:\n",
    "    tax_percentage=eval(input(\"enter the tax percentage\"))\n",
    "    print(\"the amount of tax paid:\",(salary*tax_percentage)/100)#10%\n",
    "elif salary>700000:\n",
    "    tax_percentage=eval(input(\"enter the tax percentage\"))\n",
    "    print(\"the amount of tax paid:\",(salary*tax_percentage)/100)  #5%\n",
    "elif salary>400000:\n",
    "    tax_percentage=eval(input(\"enter the tax percentage\"))\n",
    "    print(\"the amount of tax paid:\",(salary*tax_percentage)/100)  #2.5%\n",
    "else:\n",
    "    print(\"No tax is required\")"
   ]
  },
  {
   "cell_type": "code",
   "execution_count": 12,
   "id": "83be1ee2",
   "metadata": {},
   "outputs": [
    {
     "name": "stdout",
     "output_type": "stream",
     "text": [
      "enter which operation you need to performaddition\n",
      "enter the num17\n",
      "enter the num24\n",
      "we are doing addition operation\n",
      "the addition of 7 and 4 is 11\n"
     ]
    }
   ],
   "source": [
    "#WAP ask the user enter which operation you need to perform\n",
    "#                             operations are : addition/mul/sub/div\n",
    "#ask the user enter a number1\n",
    "#ask the user enter a number2\n",
    "#if the operation equal to addition\n",
    "#                 print(\"We are doing addition operation\")\n",
    "#                 print(\"the addition of number1 and number2 is\")\n",
    "#if the operation equal to Multiplication\n",
    "#                 print(\"We are doing multiplicationn operation\")\n",
    "#                 print(\"the addition of number1 and number2 is\")\n",
    "#if the operation equal to subtraction\n",
    "#                 print(\"We are doing subtractioon operation\")\n",
    "#                 print(\"the addition of number1 and number2 is\")\n",
    "#if the operation equal to division\n",
    "#                 print(\"We are doing division operation\")\n",
    "#                 print(\"the addition of number1 and number2 is\")\n",
    "#else:\n",
    "#     print(\"provide suitableoperation\")\n",
    "#if------elif------elif-----elif------else\n",
    "operation=input(\"enter which operation you need to perform\")\n",
    "num1=eval(input(\"enter the num1\"))\n",
    "num2=eval(input(\"enter the num2\"))\n",
    "if operation=='addition':\n",
    "    print(\"we are doing addition operation\")\n",
    "    print(\"the addition of {} and {} is {}\".format(num1,num2,num1+num2))\n",
    "elif operation=='multiplication':\n",
    "    print(\"we are doing multiplication operation\")\n",
    "    print(\"the addition of {} and {} is {}\".format(num1,num2,num1*num2))\n",
    "elif operation=='subtraction':\n",
    "    print(\"we are doing subtraction operation\")\n",
    "    print(\"the addition of {} and {} is {}\".format(num1,num2,num1-num2))\n",
    "elif operation=='division':\n",
    "    print(\"we are doing division operation\")\n",
    "    print(\"the addition of {} and {} is {}\".format(num1,num2,num1/num2))\n",
    "else:\n",
    "     print(\"provide suitable operation\")                                              \n",
    " "
   ]
  },
  {
   "cell_type": "code",
   "execution_count": 14,
   "id": "a6b02d51",
   "metadata": {},
   "outputs": [
    {
     "name": "stdout",
     "output_type": "stream",
     "text": [
      "enter which operation you need to performsubtraction\n",
      "enter the num15\n",
      "enter the num23\n",
      "we are doing subtraction operation\n",
      "the addition of 5 and 3 is 2\n"
     ]
    }
   ],
   "source": [
    "try:\n",
    "    operation=input(\"enter which operation you need to perform\")\n",
    "    num1=eval(input(\"enter the num1\"))\n",
    "    num2=eval(input(\"enter the num2\"))\n",
    "    if operation=='addition':\n",
    "        print(\"we are doing addition operation\")\n",
    "        print(\"the addition of {} and {} is {}\".format(num1,num2,num1+num2))\n",
    "    elif operation=='multiplication':\n",
    "        print(\"we are doing multiplication operation\")\n",
    "        print(\"the addition of {} and {} is {}\".format(num1,num2,num1*num2))\n",
    "    elif operation=='subtraction':\n",
    "        print(\"we are doing subtraction operation\")\n",
    "        print(\"the addition of {} and {} is {}\".format(num1,num2,num1-num2))\n",
    "    elif operation=='division':\n",
    "        print(\"we are doing division operation\")\n",
    "        print(\"the addition of {} and {} is {}\".format(num1,num2,num1/num2))\n",
    "    else:\n",
    "         print(\"provide suitable operation\")                                              \n",
    "except Exception as e:\n",
    "    print(e)"
   ]
  },
  {
   "cell_type": "code",
   "execution_count": 20,
   "id": "abdf20c6",
   "metadata": {},
   "outputs": [
    {
     "name": "stdout",
     "output_type": "stream",
     "text": [
      "enter the number-7\n",
      "it is a negative number\n"
     ]
    }
   ],
   "source": [
    "#WAP ask the user enter a number\n",
    "#if the number greater than zero:\n",
    "#              if the number==0:\n",
    "#                 print('it is a zero number')\n",
    "#else:\n",
    "#     print('it is a negative number')\n",
    "num=eval(input(\"enter the number\"))\n",
    "if num>=0:\n",
    "    print(\"i want to check one more condition\")\n",
    "    if num==0:\n",
    "        print(\"it is a zero number\")\n",
    "    else:\n",
    "        print(\"it is a positive number\")\n",
    "else:\n",
    "    print(\"it is a negative number\")"
   ]
  },
  {
   "cell_type": "code",
   "execution_count": 46,
   "id": "3a8a66a2",
   "metadata": {},
   "outputs": [
    {
     "name": "stdout",
     "output_type": "stream",
     "text": [
      "enter the gender either male or female:male\n",
      "enter your age:45\n",
      "middle aged male\n"
     ]
    }
   ],
   "source": [
    "#wap ask the user enter the gender either male or female\n",
    "#if gender equal to male\n",
    "#         ask the user enter age\n",
    "#         if age>60:print(cs)\n",
    "#         if age between 20 to 30: print(young boy)\n",
    "#         if age between 30 to 60: print(middle aged male)\n",
    "#         if age between 13 to 20: print(teenage boy)\n",
    "#else:\n",
    "#         ask the user enter age\n",
    "#         if age>60:print(cs)\n",
    "#         if age between 20 to 30: print(young )girl\n",
    "#         if age between 30 to 60: print(middle aged female)\n",
    "#         if age between 13 to 20: print(teenage girl)\n",
    "try:\n",
    "    gender=input(\"enter the gender either male or female:\")\n",
    "    if gender==\"male\":\n",
    "        age=eval(input(\"enter your age:\"))\n",
    "        if age>=60:\n",
    "            print(\"senior citizen\")\n",
    "        elif age>=30:\n",
    "            print(\"middle aged male\")\n",
    "        elif age>=20:\n",
    "            print(\"young boy\")\n",
    "        elif age>=13:\n",
    "            print(\"teenage boy\")\n",
    "        else:\n",
    "            print(\"boy\")\n",
    "    elif gender==\"female\":\n",
    "        age=eval(input(\"enter your age:\"))\n",
    "        if age>=60:\n",
    "            print(\"senior citizen\")\n",
    "        elif age>=30:\n",
    "            print(\"middle aged female\")\n",
    "        elif age>=20:\n",
    "            print(\"young girl\")\n",
    "        elif age>=13:\n",
    "            print(\"teenage girl\")\n",
    "        else:\n",
    "            print(\"girl\")\n",
    "except Exception as e:\n",
    "    print(e)\n",
    "        \n",
    "            \n"
   ]
  },
  {
   "cell_type": "code",
   "execution_count": 28,
   "id": "7137602c",
   "metadata": {},
   "outputs": [
    {
     "name": "stdout",
     "output_type": "stream",
     "text": [
      "enter 1 number: 345\n",
      "enter 2 number: 250\n",
      "enter 3 number: 107\n",
      "the biggest number: 345\n"
     ]
    }
   ],
   "source": [
    "#wap ask the user enter 3 number\n",
    "#find the biggest number\n",
    "try:\n",
    "    num1=eval(input(\"enter 1 number: \"))\n",
    "    num2=eval(input(\"enter 2 number: \"))\n",
    "    num3=eval(input(\"enter 3 number: \"))\n",
    "    if num1>=300:\n",
    "        print(\"the biggest number: {}\".format(num1,num2,num3))\n",
    "    elif num2>=200:\n",
    "        print(\"the biggest number: {}\".format(num1,num2,num3))\n",
    "    elif num3>=100:\n",
    "         print(\"the biggest number: {}\".format(num1,num2,num3))\n",
    "    else:\n",
    "         print(\"Smallest number: {}\".format(num1,num2,num3))\n",
    "except Exception as e:\n",
    "    print(e)"
   ]
  },
  {
   "cell_type": "code",
   "execution_count": 29,
   "id": "5328db9c",
   "metadata": {},
   "outputs": [
    {
     "name": "stdout",
     "output_type": "stream",
     "text": [
      "enter 1 number: 1\n",
      "enter 2 number: 2\n",
      "enter 3 number: 3\n",
      "Smallest number: 1\n"
     ]
    }
   ],
   "source": [
    "#wap ask the user enter 3 number\n",
    "#find the smallest number\n",
    "try:\n",
    "    num1=eval(input(\"enter 1 number: \"))\n",
    "    num2=eval(input(\"enter 2 number: \"))\n",
    "    num3=eval(input(\"enter 3 number: \"))\n",
    "    if num1>=300:\n",
    "        print(\"the biggest number: {}\".format(num1,num2,num3))\n",
    "    elif num2>=200:\n",
    "        print(\"the biggest number: {}\".format(num1,num2,num3))\n",
    "    elif num3>=100:\n",
    "        print(\"the biggest number: {}\".format(num1,num2,num3))\n",
    "    else:\n",
    "         print(\"Smallest number: {}\".format(num1,num2,num3))\n",
    "except Exception as e:\n",
    "    print(e)"
   ]
  }
 ],
 "metadata": {
  "kernelspec": {
   "display_name": "Python 3 (ipykernel)",
   "language": "python",
   "name": "python3"
  },
  "language_info": {
   "codemirror_mode": {
    "name": "ipython",
    "version": 3
   },
   "file_extension": ".py",
   "mimetype": "text/x-python",
   "name": "python",
   "nbconvert_exporter": "python",
   "pygments_lexer": "ipython3",
   "version": "3.11.5"
  }
 },
 "nbformat": 4,
 "nbformat_minor": 5
}
